{
 "cells": [
  {
   "cell_type": "markdown",
   "metadata": {},
   "source": [
    "# Importing Libraries"
   ]
  },
  {
   "cell_type": "code",
   "execution_count": 41,
   "metadata": {},
   "outputs": [],
   "source": [
    "import pandas as pd\n",
    "import numpy as np\n",
    "import os\n",
    "import re\n",
    "import plotly_express as px\n",
    "import plotly.graph_objects as go\n",
    "data_dir = \"/home/inf-21-2024/binp29/population_genetic_project/data/01_raw_data/\"\n"
   ]
  },
  {
   "cell_type": "markdown",
   "metadata": {},
   "source": [
    "# Methodology"
   ]
  },
  {
   "cell_type": "markdown",
   "metadata": {},
   "source": [
    "## Step 1: Preprocessing"
   ]
  },
  {
   "cell_type": "markdown",
   "metadata": {},
   "source": [
    "### Read the merged.fam file"
   ]
  },
  {
   "cell_type": "code",
   "execution_count": 42,
   "metadata": {},
   "outputs": [
    {
     "data": {
      "text/html": [
       "<div>\n",
       "<style scoped>\n",
       "    .dataframe tbody tr th:only-of-type {\n",
       "        vertical-align: middle;\n",
       "    }\n",
       "\n",
       "    .dataframe tbody tr th {\n",
       "        vertical-align: top;\n",
       "    }\n",
       "\n",
       "    .dataframe thead th {\n",
       "        text-align: right;\n",
       "    }\n",
       "</style>\n",
       "<table border=\"1\" class=\"dataframe\">\n",
       "  <thead>\n",
       "    <tr style=\"text-align: right;\">\n",
       "      <th></th>\n",
       "      <th>SAMPLE_ID</th>\n",
       "      <th>GROUP_ID</th>\n",
       "    </tr>\n",
       "  </thead>\n",
       "  <tbody>\n",
       "    <tr>\n",
       "      <th>0</th>\n",
       "      <td>HGDP00001</td>\n",
       "      <td>Brahui</td>\n",
       "    </tr>\n",
       "    <tr>\n",
       "      <th>1</th>\n",
       "      <td>HGDP00003</td>\n",
       "      <td>Brahui</td>\n",
       "    </tr>\n",
       "    <tr>\n",
       "      <th>2</th>\n",
       "      <td>HGDP00005</td>\n",
       "      <td>Brahui</td>\n",
       "    </tr>\n",
       "    <tr>\n",
       "      <th>3</th>\n",
       "      <td>HGDP00007</td>\n",
       "      <td>Brahui</td>\n",
       "    </tr>\n",
       "    <tr>\n",
       "      <th>4</th>\n",
       "      <td>HGDP00011</td>\n",
       "      <td>Brahui</td>\n",
       "    </tr>\n",
       "    <tr>\n",
       "      <th>...</th>\n",
       "      <td>...</td>\n",
       "      <td>...</td>\n",
       "    </tr>\n",
       "    <tr>\n",
       "      <th>1064</th>\n",
       "      <td>SubsaharanAfrican11</td>\n",
       "      <td>SubsaharanAfrican11</td>\n",
       "    </tr>\n",
       "    <tr>\n",
       "      <th>1065</th>\n",
       "      <td>SubsaharanAfrican12</td>\n",
       "      <td>SubsaharanAfrican12</td>\n",
       "    </tr>\n",
       "    <tr>\n",
       "      <th>1066</th>\n",
       "      <td>SubsaharanAfrican13</td>\n",
       "      <td>SubsaharanAfrican13</td>\n",
       "    </tr>\n",
       "    <tr>\n",
       "      <th>1067</th>\n",
       "      <td>SubsaharanAfrican14</td>\n",
       "      <td>SubsaharanAfrican14</td>\n",
       "    </tr>\n",
       "    <tr>\n",
       "      <th>1068</th>\n",
       "      <td>SubsaharanAfrican15</td>\n",
       "      <td>SubsaharanAfrican15</td>\n",
       "    </tr>\n",
       "  </tbody>\n",
       "</table>\n",
       "<p>1069 rows × 2 columns</p>\n",
       "</div>"
      ],
      "text/plain": [
       "                SAMPLE_ID             GROUP_ID\n",
       "0               HGDP00001               Brahui\n",
       "1               HGDP00003               Brahui\n",
       "2               HGDP00005               Brahui\n",
       "3               HGDP00007               Brahui\n",
       "4               HGDP00011               Brahui\n",
       "...                   ...                  ...\n",
       "1064  SubsaharanAfrican11  SubsaharanAfrican11\n",
       "1065  SubsaharanAfrican12  SubsaharanAfrican12\n",
       "1066  SubsaharanAfrican13  SubsaharanAfrican13\n",
       "1067  SubsaharanAfrican14  SubsaharanAfrican14\n",
       "1068  SubsaharanAfrican15  SubsaharanAfrican15\n",
       "\n",
       "[1069 rows x 2 columns]"
      ]
     },
     "execution_count": 42,
     "metadata": {},
     "output_type": "execute_result"
    }
   ],
   "source": [
    "fam_df = pd.read_csv(os.path.join(data_dir, \"LocalAncestry/merged.fam\"), sep=\" \", header=None)\n",
    "fam_df = fam_df.rename({0:\"SAMPLE_ID\",1:'GROUP_ID'},axis=1)[['SAMPLE_ID','GROUP_ID']]\n",
    "def update_sample_id(row):\n",
    "    # Remove any number suffix in Sample_ID\n",
    "    sample_base = re.sub(r'\\d+$', '', row['SAMPLE_ID'])\n",
    "    group_base = re.sub(r'\\d+$', '', row['GROUP_ID'])\n",
    "    \n",
    "    # If the base of Sample_ID matches the base of GROUP_ID, update Sample_ID\n",
    "    if sample_base == group_base:\n",
    "        return row['GROUP_ID']\n",
    "    return row['SAMPLE_ID']\n",
    "\n",
    "# Apply the function to the DataFrame\n",
    "fam_df['SAMPLE_ID'] = fam_df.apply(update_sample_id, axis=1)\n",
    "\n",
    "# View the result\n",
    "fam_df"
   ]
  },
  {
   "cell_type": "markdown",
   "metadata": {},
   "source": [
    "### Ectract Q file data from the LocalAncestry.zip"
   ]
  },
  {
   "cell_type": "code",
   "execution_count": 43,
   "metadata": {},
   "outputs": [
    {
     "data": {
      "text/html": [
       "<div>\n",
       "<style scoped>\n",
       "    .dataframe tbody tr th:only-of-type {\n",
       "        vertical-align: middle;\n",
       "    }\n",
       "\n",
       "    .dataframe tbody tr th {\n",
       "        vertical-align: top;\n",
       "    }\n",
       "\n",
       "    .dataframe thead th {\n",
       "        text-align: right;\n",
       "    }\n",
       "</style>\n",
       "<table border=\"1\" class=\"dataframe\">\n",
       "  <thead>\n",
       "    <tr style=\"text-align: right;\">\n",
       "      <th></th>\n",
       "      <th>Admixture1</th>\n",
       "      <th>Admixture2</th>\n",
       "      <th>Admixture3</th>\n",
       "      <th>Admixture4</th>\n",
       "      <th>Admixture5</th>\n",
       "      <th>Admixture6</th>\n",
       "      <th>Admixture7</th>\n",
       "      <th>Admixture8</th>\n",
       "      <th>Admixture9</th>\n",
       "      <th>window</th>\n",
       "      <th>individual</th>\n",
       "      <th>SAMPLE_ID</th>\n",
       "      <th>GROUP_ID</th>\n",
       "    </tr>\n",
       "  </thead>\n",
       "  <tbody>\n",
       "    <tr>\n",
       "      <th>0</th>\n",
       "      <td>0.166067</td>\n",
       "      <td>0.137783</td>\n",
       "      <td>0.035062</td>\n",
       "      <td>0.236366</td>\n",
       "      <td>0.132851</td>\n",
       "      <td>0.000011</td>\n",
       "      <td>0.012957</td>\n",
       "      <td>0.278893</td>\n",
       "      <td>0.000010</td>\n",
       "      <td>1</td>\n",
       "      <td>1</td>\n",
       "      <td>HGDP00001</td>\n",
       "      <td>Brahui</td>\n",
       "    </tr>\n",
       "    <tr>\n",
       "      <th>1</th>\n",
       "      <td>0.009162</td>\n",
       "      <td>0.052174</td>\n",
       "      <td>0.052450</td>\n",
       "      <td>0.246235</td>\n",
       "      <td>0.057680</td>\n",
       "      <td>0.000010</td>\n",
       "      <td>0.000010</td>\n",
       "      <td>0.416426</td>\n",
       "      <td>0.165853</td>\n",
       "      <td>1</td>\n",
       "      <td>2</td>\n",
       "      <td>HGDP00003</td>\n",
       "      <td>Brahui</td>\n",
       "    </tr>\n",
       "    <tr>\n",
       "      <th>2</th>\n",
       "      <td>0.189324</td>\n",
       "      <td>0.000010</td>\n",
       "      <td>0.000010</td>\n",
       "      <td>0.091682</td>\n",
       "      <td>0.015396</td>\n",
       "      <td>0.000010</td>\n",
       "      <td>0.132960</td>\n",
       "      <td>0.490148</td>\n",
       "      <td>0.080459</td>\n",
       "      <td>1</td>\n",
       "      <td>3</td>\n",
       "      <td>HGDP00005</td>\n",
       "      <td>Brahui</td>\n",
       "    </tr>\n",
       "    <tr>\n",
       "      <th>3</th>\n",
       "      <td>0.172040</td>\n",
       "      <td>0.000010</td>\n",
       "      <td>0.050372</td>\n",
       "      <td>0.193109</td>\n",
       "      <td>0.000013</td>\n",
       "      <td>0.007881</td>\n",
       "      <td>0.038743</td>\n",
       "      <td>0.537821</td>\n",
       "      <td>0.000010</td>\n",
       "      <td>1</td>\n",
       "      <td>4</td>\n",
       "      <td>HGDP00007</td>\n",
       "      <td>Brahui</td>\n",
       "    </tr>\n",
       "    <tr>\n",
       "      <th>4</th>\n",
       "      <td>0.277328</td>\n",
       "      <td>0.055216</td>\n",
       "      <td>0.000010</td>\n",
       "      <td>0.089922</td>\n",
       "      <td>0.000010</td>\n",
       "      <td>0.000010</td>\n",
       "      <td>0.143065</td>\n",
       "      <td>0.434429</td>\n",
       "      <td>0.000010</td>\n",
       "      <td>1</td>\n",
       "      <td>5</td>\n",
       "      <td>HGDP00011</td>\n",
       "      <td>Brahui</td>\n",
       "    </tr>\n",
       "    <tr>\n",
       "      <th>...</th>\n",
       "      <td>...</td>\n",
       "      <td>...</td>\n",
       "      <td>...</td>\n",
       "      <td>...</td>\n",
       "      <td>...</td>\n",
       "      <td>...</td>\n",
       "      <td>...</td>\n",
       "      <td>...</td>\n",
       "      <td>...</td>\n",
       "      <td>...</td>\n",
       "      <td>...</td>\n",
       "      <td>...</td>\n",
       "      <td>...</td>\n",
       "    </tr>\n",
       "    <tr>\n",
       "      <th>59859</th>\n",
       "      <td>0.000010</td>\n",
       "      <td>0.000010</td>\n",
       "      <td>0.000010</td>\n",
       "      <td>0.000010</td>\n",
       "      <td>0.000010</td>\n",
       "      <td>0.000010</td>\n",
       "      <td>0.000010</td>\n",
       "      <td>0.000010</td>\n",
       "      <td>0.999920</td>\n",
       "      <td>56</td>\n",
       "      <td>1065</td>\n",
       "      <td>SubsaharanAfrican11</td>\n",
       "      <td>SubsaharanAfrican11</td>\n",
       "    </tr>\n",
       "    <tr>\n",
       "      <th>59860</th>\n",
       "      <td>0.000010</td>\n",
       "      <td>0.000010</td>\n",
       "      <td>0.000010</td>\n",
       "      <td>0.000010</td>\n",
       "      <td>0.000010</td>\n",
       "      <td>0.000010</td>\n",
       "      <td>0.000010</td>\n",
       "      <td>0.000010</td>\n",
       "      <td>0.999920</td>\n",
       "      <td>56</td>\n",
       "      <td>1066</td>\n",
       "      <td>SubsaharanAfrican12</td>\n",
       "      <td>SubsaharanAfrican12</td>\n",
       "    </tr>\n",
       "    <tr>\n",
       "      <th>59861</th>\n",
       "      <td>0.000010</td>\n",
       "      <td>0.000010</td>\n",
       "      <td>0.000010</td>\n",
       "      <td>0.000010</td>\n",
       "      <td>0.000010</td>\n",
       "      <td>0.000010</td>\n",
       "      <td>0.000010</td>\n",
       "      <td>0.000010</td>\n",
       "      <td>0.999920</td>\n",
       "      <td>56</td>\n",
       "      <td>1067</td>\n",
       "      <td>SubsaharanAfrican13</td>\n",
       "      <td>SubsaharanAfrican13</td>\n",
       "    </tr>\n",
       "    <tr>\n",
       "      <th>59862</th>\n",
       "      <td>0.000010</td>\n",
       "      <td>0.000010</td>\n",
       "      <td>0.000010</td>\n",
       "      <td>0.000010</td>\n",
       "      <td>0.000010</td>\n",
       "      <td>0.000010</td>\n",
       "      <td>0.000010</td>\n",
       "      <td>0.000010</td>\n",
       "      <td>0.999920</td>\n",
       "      <td>56</td>\n",
       "      <td>1068</td>\n",
       "      <td>SubsaharanAfrican14</td>\n",
       "      <td>SubsaharanAfrican14</td>\n",
       "    </tr>\n",
       "    <tr>\n",
       "      <th>59863</th>\n",
       "      <td>0.000010</td>\n",
       "      <td>0.000010</td>\n",
       "      <td>0.000010</td>\n",
       "      <td>0.000010</td>\n",
       "      <td>0.000010</td>\n",
       "      <td>0.000010</td>\n",
       "      <td>0.000010</td>\n",
       "      <td>0.000010</td>\n",
       "      <td>0.999920</td>\n",
       "      <td>56</td>\n",
       "      <td>1069</td>\n",
       "      <td>SubsaharanAfrican15</td>\n",
       "      <td>SubsaharanAfrican15</td>\n",
       "    </tr>\n",
       "  </tbody>\n",
       "</table>\n",
       "<p>59864 rows × 13 columns</p>\n",
       "</div>"
      ],
      "text/plain": [
       "       Admixture1  Admixture2  Admixture3  Admixture4  Admixture5  Admixture6  \\\n",
       "0        0.166067    0.137783    0.035062    0.236366    0.132851    0.000011   \n",
       "1        0.009162    0.052174    0.052450    0.246235    0.057680    0.000010   \n",
       "2        0.189324    0.000010    0.000010    0.091682    0.015396    0.000010   \n",
       "3        0.172040    0.000010    0.050372    0.193109    0.000013    0.007881   \n",
       "4        0.277328    0.055216    0.000010    0.089922    0.000010    0.000010   \n",
       "...           ...         ...         ...         ...         ...         ...   \n",
       "59859    0.000010    0.000010    0.000010    0.000010    0.000010    0.000010   \n",
       "59860    0.000010    0.000010    0.000010    0.000010    0.000010    0.000010   \n",
       "59861    0.000010    0.000010    0.000010    0.000010    0.000010    0.000010   \n",
       "59862    0.000010    0.000010    0.000010    0.000010    0.000010    0.000010   \n",
       "59863    0.000010    0.000010    0.000010    0.000010    0.000010    0.000010   \n",
       "\n",
       "       Admixture7  Admixture8  Admixture9  window  individual  \\\n",
       "0        0.012957    0.278893    0.000010       1           1   \n",
       "1        0.000010    0.416426    0.165853       1           2   \n",
       "2        0.132960    0.490148    0.080459       1           3   \n",
       "3        0.038743    0.537821    0.000010       1           4   \n",
       "4        0.143065    0.434429    0.000010       1           5   \n",
       "...           ...         ...         ...     ...         ...   \n",
       "59859    0.000010    0.000010    0.999920      56        1065   \n",
       "59860    0.000010    0.000010    0.999920      56        1066   \n",
       "59861    0.000010    0.000010    0.999920      56        1067   \n",
       "59862    0.000010    0.000010    0.999920      56        1068   \n",
       "59863    0.000010    0.000010    0.999920      56        1069   \n",
       "\n",
       "                 SAMPLE_ID             GROUP_ID  \n",
       "0                HGDP00001               Brahui  \n",
       "1                HGDP00003               Brahui  \n",
       "2                HGDP00005               Brahui  \n",
       "3                HGDP00007               Brahui  \n",
       "4                HGDP00011               Brahui  \n",
       "...                    ...                  ...  \n",
       "59859  SubsaharanAfrican11  SubsaharanAfrican11  \n",
       "59860  SubsaharanAfrican12  SubsaharanAfrican12  \n",
       "59861  SubsaharanAfrican13  SubsaharanAfrican13  \n",
       "59862  SubsaharanAfrican14  SubsaharanAfrican14  \n",
       "59863  SubsaharanAfrican15  SubsaharanAfrican15  \n",
       "\n",
       "[59864 rows x 13 columns]"
      ]
     },
     "execution_count": 43,
     "metadata": {},
     "output_type": "execute_result"
    }
   ],
   "source": [
    "data_list = []\n",
    "q_files_dir = os.path.join(data_dir, \"LocalAncestry/Q_files\")\n",
    "\n",
    "# Extract and sort files numerically based on the window number\n",
    "q_files = []\n",
    "for file in os.listdir(q_files_dir):\n",
    "    if file.endswith(\".Q\"):\n",
    "        try:\n",
    "            window = int(file.split('_')[1].split('.')[0])  # Extract window number\n",
    "            q_files.append((window, file))  # Store as tuple (window_number, filename)\n",
    "        except (IndexError, ValueError):\n",
    "            print(f\"Skipping {file}: Unexpected filename format\")\n",
    "            continue\n",
    "\n",
    "# Sort files based on the window number\n",
    "q_files.sort()  # Sorts by the first element in the tuple (window number)\n",
    "\n",
    "for window, file in q_files:  \n",
    "    file_path = os.path.join(q_files_dir, file)\n",
    "    df = pd.read_csv(file_path, sep=\" \", header=None)\n",
    "    df['window'] = window  + 1 # We are parsing in ascending order of the files in each directory so adding one to the window size would not make a difference\n",
    "\n",
    "    # Reset individual IDs per file (from 1 to 1069)\n",
    "    df['individual'] = range(1, len(df) + 1)\n",
    "    df['SAMPLE_ID'] = fam_df['SAMPLE_ID'].to_list()\n",
    "    df['GROUP_ID'] = fam_df['GROUP_ID'].to_list()\n",
    "\n",
    "    data_list.append(df)\n",
    "\n",
    "# Combine all data\n",
    "if data_list:  \n",
    "    combined_df = pd.concat(data_list, ignore_index=True)\n",
    "else:\n",
    "    print(\"No valid .Q files found in directory.\")\n",
    "\n",
    "# Rename columns\n",
    "combined_df = combined_df.rename({i: f'Admixture{i+1}' for i in range(9)}, axis=1)\n",
    "combined_df\n"
   ]
  },
  {
   "cell_type": "code",
   "execution_count": 44,
   "metadata": {},
   "outputs": [
    {
     "name": "stdout",
     "output_type": "stream",
     "text": [
      "Done!\n"
     ]
    }
   ],
   "source": [
    "# Create a list to hold all the 56 DataFrames\n",
    "dfs = []\n",
    "results = \"/home/inf-21-2024/binp29/population_genetic_project/data/02_GPS/gps_file/\"\n",
    "\n",
    "\n",
    "# Loop through the DataFrame in chunks of 1069 rows\n",
    "for i in range(0, len(combined_df), 1069):\n",
    "    # Select the chunk (subset of rows)\n",
    "    chunk_df = combined_df.iloc[i:i+1069]\n",
    "    \n",
    "    # Select the relevant columns (Sample_ID, Admixture1 to Admixture9, GROUP_ID)\n",
    "    chunk_df = chunk_df[['SAMPLE_ID'] + [f'Admixture{j}' for j in range(1, 10)] + ['GROUP_ID']]\n",
    "    \n",
    "    # Append the chunk DataFrame to the list\n",
    "    dfs.append(chunk_df)\n",
    "    \n",
    "    # Optionally, save each chunk as a CSV\n",
    "    chunk_df.to_csv(f'{results}data_{i//1069}.csv',index=False)\n",
    "\n",
    "print('Done!')"
   ]
  },
  {
   "cell_type": "markdown",
   "metadata": {},
   "source": [
    "### Extract Chromosome position from merged.bim file"
   ]
  },
  {
   "cell_type": "code",
   "execution_count": 5,
   "metadata": {},
   "outputs": [
    {
     "data": {
      "text/html": [
       "<div>\n",
       "<style scoped>\n",
       "    .dataframe tbody tr th:only-of-type {\n",
       "        vertical-align: middle;\n",
       "    }\n",
       "\n",
       "    .dataframe tbody tr th {\n",
       "        vertical-align: top;\n",
       "    }\n",
       "\n",
       "    .dataframe thead th {\n",
       "        text-align: right;\n",
       "    }\n",
       "</style>\n",
       "<table border=\"1\" class=\"dataframe\">\n",
       "  <thead>\n",
       "    <tr style=\"text-align: right;\">\n",
       "      <th></th>\n",
       "      <th>chr</th>\n",
       "      <th>snp</th>\n",
       "      <th>cm</th>\n",
       "      <th>pos</th>\n",
       "      <th>a1</th>\n",
       "      <th>a2</th>\n",
       "    </tr>\n",
       "  </thead>\n",
       "  <tbody>\n",
       "    <tr>\n",
       "      <th>0</th>\n",
       "      <td>1</td>\n",
       "      <td>rs11807848</td>\n",
       "      <td>0</td>\n",
       "      <td>1061166</td>\n",
       "      <td>2</td>\n",
       "      <td>4</td>\n",
       "    </tr>\n",
       "    <tr>\n",
       "      <th>1</th>\n",
       "      <td>1</td>\n",
       "      <td>rs2887286</td>\n",
       "      <td>0</td>\n",
       "      <td>1156131</td>\n",
       "      <td>2</td>\n",
       "      <td>4</td>\n",
       "    </tr>\n",
       "    <tr>\n",
       "      <th>2</th>\n",
       "      <td>1</td>\n",
       "      <td>rs6685064</td>\n",
       "      <td>0</td>\n",
       "      <td>1211292</td>\n",
       "      <td>4</td>\n",
       "      <td>2</td>\n",
       "    </tr>\n",
       "    <tr>\n",
       "      <th>3</th>\n",
       "      <td>1</td>\n",
       "      <td>rs1887284</td>\n",
       "      <td>0</td>\n",
       "      <td>1487059</td>\n",
       "      <td>1</td>\n",
       "      <td>3</td>\n",
       "    </tr>\n",
       "    <tr>\n",
       "      <th>4</th>\n",
       "      <td>1</td>\n",
       "      <td>rs263531</td>\n",
       "      <td>0</td>\n",
       "      <td>2164935</td>\n",
       "      <td>3</td>\n",
       "      <td>4</td>\n",
       "    </tr>\n",
       "    <tr>\n",
       "      <th>...</th>\n",
       "      <td>...</td>\n",
       "      <td>...</td>\n",
       "      <td>...</td>\n",
       "      <td>...</td>\n",
       "      <td>...</td>\n",
       "      <td>...</td>\n",
       "    </tr>\n",
       "    <tr>\n",
       "      <th>48264</th>\n",
       "      <td>23</td>\n",
       "      <td>rs7885463</td>\n",
       "      <td>0</td>\n",
       "      <td>150773472</td>\n",
       "      <td>1</td>\n",
       "      <td>3</td>\n",
       "    </tr>\n",
       "    <tr>\n",
       "      <th>48265</th>\n",
       "      <td>23</td>\n",
       "      <td>rs1061420</td>\n",
       "      <td>0</td>\n",
       "      <td>151122772</td>\n",
       "      <td>3</td>\n",
       "      <td>1</td>\n",
       "    </tr>\n",
       "    <tr>\n",
       "      <th>48266</th>\n",
       "      <td>23</td>\n",
       "      <td>rs1894356</td>\n",
       "      <td>0</td>\n",
       "      <td>152091689</td>\n",
       "      <td>4</td>\n",
       "      <td>3</td>\n",
       "    </tr>\n",
       "    <tr>\n",
       "      <th>48267</th>\n",
       "      <td>23</td>\n",
       "      <td>rs12558151</td>\n",
       "      <td>0</td>\n",
       "      <td>152602717</td>\n",
       "      <td>2</td>\n",
       "      <td>4</td>\n",
       "    </tr>\n",
       "    <tr>\n",
       "      <th>48268</th>\n",
       "      <td>23</td>\n",
       "      <td>rs6571284</td>\n",
       "      <td>0</td>\n",
       "      <td>152917616</td>\n",
       "      <td>2</td>\n",
       "      <td>4</td>\n",
       "    </tr>\n",
       "  </tbody>\n",
       "</table>\n",
       "<p>48269 rows × 6 columns</p>\n",
       "</div>"
      ],
      "text/plain": [
       "       chr         snp  cm        pos  a1  a2\n",
       "0        1  rs11807848   0    1061166   2   4\n",
       "1        1   rs2887286   0    1156131   2   4\n",
       "2        1   rs6685064   0    1211292   4   2\n",
       "3        1   rs1887284   0    1487059   1   3\n",
       "4        1    rs263531   0    2164935   3   4\n",
       "...    ...         ...  ..        ...  ..  ..\n",
       "48264   23   rs7885463   0  150773472   1   3\n",
       "48265   23   rs1061420   0  151122772   3   1\n",
       "48266   23   rs1894356   0  152091689   4   3\n",
       "48267   23  rs12558151   0  152602717   2   4\n",
       "48268   23   rs6571284   0  152917616   2   4\n",
       "\n",
       "[48269 rows x 6 columns]"
      ]
     },
     "execution_count": 5,
     "metadata": {},
     "output_type": "execute_result"
    }
   ],
   "source": [
    "bim_df = pd.read_csv(os.path.join(data_dir,\"LocalAncestry/merged.bim\"),sep=\"\\t\",header=None, names=[\"chr\",\"snp\",\"cm\",\"pos\",\"a1\",\"a2\"])\n",
    "bim_df"
   ]
  },
  {
   "cell_type": "code",
   "execution_count": 6,
   "metadata": {},
   "outputs": [],
   "source": [
    "unique_chromosomes_per_chunk = {}\n",
    "\n",
    "for i in range(0, len(bim_df), 500):\n",
    "    chunk = bim_df.iloc[i:i+500]  # Extract 500-row chunk\n",
    "    unique_chromosomes = chunk[\"chr\"].unique()  \n",
    "    start_pos = chunk[\"pos\"].iloc[0]   # First position in chunk\n",
    "    end_pos = chunk[\"pos\"].iloc[-1]    # Last position in chunk\n",
    "\n",
    "    unique_chromosomes_per_chunk[f\"{i//500+1}\"] = {\n",
    "        \"chromosomes\": unique_chromosomes.tolist(),\n",
    "        \"start_pos\": start_pos,\n",
    "        \"end_pos\": end_pos\n",
    "    }"
   ]
  },
  {
   "cell_type": "code",
   "execution_count": 7,
   "metadata": {},
   "outputs": [
    {
     "data": {
      "text/html": [
       "<div>\n",
       "<style scoped>\n",
       "    .dataframe tbody tr th:only-of-type {\n",
       "        vertical-align: middle;\n",
       "    }\n",
       "\n",
       "    .dataframe tbody tr th {\n",
       "        vertical-align: top;\n",
       "    }\n",
       "\n",
       "    .dataframe thead th {\n",
       "        text-align: right;\n",
       "    }\n",
       "</style>\n",
       "<table border=\"1\" class=\"dataframe\">\n",
       "  <thead>\n",
       "    <tr style=\"text-align: right;\">\n",
       "      <th></th>\n",
       "      <th>Admixture1</th>\n",
       "      <th>Admixture2</th>\n",
       "      <th>Admixture3</th>\n",
       "      <th>Admixture4</th>\n",
       "      <th>Admixture5</th>\n",
       "      <th>Admixture6</th>\n",
       "      <th>Admixture7</th>\n",
       "      <th>Admixture8</th>\n",
       "      <th>Admixture9</th>\n",
       "      <th>window</th>\n",
       "      <th>individual</th>\n",
       "      <th>SAMPLE_ID</th>\n",
       "      <th>GROUP_ID</th>\n",
       "      <th>chromosome</th>\n",
       "      <th>start_pos</th>\n",
       "      <th>end_pos</th>\n",
       "    </tr>\n",
       "  </thead>\n",
       "  <tbody>\n",
       "    <tr>\n",
       "      <th>0</th>\n",
       "      <td>0.166067</td>\n",
       "      <td>0.137783</td>\n",
       "      <td>0.035062</td>\n",
       "      <td>0.236366</td>\n",
       "      <td>0.132851</td>\n",
       "      <td>0.000011</td>\n",
       "      <td>0.012957</td>\n",
       "      <td>0.278893</td>\n",
       "      <td>0.000010</td>\n",
       "      <td>1</td>\n",
       "      <td>1</td>\n",
       "      <td>HGDP00001</td>\n",
       "      <td>Brahui</td>\n",
       "      <td>1</td>\n",
       "      <td>1061166</td>\n",
       "      <td>22629057</td>\n",
       "    </tr>\n",
       "    <tr>\n",
       "      <th>1</th>\n",
       "      <td>0.009162</td>\n",
       "      <td>0.052174</td>\n",
       "      <td>0.052450</td>\n",
       "      <td>0.246235</td>\n",
       "      <td>0.057680</td>\n",
       "      <td>0.000010</td>\n",
       "      <td>0.000010</td>\n",
       "      <td>0.416426</td>\n",
       "      <td>0.165853</td>\n",
       "      <td>1</td>\n",
       "      <td>2</td>\n",
       "      <td>HGDP00003</td>\n",
       "      <td>Brahui</td>\n",
       "      <td>1</td>\n",
       "      <td>1061166</td>\n",
       "      <td>22629057</td>\n",
       "    </tr>\n",
       "    <tr>\n",
       "      <th>2</th>\n",
       "      <td>0.189324</td>\n",
       "      <td>0.000010</td>\n",
       "      <td>0.000010</td>\n",
       "      <td>0.091682</td>\n",
       "      <td>0.015396</td>\n",
       "      <td>0.000010</td>\n",
       "      <td>0.132960</td>\n",
       "      <td>0.490148</td>\n",
       "      <td>0.080459</td>\n",
       "      <td>1</td>\n",
       "      <td>3</td>\n",
       "      <td>HGDP00005</td>\n",
       "      <td>Brahui</td>\n",
       "      <td>1</td>\n",
       "      <td>1061166</td>\n",
       "      <td>22629057</td>\n",
       "    </tr>\n",
       "    <tr>\n",
       "      <th>3</th>\n",
       "      <td>0.172040</td>\n",
       "      <td>0.000010</td>\n",
       "      <td>0.050372</td>\n",
       "      <td>0.193109</td>\n",
       "      <td>0.000013</td>\n",
       "      <td>0.007881</td>\n",
       "      <td>0.038743</td>\n",
       "      <td>0.537821</td>\n",
       "      <td>0.000010</td>\n",
       "      <td>1</td>\n",
       "      <td>4</td>\n",
       "      <td>HGDP00007</td>\n",
       "      <td>Brahui</td>\n",
       "      <td>1</td>\n",
       "      <td>1061166</td>\n",
       "      <td>22629057</td>\n",
       "    </tr>\n",
       "    <tr>\n",
       "      <th>4</th>\n",
       "      <td>0.277328</td>\n",
       "      <td>0.055216</td>\n",
       "      <td>0.000010</td>\n",
       "      <td>0.089922</td>\n",
       "      <td>0.000010</td>\n",
       "      <td>0.000010</td>\n",
       "      <td>0.143065</td>\n",
       "      <td>0.434429</td>\n",
       "      <td>0.000010</td>\n",
       "      <td>1</td>\n",
       "      <td>5</td>\n",
       "      <td>HGDP00011</td>\n",
       "      <td>Brahui</td>\n",
       "      <td>1</td>\n",
       "      <td>1061166</td>\n",
       "      <td>22629057</td>\n",
       "    </tr>\n",
       "    <tr>\n",
       "      <th>...</th>\n",
       "      <td>...</td>\n",
       "      <td>...</td>\n",
       "      <td>...</td>\n",
       "      <td>...</td>\n",
       "      <td>...</td>\n",
       "      <td>...</td>\n",
       "      <td>...</td>\n",
       "      <td>...</td>\n",
       "      <td>...</td>\n",
       "      <td>...</td>\n",
       "      <td>...</td>\n",
       "      <td>...</td>\n",
       "      <td>...</td>\n",
       "      <td>...</td>\n",
       "      <td>...</td>\n",
       "      <td>...</td>\n",
       "    </tr>\n",
       "    <tr>\n",
       "      <th>59859</th>\n",
       "      <td>0.000010</td>\n",
       "      <td>0.000010</td>\n",
       "      <td>0.000010</td>\n",
       "      <td>0.000010</td>\n",
       "      <td>0.000010</td>\n",
       "      <td>0.000010</td>\n",
       "      <td>0.000010</td>\n",
       "      <td>0.000010</td>\n",
       "      <td>0.999920</td>\n",
       "      <td>56</td>\n",
       "      <td>1065</td>\n",
       "      <td>SubsaharanAfrican11</td>\n",
       "      <td>SubsaharanAfrican11</td>\n",
       "      <td>9</td>\n",
       "      <td>100674565</td>\n",
       "      <td>120088933</td>\n",
       "    </tr>\n",
       "    <tr>\n",
       "      <th>59860</th>\n",
       "      <td>0.000010</td>\n",
       "      <td>0.000010</td>\n",
       "      <td>0.000010</td>\n",
       "      <td>0.000010</td>\n",
       "      <td>0.000010</td>\n",
       "      <td>0.000010</td>\n",
       "      <td>0.000010</td>\n",
       "      <td>0.000010</td>\n",
       "      <td>0.999920</td>\n",
       "      <td>56</td>\n",
       "      <td>1066</td>\n",
       "      <td>SubsaharanAfrican12</td>\n",
       "      <td>SubsaharanAfrican12</td>\n",
       "      <td>9</td>\n",
       "      <td>100674565</td>\n",
       "      <td>120088933</td>\n",
       "    </tr>\n",
       "    <tr>\n",
       "      <th>59861</th>\n",
       "      <td>0.000010</td>\n",
       "      <td>0.000010</td>\n",
       "      <td>0.000010</td>\n",
       "      <td>0.000010</td>\n",
       "      <td>0.000010</td>\n",
       "      <td>0.000010</td>\n",
       "      <td>0.000010</td>\n",
       "      <td>0.000010</td>\n",
       "      <td>0.999920</td>\n",
       "      <td>56</td>\n",
       "      <td>1067</td>\n",
       "      <td>SubsaharanAfrican13</td>\n",
       "      <td>SubsaharanAfrican13</td>\n",
       "      <td>9</td>\n",
       "      <td>100674565</td>\n",
       "      <td>120088933</td>\n",
       "    </tr>\n",
       "    <tr>\n",
       "      <th>59862</th>\n",
       "      <td>0.000010</td>\n",
       "      <td>0.000010</td>\n",
       "      <td>0.000010</td>\n",
       "      <td>0.000010</td>\n",
       "      <td>0.000010</td>\n",
       "      <td>0.000010</td>\n",
       "      <td>0.000010</td>\n",
       "      <td>0.000010</td>\n",
       "      <td>0.999920</td>\n",
       "      <td>56</td>\n",
       "      <td>1068</td>\n",
       "      <td>SubsaharanAfrican14</td>\n",
       "      <td>SubsaharanAfrican14</td>\n",
       "      <td>9</td>\n",
       "      <td>100674565</td>\n",
       "      <td>120088933</td>\n",
       "    </tr>\n",
       "    <tr>\n",
       "      <th>59863</th>\n",
       "      <td>0.000010</td>\n",
       "      <td>0.000010</td>\n",
       "      <td>0.000010</td>\n",
       "      <td>0.000010</td>\n",
       "      <td>0.000010</td>\n",
       "      <td>0.000010</td>\n",
       "      <td>0.000010</td>\n",
       "      <td>0.000010</td>\n",
       "      <td>0.999920</td>\n",
       "      <td>56</td>\n",
       "      <td>1069</td>\n",
       "      <td>SubsaharanAfrican15</td>\n",
       "      <td>SubsaharanAfrican15</td>\n",
       "      <td>9</td>\n",
       "      <td>100674565</td>\n",
       "      <td>120088933</td>\n",
       "    </tr>\n",
       "  </tbody>\n",
       "</table>\n",
       "<p>59864 rows × 16 columns</p>\n",
       "</div>"
      ],
      "text/plain": [
       "       Admixture1  Admixture2  Admixture3  Admixture4  Admixture5  Admixture6  \\\n",
       "0        0.166067    0.137783    0.035062    0.236366    0.132851    0.000011   \n",
       "1        0.009162    0.052174    0.052450    0.246235    0.057680    0.000010   \n",
       "2        0.189324    0.000010    0.000010    0.091682    0.015396    0.000010   \n",
       "3        0.172040    0.000010    0.050372    0.193109    0.000013    0.007881   \n",
       "4        0.277328    0.055216    0.000010    0.089922    0.000010    0.000010   \n",
       "...           ...         ...         ...         ...         ...         ...   \n",
       "59859    0.000010    0.000010    0.000010    0.000010    0.000010    0.000010   \n",
       "59860    0.000010    0.000010    0.000010    0.000010    0.000010    0.000010   \n",
       "59861    0.000010    0.000010    0.000010    0.000010    0.000010    0.000010   \n",
       "59862    0.000010    0.000010    0.000010    0.000010    0.000010    0.000010   \n",
       "59863    0.000010    0.000010    0.000010    0.000010    0.000010    0.000010   \n",
       "\n",
       "       Admixture7  Admixture8  Admixture9 window  individual  \\\n",
       "0        0.012957    0.278893    0.000010      1           1   \n",
       "1        0.000010    0.416426    0.165853      1           2   \n",
       "2        0.132960    0.490148    0.080459      1           3   \n",
       "3        0.038743    0.537821    0.000010      1           4   \n",
       "4        0.143065    0.434429    0.000010      1           5   \n",
       "...           ...         ...         ...    ...         ...   \n",
       "59859    0.000010    0.000010    0.999920     56        1065   \n",
       "59860    0.000010    0.000010    0.999920     56        1066   \n",
       "59861    0.000010    0.000010    0.999920     56        1067   \n",
       "59862    0.000010    0.000010    0.999920     56        1068   \n",
       "59863    0.000010    0.000010    0.999920     56        1069   \n",
       "\n",
       "                 SAMPLE_ID             GROUP_ID chromosome  start_pos  \\\n",
       "0                HGDP00001               Brahui          1    1061166   \n",
       "1                HGDP00003               Brahui          1    1061166   \n",
       "2                HGDP00005               Brahui          1    1061166   \n",
       "3                HGDP00007               Brahui          1    1061166   \n",
       "4                HGDP00011               Brahui          1    1061166   \n",
       "...                    ...                  ...        ...        ...   \n",
       "59859  SubsaharanAfrican11  SubsaharanAfrican11          9  100674565   \n",
       "59860  SubsaharanAfrican12  SubsaharanAfrican12          9  100674565   \n",
       "59861  SubsaharanAfrican13  SubsaharanAfrican13          9  100674565   \n",
       "59862  SubsaharanAfrican14  SubsaharanAfrican14          9  100674565   \n",
       "59863  SubsaharanAfrican15  SubsaharanAfrican15          9  100674565   \n",
       "\n",
       "         end_pos  \n",
       "0       22629057  \n",
       "1       22629057  \n",
       "2       22629057  \n",
       "3       22629057  \n",
       "4       22629057  \n",
       "...          ...  \n",
       "59859  120088933  \n",
       "59860  120088933  \n",
       "59861  120088933  \n",
       "59862  120088933  \n",
       "59863  120088933  \n",
       "\n",
       "[59864 rows x 16 columns]"
      ]
     },
     "execution_count": 7,
     "metadata": {},
     "output_type": "execute_result"
    }
   ],
   "source": [
    "# Create a mapping dictionary for chromosome, start, and end positions\n",
    "mapped_info = {\n",
    "    k: {\n",
    "        \"chromosome\": \",\".join(map(str, v[\"chromosomes\"])),\n",
    "        \"start_pos\": v[\"start_pos\"],\n",
    "        \"end_pos\": v[\"end_pos\"]\n",
    "    } \n",
    "    for k, v in unique_chromosomes_per_chunk.items()\n",
    "}\n",
    "\n",
    "# Convert 'window' column to string to match dictionary keys\n",
    "combined_df['window'] = combined_df['window'].astype(str)\n",
    "\n",
    "# Map each window to its corresponding chromosome info\n",
    "combined_df['chromosome'] = combined_df['window'].map(lambda x: mapped_info.get(x, {}).get(\"chromosome\", \"NA\"))\n",
    "combined_df['start_pos'] = combined_df['window'].map(lambda x: mapped_info.get(x, {}).get(\"start_pos\", \"NA\"))\n",
    "combined_df['end_pos'] = combined_df['window'].map(lambda x: mapped_info.get(x, {}).get(\"end_pos\", \"NA\"))\n",
    "\n",
    "# Final dataframe with mapped values\n",
    "combined_df\n"
   ]
  },
  {
   "cell_type": "markdown",
   "metadata": {},
   "source": [
    "## Step 2: Assign Local Ancetry to regions"
   ]
  },
  {
   "cell_type": "code",
   "execution_count": 8,
   "metadata": {},
   "outputs": [
    {
     "data": {
      "text/html": [
       "<div>\n",
       "<style scoped>\n",
       "    .dataframe tbody tr th:only-of-type {\n",
       "        vertical-align: middle;\n",
       "    }\n",
       "\n",
       "    .dataframe tbody tr th {\n",
       "        vertical-align: top;\n",
       "    }\n",
       "\n",
       "    .dataframe thead th {\n",
       "        text-align: right;\n",
       "    }\n",
       "</style>\n",
       "<table border=\"1\" class=\"dataframe\">\n",
       "  <thead>\n",
       "    <tr style=\"text-align: right;\">\n",
       "      <th></th>\n",
       "      <th>Population</th>\n",
       "      <th>Sample_no</th>\n",
       "      <th>Sample_id</th>\n",
       "      <th>Prediction</th>\n",
       "      <th>Lat</th>\n",
       "      <th>Lon</th>\n",
       "    </tr>\n",
       "  </thead>\n",
       "  <tbody>\n",
       "    <tr>\n",
       "      <th>0</th>\n",
       "      <td>Brahui</td>\n",
       "      <td>1</td>\n",
       "      <td>HGDP00001</td>\n",
       "      <td>Tatars_2</td>\n",
       "      <td>53.161599</td>\n",
       "      <td>51.400428</td>\n",
       "    </tr>\n",
       "    <tr>\n",
       "      <th>1</th>\n",
       "      <td>Brahui</td>\n",
       "      <td>2</td>\n",
       "      <td>HGDP00003</td>\n",
       "      <td>Tatars_1</td>\n",
       "      <td>56.741362</td>\n",
       "      <td>32.101504</td>\n",
       "    </tr>\n",
       "    <tr>\n",
       "      <th>2</th>\n",
       "      <td>Brahui</td>\n",
       "      <td>3</td>\n",
       "      <td>HGDP00005</td>\n",
       "      <td>Finnish_1</td>\n",
       "      <td>60.015120</td>\n",
       "      <td>34.861537</td>\n",
       "    </tr>\n",
       "    <tr>\n",
       "      <th>3</th>\n",
       "      <td>Brahui</td>\n",
       "      <td>4</td>\n",
       "      <td>HGDP00007</td>\n",
       "      <td>Finnish_1</td>\n",
       "      <td>60.653373</td>\n",
       "      <td>32.265769</td>\n",
       "    </tr>\n",
       "    <tr>\n",
       "      <th>4</th>\n",
       "      <td>Brahui</td>\n",
       "      <td>5</td>\n",
       "      <td>HGDP00011</td>\n",
       "      <td>Tatars_2</td>\n",
       "      <td>58.284928</td>\n",
       "      <td>40.256009</td>\n",
       "    </tr>\n",
       "    <tr>\n",
       "      <th>...</th>\n",
       "      <td>...</td>\n",
       "      <td>...</td>\n",
       "      <td>...</td>\n",
       "      <td>...</td>\n",
       "      <td>...</td>\n",
       "      <td>...</td>\n",
       "    </tr>\n",
       "    <tr>\n",
       "      <th>59859</th>\n",
       "      <td>SubsaharanAfrican11</td>\n",
       "      <td>1</td>\n",
       "      <td>SubsaharanAfrican11</td>\n",
       "      <td>Yoruba_4</td>\n",
       "      <td>7.982425</td>\n",
       "      <td>4.024412</td>\n",
       "    </tr>\n",
       "    <tr>\n",
       "      <th>59860</th>\n",
       "      <td>SubsaharanAfrican12</td>\n",
       "      <td>1</td>\n",
       "      <td>SubsaharanAfrican12</td>\n",
       "      <td>Yoruba_4</td>\n",
       "      <td>7.982425</td>\n",
       "      <td>4.024412</td>\n",
       "    </tr>\n",
       "    <tr>\n",
       "      <th>59861</th>\n",
       "      <td>SubsaharanAfrican13</td>\n",
       "      <td>1</td>\n",
       "      <td>SubsaharanAfrican13</td>\n",
       "      <td>Yoruba_4</td>\n",
       "      <td>7.982425</td>\n",
       "      <td>4.024412</td>\n",
       "    </tr>\n",
       "    <tr>\n",
       "      <th>59862</th>\n",
       "      <td>SubsaharanAfrican14</td>\n",
       "      <td>1</td>\n",
       "      <td>SubsaharanAfrican14</td>\n",
       "      <td>Yoruba_4</td>\n",
       "      <td>7.982425</td>\n",
       "      <td>4.024412</td>\n",
       "    </tr>\n",
       "    <tr>\n",
       "      <th>59863</th>\n",
       "      <td>SubsaharanAfrican15</td>\n",
       "      <td>1</td>\n",
       "      <td>SubsaharanAfrican15</td>\n",
       "      <td>Yoruba_4</td>\n",
       "      <td>7.982425</td>\n",
       "      <td>4.024412</td>\n",
       "    </tr>\n",
       "  </tbody>\n",
       "</table>\n",
       "<p>59864 rows × 6 columns</p>\n",
       "</div>"
      ],
      "text/plain": [
       "                Population  Sample_no            Sample_id Prediction  \\\n",
       "0                   Brahui          1            HGDP00001   Tatars_2   \n",
       "1                   Brahui          2            HGDP00003   Tatars_1   \n",
       "2                   Brahui          3            HGDP00005  Finnish_1   \n",
       "3                   Brahui          4            HGDP00007  Finnish_1   \n",
       "4                   Brahui          5            HGDP00011   Tatars_2   \n",
       "...                    ...        ...                  ...        ...   \n",
       "59859  SubsaharanAfrican11          1  SubsaharanAfrican11   Yoruba_4   \n",
       "59860  SubsaharanAfrican12          1  SubsaharanAfrican12   Yoruba_4   \n",
       "59861  SubsaharanAfrican13          1  SubsaharanAfrican13   Yoruba_4   \n",
       "59862  SubsaharanAfrican14          1  SubsaharanAfrican14   Yoruba_4   \n",
       "59863  SubsaharanAfrican15          1  SubsaharanAfrican15   Yoruba_4   \n",
       "\n",
       "             Lat        Lon  \n",
       "0      53.161599  51.400428  \n",
       "1      56.741362  32.101504  \n",
       "2      60.015120  34.861537  \n",
       "3      60.653373  32.265769  \n",
       "4      58.284928  40.256009  \n",
       "...          ...        ...  \n",
       "59859   7.982425   4.024412  \n",
       "59860   7.982425   4.024412  \n",
       "59861   7.982425   4.024412  \n",
       "59862   7.982425   4.024412  \n",
       "59863   7.982425   4.024412  \n",
       "\n",
       "[59864 rows x 6 columns]"
      ]
     },
     "execution_count": 8,
     "metadata": {},
     "output_type": "execute_result"
    }
   ],
   "source": [
    "gps_results = \"/home/inf-21-2024/binp29/population_genetic_project/data/02_GPS/gps_results/\"\n",
    "gps_list = []\n",
    "\n",
    "# Extract numeric suffix from filenames and sort numerically\n",
    "gps_files = []\n",
    "for file in os.listdir(gps_results):\n",
    "    if file.startswith(\"output_data_\") and file.endswith(\".txt\"):  # Ensure correct file format\n",
    "        try:\n",
    "            num = int(file.split('_')[-1].split('.')[0])  # Extract numeric part\n",
    "            gps_files.append((num, file))  # Store as tuple (number, filename)\n",
    "        except ValueError:\n",
    "            print(f\"Skipping {file}: Unexpected filename format\")\n",
    "            continue\n",
    "\n",
    "# Sort files numerically by extracted number\n",
    "gps_files.sort()\n",
    "\n",
    "# Read and concatenate files in sorted order\n",
    "for num, file in gps_files:\n",
    "    file_path = os.path.join(gps_results, file)\n",
    "    df = pd.read_csv(file_path, sep=\"\\t\")\n",
    "    gps_list.append(df)\n",
    "\n",
    "# Combine all data\n",
    "if gps_list:\n",
    "    gps_df = pd.concat(gps_list, ignore_index=True)\n",
    "else:\n",
    "    print(\"No valid files found.\")\n",
    "\n",
    "gps_df\n"
   ]
  },
  {
   "cell_type": "code",
   "execution_count": 9,
   "metadata": {},
   "outputs": [
    {
     "data": {
      "text/html": [
       "<div>\n",
       "<style scoped>\n",
       "    .dataframe tbody tr th:only-of-type {\n",
       "        vertical-align: middle;\n",
       "    }\n",
       "\n",
       "    .dataframe tbody tr th {\n",
       "        vertical-align: top;\n",
       "    }\n",
       "\n",
       "    .dataframe thead th {\n",
       "        text-align: right;\n",
       "    }\n",
       "</style>\n",
       "<table border=\"1\" class=\"dataframe\">\n",
       "  <thead>\n",
       "    <tr style=\"text-align: right;\">\n",
       "      <th></th>\n",
       "      <th>Admixture1</th>\n",
       "      <th>Admixture2</th>\n",
       "      <th>Admixture3</th>\n",
       "      <th>Admixture4</th>\n",
       "      <th>Admixture5</th>\n",
       "      <th>Admixture6</th>\n",
       "      <th>Admixture7</th>\n",
       "      <th>Admixture8</th>\n",
       "      <th>Admixture9</th>\n",
       "      <th>window</th>\n",
       "      <th>...</th>\n",
       "      <th>GROUP_ID</th>\n",
       "      <th>chromosome</th>\n",
       "      <th>start_pos</th>\n",
       "      <th>end_pos</th>\n",
       "      <th>Population</th>\n",
       "      <th>Sample_no</th>\n",
       "      <th>Sample_id</th>\n",
       "      <th>Prediction</th>\n",
       "      <th>Lat</th>\n",
       "      <th>Lon</th>\n",
       "    </tr>\n",
       "  </thead>\n",
       "  <tbody>\n",
       "    <tr>\n",
       "      <th>0</th>\n",
       "      <td>0.166067</td>\n",
       "      <td>0.137783</td>\n",
       "      <td>0.035062</td>\n",
       "      <td>0.236366</td>\n",
       "      <td>0.132851</td>\n",
       "      <td>0.000011</td>\n",
       "      <td>0.012957</td>\n",
       "      <td>0.278893</td>\n",
       "      <td>0.000010</td>\n",
       "      <td>1</td>\n",
       "      <td>...</td>\n",
       "      <td>Brahui</td>\n",
       "      <td>1</td>\n",
       "      <td>1061166</td>\n",
       "      <td>22629057</td>\n",
       "      <td>Brahui</td>\n",
       "      <td>1</td>\n",
       "      <td>HGDP00001</td>\n",
       "      <td>Tatars_2</td>\n",
       "      <td>53.161599</td>\n",
       "      <td>51.400428</td>\n",
       "    </tr>\n",
       "    <tr>\n",
       "      <th>1</th>\n",
       "      <td>0.009162</td>\n",
       "      <td>0.052174</td>\n",
       "      <td>0.052450</td>\n",
       "      <td>0.246235</td>\n",
       "      <td>0.057680</td>\n",
       "      <td>0.000010</td>\n",
       "      <td>0.000010</td>\n",
       "      <td>0.416426</td>\n",
       "      <td>0.165853</td>\n",
       "      <td>1</td>\n",
       "      <td>...</td>\n",
       "      <td>Brahui</td>\n",
       "      <td>1</td>\n",
       "      <td>1061166</td>\n",
       "      <td>22629057</td>\n",
       "      <td>Brahui</td>\n",
       "      <td>2</td>\n",
       "      <td>HGDP00003</td>\n",
       "      <td>Tatars_1</td>\n",
       "      <td>56.741362</td>\n",
       "      <td>32.101504</td>\n",
       "    </tr>\n",
       "    <tr>\n",
       "      <th>2</th>\n",
       "      <td>0.189324</td>\n",
       "      <td>0.000010</td>\n",
       "      <td>0.000010</td>\n",
       "      <td>0.091682</td>\n",
       "      <td>0.015396</td>\n",
       "      <td>0.000010</td>\n",
       "      <td>0.132960</td>\n",
       "      <td>0.490148</td>\n",
       "      <td>0.080459</td>\n",
       "      <td>1</td>\n",
       "      <td>...</td>\n",
       "      <td>Brahui</td>\n",
       "      <td>1</td>\n",
       "      <td>1061166</td>\n",
       "      <td>22629057</td>\n",
       "      <td>Brahui</td>\n",
       "      <td>3</td>\n",
       "      <td>HGDP00005</td>\n",
       "      <td>Finnish_1</td>\n",
       "      <td>60.015120</td>\n",
       "      <td>34.861537</td>\n",
       "    </tr>\n",
       "    <tr>\n",
       "      <th>3</th>\n",
       "      <td>0.172040</td>\n",
       "      <td>0.000010</td>\n",
       "      <td>0.050372</td>\n",
       "      <td>0.193109</td>\n",
       "      <td>0.000013</td>\n",
       "      <td>0.007881</td>\n",
       "      <td>0.038743</td>\n",
       "      <td>0.537821</td>\n",
       "      <td>0.000010</td>\n",
       "      <td>1</td>\n",
       "      <td>...</td>\n",
       "      <td>Brahui</td>\n",
       "      <td>1</td>\n",
       "      <td>1061166</td>\n",
       "      <td>22629057</td>\n",
       "      <td>Brahui</td>\n",
       "      <td>4</td>\n",
       "      <td>HGDP00007</td>\n",
       "      <td>Finnish_1</td>\n",
       "      <td>60.653373</td>\n",
       "      <td>32.265769</td>\n",
       "    </tr>\n",
       "    <tr>\n",
       "      <th>4</th>\n",
       "      <td>0.277328</td>\n",
       "      <td>0.055216</td>\n",
       "      <td>0.000010</td>\n",
       "      <td>0.089922</td>\n",
       "      <td>0.000010</td>\n",
       "      <td>0.000010</td>\n",
       "      <td>0.143065</td>\n",
       "      <td>0.434429</td>\n",
       "      <td>0.000010</td>\n",
       "      <td>1</td>\n",
       "      <td>...</td>\n",
       "      <td>Brahui</td>\n",
       "      <td>1</td>\n",
       "      <td>1061166</td>\n",
       "      <td>22629057</td>\n",
       "      <td>Brahui</td>\n",
       "      <td>5</td>\n",
       "      <td>HGDP00011</td>\n",
       "      <td>Tatars_2</td>\n",
       "      <td>58.284928</td>\n",
       "      <td>40.256009</td>\n",
       "    </tr>\n",
       "  </tbody>\n",
       "</table>\n",
       "<p>5 rows × 22 columns</p>\n",
       "</div>"
      ],
      "text/plain": [
       "   Admixture1  Admixture2  Admixture3  Admixture4  Admixture5  Admixture6  \\\n",
       "0    0.166067    0.137783    0.035062    0.236366    0.132851    0.000011   \n",
       "1    0.009162    0.052174    0.052450    0.246235    0.057680    0.000010   \n",
       "2    0.189324    0.000010    0.000010    0.091682    0.015396    0.000010   \n",
       "3    0.172040    0.000010    0.050372    0.193109    0.000013    0.007881   \n",
       "4    0.277328    0.055216    0.000010    0.089922    0.000010    0.000010   \n",
       "\n",
       "   Admixture7  Admixture8  Admixture9 window  ...  GROUP_ID chromosome  \\\n",
       "0    0.012957    0.278893    0.000010      1  ...    Brahui          1   \n",
       "1    0.000010    0.416426    0.165853      1  ...    Brahui          1   \n",
       "2    0.132960    0.490148    0.080459      1  ...    Brahui          1   \n",
       "3    0.038743    0.537821    0.000010      1  ...    Brahui          1   \n",
       "4    0.143065    0.434429    0.000010      1  ...    Brahui          1   \n",
       "\n",
       "  start_pos   end_pos  Population  Sample_no  Sample_id  Prediction  \\\n",
       "0   1061166  22629057      Brahui          1  HGDP00001    Tatars_2   \n",
       "1   1061166  22629057      Brahui          2  HGDP00003    Tatars_1   \n",
       "2   1061166  22629057      Brahui          3  HGDP00005   Finnish_1   \n",
       "3   1061166  22629057      Brahui          4  HGDP00007   Finnish_1   \n",
       "4   1061166  22629057      Brahui          5  HGDP00011    Tatars_2   \n",
       "\n",
       "         Lat        Lon  \n",
       "0  53.161599  51.400428  \n",
       "1  56.741362  32.101504  \n",
       "2  60.015120  34.861537  \n",
       "3  60.653373  32.265769  \n",
       "4  58.284928  40.256009  \n",
       "\n",
       "[5 rows x 22 columns]"
      ]
     },
     "execution_count": 9,
     "metadata": {},
     "output_type": "execute_result"
    }
   ],
   "source": [
    "full_df = pd.concat([combined_df,gps_df],axis=1)\n",
    "full_df = full_df.loc[:, ~full_df.columns.duplicated()]\n",
    "full_df.head()"
   ]
  },
  {
   "cell_type": "code",
   "execution_count": 10,
   "metadata": {},
   "outputs": [],
   "source": [
    "temp_df = full_df.copy()\n",
    "temp_df['row'] = temp_df.groupby('Sample_id').cumcount()  # Assign row index (0-55)\n",
    "temp_df.drop(columns=['GROUP_ID'],axis=1,inplace=True)\n",
    "\n",
    "# Set MultiIndex\n",
    "temp_df = temp_df.set_index(['Sample_id', 'row']).sort_index()\n",
    "temp_df = temp_df[~temp_df['chromosome'].astype(str).str.contains(',')]\n",
    "\n",
    "# Display result\n",
    "test_case = temp_df.head(60)  # First few rows"
   ]
  },
  {
   "cell_type": "markdown",
   "metadata": {},
   "source": [
    "## Step 3: Merging Ancestry Segments"
   ]
  },
  {
   "cell_type": "code",
   "execution_count": 11,
   "metadata": {},
   "outputs": [
    {
     "data": {
      "text/html": [
       "<div>\n",
       "<style scoped>\n",
       "    .dataframe tbody tr th:only-of-type {\n",
       "        vertical-align: middle;\n",
       "    }\n",
       "\n",
       "    .dataframe tbody tr th {\n",
       "        vertical-align: top;\n",
       "    }\n",
       "\n",
       "    .dataframe thead th {\n",
       "        text-align: right;\n",
       "    }\n",
       "</style>\n",
       "<table border=\"1\" class=\"dataframe\">\n",
       "  <thead>\n",
       "    <tr style=\"text-align: right;\">\n",
       "      <th></th>\n",
       "      <th>SAMPLE_ID</th>\n",
       "      <th>individual</th>\n",
       "      <th>chromosome</th>\n",
       "      <th>start_pos</th>\n",
       "      <th>end_pos</th>\n",
       "      <th>Prediction</th>\n",
       "      <th>Population</th>\n",
       "      <th>Lat</th>\n",
       "      <th>Lon</th>\n",
       "      <th>Admixture1</th>\n",
       "      <th>Admixture2</th>\n",
       "      <th>Admixture3</th>\n",
       "      <th>Admixture4</th>\n",
       "      <th>Admixture5</th>\n",
       "      <th>Admixture6</th>\n",
       "      <th>Admixture7</th>\n",
       "      <th>Admixture8</th>\n",
       "      <th>Admixture9</th>\n",
       "    </tr>\n",
       "  </thead>\n",
       "  <tbody>\n",
       "    <tr>\n",
       "      <th>0</th>\n",
       "      <td>HGDP00001</td>\n",
       "      <td>1</td>\n",
       "      <td>1</td>\n",
       "      <td>1061166</td>\n",
       "      <td>50722989</td>\n",
       "      <td>Tatars_2</td>\n",
       "      <td>Brahui</td>\n",
       "      <td>55.905289</td>\n",
       "      <td>45.338307</td>\n",
       "      <td>0.152809</td>\n",
       "      <td>0.089550</td>\n",
       "      <td>0.017739</td>\n",
       "      <td>0.216834</td>\n",
       "      <td>0.079136</td>\n",
       "      <td>0.031447</td>\n",
       "      <td>0.006483</td>\n",
       "      <td>0.364705</td>\n",
       "      <td>0.041295</td>\n",
       "    </tr>\n",
       "    <tr>\n",
       "      <th>1</th>\n",
       "      <td>HGDP00001</td>\n",
       "      <td>1</td>\n",
       "      <td>1</td>\n",
       "      <td>50757885</td>\n",
       "      <td>100050789</td>\n",
       "      <td>Altaians_4</td>\n",
       "      <td>Brahui</td>\n",
       "      <td>49.639363</td>\n",
       "      <td>77.548065</td>\n",
       "      <td>0.399954</td>\n",
       "      <td>0.023092</td>\n",
       "      <td>0.074883</td>\n",
       "      <td>0.030503</td>\n",
       "      <td>0.007920</td>\n",
       "      <td>0.012486</td>\n",
       "      <td>0.057318</td>\n",
       "      <td>0.319434</td>\n",
       "      <td>0.074411</td>\n",
       "    </tr>\n",
       "    <tr>\n",
       "      <th>2</th>\n",
       "      <td>HGDP00001</td>\n",
       "      <td>1</td>\n",
       "      <td>1</td>\n",
       "      <td>100051668</td>\n",
       "      <td>185344764</td>\n",
       "      <td>Tatars_2</td>\n",
       "      <td>Brahui</td>\n",
       "      <td>56.775267</td>\n",
       "      <td>49.379509</td>\n",
       "      <td>0.325240</td>\n",
       "      <td>0.021357</td>\n",
       "      <td>0.000010</td>\n",
       "      <td>0.078481</td>\n",
       "      <td>0.066444</td>\n",
       "      <td>0.026460</td>\n",
       "      <td>0.007491</td>\n",
       "      <td>0.399812</td>\n",
       "      <td>0.074706</td>\n",
       "    </tr>\n",
       "    <tr>\n",
       "      <th>3</th>\n",
       "      <td>HGDP00001</td>\n",
       "      <td>1</td>\n",
       "      <td>1</td>\n",
       "      <td>185410975</td>\n",
       "      <td>211776439</td>\n",
       "      <td>Altaians_4</td>\n",
       "      <td>Brahui</td>\n",
       "      <td>54.436350</td>\n",
       "      <td>62.700449</td>\n",
       "      <td>0.381519</td>\n",
       "      <td>0.000010</td>\n",
       "      <td>0.000010</td>\n",
       "      <td>0.000010</td>\n",
       "      <td>0.130543</td>\n",
       "      <td>0.000327</td>\n",
       "      <td>0.077793</td>\n",
       "      <td>0.389670</td>\n",
       "      <td>0.020118</td>\n",
       "    </tr>\n",
       "    <tr>\n",
       "      <th>4</th>\n",
       "      <td>HGDP00001</td>\n",
       "      <td>1</td>\n",
       "      <td>1</td>\n",
       "      <td>211785065</td>\n",
       "      <td>230894365</td>\n",
       "      <td>Finnish_1</td>\n",
       "      <td>Brahui</td>\n",
       "      <td>60.904016</td>\n",
       "      <td>21.054910</td>\n",
       "      <td>0.003562</td>\n",
       "      <td>0.000010</td>\n",
       "      <td>0.000010</td>\n",
       "      <td>0.056238</td>\n",
       "      <td>0.000010</td>\n",
       "      <td>0.000010</td>\n",
       "      <td>0.129396</td>\n",
       "      <td>0.810754</td>\n",
       "      <td>0.000010</td>\n",
       "    </tr>\n",
       "    <tr>\n",
       "      <th>...</th>\n",
       "      <td>...</td>\n",
       "      <td>...</td>\n",
       "      <td>...</td>\n",
       "      <td>...</td>\n",
       "      <td>...</td>\n",
       "      <td>...</td>\n",
       "      <td>...</td>\n",
       "      <td>...</td>\n",
       "      <td>...</td>\n",
       "      <td>...</td>\n",
       "      <td>...</td>\n",
       "      <td>...</td>\n",
       "      <td>...</td>\n",
       "      <td>...</td>\n",
       "      <td>...</td>\n",
       "      <td>...</td>\n",
       "      <td>...</td>\n",
       "      <td>...</td>\n",
       "    </tr>\n",
       "    <tr>\n",
       "      <th>18183</th>\n",
       "      <td>SubsaharanAfrican1</td>\n",
       "      <td>1055</td>\n",
       "      <td>5</td>\n",
       "      <td>15571736</td>\n",
       "      <td>175059713</td>\n",
       "      <td>Yoruba_4</td>\n",
       "      <td>SubsaharanAfrican1</td>\n",
       "      <td>7.982425</td>\n",
       "      <td>4.024412</td>\n",
       "      <td>0.000010</td>\n",
       "      <td>0.000010</td>\n",
       "      <td>0.000010</td>\n",
       "      <td>0.000010</td>\n",
       "      <td>0.000010</td>\n",
       "      <td>0.000010</td>\n",
       "      <td>0.000010</td>\n",
       "      <td>0.000010</td>\n",
       "      <td>0.999920</td>\n",
       "    </tr>\n",
       "    <tr>\n",
       "      <th>20553</th>\n",
       "      <td>SubsaharanAfrican1</td>\n",
       "      <td>1055</td>\n",
       "      <td>6</td>\n",
       "      <td>14329647</td>\n",
       "      <td>146960353</td>\n",
       "      <td>Yoruba_4</td>\n",
       "      <td>SubsaharanAfrican1</td>\n",
       "      <td>7.982425</td>\n",
       "      <td>4.024412</td>\n",
       "      <td>0.000010</td>\n",
       "      <td>0.000010</td>\n",
       "      <td>0.000010</td>\n",
       "      <td>0.000010</td>\n",
       "      <td>0.000010</td>\n",
       "      <td>0.000010</td>\n",
       "      <td>0.000010</td>\n",
       "      <td>0.000010</td>\n",
       "      <td>0.999920</td>\n",
       "    </tr>\n",
       "    <tr>\n",
       "      <th>22941</th>\n",
       "      <td>SubsaharanAfrican1</td>\n",
       "      <td>1055</td>\n",
       "      <td>7</td>\n",
       "      <td>3609712</td>\n",
       "      <td>146984783</td>\n",
       "      <td>Yoruba_4</td>\n",
       "      <td>SubsaharanAfrican1</td>\n",
       "      <td>7.982425</td>\n",
       "      <td>4.024412</td>\n",
       "      <td>0.000010</td>\n",
       "      <td>0.000010</td>\n",
       "      <td>0.000010</td>\n",
       "      <td>0.000010</td>\n",
       "      <td>0.000010</td>\n",
       "      <td>0.000010</td>\n",
       "      <td>0.000010</td>\n",
       "      <td>0.000010</td>\n",
       "      <td>0.999920</td>\n",
       "    </tr>\n",
       "    <tr>\n",
       "      <th>25431</th>\n",
       "      <td>SubsaharanAfrican1</td>\n",
       "      <td>1055</td>\n",
       "      <td>8</td>\n",
       "      <td>9375944</td>\n",
       "      <td>126554039</td>\n",
       "      <td>Yoruba_4</td>\n",
       "      <td>SubsaharanAfrican1</td>\n",
       "      <td>7.982425</td>\n",
       "      <td>4.024412</td>\n",
       "      <td>0.000010</td>\n",
       "      <td>0.000010</td>\n",
       "      <td>0.000010</td>\n",
       "      <td>0.000010</td>\n",
       "      <td>0.000010</td>\n",
       "      <td>0.000010</td>\n",
       "      <td>0.000010</td>\n",
       "      <td>0.000010</td>\n",
       "      <td>0.999920</td>\n",
       "    </tr>\n",
       "    <tr>\n",
       "      <th>27852</th>\n",
       "      <td>SubsaharanAfrican1</td>\n",
       "      <td>1055</td>\n",
       "      <td>9</td>\n",
       "      <td>1355061</td>\n",
       "      <td>120088933</td>\n",
       "      <td>Yoruba_4</td>\n",
       "      <td>SubsaharanAfrican1</td>\n",
       "      <td>7.982425</td>\n",
       "      <td>4.024412</td>\n",
       "      <td>0.000010</td>\n",
       "      <td>0.000010</td>\n",
       "      <td>0.000010</td>\n",
       "      <td>0.000010</td>\n",
       "      <td>0.000010</td>\n",
       "      <td>0.000010</td>\n",
       "      <td>0.000010</td>\n",
       "      <td>0.000010</td>\n",
       "      <td>0.999920</td>\n",
       "    </tr>\n",
       "  </tbody>\n",
       "</table>\n",
       "<p>27853 rows × 18 columns</p>\n",
       "</div>"
      ],
      "text/plain": [
       "                SAMPLE_ID  individual chromosome  start_pos    end_pos  \\\n",
       "0               HGDP00001           1          1    1061166   50722989   \n",
       "1               HGDP00001           1          1   50757885  100050789   \n",
       "2               HGDP00001           1          1  100051668  185344764   \n",
       "3               HGDP00001           1          1  185410975  211776439   \n",
       "4               HGDP00001           1          1  211785065  230894365   \n",
       "...                   ...         ...        ...        ...        ...   \n",
       "18183  SubsaharanAfrican1        1055          5   15571736  175059713   \n",
       "20553  SubsaharanAfrican1        1055          6   14329647  146960353   \n",
       "22941  SubsaharanAfrican1        1055          7    3609712  146984783   \n",
       "25431  SubsaharanAfrican1        1055          8    9375944  126554039   \n",
       "27852  SubsaharanAfrican1        1055          9    1355061  120088933   \n",
       "\n",
       "       Prediction          Population        Lat        Lon  Admixture1  \\\n",
       "0        Tatars_2              Brahui  55.905289  45.338307    0.152809   \n",
       "1      Altaians_4              Brahui  49.639363  77.548065    0.399954   \n",
       "2        Tatars_2              Brahui  56.775267  49.379509    0.325240   \n",
       "3      Altaians_4              Brahui  54.436350  62.700449    0.381519   \n",
       "4       Finnish_1              Brahui  60.904016  21.054910    0.003562   \n",
       "...           ...                 ...        ...        ...         ...   \n",
       "18183    Yoruba_4  SubsaharanAfrican1   7.982425   4.024412    0.000010   \n",
       "20553    Yoruba_4  SubsaharanAfrican1   7.982425   4.024412    0.000010   \n",
       "22941    Yoruba_4  SubsaharanAfrican1   7.982425   4.024412    0.000010   \n",
       "25431    Yoruba_4  SubsaharanAfrican1   7.982425   4.024412    0.000010   \n",
       "27852    Yoruba_4  SubsaharanAfrican1   7.982425   4.024412    0.000010   \n",
       "\n",
       "       Admixture2  Admixture3  Admixture4  Admixture5  Admixture6  Admixture7  \\\n",
       "0        0.089550    0.017739    0.216834    0.079136    0.031447    0.006483   \n",
       "1        0.023092    0.074883    0.030503    0.007920    0.012486    0.057318   \n",
       "2        0.021357    0.000010    0.078481    0.066444    0.026460    0.007491   \n",
       "3        0.000010    0.000010    0.000010    0.130543    0.000327    0.077793   \n",
       "4        0.000010    0.000010    0.056238    0.000010    0.000010    0.129396   \n",
       "...           ...         ...         ...         ...         ...         ...   \n",
       "18183    0.000010    0.000010    0.000010    0.000010    0.000010    0.000010   \n",
       "20553    0.000010    0.000010    0.000010    0.000010    0.000010    0.000010   \n",
       "22941    0.000010    0.000010    0.000010    0.000010    0.000010    0.000010   \n",
       "25431    0.000010    0.000010    0.000010    0.000010    0.000010    0.000010   \n",
       "27852    0.000010    0.000010    0.000010    0.000010    0.000010    0.000010   \n",
       "\n",
       "       Admixture8  Admixture9  \n",
       "0        0.364705    0.041295  \n",
       "1        0.319434    0.074411  \n",
       "2        0.399812    0.074706  \n",
       "3        0.389670    0.020118  \n",
       "4        0.810754    0.000010  \n",
       "...           ...         ...  \n",
       "18183    0.000010    0.999920  \n",
       "20553    0.000010    0.999920  \n",
       "22941    0.000010    0.999920  \n",
       "25431    0.000010    0.999920  \n",
       "27852    0.000010    0.999920  \n",
       "\n",
       "[27853 rows x 18 columns]"
      ]
     },
     "execution_count": 11,
     "metadata": {},
     "output_type": "execute_result"
    }
   ],
   "source": [
    "# Assuming temp_df is already loaded\n",
    "temp_df[\"Group\"] = (temp_df[\"Prediction\"] != temp_df[\"Prediction\"].shift()).cumsum()\n",
    "\n",
    "# Define aggregation functions\n",
    "agg_funcs = {\n",
    "    \"start_pos\": \"first\",\n",
    "    \"end_pos\": \"last\",\n",
    "    \"Lat\": \"mean\",\n",
    "    \"Lon\": \"mean\",\n",
    "}\n",
    "\n",
    "# Dynamically find all Admixture columns and set aggregation to mean\n",
    "admixture_cols = temp_df.filter(like=\"Admixture\").columns\n",
    "for col in admixture_cols:\n",
    "    agg_funcs[col] = \"mean\"\n",
    "\n",
    "# Include other columns that should remain unchanged\n",
    "other_cols = [\"SAMPLE_ID\", \"window\", \"individual\",\n",
    "              \"Population\", \"Sample_no\", \"Prediction\"]\n",
    "\n",
    "for col in other_cols:\n",
    "    agg_funcs[col] = \"first\"\n",
    "\n",
    "# Group and aggregate\n",
    "df_merged = temp_df.groupby([\"chromosome\", \"Group\"], as_index=False).agg(agg_funcs)\n",
    "\n",
    "# Drop temporary Group column\n",
    "df_merged.drop(columns=[\"Group\"], inplace=True)\n",
    "\n",
    "# Define the desired column order\n",
    "column_order = [\n",
    "    \"SAMPLE_ID\", \"individual\", \"chromosome\", \"start_pos\", \"end_pos\", \n",
    "    \"Prediction\", \"Population\", \"Lat\", \"Lon\"\n",
    "] + list(temp_df.filter(like=\"Admixture\").columns)\n",
    "\n",
    "# Reorder the dataframe\n",
    "df_merged = df_merged[column_order]\n",
    "df_merged = df_merged.sort_values(by=[\"individual\", \"chromosome\",\"start_pos\"], ascending=[True, True,True])\n",
    "\n",
    "# Display the reordered dataframe\n",
    "df_merged"
   ]
  },
  {
   "cell_type": "code",
   "execution_count": 12,
   "metadata": {},
   "outputs": [
    {
     "data": {
      "text/html": [
       "<div>\n",
       "<style scoped>\n",
       "    .dataframe tbody tr th:only-of-type {\n",
       "        vertical-align: middle;\n",
       "    }\n",
       "\n",
       "    .dataframe tbody tr th {\n",
       "        vertical-align: top;\n",
       "    }\n",
       "\n",
       "    .dataframe thead th {\n",
       "        text-align: right;\n",
       "    }\n",
       "</style>\n",
       "<table border=\"1\" class=\"dataframe\">\n",
       "  <thead>\n",
       "    <tr style=\"text-align: right;\">\n",
       "      <th></th>\n",
       "      <th>SAMPLE_ID</th>\n",
       "      <th>individual</th>\n",
       "      <th>chromosome</th>\n",
       "      <th>start_pos</th>\n",
       "      <th>end_pos</th>\n",
       "      <th>Prediction</th>\n",
       "      <th>Population</th>\n",
       "      <th>Lat</th>\n",
       "      <th>Lon</th>\n",
       "      <th>Admixture1</th>\n",
       "      <th>Admixture2</th>\n",
       "      <th>Admixture3</th>\n",
       "      <th>Admixture4</th>\n",
       "      <th>Admixture5</th>\n",
       "      <th>Admixture6</th>\n",
       "      <th>Admixture7</th>\n",
       "      <th>Admixture8</th>\n",
       "      <th>Admixture9</th>\n",
       "    </tr>\n",
       "  </thead>\n",
       "  <tbody>\n",
       "    <tr>\n",
       "      <th>10020</th>\n",
       "      <td>Mediterranean1</td>\n",
       "      <td>935</td>\n",
       "      <td>2</td>\n",
       "      <td>12589208</td>\n",
       "      <td>229406167</td>\n",
       "      <td>Japan_4</td>\n",
       "      <td>Mediterranean1</td>\n",
       "      <td>41.454938</td>\n",
       "      <td>120.459924</td>\n",
       "      <td>0.99992</td>\n",
       "      <td>0.00001</td>\n",
       "      <td>0.00001</td>\n",
       "      <td>0.00001</td>\n",
       "      <td>0.00001</td>\n",
       "      <td>0.00001</td>\n",
       "      <td>0.00001</td>\n",
       "      <td>0.00001</td>\n",
       "      <td>0.00001</td>\n",
       "    </tr>\n",
       "    <tr>\n",
       "      <th>13874</th>\n",
       "      <td>Mediterranean1</td>\n",
       "      <td>935</td>\n",
       "      <td>3</td>\n",
       "      <td>3846526</td>\n",
       "      <td>193722330</td>\n",
       "      <td>Japan_4</td>\n",
       "      <td>Mediterranean1</td>\n",
       "      <td>41.454938</td>\n",
       "      <td>120.459924</td>\n",
       "      <td>0.99992</td>\n",
       "      <td>0.00001</td>\n",
       "      <td>0.00001</td>\n",
       "      <td>0.00001</td>\n",
       "      <td>0.00001</td>\n",
       "      <td>0.00001</td>\n",
       "      <td>0.00001</td>\n",
       "      <td>0.00001</td>\n",
       "      <td>0.00001</td>\n",
       "    </tr>\n",
       "    <tr>\n",
       "      <th>16307</th>\n",
       "      <td>Mediterranean1</td>\n",
       "      <td>935</td>\n",
       "      <td>4</td>\n",
       "      <td>18473310</td>\n",
       "      <td>185788762</td>\n",
       "      <td>Japan_4</td>\n",
       "      <td>Mediterranean1</td>\n",
       "      <td>41.454938</td>\n",
       "      <td>120.459924</td>\n",
       "      <td>0.99992</td>\n",
       "      <td>0.00001</td>\n",
       "      <td>0.00001</td>\n",
       "      <td>0.00001</td>\n",
       "      <td>0.00001</td>\n",
       "      <td>0.00001</td>\n",
       "      <td>0.00001</td>\n",
       "      <td>0.00001</td>\n",
       "      <td>0.00001</td>\n",
       "    </tr>\n",
       "    <tr>\n",
       "      <th>18175</th>\n",
       "      <td>Mediterranean1</td>\n",
       "      <td>935</td>\n",
       "      <td>5</td>\n",
       "      <td>15571736</td>\n",
       "      <td>175059713</td>\n",
       "      <td>Japan_4</td>\n",
       "      <td>Mediterranean1</td>\n",
       "      <td>41.454938</td>\n",
       "      <td>120.459924</td>\n",
       "      <td>0.99992</td>\n",
       "      <td>0.00001</td>\n",
       "      <td>0.00001</td>\n",
       "      <td>0.00001</td>\n",
       "      <td>0.00001</td>\n",
       "      <td>0.00001</td>\n",
       "      <td>0.00001</td>\n",
       "      <td>0.00001</td>\n",
       "      <td>0.00001</td>\n",
       "    </tr>\n",
       "    <tr>\n",
       "      <th>20545</th>\n",
       "      <td>Mediterranean1</td>\n",
       "      <td>935</td>\n",
       "      <td>6</td>\n",
       "      <td>14329647</td>\n",
       "      <td>146960353</td>\n",
       "      <td>Japan_4</td>\n",
       "      <td>Mediterranean1</td>\n",
       "      <td>41.454938</td>\n",
       "      <td>120.459924</td>\n",
       "      <td>0.99992</td>\n",
       "      <td>0.00001</td>\n",
       "      <td>0.00001</td>\n",
       "      <td>0.00001</td>\n",
       "      <td>0.00001</td>\n",
       "      <td>0.00001</td>\n",
       "      <td>0.00001</td>\n",
       "      <td>0.00001</td>\n",
       "      <td>0.00001</td>\n",
       "    </tr>\n",
       "    <tr>\n",
       "      <th>...</th>\n",
       "      <td>...</td>\n",
       "      <td>...</td>\n",
       "      <td>...</td>\n",
       "      <td>...</td>\n",
       "      <td>...</td>\n",
       "      <td>...</td>\n",
       "      <td>...</td>\n",
       "      <td>...</td>\n",
       "      <td>...</td>\n",
       "      <td>...</td>\n",
       "      <td>...</td>\n",
       "      <td>...</td>\n",
       "      <td>...</td>\n",
       "      <td>...</td>\n",
       "      <td>...</td>\n",
       "      <td>...</td>\n",
       "      <td>...</td>\n",
       "      <td>...</td>\n",
       "    </tr>\n",
       "    <tr>\n",
       "      <th>18183</th>\n",
       "      <td>SubsaharanAfrican1</td>\n",
       "      <td>1055</td>\n",
       "      <td>5</td>\n",
       "      <td>15571736</td>\n",
       "      <td>175059713</td>\n",
       "      <td>Yoruba_4</td>\n",
       "      <td>SubsaharanAfrican1</td>\n",
       "      <td>7.982425</td>\n",
       "      <td>4.024412</td>\n",
       "      <td>0.00001</td>\n",
       "      <td>0.00001</td>\n",
       "      <td>0.00001</td>\n",
       "      <td>0.00001</td>\n",
       "      <td>0.00001</td>\n",
       "      <td>0.00001</td>\n",
       "      <td>0.00001</td>\n",
       "      <td>0.00001</td>\n",
       "      <td>0.99992</td>\n",
       "    </tr>\n",
       "    <tr>\n",
       "      <th>20553</th>\n",
       "      <td>SubsaharanAfrican1</td>\n",
       "      <td>1055</td>\n",
       "      <td>6</td>\n",
       "      <td>14329647</td>\n",
       "      <td>146960353</td>\n",
       "      <td>Yoruba_4</td>\n",
       "      <td>SubsaharanAfrican1</td>\n",
       "      <td>7.982425</td>\n",
       "      <td>4.024412</td>\n",
       "      <td>0.00001</td>\n",
       "      <td>0.00001</td>\n",
       "      <td>0.00001</td>\n",
       "      <td>0.00001</td>\n",
       "      <td>0.00001</td>\n",
       "      <td>0.00001</td>\n",
       "      <td>0.00001</td>\n",
       "      <td>0.00001</td>\n",
       "      <td>0.99992</td>\n",
       "    </tr>\n",
       "    <tr>\n",
       "      <th>22941</th>\n",
       "      <td>SubsaharanAfrican1</td>\n",
       "      <td>1055</td>\n",
       "      <td>7</td>\n",
       "      <td>3609712</td>\n",
       "      <td>146984783</td>\n",
       "      <td>Yoruba_4</td>\n",
       "      <td>SubsaharanAfrican1</td>\n",
       "      <td>7.982425</td>\n",
       "      <td>4.024412</td>\n",
       "      <td>0.00001</td>\n",
       "      <td>0.00001</td>\n",
       "      <td>0.00001</td>\n",
       "      <td>0.00001</td>\n",
       "      <td>0.00001</td>\n",
       "      <td>0.00001</td>\n",
       "      <td>0.00001</td>\n",
       "      <td>0.00001</td>\n",
       "      <td>0.99992</td>\n",
       "    </tr>\n",
       "    <tr>\n",
       "      <th>25431</th>\n",
       "      <td>SubsaharanAfrican1</td>\n",
       "      <td>1055</td>\n",
       "      <td>8</td>\n",
       "      <td>9375944</td>\n",
       "      <td>126554039</td>\n",
       "      <td>Yoruba_4</td>\n",
       "      <td>SubsaharanAfrican1</td>\n",
       "      <td>7.982425</td>\n",
       "      <td>4.024412</td>\n",
       "      <td>0.00001</td>\n",
       "      <td>0.00001</td>\n",
       "      <td>0.00001</td>\n",
       "      <td>0.00001</td>\n",
       "      <td>0.00001</td>\n",
       "      <td>0.00001</td>\n",
       "      <td>0.00001</td>\n",
       "      <td>0.00001</td>\n",
       "      <td>0.99992</td>\n",
       "    </tr>\n",
       "    <tr>\n",
       "      <th>27852</th>\n",
       "      <td>SubsaharanAfrican1</td>\n",
       "      <td>1055</td>\n",
       "      <td>9</td>\n",
       "      <td>1355061</td>\n",
       "      <td>120088933</td>\n",
       "      <td>Yoruba_4</td>\n",
       "      <td>SubsaharanAfrican1</td>\n",
       "      <td>7.982425</td>\n",
       "      <td>4.024412</td>\n",
       "      <td>0.00001</td>\n",
       "      <td>0.00001</td>\n",
       "      <td>0.00001</td>\n",
       "      <td>0.00001</td>\n",
       "      <td>0.00001</td>\n",
       "      <td>0.00001</td>\n",
       "      <td>0.00001</td>\n",
       "      <td>0.00001</td>\n",
       "      <td>0.99992</td>\n",
       "    </tr>\n",
       "  </tbody>\n",
       "</table>\n",
       "<p>80 rows × 18 columns</p>\n",
       "</div>"
      ],
      "text/plain": [
       "                SAMPLE_ID  individual chromosome  start_pos    end_pos  \\\n",
       "10020      Mediterranean1         935          2   12589208  229406167   \n",
       "13874      Mediterranean1         935          3    3846526  193722330   \n",
       "16307      Mediterranean1         935          4   18473310  185788762   \n",
       "18175      Mediterranean1         935          5   15571736  175059713   \n",
       "20545      Mediterranean1         935          6   14329647  146960353   \n",
       "...                   ...         ...        ...        ...        ...   \n",
       "18183  SubsaharanAfrican1        1055          5   15571736  175059713   \n",
       "20553  SubsaharanAfrican1        1055          6   14329647  146960353   \n",
       "22941  SubsaharanAfrican1        1055          7    3609712  146984783   \n",
       "25431  SubsaharanAfrican1        1055          8    9375944  126554039   \n",
       "27852  SubsaharanAfrican1        1055          9    1355061  120088933   \n",
       "\n",
       "      Prediction          Population        Lat         Lon  Admixture1  \\\n",
       "10020    Japan_4      Mediterranean1  41.454938  120.459924     0.99992   \n",
       "13874    Japan_4      Mediterranean1  41.454938  120.459924     0.99992   \n",
       "16307    Japan_4      Mediterranean1  41.454938  120.459924     0.99992   \n",
       "18175    Japan_4      Mediterranean1  41.454938  120.459924     0.99992   \n",
       "20545    Japan_4      Mediterranean1  41.454938  120.459924     0.99992   \n",
       "...          ...                 ...        ...         ...         ...   \n",
       "18183   Yoruba_4  SubsaharanAfrican1   7.982425    4.024412     0.00001   \n",
       "20553   Yoruba_4  SubsaharanAfrican1   7.982425    4.024412     0.00001   \n",
       "22941   Yoruba_4  SubsaharanAfrican1   7.982425    4.024412     0.00001   \n",
       "25431   Yoruba_4  SubsaharanAfrican1   7.982425    4.024412     0.00001   \n",
       "27852   Yoruba_4  SubsaharanAfrican1   7.982425    4.024412     0.00001   \n",
       "\n",
       "       Admixture2  Admixture3  Admixture4  Admixture5  Admixture6  Admixture7  \\\n",
       "10020     0.00001     0.00001     0.00001     0.00001     0.00001     0.00001   \n",
       "13874     0.00001     0.00001     0.00001     0.00001     0.00001     0.00001   \n",
       "16307     0.00001     0.00001     0.00001     0.00001     0.00001     0.00001   \n",
       "18175     0.00001     0.00001     0.00001     0.00001     0.00001     0.00001   \n",
       "20545     0.00001     0.00001     0.00001     0.00001     0.00001     0.00001   \n",
       "...           ...         ...         ...         ...         ...         ...   \n",
       "18183     0.00001     0.00001     0.00001     0.00001     0.00001     0.00001   \n",
       "20553     0.00001     0.00001     0.00001     0.00001     0.00001     0.00001   \n",
       "22941     0.00001     0.00001     0.00001     0.00001     0.00001     0.00001   \n",
       "25431     0.00001     0.00001     0.00001     0.00001     0.00001     0.00001   \n",
       "27852     0.00001     0.00001     0.00001     0.00001     0.00001     0.00001   \n",
       "\n",
       "       Admixture8  Admixture9  \n",
       "10020     0.00001     0.00001  \n",
       "13874     0.00001     0.00001  \n",
       "16307     0.00001     0.00001  \n",
       "18175     0.00001     0.00001  \n",
       "20545     0.00001     0.00001  \n",
       "...           ...         ...  \n",
       "18183     0.00001     0.99992  \n",
       "20553     0.00001     0.99992  \n",
       "22941     0.00001     0.99992  \n",
       "25431     0.00001     0.99992  \n",
       "27852     0.00001     0.99992  \n",
       "\n",
       "[80 rows x 18 columns]"
      ]
     },
     "execution_count": 12,
     "metadata": {},
     "output_type": "execute_result"
    }
   ],
   "source": [
    "df_merged.tail(80)"
   ]
  },
  {
   "cell_type": "markdown",
   "metadata": {},
   "source": [
    "## Step 4: Visualzation"
   ]
  },
  {
   "cell_type": "markdown",
   "metadata": {},
   "source": [
    "## Chromosome Plots"
   ]
  },
  {
   "cell_type": "code",
   "execution_count": 13,
   "metadata": {},
   "outputs": [
    {
     "data": {
      "text/html": [
       "<div>\n",
       "<style scoped>\n",
       "    .dataframe tbody tr th:only-of-type {\n",
       "        vertical-align: middle;\n",
       "    }\n",
       "\n",
       "    .dataframe tbody tr th {\n",
       "        vertical-align: top;\n",
       "    }\n",
       "\n",
       "    .dataframe thead th {\n",
       "        text-align: right;\n",
       "    }\n",
       "</style>\n",
       "<table border=\"1\" class=\"dataframe\">\n",
       "  <thead>\n",
       "    <tr style=\"text-align: right;\">\n",
       "      <th></th>\n",
       "      <th>SAMPLE_ID</th>\n",
       "      <th>individual</th>\n",
       "      <th>chromosome</th>\n",
       "      <th>start_pos</th>\n",
       "      <th>end_pos</th>\n",
       "      <th>Prediction</th>\n",
       "      <th>Population</th>\n",
       "      <th>Lat</th>\n",
       "      <th>Lon</th>\n",
       "      <th>Admixture1</th>\n",
       "      <th>Admixture2</th>\n",
       "      <th>Admixture3</th>\n",
       "      <th>Admixture4</th>\n",
       "      <th>Admixture5</th>\n",
       "      <th>Admixture6</th>\n",
       "      <th>Admixture7</th>\n",
       "      <th>Admixture8</th>\n",
       "      <th>Admixture9</th>\n",
       "    </tr>\n",
       "  </thead>\n",
       "  <tbody>\n",
       "    <tr>\n",
       "      <th>57</th>\n",
       "      <td>HGDP00021</td>\n",
       "      <td>10</td>\n",
       "      <td>1</td>\n",
       "      <td>1061166</td>\n",
       "      <td>71556842</td>\n",
       "      <td>Tatars_2</td>\n",
       "      <td>Brahui</td>\n",
       "      <td>56.763733</td>\n",
       "      <td>47.830288</td>\n",
       "      <td>0.309244</td>\n",
       "      <td>0.001775</td>\n",
       "      <td>0.024306</td>\n",
       "      <td>0.035307</td>\n",
       "      <td>0.077200</td>\n",
       "      <td>0.028757</td>\n",
       "      <td>0.068404</td>\n",
       "      <td>0.383985</td>\n",
       "      <td>0.071021</td>\n",
       "    </tr>\n",
       "    <tr>\n",
       "      <th>58</th>\n",
       "      <td>HGDP00021</td>\n",
       "      <td>10</td>\n",
       "      <td>1</td>\n",
       "      <td>71590877</td>\n",
       "      <td>100050789</td>\n",
       "      <td>Altaians_4</td>\n",
       "      <td>Brahui</td>\n",
       "      <td>50.233120</td>\n",
       "      <td>86.588286</td>\n",
       "      <td>0.474894</td>\n",
       "      <td>0.027756</td>\n",
       "      <td>0.000010</td>\n",
       "      <td>0.157944</td>\n",
       "      <td>0.000010</td>\n",
       "      <td>0.048879</td>\n",
       "      <td>0.000010</td>\n",
       "      <td>0.257492</td>\n",
       "      <td>0.033006</td>\n",
       "    </tr>\n",
       "    <tr>\n",
       "      <th>59</th>\n",
       "      <td>HGDP00021</td>\n",
       "      <td>10</td>\n",
       "      <td>1</td>\n",
       "      <td>100051668</td>\n",
       "      <td>185344764</td>\n",
       "      <td>Tatars_2</td>\n",
       "      <td>Brahui</td>\n",
       "      <td>58.162374</td>\n",
       "      <td>41.570558</td>\n",
       "      <td>0.285486</td>\n",
       "      <td>0.000010</td>\n",
       "      <td>0.000010</td>\n",
       "      <td>0.166253</td>\n",
       "      <td>0.053178</td>\n",
       "      <td>0.003635</td>\n",
       "      <td>0.000010</td>\n",
       "      <td>0.472241</td>\n",
       "      <td>0.019176</td>\n",
       "    </tr>\n",
       "    <tr>\n",
       "      <th>60</th>\n",
       "      <td>HGDP00021</td>\n",
       "      <td>10</td>\n",
       "      <td>1</td>\n",
       "      <td>185410975</td>\n",
       "      <td>211776439</td>\n",
       "      <td>Finnish_1</td>\n",
       "      <td>Brahui</td>\n",
       "      <td>61.335769</td>\n",
       "      <td>26.266626</td>\n",
       "      <td>0.143214</td>\n",
       "      <td>0.000010</td>\n",
       "      <td>0.000010</td>\n",
       "      <td>0.016461</td>\n",
       "      <td>0.137687</td>\n",
       "      <td>0.040895</td>\n",
       "      <td>0.037510</td>\n",
       "      <td>0.624203</td>\n",
       "      <td>0.000010</td>\n",
       "    </tr>\n",
       "    <tr>\n",
       "      <th>61</th>\n",
       "      <td>HGDP00021</td>\n",
       "      <td>10</td>\n",
       "      <td>1</td>\n",
       "      <td>211785065</td>\n",
       "      <td>230894365</td>\n",
       "      <td>Tatars_4</td>\n",
       "      <td>Brahui</td>\n",
       "      <td>54.986374</td>\n",
       "      <td>42.745076</td>\n",
       "      <td>0.175145</td>\n",
       "      <td>0.209066</td>\n",
       "      <td>0.000011</td>\n",
       "      <td>0.131271</td>\n",
       "      <td>0.000010</td>\n",
       "      <td>0.065682</td>\n",
       "      <td>0.103300</td>\n",
       "      <td>0.315505</td>\n",
       "      <td>0.000010</td>\n",
       "    </tr>\n",
       "    <tr>\n",
       "      <th>62</th>\n",
       "      <td>HGDP00021</td>\n",
       "      <td>10</td>\n",
       "      <td>1</td>\n",
       "      <td>230906954</td>\n",
       "      <td>245770642</td>\n",
       "      <td>Tatars_2</td>\n",
       "      <td>Brahui</td>\n",
       "      <td>56.942701</td>\n",
       "      <td>46.779704</td>\n",
       "      <td>0.269670</td>\n",
       "      <td>0.000010</td>\n",
       "      <td>0.135518</td>\n",
       "      <td>0.162474</td>\n",
       "      <td>0.000010</td>\n",
       "      <td>0.000010</td>\n",
       "      <td>0.000010</td>\n",
       "      <td>0.364694</td>\n",
       "      <td>0.067605</td>\n",
       "    </tr>\n",
       "    <tr>\n",
       "      <th>5014</th>\n",
       "      <td>HGDP00021</td>\n",
       "      <td>10</td>\n",
       "      <td>2</td>\n",
       "      <td>12589208</td>\n",
       "      <td>50975185</td>\n",
       "      <td>Tatars_2</td>\n",
       "      <td>Brahui</td>\n",
       "      <td>57.643467</td>\n",
       "      <td>42.479475</td>\n",
       "      <td>0.160343</td>\n",
       "      <td>0.037613</td>\n",
       "      <td>0.000010</td>\n",
       "      <td>0.223073</td>\n",
       "      <td>0.015677</td>\n",
       "      <td>0.000010</td>\n",
       "      <td>0.114313</td>\n",
       "      <td>0.392222</td>\n",
       "      <td>0.056742</td>\n",
       "    </tr>\n",
       "    <tr>\n",
       "      <th>5015</th>\n",
       "      <td>HGDP00021</td>\n",
       "      <td>10</td>\n",
       "      <td>2</td>\n",
       "      <td>50976485</td>\n",
       "      <td>103123301</td>\n",
       "      <td>Finnish_1</td>\n",
       "      <td>Brahui</td>\n",
       "      <td>60.502000</td>\n",
       "      <td>32.752626</td>\n",
       "      <td>0.260841</td>\n",
       "      <td>0.000010</td>\n",
       "      <td>0.000010</td>\n",
       "      <td>0.050314</td>\n",
       "      <td>0.056185</td>\n",
       "      <td>0.000010</td>\n",
       "      <td>0.054946</td>\n",
       "      <td>0.577673</td>\n",
       "      <td>0.000010</td>\n",
       "    </tr>\n",
       "    <tr>\n",
       "      <th>5016</th>\n",
       "      <td>HGDP00021</td>\n",
       "      <td>10</td>\n",
       "      <td>2</td>\n",
       "      <td>103176411</td>\n",
       "      <td>130665622</td>\n",
       "      <td>Tatars_2</td>\n",
       "      <td>Brahui</td>\n",
       "      <td>58.061589</td>\n",
       "      <td>42.956811</td>\n",
       "      <td>0.311196</td>\n",
       "      <td>0.000010</td>\n",
       "      <td>0.061522</td>\n",
       "      <td>0.084630</td>\n",
       "      <td>0.078176</td>\n",
       "      <td>0.000010</td>\n",
       "      <td>0.000010</td>\n",
       "      <td>0.461407</td>\n",
       "      <td>0.003039</td>\n",
       "    </tr>\n",
       "    <tr>\n",
       "      <th>5017</th>\n",
       "      <td>HGDP00021</td>\n",
       "      <td>10</td>\n",
       "      <td>2</td>\n",
       "      <td>131063169</td>\n",
       "      <td>153872845</td>\n",
       "      <td>Finnish_2</td>\n",
       "      <td>Brahui</td>\n",
       "      <td>60.279164</td>\n",
       "      <td>33.931368</td>\n",
       "      <td>0.109370</td>\n",
       "      <td>0.000010</td>\n",
       "      <td>0.000010</td>\n",
       "      <td>0.325140</td>\n",
       "      <td>0.000010</td>\n",
       "      <td>0.000010</td>\n",
       "      <td>0.044089</td>\n",
       "      <td>0.521351</td>\n",
       "      <td>0.000010</td>\n",
       "    </tr>\n",
       "    <tr>\n",
       "      <th>5018</th>\n",
       "      <td>HGDP00021</td>\n",
       "      <td>10</td>\n",
       "      <td>2</td>\n",
       "      <td>153881453</td>\n",
       "      <td>176921784</td>\n",
       "      <td>Tatars_2</td>\n",
       "      <td>Brahui</td>\n",
       "      <td>51.717620</td>\n",
       "      <td>57.574725</td>\n",
       "      <td>0.244007</td>\n",
       "      <td>0.000010</td>\n",
       "      <td>0.170823</td>\n",
       "      <td>0.236726</td>\n",
       "      <td>0.059492</td>\n",
       "      <td>0.034471</td>\n",
       "      <td>0.000017</td>\n",
       "      <td>0.254445</td>\n",
       "      <td>0.000010</td>\n",
       "    </tr>\n",
       "    <tr>\n",
       "      <th>5019</th>\n",
       "      <td>HGDP00021</td>\n",
       "      <td>10</td>\n",
       "      <td>2</td>\n",
       "      <td>177008914</td>\n",
       "      <td>205974111</td>\n",
       "      <td>Altaians_3</td>\n",
       "      <td>Brahui</td>\n",
       "      <td>45.829760</td>\n",
       "      <td>105.366259</td>\n",
       "      <td>0.587490</td>\n",
       "      <td>0.000010</td>\n",
       "      <td>0.000010</td>\n",
       "      <td>0.000010</td>\n",
       "      <td>0.000010</td>\n",
       "      <td>0.000010</td>\n",
       "      <td>0.000010</td>\n",
       "      <td>0.263686</td>\n",
       "      <td>0.148764</td>\n",
       "    </tr>\n",
       "    <tr>\n",
       "      <th>5020</th>\n",
       "      <td>HGDP00021</td>\n",
       "      <td>10</td>\n",
       "      <td>2</td>\n",
       "      <td>206023947</td>\n",
       "      <td>229406167</td>\n",
       "      <td>Finnish_1</td>\n",
       "      <td>Brahui</td>\n",
       "      <td>60.253696</td>\n",
       "      <td>34.096257</td>\n",
       "      <td>0.263615</td>\n",
       "      <td>0.064520</td>\n",
       "      <td>0.009809</td>\n",
       "      <td>0.000013</td>\n",
       "      <td>0.039650</td>\n",
       "      <td>0.000010</td>\n",
       "      <td>0.078729</td>\n",
       "      <td>0.535125</td>\n",
       "      <td>0.008529</td>\n",
       "    </tr>\n",
       "    <tr>\n",
       "      <th>10073</th>\n",
       "      <td>HGDP00021</td>\n",
       "      <td>10</td>\n",
       "      <td>3</td>\n",
       "      <td>3846526</td>\n",
       "      <td>21996586</td>\n",
       "      <td>Tatars_2</td>\n",
       "      <td>Brahui</td>\n",
       "      <td>57.969733</td>\n",
       "      <td>41.325481</td>\n",
       "      <td>0.292638</td>\n",
       "      <td>0.071482</td>\n",
       "      <td>0.000010</td>\n",
       "      <td>0.064483</td>\n",
       "      <td>0.069215</td>\n",
       "      <td>0.036760</td>\n",
       "      <td>0.034366</td>\n",
       "      <td>0.431037</td>\n",
       "      <td>0.000010</td>\n",
       "    </tr>\n",
       "    <tr>\n",
       "      <th>10074</th>\n",
       "      <td>HGDP00021</td>\n",
       "      <td>10</td>\n",
       "      <td>3</td>\n",
       "      <td>22007867</td>\n",
       "      <td>46150400</td>\n",
       "      <td>Altaians_4</td>\n",
       "      <td>Brahui</td>\n",
       "      <td>48.643797</td>\n",
       "      <td>86.954573</td>\n",
       "      <td>0.423167</td>\n",
       "      <td>0.000010</td>\n",
       "      <td>0.053953</td>\n",
       "      <td>0.000568</td>\n",
       "      <td>0.083378</td>\n",
       "      <td>0.157499</td>\n",
       "      <td>0.000010</td>\n",
       "      <td>0.237789</td>\n",
       "      <td>0.043626</td>\n",
       "    </tr>\n",
       "    <tr>\n",
       "      <th>10075</th>\n",
       "      <td>HGDP00021</td>\n",
       "      <td>10</td>\n",
       "      <td>3</td>\n",
       "      <td>46310921</td>\n",
       "      <td>71930936</td>\n",
       "      <td>Meitei_0</td>\n",
       "      <td>Brahui</td>\n",
       "      <td>32.353886</td>\n",
       "      <td>99.856364</td>\n",
       "      <td>0.368254</td>\n",
       "      <td>0.016936</td>\n",
       "      <td>0.000010</td>\n",
       "      <td>0.000010</td>\n",
       "      <td>0.015988</td>\n",
       "      <td>0.116302</td>\n",
       "      <td>0.211932</td>\n",
       "      <td>0.241696</td>\n",
       "      <td>0.028871</td>\n",
       "    </tr>\n",
       "    <tr>\n",
       "      <th>10076</th>\n",
       "      <td>HGDP00021</td>\n",
       "      <td>10</td>\n",
       "      <td>3</td>\n",
       "      <td>71941154</td>\n",
       "      <td>112066141</td>\n",
       "      <td>Tatars_2</td>\n",
       "      <td>Brahui</td>\n",
       "      <td>58.223369</td>\n",
       "      <td>43.134324</td>\n",
       "      <td>0.377565</td>\n",
       "      <td>0.000010</td>\n",
       "      <td>0.000010</td>\n",
       "      <td>0.000010</td>\n",
       "      <td>0.000010</td>\n",
       "      <td>0.000010</td>\n",
       "      <td>0.143473</td>\n",
       "      <td>0.478902</td>\n",
       "      <td>0.000010</td>\n",
       "    </tr>\n",
       "    <tr>\n",
       "      <th>10077</th>\n",
       "      <td>HGDP00021</td>\n",
       "      <td>10</td>\n",
       "      <td>3</td>\n",
       "      <td>112072833</td>\n",
       "      <td>136893356</td>\n",
       "      <td>Finnish_1</td>\n",
       "      <td>Brahui</td>\n",
       "      <td>61.737230</td>\n",
       "      <td>22.552102</td>\n",
       "      <td>0.087760</td>\n",
       "      <td>0.000010</td>\n",
       "      <td>0.000010</td>\n",
       "      <td>0.047266</td>\n",
       "      <td>0.122893</td>\n",
       "      <td>0.039211</td>\n",
       "      <td>0.000010</td>\n",
       "      <td>0.702830</td>\n",
       "      <td>0.000010</td>\n",
       "    </tr>\n",
       "    <tr>\n",
       "      <th>10078</th>\n",
       "      <td>HGDP00021</td>\n",
       "      <td>10</td>\n",
       "      <td>3</td>\n",
       "      <td>136907111</td>\n",
       "      <td>193722330</td>\n",
       "      <td>Tatars_2</td>\n",
       "      <td>Brahui</td>\n",
       "      <td>58.780056</td>\n",
       "      <td>39.782237</td>\n",
       "      <td>0.289960</td>\n",
       "      <td>0.000010</td>\n",
       "      <td>0.000010</td>\n",
       "      <td>0.117837</td>\n",
       "      <td>0.000010</td>\n",
       "      <td>0.000010</td>\n",
       "      <td>0.099613</td>\n",
       "      <td>0.492540</td>\n",
       "      <td>0.000010</td>\n",
       "    </tr>\n",
       "    <tr>\n",
       "      <th>13908</th>\n",
       "      <td>HGDP00021</td>\n",
       "      <td>10</td>\n",
       "      <td>4</td>\n",
       "      <td>18473310</td>\n",
       "      <td>44531665</td>\n",
       "      <td>Tatars_2</td>\n",
       "      <td>Brahui</td>\n",
       "      <td>56.707205</td>\n",
       "      <td>50.658215</td>\n",
       "      <td>0.323906</td>\n",
       "      <td>0.000010</td>\n",
       "      <td>0.105505</td>\n",
       "      <td>0.004566</td>\n",
       "      <td>0.000010</td>\n",
       "      <td>0.000010</td>\n",
       "      <td>0.128389</td>\n",
       "      <td>0.343027</td>\n",
       "      <td>0.094577</td>\n",
       "    </tr>\n",
       "    <tr>\n",
       "      <th>13909</th>\n",
       "      <td>HGDP00021</td>\n",
       "      <td>10</td>\n",
       "      <td>4</td>\n",
       "      <td>44633416</td>\n",
       "      <td>156091935</td>\n",
       "      <td>Altaians_4</td>\n",
       "      <td>Brahui</td>\n",
       "      <td>48.474064</td>\n",
       "      <td>90.415246</td>\n",
       "      <td>0.510262</td>\n",
       "      <td>0.000010</td>\n",
       "      <td>0.100631</td>\n",
       "      <td>0.032505</td>\n",
       "      <td>0.000010</td>\n",
       "      <td>0.000010</td>\n",
       "      <td>0.000010</td>\n",
       "      <td>0.356550</td>\n",
       "      <td>0.000010</td>\n",
       "    </tr>\n",
       "    <tr>\n",
       "      <th>13910</th>\n",
       "      <td>HGDP00021</td>\n",
       "      <td>10</td>\n",
       "      <td>4</td>\n",
       "      <td>156173215</td>\n",
       "      <td>185788762</td>\n",
       "      <td>Tatars_2</td>\n",
       "      <td>Brahui</td>\n",
       "      <td>57.310183</td>\n",
       "      <td>44.851720</td>\n",
       "      <td>0.275519</td>\n",
       "      <td>0.073790</td>\n",
       "      <td>0.047704</td>\n",
       "      <td>0.039698</td>\n",
       "      <td>0.056502</td>\n",
       "      <td>0.008974</td>\n",
       "      <td>0.069363</td>\n",
       "      <td>0.365488</td>\n",
       "      <td>0.062962</td>\n",
       "    </tr>\n",
       "    <tr>\n",
       "      <th>16335</th>\n",
       "      <td>HGDP00021</td>\n",
       "      <td>10</td>\n",
       "      <td>5</td>\n",
       "      <td>15571736</td>\n",
       "      <td>152940728</td>\n",
       "      <td>Tatars_2</td>\n",
       "      <td>Brahui</td>\n",
       "      <td>55.404016</td>\n",
       "      <td>48.497220</td>\n",
       "      <td>0.202572</td>\n",
       "      <td>0.000010</td>\n",
       "      <td>0.074722</td>\n",
       "      <td>0.224848</td>\n",
       "      <td>0.057401</td>\n",
       "      <td>0.023301</td>\n",
       "      <td>0.026311</td>\n",
       "      <td>0.345612</td>\n",
       "      <td>0.045225</td>\n",
       "    </tr>\n",
       "    <tr>\n",
       "      <th>16336</th>\n",
       "      <td>HGDP00021</td>\n",
       "      <td>10</td>\n",
       "      <td>5</td>\n",
       "      <td>152960378</td>\n",
       "      <td>175059713</td>\n",
       "      <td>Altaians_4</td>\n",
       "      <td>Brahui</td>\n",
       "      <td>46.926090</td>\n",
       "      <td>76.584018</td>\n",
       "      <td>0.327171</td>\n",
       "      <td>0.000010</td>\n",
       "      <td>0.000010</td>\n",
       "      <td>0.204771</td>\n",
       "      <td>0.010199</td>\n",
       "      <td>0.023456</td>\n",
       "      <td>0.098447</td>\n",
       "      <td>0.200141</td>\n",
       "      <td>0.135795</td>\n",
       "    </tr>\n",
       "    <tr>\n",
       "      <th>18209</th>\n",
       "      <td>HGDP00021</td>\n",
       "      <td>10</td>\n",
       "      <td>6</td>\n",
       "      <td>14329647</td>\n",
       "      <td>42490522</td>\n",
       "      <td>Tatars_2</td>\n",
       "      <td>Brahui</td>\n",
       "      <td>57.213173</td>\n",
       "      <td>45.532184</td>\n",
       "      <td>0.277718</td>\n",
       "      <td>0.000010</td>\n",
       "      <td>0.000010</td>\n",
       "      <td>0.139736</td>\n",
       "      <td>0.058442</td>\n",
       "      <td>0.042471</td>\n",
       "      <td>0.000010</td>\n",
       "      <td>0.407650</td>\n",
       "      <td>0.073952</td>\n",
       "    </tr>\n",
       "    <tr>\n",
       "      <th>18210</th>\n",
       "      <td>HGDP00021</td>\n",
       "      <td>10</td>\n",
       "      <td>6</td>\n",
       "      <td>42659979</td>\n",
       "      <td>84220770</td>\n",
       "      <td>Altaians_4</td>\n",
       "      <td>Brahui</td>\n",
       "      <td>54.093517</td>\n",
       "      <td>64.255112</td>\n",
       "      <td>0.361640</td>\n",
       "      <td>0.009520</td>\n",
       "      <td>0.000010</td>\n",
       "      <td>0.044175</td>\n",
       "      <td>0.010449</td>\n",
       "      <td>0.113289</td>\n",
       "      <td>0.104033</td>\n",
       "      <td>0.356874</td>\n",
       "      <td>0.000010</td>\n",
       "    </tr>\n",
       "    <tr>\n",
       "      <th>18211</th>\n",
       "      <td>HGDP00021</td>\n",
       "      <td>10</td>\n",
       "      <td>6</td>\n",
       "      <td>84277037</td>\n",
       "      <td>115932103</td>\n",
       "      <td>Tatars_2</td>\n",
       "      <td>Brahui</td>\n",
       "      <td>58.070134</td>\n",
       "      <td>42.975795</td>\n",
       "      <td>0.366785</td>\n",
       "      <td>0.046308</td>\n",
       "      <td>0.000010</td>\n",
       "      <td>0.087378</td>\n",
       "      <td>0.000010</td>\n",
       "      <td>0.002818</td>\n",
       "      <td>0.000010</td>\n",
       "      <td>0.496671</td>\n",
       "      <td>0.000010</td>\n",
       "    </tr>\n",
       "    <tr>\n",
       "      <th>18212</th>\n",
       "      <td>HGDP00021</td>\n",
       "      <td>10</td>\n",
       "      <td>6</td>\n",
       "      <td>116005535</td>\n",
       "      <td>146960353</td>\n",
       "      <td>Altaians_4</td>\n",
       "      <td>Brahui</td>\n",
       "      <td>51.868015</td>\n",
       "      <td>75.873297</td>\n",
       "      <td>0.434846</td>\n",
       "      <td>0.000010</td>\n",
       "      <td>0.033786</td>\n",
       "      <td>0.148048</td>\n",
       "      <td>0.000010</td>\n",
       "      <td>0.000010</td>\n",
       "      <td>0.000010</td>\n",
       "      <td>0.383270</td>\n",
       "      <td>0.000010</td>\n",
       "    </tr>\n",
       "    <tr>\n",
       "      <th>20581</th>\n",
       "      <td>HGDP00021</td>\n",
       "      <td>10</td>\n",
       "      <td>7</td>\n",
       "      <td>3609712</td>\n",
       "      <td>27990391</td>\n",
       "      <td>Finnish_1</td>\n",
       "      <td>Brahui</td>\n",
       "      <td>60.119092</td>\n",
       "      <td>34.414904</td>\n",
       "      <td>0.363031</td>\n",
       "      <td>0.000010</td>\n",
       "      <td>0.000010</td>\n",
       "      <td>0.000010</td>\n",
       "      <td>0.000010</td>\n",
       "      <td>0.007694</td>\n",
       "      <td>0.028076</td>\n",
       "      <td>0.601148</td>\n",
       "      <td>0.000010</td>\n",
       "    </tr>\n",
       "    <tr>\n",
       "      <th>20582</th>\n",
       "      <td>HGDP00021</td>\n",
       "      <td>10</td>\n",
       "      <td>7</td>\n",
       "      <td>28039797</td>\n",
       "      <td>67567429</td>\n",
       "      <td>Tatars_2</td>\n",
       "      <td>Brahui</td>\n",
       "      <td>57.271380</td>\n",
       "      <td>44.974256</td>\n",
       "      <td>0.244914</td>\n",
       "      <td>0.000010</td>\n",
       "      <td>0.070779</td>\n",
       "      <td>0.162282</td>\n",
       "      <td>0.000010</td>\n",
       "      <td>0.000010</td>\n",
       "      <td>0.050714</td>\n",
       "      <td>0.390950</td>\n",
       "      <td>0.080331</td>\n",
       "    </tr>\n",
       "    <tr>\n",
       "      <th>20583</th>\n",
       "      <td>HGDP00021</td>\n",
       "      <td>10</td>\n",
       "      <td>7</td>\n",
       "      <td>67590850</td>\n",
       "      <td>146984783</td>\n",
       "      <td>Finnish_1</td>\n",
       "      <td>Brahui</td>\n",
       "      <td>61.181279</td>\n",
       "      <td>29.585024</td>\n",
       "      <td>0.193694</td>\n",
       "      <td>0.000010</td>\n",
       "      <td>0.003100</td>\n",
       "      <td>0.066690</td>\n",
       "      <td>0.000010</td>\n",
       "      <td>0.030754</td>\n",
       "      <td>0.110273</td>\n",
       "      <td>0.595458</td>\n",
       "      <td>0.000010</td>\n",
       "    </tr>\n",
       "    <tr>\n",
       "      <th>22965</th>\n",
       "      <td>HGDP00021</td>\n",
       "      <td>10</td>\n",
       "      <td>8</td>\n",
       "      <td>9375944</td>\n",
       "      <td>29778575</td>\n",
       "      <td>Tatars_2</td>\n",
       "      <td>Brahui</td>\n",
       "      <td>57.485425</td>\n",
       "      <td>44.780810</td>\n",
       "      <td>0.296228</td>\n",
       "      <td>0.075056</td>\n",
       "      <td>0.122705</td>\n",
       "      <td>0.000010</td>\n",
       "      <td>0.000010</td>\n",
       "      <td>0.048682</td>\n",
       "      <td>0.114594</td>\n",
       "      <td>0.342705</td>\n",
       "      <td>0.000010</td>\n",
       "    </tr>\n",
       "    <tr>\n",
       "      <th>22966</th>\n",
       "      <td>HGDP00021</td>\n",
       "      <td>10</td>\n",
       "      <td>8</td>\n",
       "      <td>29802727</td>\n",
       "      <td>69569483</td>\n",
       "      <td>Altaians_4</td>\n",
       "      <td>Brahui</td>\n",
       "      <td>46.547235</td>\n",
       "      <td>88.255095</td>\n",
       "      <td>0.395923</td>\n",
       "      <td>0.000010</td>\n",
       "      <td>0.086221</td>\n",
       "      <td>0.159868</td>\n",
       "      <td>0.000010</td>\n",
       "      <td>0.000010</td>\n",
       "      <td>0.064073</td>\n",
       "      <td>0.155662</td>\n",
       "      <td>0.138223</td>\n",
       "    </tr>\n",
       "    <tr>\n",
       "      <th>22967</th>\n",
       "      <td>HGDP00021</td>\n",
       "      <td>10</td>\n",
       "      <td>8</td>\n",
       "      <td>69613880</td>\n",
       "      <td>98945834</td>\n",
       "      <td>Mongols_4</td>\n",
       "      <td>Brahui</td>\n",
       "      <td>35.356215</td>\n",
       "      <td>103.205824</td>\n",
       "      <td>0.447036</td>\n",
       "      <td>0.057367</td>\n",
       "      <td>0.000010</td>\n",
       "      <td>0.000010</td>\n",
       "      <td>0.021531</td>\n",
       "      <td>0.000010</td>\n",
       "      <td>0.209738</td>\n",
       "      <td>0.264288</td>\n",
       "      <td>0.000010</td>\n",
       "    </tr>\n",
       "    <tr>\n",
       "      <th>22968</th>\n",
       "      <td>HGDP00021</td>\n",
       "      <td>10</td>\n",
       "      <td>8</td>\n",
       "      <td>99020949</td>\n",
       "      <td>126554039</td>\n",
       "      <td>Finnish_1</td>\n",
       "      <td>Brahui</td>\n",
       "      <td>60.296741</td>\n",
       "      <td>26.488431</td>\n",
       "      <td>0.000010</td>\n",
       "      <td>0.000010</td>\n",
       "      <td>0.017922</td>\n",
       "      <td>0.150379</td>\n",
       "      <td>0.000010</td>\n",
       "      <td>0.057831</td>\n",
       "      <td>0.264171</td>\n",
       "      <td>0.509657</td>\n",
       "      <td>0.000010</td>\n",
       "    </tr>\n",
       "    <tr>\n",
       "      <th>25460</th>\n",
       "      <td>HGDP00021</td>\n",
       "      <td>10</td>\n",
       "      <td>9</td>\n",
       "      <td>1355061</td>\n",
       "      <td>75201354</td>\n",
       "      <td>Tatars_2</td>\n",
       "      <td>Brahui</td>\n",
       "      <td>59.048137</td>\n",
       "      <td>37.541321</td>\n",
       "      <td>0.174482</td>\n",
       "      <td>0.000010</td>\n",
       "      <td>0.011155</td>\n",
       "      <td>0.152023</td>\n",
       "      <td>0.108737</td>\n",
       "      <td>0.015789</td>\n",
       "      <td>0.111041</td>\n",
       "      <td>0.426755</td>\n",
       "      <td>0.000010</td>\n",
       "    </tr>\n",
       "    <tr>\n",
       "      <th>25461</th>\n",
       "      <td>HGDP00021</td>\n",
       "      <td>10</td>\n",
       "      <td>9</td>\n",
       "      <td>75206337</td>\n",
       "      <td>100511331</td>\n",
       "      <td>Finnish_1</td>\n",
       "      <td>Brahui</td>\n",
       "      <td>61.567757</td>\n",
       "      <td>28.540839</td>\n",
       "      <td>0.139962</td>\n",
       "      <td>0.000010</td>\n",
       "      <td>0.000010</td>\n",
       "      <td>0.168160</td>\n",
       "      <td>0.000010</td>\n",
       "      <td>0.000010</td>\n",
       "      <td>0.115644</td>\n",
       "      <td>0.576184</td>\n",
       "      <td>0.000010</td>\n",
       "    </tr>\n",
       "    <tr>\n",
       "      <th>25462</th>\n",
       "      <td>HGDP00021</td>\n",
       "      <td>10</td>\n",
       "      <td>9</td>\n",
       "      <td>100674565</td>\n",
       "      <td>120088933</td>\n",
       "      <td>Tatars_2</td>\n",
       "      <td>Brahui</td>\n",
       "      <td>57.717607</td>\n",
       "      <td>41.919340</td>\n",
       "      <td>0.181013</td>\n",
       "      <td>0.105605</td>\n",
       "      <td>0.018227</td>\n",
       "      <td>0.107060</td>\n",
       "      <td>0.000010</td>\n",
       "      <td>0.000010</td>\n",
       "      <td>0.089170</td>\n",
       "      <td>0.390389</td>\n",
       "      <td>0.108516</td>\n",
       "    </tr>\n",
       "  </tbody>\n",
       "</table>\n",
       "</div>"
      ],
      "text/plain": [
       "       SAMPLE_ID  individual chromosome  start_pos    end_pos  Prediction  \\\n",
       "57     HGDP00021          10          1    1061166   71556842    Tatars_2   \n",
       "58     HGDP00021          10          1   71590877  100050789  Altaians_4   \n",
       "59     HGDP00021          10          1  100051668  185344764    Tatars_2   \n",
       "60     HGDP00021          10          1  185410975  211776439   Finnish_1   \n",
       "61     HGDP00021          10          1  211785065  230894365    Tatars_4   \n",
       "62     HGDP00021          10          1  230906954  245770642    Tatars_2   \n",
       "5014   HGDP00021          10          2   12589208   50975185    Tatars_2   \n",
       "5015   HGDP00021          10          2   50976485  103123301   Finnish_1   \n",
       "5016   HGDP00021          10          2  103176411  130665622    Tatars_2   \n",
       "5017   HGDP00021          10          2  131063169  153872845   Finnish_2   \n",
       "5018   HGDP00021          10          2  153881453  176921784    Tatars_2   \n",
       "5019   HGDP00021          10          2  177008914  205974111  Altaians_3   \n",
       "5020   HGDP00021          10          2  206023947  229406167   Finnish_1   \n",
       "10073  HGDP00021          10          3    3846526   21996586    Tatars_2   \n",
       "10074  HGDP00021          10          3   22007867   46150400  Altaians_4   \n",
       "10075  HGDP00021          10          3   46310921   71930936    Meitei_0   \n",
       "10076  HGDP00021          10          3   71941154  112066141    Tatars_2   \n",
       "10077  HGDP00021          10          3  112072833  136893356   Finnish_1   \n",
       "10078  HGDP00021          10          3  136907111  193722330    Tatars_2   \n",
       "13908  HGDP00021          10          4   18473310   44531665    Tatars_2   \n",
       "13909  HGDP00021          10          4   44633416  156091935  Altaians_4   \n",
       "13910  HGDP00021          10          4  156173215  185788762    Tatars_2   \n",
       "16335  HGDP00021          10          5   15571736  152940728    Tatars_2   \n",
       "16336  HGDP00021          10          5  152960378  175059713  Altaians_4   \n",
       "18209  HGDP00021          10          6   14329647   42490522    Tatars_2   \n",
       "18210  HGDP00021          10          6   42659979   84220770  Altaians_4   \n",
       "18211  HGDP00021          10          6   84277037  115932103    Tatars_2   \n",
       "18212  HGDP00021          10          6  116005535  146960353  Altaians_4   \n",
       "20581  HGDP00021          10          7    3609712   27990391   Finnish_1   \n",
       "20582  HGDP00021          10          7   28039797   67567429    Tatars_2   \n",
       "20583  HGDP00021          10          7   67590850  146984783   Finnish_1   \n",
       "22965  HGDP00021          10          8    9375944   29778575    Tatars_2   \n",
       "22966  HGDP00021          10          8   29802727   69569483  Altaians_4   \n",
       "22967  HGDP00021          10          8   69613880   98945834   Mongols_4   \n",
       "22968  HGDP00021          10          8   99020949  126554039   Finnish_1   \n",
       "25460  HGDP00021          10          9    1355061   75201354    Tatars_2   \n",
       "25461  HGDP00021          10          9   75206337  100511331   Finnish_1   \n",
       "25462  HGDP00021          10          9  100674565  120088933    Tatars_2   \n",
       "\n",
       "      Population        Lat         Lon  Admixture1  Admixture2  Admixture3  \\\n",
       "57        Brahui  56.763733   47.830288    0.309244    0.001775    0.024306   \n",
       "58        Brahui  50.233120   86.588286    0.474894    0.027756    0.000010   \n",
       "59        Brahui  58.162374   41.570558    0.285486    0.000010    0.000010   \n",
       "60        Brahui  61.335769   26.266626    0.143214    0.000010    0.000010   \n",
       "61        Brahui  54.986374   42.745076    0.175145    0.209066    0.000011   \n",
       "62        Brahui  56.942701   46.779704    0.269670    0.000010    0.135518   \n",
       "5014      Brahui  57.643467   42.479475    0.160343    0.037613    0.000010   \n",
       "5015      Brahui  60.502000   32.752626    0.260841    0.000010    0.000010   \n",
       "5016      Brahui  58.061589   42.956811    0.311196    0.000010    0.061522   \n",
       "5017      Brahui  60.279164   33.931368    0.109370    0.000010    0.000010   \n",
       "5018      Brahui  51.717620   57.574725    0.244007    0.000010    0.170823   \n",
       "5019      Brahui  45.829760  105.366259    0.587490    0.000010    0.000010   \n",
       "5020      Brahui  60.253696   34.096257    0.263615    0.064520    0.009809   \n",
       "10073     Brahui  57.969733   41.325481    0.292638    0.071482    0.000010   \n",
       "10074     Brahui  48.643797   86.954573    0.423167    0.000010    0.053953   \n",
       "10075     Brahui  32.353886   99.856364    0.368254    0.016936    0.000010   \n",
       "10076     Brahui  58.223369   43.134324    0.377565    0.000010    0.000010   \n",
       "10077     Brahui  61.737230   22.552102    0.087760    0.000010    0.000010   \n",
       "10078     Brahui  58.780056   39.782237    0.289960    0.000010    0.000010   \n",
       "13908     Brahui  56.707205   50.658215    0.323906    0.000010    0.105505   \n",
       "13909     Brahui  48.474064   90.415246    0.510262    0.000010    0.100631   \n",
       "13910     Brahui  57.310183   44.851720    0.275519    0.073790    0.047704   \n",
       "16335     Brahui  55.404016   48.497220    0.202572    0.000010    0.074722   \n",
       "16336     Brahui  46.926090   76.584018    0.327171    0.000010    0.000010   \n",
       "18209     Brahui  57.213173   45.532184    0.277718    0.000010    0.000010   \n",
       "18210     Brahui  54.093517   64.255112    0.361640    0.009520    0.000010   \n",
       "18211     Brahui  58.070134   42.975795    0.366785    0.046308    0.000010   \n",
       "18212     Brahui  51.868015   75.873297    0.434846    0.000010    0.033786   \n",
       "20581     Brahui  60.119092   34.414904    0.363031    0.000010    0.000010   \n",
       "20582     Brahui  57.271380   44.974256    0.244914    0.000010    0.070779   \n",
       "20583     Brahui  61.181279   29.585024    0.193694    0.000010    0.003100   \n",
       "22965     Brahui  57.485425   44.780810    0.296228    0.075056    0.122705   \n",
       "22966     Brahui  46.547235   88.255095    0.395923    0.000010    0.086221   \n",
       "22967     Brahui  35.356215  103.205824    0.447036    0.057367    0.000010   \n",
       "22968     Brahui  60.296741   26.488431    0.000010    0.000010    0.017922   \n",
       "25460     Brahui  59.048137   37.541321    0.174482    0.000010    0.011155   \n",
       "25461     Brahui  61.567757   28.540839    0.139962    0.000010    0.000010   \n",
       "25462     Brahui  57.717607   41.919340    0.181013    0.105605    0.018227   \n",
       "\n",
       "       Admixture4  Admixture5  Admixture6  Admixture7  Admixture8  Admixture9  \n",
       "57       0.035307    0.077200    0.028757    0.068404    0.383985    0.071021  \n",
       "58       0.157944    0.000010    0.048879    0.000010    0.257492    0.033006  \n",
       "59       0.166253    0.053178    0.003635    0.000010    0.472241    0.019176  \n",
       "60       0.016461    0.137687    0.040895    0.037510    0.624203    0.000010  \n",
       "61       0.131271    0.000010    0.065682    0.103300    0.315505    0.000010  \n",
       "62       0.162474    0.000010    0.000010    0.000010    0.364694    0.067605  \n",
       "5014     0.223073    0.015677    0.000010    0.114313    0.392222    0.056742  \n",
       "5015     0.050314    0.056185    0.000010    0.054946    0.577673    0.000010  \n",
       "5016     0.084630    0.078176    0.000010    0.000010    0.461407    0.003039  \n",
       "5017     0.325140    0.000010    0.000010    0.044089    0.521351    0.000010  \n",
       "5018     0.236726    0.059492    0.034471    0.000017    0.254445    0.000010  \n",
       "5019     0.000010    0.000010    0.000010    0.000010    0.263686    0.148764  \n",
       "5020     0.000013    0.039650    0.000010    0.078729    0.535125    0.008529  \n",
       "10073    0.064483    0.069215    0.036760    0.034366    0.431037    0.000010  \n",
       "10074    0.000568    0.083378    0.157499    0.000010    0.237789    0.043626  \n",
       "10075    0.000010    0.015988    0.116302    0.211932    0.241696    0.028871  \n",
       "10076    0.000010    0.000010    0.000010    0.143473    0.478902    0.000010  \n",
       "10077    0.047266    0.122893    0.039211    0.000010    0.702830    0.000010  \n",
       "10078    0.117837    0.000010    0.000010    0.099613    0.492540    0.000010  \n",
       "13908    0.004566    0.000010    0.000010    0.128389    0.343027    0.094577  \n",
       "13909    0.032505    0.000010    0.000010    0.000010    0.356550    0.000010  \n",
       "13910    0.039698    0.056502    0.008974    0.069363    0.365488    0.062962  \n",
       "16335    0.224848    0.057401    0.023301    0.026311    0.345612    0.045225  \n",
       "16336    0.204771    0.010199    0.023456    0.098447    0.200141    0.135795  \n",
       "18209    0.139736    0.058442    0.042471    0.000010    0.407650    0.073952  \n",
       "18210    0.044175    0.010449    0.113289    0.104033    0.356874    0.000010  \n",
       "18211    0.087378    0.000010    0.002818    0.000010    0.496671    0.000010  \n",
       "18212    0.148048    0.000010    0.000010    0.000010    0.383270    0.000010  \n",
       "20581    0.000010    0.000010    0.007694    0.028076    0.601148    0.000010  \n",
       "20582    0.162282    0.000010    0.000010    0.050714    0.390950    0.080331  \n",
       "20583    0.066690    0.000010    0.030754    0.110273    0.595458    0.000010  \n",
       "22965    0.000010    0.000010    0.048682    0.114594    0.342705    0.000010  \n",
       "22966    0.159868    0.000010    0.000010    0.064073    0.155662    0.138223  \n",
       "22967    0.000010    0.021531    0.000010    0.209738    0.264288    0.000010  \n",
       "22968    0.150379    0.000010    0.057831    0.264171    0.509657    0.000010  \n",
       "25460    0.152023    0.108737    0.015789    0.111041    0.426755    0.000010  \n",
       "25461    0.168160    0.000010    0.000010    0.115644    0.576184    0.000010  \n",
       "25462    0.107060    0.000010    0.000010    0.089170    0.390389    0.108516  "
      ]
     },
     "execution_count": 13,
     "metadata": {},
     "output_type": "execute_result"
    }
   ],
   "source": [
    "test_df = df_merged[df_merged['SAMPLE_ID']==\"HGDP00021\"]\n",
    "test_df"
   ]
  },
  {
   "cell_type": "code",
   "execution_count": 36,
   "metadata": {},
   "outputs": [
    {
     "name": "stderr",
     "output_type": "stream",
     "text": [
      "/tmp/ipykernel_4141152/2832464827.py:2: SettingWithCopyWarning:\n",
      "\n",
      "\n",
      "A value is trying to be set on a copy of a slice from a DataFrame.\n",
      "Try using .loc[row_indexer,col_indexer] = value instead\n",
      "\n",
      "See the caveats in the documentation: https://pandas.pydata.org/pandas-docs/stable/user_guide/indexing.html#returning-a-view-versus-a-copy\n",
      "\n"
     ]
    },
    {
     "data": {
      "application/vnd.plotly.v1+json": {
       "config": {
        "plotlyServerURL": "https://plot.ly"
       },
       "data": [
        {
         "hoverinfo": "text",
         "hoveron": "points+fills",
         "line": {
          "color": "#636EFA",
          "width": 18
         },
         "marker": {
          "opacity": 0,
          "size": 3
         },
         "mode": "lines+markers",
         "name": "Tatars_2",
         "showlegend": true,
         "text": [
          "Sample: HGDP00021<br>Chromosome: 1<br>Position: 1061166<br>Prediction: Tatars_2<br>Population: Brahui",
          "Sample: HGDP00021<br>Chromosome: 1<br>Position: 4771464<br>Prediction: Tatars_2<br>Population: Brahui",
          "Sample: HGDP00021<br>Chromosome: 1<br>Position: 8481763<br>Prediction: Tatars_2<br>Population: Brahui",
          "Sample: HGDP00021<br>Chromosome: 1<br>Position: 12192062<br>Prediction: Tatars_2<br>Population: Brahui",
          "Sample: HGDP00021<br>Chromosome: 1<br>Position: 15902360<br>Prediction: Tatars_2<br>Population: Brahui",
          "Sample: HGDP00021<br>Chromosome: 1<br>Position: 19612659<br>Prediction: Tatars_2<br>Population: Brahui",
          "Sample: HGDP00021<br>Chromosome: 1<br>Position: 23322958<br>Prediction: Tatars_2<br>Population: Brahui",
          "Sample: HGDP00021<br>Chromosome: 1<br>Position: 27033257<br>Prediction: Tatars_2<br>Population: Brahui",
          "Sample: HGDP00021<br>Chromosome: 1<br>Position: 30743555<br>Prediction: Tatars_2<br>Population: Brahui",
          "Sample: HGDP00021<br>Chromosome: 1<br>Position: 34453854<br>Prediction: Tatars_2<br>Population: Brahui",
          "Sample: HGDP00021<br>Chromosome: 1<br>Position: 38164153<br>Prediction: Tatars_2<br>Population: Brahui",
          "Sample: HGDP00021<br>Chromosome: 1<br>Position: 41874452<br>Prediction: Tatars_2<br>Population: Brahui",
          "Sample: HGDP00021<br>Chromosome: 1<br>Position: 45584750<br>Prediction: Tatars_2<br>Population: Brahui",
          "Sample: HGDP00021<br>Chromosome: 1<br>Position: 49295049<br>Prediction: Tatars_2<br>Population: Brahui",
          "Sample: HGDP00021<br>Chromosome: 1<br>Position: 53005348<br>Prediction: Tatars_2<br>Population: Brahui",
          "Sample: HGDP00021<br>Chromosome: 1<br>Position: 56715647<br>Prediction: Tatars_2<br>Population: Brahui",
          "Sample: HGDP00021<br>Chromosome: 1<br>Position: 60425945<br>Prediction: Tatars_2<br>Population: Brahui",
          "Sample: HGDP00021<br>Chromosome: 1<br>Position: 64136244<br>Prediction: Tatars_2<br>Population: Brahui",
          "Sample: HGDP00021<br>Chromosome: 1<br>Position: 67846543<br>Prediction: Tatars_2<br>Population: Brahui",
          "Sample: HGDP00021<br>Chromosome: 1<br>Position: 71556842<br>Prediction: Tatars_2<br>Population: Brahui"
         ],
         "type": "scatter",
         "x": [
          1061166,
          4771464.736842105,
          8481763.47368421,
          12192062.210526315,
          15902360.94736842,
          19612659.684210524,
          23322958.42105263,
          27033257.157894738,
          30743555.89473684,
          34453854.631578945,
          38164153.36842105,
          41874452.10526316,
          45584750.84210526,
          49295049.578947365,
          53005348.315789476,
          56715647.05263158,
          60425945.78947368,
          64136244.526315786,
          67846543.26315789,
          71556842
         ],
         "y": [
          "1",
          "1",
          "1",
          "1",
          "1",
          "1",
          "1",
          "1",
          "1",
          "1",
          "1",
          "1",
          "1",
          "1",
          "1",
          "1",
          "1",
          "1",
          "1",
          "1"
         ]
        },
        {
         "hoverinfo": "text",
         "hoveron": "points+fills",
         "line": {
          "color": "#EF553B",
          "width": 18
         },
         "marker": {
          "opacity": 0,
          "size": 3
         },
         "mode": "lines+markers",
         "name": "Altaians_4",
         "showlegend": true,
         "text": [
          "Sample: HGDP00021<br>Chromosome: 1<br>Position: 71590877<br>Prediction: Altaians_4<br>Population: Brahui",
          "Sample: HGDP00021<br>Chromosome: 1<br>Position: 73088767<br>Prediction: Altaians_4<br>Population: Brahui",
          "Sample: HGDP00021<br>Chromosome: 1<br>Position: 74586657<br>Prediction: Altaians_4<br>Population: Brahui",
          "Sample: HGDP00021<br>Chromosome: 1<br>Position: 76084547<br>Prediction: Altaians_4<br>Population: Brahui",
          "Sample: HGDP00021<br>Chromosome: 1<br>Position: 77582437<br>Prediction: Altaians_4<br>Population: Brahui",
          "Sample: HGDP00021<br>Chromosome: 1<br>Position: 79080327<br>Prediction: Altaians_4<br>Population: Brahui",
          "Sample: HGDP00021<br>Chromosome: 1<br>Position: 80578217<br>Prediction: Altaians_4<br>Population: Brahui",
          "Sample: HGDP00021<br>Chromosome: 1<br>Position: 82076107<br>Prediction: Altaians_4<br>Population: Brahui",
          "Sample: HGDP00021<br>Chromosome: 1<br>Position: 83573997<br>Prediction: Altaians_4<br>Population: Brahui",
          "Sample: HGDP00021<br>Chromosome: 1<br>Position: 85071887<br>Prediction: Altaians_4<br>Population: Brahui",
          "Sample: HGDP00021<br>Chromosome: 1<br>Position: 86569778<br>Prediction: Altaians_4<br>Population: Brahui",
          "Sample: HGDP00021<br>Chromosome: 1<br>Position: 88067668<br>Prediction: Altaians_4<br>Population: Brahui",
          "Sample: HGDP00021<br>Chromosome: 1<br>Position: 89565558<br>Prediction: Altaians_4<br>Population: Brahui",
          "Sample: HGDP00021<br>Chromosome: 1<br>Position: 91063448<br>Prediction: Altaians_4<br>Population: Brahui",
          "Sample: HGDP00021<br>Chromosome: 1<br>Position: 92561338<br>Prediction: Altaians_4<br>Population: Brahui",
          "Sample: HGDP00021<br>Chromosome: 1<br>Position: 94059228<br>Prediction: Altaians_4<br>Population: Brahui",
          "Sample: HGDP00021<br>Chromosome: 1<br>Position: 95557118<br>Prediction: Altaians_4<br>Population: Brahui",
          "Sample: HGDP00021<br>Chromosome: 1<br>Position: 97055008<br>Prediction: Altaians_4<br>Population: Brahui",
          "Sample: HGDP00021<br>Chromosome: 1<br>Position: 98552898<br>Prediction: Altaians_4<br>Population: Brahui",
          "Sample: HGDP00021<br>Chromosome: 1<br>Position: 100050789<br>Prediction: Altaians_4<br>Population: Brahui"
         ],
         "type": "scatter",
         "x": [
          71590877,
          73088767.10526316,
          74586657.21052632,
          76084547.31578948,
          77582437.42105263,
          79080327.5263158,
          80578217.63157895,
          82076107.73684211,
          83573997.84210527,
          85071887.94736843,
          86569778.05263159,
          88067668.15789473,
          89565558.2631579,
          91063448.36842105,
          92561338.4736842,
          94059228.57894737,
          95557118.68421052,
          97055008.78947368,
          98552898.89473684,
          100050789
         ],
         "y": [
          "1",
          "1",
          "1",
          "1",
          "1",
          "1",
          "1",
          "1",
          "1",
          "1",
          "1",
          "1",
          "1",
          "1",
          "1",
          "1",
          "1",
          "1",
          "1",
          "1"
         ]
        },
        {
         "hoverinfo": "text",
         "hoveron": "points+fills",
         "line": {
          "color": "#636EFA",
          "width": 18
         },
         "marker": {
          "opacity": 0,
          "size": 3
         },
         "mode": "lines+markers",
         "showlegend": false,
         "text": [
          "Sample: HGDP00021<br>Chromosome: 1<br>Position: 100051668<br>Prediction: Tatars_2<br>Population: Brahui",
          "Sample: HGDP00021<br>Chromosome: 1<br>Position: 104540778<br>Prediction: Tatars_2<br>Population: Brahui",
          "Sample: HGDP00021<br>Chromosome: 1<br>Position: 109029888<br>Prediction: Tatars_2<br>Population: Brahui",
          "Sample: HGDP00021<br>Chromosome: 1<br>Position: 113518998<br>Prediction: Tatars_2<br>Population: Brahui",
          "Sample: HGDP00021<br>Chromosome: 1<br>Position: 118008109<br>Prediction: Tatars_2<br>Population: Brahui",
          "Sample: HGDP00021<br>Chromosome: 1<br>Position: 122497219<br>Prediction: Tatars_2<br>Population: Brahui",
          "Sample: HGDP00021<br>Chromosome: 1<br>Position: 126986329<br>Prediction: Tatars_2<br>Population: Brahui",
          "Sample: HGDP00021<br>Chromosome: 1<br>Position: 131475440<br>Prediction: Tatars_2<br>Population: Brahui",
          "Sample: HGDP00021<br>Chromosome: 1<br>Position: 135964550<br>Prediction: Tatars_2<br>Population: Brahui",
          "Sample: HGDP00021<br>Chromosome: 1<br>Position: 140453660<br>Prediction: Tatars_2<br>Population: Brahui",
          "Sample: HGDP00021<br>Chromosome: 1<br>Position: 144942771<br>Prediction: Tatars_2<br>Population: Brahui",
          "Sample: HGDP00021<br>Chromosome: 1<br>Position: 149431881<br>Prediction: Tatars_2<br>Population: Brahui",
          "Sample: HGDP00021<br>Chromosome: 1<br>Position: 153920991<br>Prediction: Tatars_2<br>Population: Brahui",
          "Sample: HGDP00021<br>Chromosome: 1<br>Position: 158410102<br>Prediction: Tatars_2<br>Population: Brahui",
          "Sample: HGDP00021<br>Chromosome: 1<br>Position: 162899212<br>Prediction: Tatars_2<br>Population: Brahui",
          "Sample: HGDP00021<br>Chromosome: 1<br>Position: 167388322<br>Prediction: Tatars_2<br>Population: Brahui",
          "Sample: HGDP00021<br>Chromosome: 1<br>Position: 171877433<br>Prediction: Tatars_2<br>Population: Brahui",
          "Sample: HGDP00021<br>Chromosome: 1<br>Position: 176366543<br>Prediction: Tatars_2<br>Population: Brahui",
          "Sample: HGDP00021<br>Chromosome: 1<br>Position: 180855653<br>Prediction: Tatars_2<br>Population: Brahui",
          "Sample: HGDP00021<br>Chromosome: 1<br>Position: 185344764<br>Prediction: Tatars_2<br>Population: Brahui"
         ],
         "type": "scatter",
         "x": [
          100051668,
          104540778.31578948,
          109029888.63157895,
          113518998.94736841,
          118008109.26315789,
          122497219.57894737,
          126986329.89473684,
          131475440.21052632,
          135964550.52631578,
          140453660.84210527,
          144942771.15789473,
          149431881.4736842,
          153920991.78947368,
          158410102.10526314,
          162899212.42105263,
          167388322.7368421,
          171877433.05263156,
          176366543.36842105,
          180855653.68421054,
          185344764
         ],
         "y": [
          "1",
          "1",
          "1",
          "1",
          "1",
          "1",
          "1",
          "1",
          "1",
          "1",
          "1",
          "1",
          "1",
          "1",
          "1",
          "1",
          "1",
          "1",
          "1",
          "1"
         ]
        },
        {
         "hoverinfo": "text",
         "hoveron": "points+fills",
         "line": {
          "color": "#00CC96",
          "width": 18
         },
         "marker": {
          "opacity": 0,
          "size": 3
         },
         "mode": "lines+markers",
         "name": "Finnish_1",
         "showlegend": true,
         "text": [
          "Sample: HGDP00021<br>Chromosome: 1<br>Position: 185410975<br>Prediction: Finnish_1<br>Population: Brahui",
          "Sample: HGDP00021<br>Chromosome: 1<br>Position: 186798631<br>Prediction: Finnish_1<br>Population: Brahui",
          "Sample: HGDP00021<br>Chromosome: 1<br>Position: 188186287<br>Prediction: Finnish_1<br>Population: Brahui",
          "Sample: HGDP00021<br>Chromosome: 1<br>Position: 189573943<br>Prediction: Finnish_1<br>Population: Brahui",
          "Sample: HGDP00021<br>Chromosome: 1<br>Position: 190961599<br>Prediction: Finnish_1<br>Population: Brahui",
          "Sample: HGDP00021<br>Chromosome: 1<br>Position: 192349255<br>Prediction: Finnish_1<br>Population: Brahui",
          "Sample: HGDP00021<br>Chromosome: 1<br>Position: 193736911<br>Prediction: Finnish_1<br>Population: Brahui",
          "Sample: HGDP00021<br>Chromosome: 1<br>Position: 195124567<br>Prediction: Finnish_1<br>Population: Brahui",
          "Sample: HGDP00021<br>Chromosome: 1<br>Position: 196512223<br>Prediction: Finnish_1<br>Population: Brahui",
          "Sample: HGDP00021<br>Chromosome: 1<br>Position: 197899879<br>Prediction: Finnish_1<br>Population: Brahui",
          "Sample: HGDP00021<br>Chromosome: 1<br>Position: 199287535<br>Prediction: Finnish_1<br>Population: Brahui",
          "Sample: HGDP00021<br>Chromosome: 1<br>Position: 200675191<br>Prediction: Finnish_1<br>Population: Brahui",
          "Sample: HGDP00021<br>Chromosome: 1<br>Position: 202062847<br>Prediction: Finnish_1<br>Population: Brahui",
          "Sample: HGDP00021<br>Chromosome: 1<br>Position: 203450503<br>Prediction: Finnish_1<br>Population: Brahui",
          "Sample: HGDP00021<br>Chromosome: 1<br>Position: 204838159<br>Prediction: Finnish_1<br>Population: Brahui",
          "Sample: HGDP00021<br>Chromosome: 1<br>Position: 206225815<br>Prediction: Finnish_1<br>Population: Brahui",
          "Sample: HGDP00021<br>Chromosome: 1<br>Position: 207613471<br>Prediction: Finnish_1<br>Population: Brahui",
          "Sample: HGDP00021<br>Chromosome: 1<br>Position: 209001127<br>Prediction: Finnish_1<br>Population: Brahui",
          "Sample: HGDP00021<br>Chromosome: 1<br>Position: 210388783<br>Prediction: Finnish_1<br>Population: Brahui",
          "Sample: HGDP00021<br>Chromosome: 1<br>Position: 211776439<br>Prediction: Finnish_1<br>Population: Brahui"
         ],
         "type": "scatter",
         "x": [
          185410975,
          186798631,
          188186287,
          189573943,
          190961599,
          192349255,
          193736911,
          195124567,
          196512223,
          197899879,
          199287535,
          200675191,
          202062847,
          203450503,
          204838159,
          206225815,
          207613471,
          209001127,
          210388783,
          211776439
         ],
         "y": [
          "1",
          "1",
          "1",
          "1",
          "1",
          "1",
          "1",
          "1",
          "1",
          "1",
          "1",
          "1",
          "1",
          "1",
          "1",
          "1",
          "1",
          "1",
          "1",
          "1"
         ]
        },
        {
         "hoverinfo": "text",
         "hoveron": "points+fills",
         "line": {
          "color": "#AB63FA",
          "width": 18
         },
         "marker": {
          "opacity": 0,
          "size": 3
         },
         "mode": "lines+markers",
         "name": "Tatars_4",
         "showlegend": true,
         "text": [
          "Sample: HGDP00021<br>Chromosome: 1<br>Position: 211785065<br>Prediction: Tatars_4<br>Population: Brahui",
          "Sample: HGDP00021<br>Chromosome: 1<br>Position: 212790817<br>Prediction: Tatars_4<br>Population: Brahui",
          "Sample: HGDP00021<br>Chromosome: 1<br>Position: 213796570<br>Prediction: Tatars_4<br>Population: Brahui",
          "Sample: HGDP00021<br>Chromosome: 1<br>Position: 214802322<br>Prediction: Tatars_4<br>Population: Brahui",
          "Sample: HGDP00021<br>Chromosome: 1<br>Position: 215808075<br>Prediction: Tatars_4<br>Population: Brahui",
          "Sample: HGDP00021<br>Chromosome: 1<br>Position: 216813828<br>Prediction: Tatars_4<br>Population: Brahui",
          "Sample: HGDP00021<br>Chromosome: 1<br>Position: 217819580<br>Prediction: Tatars_4<br>Population: Brahui",
          "Sample: HGDP00021<br>Chromosome: 1<br>Position: 218825333<br>Prediction: Tatars_4<br>Population: Brahui",
          "Sample: HGDP00021<br>Chromosome: 1<br>Position: 219831086<br>Prediction: Tatars_4<br>Population: Brahui",
          "Sample: HGDP00021<br>Chromosome: 1<br>Position: 220836838<br>Prediction: Tatars_4<br>Population: Brahui",
          "Sample: HGDP00021<br>Chromosome: 1<br>Position: 221842591<br>Prediction: Tatars_4<br>Population: Brahui",
          "Sample: HGDP00021<br>Chromosome: 1<br>Position: 222848343<br>Prediction: Tatars_4<br>Population: Brahui",
          "Sample: HGDP00021<br>Chromosome: 1<br>Position: 223854096<br>Prediction: Tatars_4<br>Population: Brahui",
          "Sample: HGDP00021<br>Chromosome: 1<br>Position: 224859849<br>Prediction: Tatars_4<br>Population: Brahui",
          "Sample: HGDP00021<br>Chromosome: 1<br>Position: 225865601<br>Prediction: Tatars_4<br>Population: Brahui",
          "Sample: HGDP00021<br>Chromosome: 1<br>Position: 226871354<br>Prediction: Tatars_4<br>Population: Brahui",
          "Sample: HGDP00021<br>Chromosome: 1<br>Position: 227877107<br>Prediction: Tatars_4<br>Population: Brahui",
          "Sample: HGDP00021<br>Chromosome: 1<br>Position: 228882859<br>Prediction: Tatars_4<br>Population: Brahui",
          "Sample: HGDP00021<br>Chromosome: 1<br>Position: 229888612<br>Prediction: Tatars_4<br>Population: Brahui",
          "Sample: HGDP00021<br>Chromosome: 1<br>Position: 230894365<br>Prediction: Tatars_4<br>Population: Brahui"
         ],
         "type": "scatter",
         "x": [
          211785065,
          212790817.63157895,
          213796570.2631579,
          214802322.89473686,
          215808075.52631578,
          216813828.15789473,
          217819580.78947368,
          218825333.42105263,
          219831086.0526316,
          220836838.68421054,
          221842591.31578946,
          222848343.9473684,
          223854096.57894737,
          224859849.21052632,
          225865601.84210527,
          226871354.47368422,
          227877107.10526317,
          228882859.7368421,
          229888612.36842105,
          230894365
         ],
         "y": [
          "1",
          "1",
          "1",
          "1",
          "1",
          "1",
          "1",
          "1",
          "1",
          "1",
          "1",
          "1",
          "1",
          "1",
          "1",
          "1",
          "1",
          "1",
          "1",
          "1"
         ]
        },
        {
         "hoverinfo": "text",
         "hoveron": "points+fills",
         "line": {
          "color": "#636EFA",
          "width": 18
         },
         "marker": {
          "opacity": 0,
          "size": 3
         },
         "mode": "lines+markers",
         "showlegend": false,
         "text": [
          "Sample: HGDP00021<br>Chromosome: 1<br>Position: 230906954<br>Prediction: Tatars_2<br>Population: Brahui",
          "Sample: HGDP00021<br>Chromosome: 1<br>Position: 231689253<br>Prediction: Tatars_2<br>Population: Brahui",
          "Sample: HGDP00021<br>Chromosome: 1<br>Position: 232471552<br>Prediction: Tatars_2<br>Population: Brahui",
          "Sample: HGDP00021<br>Chromosome: 1<br>Position: 233253852<br>Prediction: Tatars_2<br>Population: Brahui",
          "Sample: HGDP00021<br>Chromosome: 1<br>Position: 234036151<br>Prediction: Tatars_2<br>Population: Brahui",
          "Sample: HGDP00021<br>Chromosome: 1<br>Position: 234818450<br>Prediction: Tatars_2<br>Population: Brahui",
          "Sample: HGDP00021<br>Chromosome: 1<br>Position: 235600750<br>Prediction: Tatars_2<br>Population: Brahui",
          "Sample: HGDP00021<br>Chromosome: 1<br>Position: 236383049<br>Prediction: Tatars_2<br>Population: Brahui",
          "Sample: HGDP00021<br>Chromosome: 1<br>Position: 237165348<br>Prediction: Tatars_2<br>Population: Brahui",
          "Sample: HGDP00021<br>Chromosome: 1<br>Position: 237947648<br>Prediction: Tatars_2<br>Population: Brahui",
          "Sample: HGDP00021<br>Chromosome: 1<br>Position: 238729947<br>Prediction: Tatars_2<br>Population: Brahui",
          "Sample: HGDP00021<br>Chromosome: 1<br>Position: 239512247<br>Prediction: Tatars_2<br>Population: Brahui",
          "Sample: HGDP00021<br>Chromosome: 1<br>Position: 240294546<br>Prediction: Tatars_2<br>Population: Brahui",
          "Sample: HGDP00021<br>Chromosome: 1<br>Position: 241076845<br>Prediction: Tatars_2<br>Population: Brahui",
          "Sample: HGDP00021<br>Chromosome: 1<br>Position: 241859145<br>Prediction: Tatars_2<br>Population: Brahui",
          "Sample: HGDP00021<br>Chromosome: 1<br>Position: 242641444<br>Prediction: Tatars_2<br>Population: Brahui",
          "Sample: HGDP00021<br>Chromosome: 1<br>Position: 243423743<br>Prediction: Tatars_2<br>Population: Brahui",
          "Sample: HGDP00021<br>Chromosome: 1<br>Position: 244206043<br>Prediction: Tatars_2<br>Population: Brahui",
          "Sample: HGDP00021<br>Chromosome: 1<br>Position: 244988342<br>Prediction: Tatars_2<br>Population: Brahui",
          "Sample: HGDP00021<br>Chromosome: 1<br>Position: 245770642<br>Prediction: Tatars_2<br>Population: Brahui"
         ],
         "type": "scatter",
         "x": [
          230906954,
          231689253.36842105,
          232471552.7368421,
          233253852.10526314,
          234036151.47368422,
          234818450.84210527,
          235600750.21052632,
          236383049.57894737,
          237165348.9473684,
          237947648.31578946,
          238729947.68421054,
          239512247.0526316,
          240294546.42105263,
          241076845.78947368,
          241859145.15789473,
          242641444.52631578,
          243423743.89473683,
          244206043.2631579,
          244988342.63157895,
          245770642
         ],
         "y": [
          "1",
          "1",
          "1",
          "1",
          "1",
          "1",
          "1",
          "1",
          "1",
          "1",
          "1",
          "1",
          "1",
          "1",
          "1",
          "1",
          "1",
          "1",
          "1",
          "1"
         ]
        },
        {
         "hoverinfo": "text",
         "hoveron": "points+fills",
         "line": {
          "color": "#636EFA",
          "width": 18
         },
         "marker": {
          "opacity": 0,
          "size": 3
         },
         "mode": "lines+markers",
         "showlegend": false,
         "text": [
          "Sample: HGDP00021<br>Chromosome: 2<br>Position: 12589208<br>Prediction: Tatars_2<br>Population: Brahui",
          "Sample: HGDP00021<br>Chromosome: 2<br>Position: 14609522<br>Prediction: Tatars_2<br>Population: Brahui",
          "Sample: HGDP00021<br>Chromosome: 2<br>Position: 16629837<br>Prediction: Tatars_2<br>Population: Brahui",
          "Sample: HGDP00021<br>Chromosome: 2<br>Position: 18650151<br>Prediction: Tatars_2<br>Population: Brahui",
          "Sample: HGDP00021<br>Chromosome: 2<br>Position: 20670466<br>Prediction: Tatars_2<br>Population: Brahui",
          "Sample: HGDP00021<br>Chromosome: 2<br>Position: 22690780<br>Prediction: Tatars_2<br>Population: Brahui",
          "Sample: HGDP00021<br>Chromosome: 2<br>Position: 24711095<br>Prediction: Tatars_2<br>Population: Brahui",
          "Sample: HGDP00021<br>Chromosome: 2<br>Position: 26731410<br>Prediction: Tatars_2<br>Population: Brahui",
          "Sample: HGDP00021<br>Chromosome: 2<br>Position: 28751724<br>Prediction: Tatars_2<br>Population: Brahui",
          "Sample: HGDP00021<br>Chromosome: 2<br>Position: 30772039<br>Prediction: Tatars_2<br>Population: Brahui",
          "Sample: HGDP00021<br>Chromosome: 2<br>Position: 32792353<br>Prediction: Tatars_2<br>Population: Brahui",
          "Sample: HGDP00021<br>Chromosome: 2<br>Position: 34812668<br>Prediction: Tatars_2<br>Population: Brahui",
          "Sample: HGDP00021<br>Chromosome: 2<br>Position: 36832982<br>Prediction: Tatars_2<br>Population: Brahui",
          "Sample: HGDP00021<br>Chromosome: 2<br>Position: 38853297<br>Prediction: Tatars_2<br>Population: Brahui",
          "Sample: HGDP00021<br>Chromosome: 2<br>Position: 40873612<br>Prediction: Tatars_2<br>Population: Brahui",
          "Sample: HGDP00021<br>Chromosome: 2<br>Position: 42893926<br>Prediction: Tatars_2<br>Population: Brahui",
          "Sample: HGDP00021<br>Chromosome: 2<br>Position: 44914241<br>Prediction: Tatars_2<br>Population: Brahui",
          "Sample: HGDP00021<br>Chromosome: 2<br>Position: 46934555<br>Prediction: Tatars_2<br>Population: Brahui",
          "Sample: HGDP00021<br>Chromosome: 2<br>Position: 48954870<br>Prediction: Tatars_2<br>Population: Brahui",
          "Sample: HGDP00021<br>Chromosome: 2<br>Position: 50975185<br>Prediction: Tatars_2<br>Population: Brahui"
         ],
         "type": "scatter",
         "x": [
          12589208,
          14609522.578947369,
          16629837.157894736,
          18650151.736842103,
          20670466.315789472,
          22690780.89473684,
          24711095.47368421,
          26731410.05263158,
          28751724.631578945,
          30772039.210526314,
          32792353.789473683,
          34812668.36842105,
          36832982.94736842,
          38853297.52631579,
          40873612.10526316,
          42893926.684210524,
          44914241.26315789,
          46934555.84210526,
          48954870.42105263,
          50975185
         ],
         "y": [
          "2",
          "2",
          "2",
          "2",
          "2",
          "2",
          "2",
          "2",
          "2",
          "2",
          "2",
          "2",
          "2",
          "2",
          "2",
          "2",
          "2",
          "2",
          "2",
          "2"
         ]
        },
        {
         "hoverinfo": "text",
         "hoveron": "points+fills",
         "line": {
          "color": "#00CC96",
          "width": 18
         },
         "marker": {
          "opacity": 0,
          "size": 3
         },
         "mode": "lines+markers",
         "showlegend": false,
         "text": [
          "Sample: HGDP00021<br>Chromosome: 2<br>Position: 50976485<br>Prediction: Finnish_1<br>Population: Brahui",
          "Sample: HGDP00021<br>Chromosome: 2<br>Position: 53721054<br>Prediction: Finnish_1<br>Population: Brahui",
          "Sample: HGDP00021<br>Chromosome: 2<br>Position: 56465623<br>Prediction: Finnish_1<br>Population: Brahui",
          "Sample: HGDP00021<br>Chromosome: 2<br>Position: 59210192<br>Prediction: Finnish_1<br>Population: Brahui",
          "Sample: HGDP00021<br>Chromosome: 2<br>Position: 61954762<br>Prediction: Finnish_1<br>Population: Brahui",
          "Sample: HGDP00021<br>Chromosome: 2<br>Position: 64699331<br>Prediction: Finnish_1<br>Population: Brahui",
          "Sample: HGDP00021<br>Chromosome: 2<br>Position: 67443900<br>Prediction: Finnish_1<br>Population: Brahui",
          "Sample: HGDP00021<br>Chromosome: 2<br>Position: 70188469<br>Prediction: Finnish_1<br>Population: Brahui",
          "Sample: HGDP00021<br>Chromosome: 2<br>Position: 72933039<br>Prediction: Finnish_1<br>Population: Brahui",
          "Sample: HGDP00021<br>Chromosome: 2<br>Position: 75677608<br>Prediction: Finnish_1<br>Population: Brahui",
          "Sample: HGDP00021<br>Chromosome: 2<br>Position: 78422177<br>Prediction: Finnish_1<br>Population: Brahui",
          "Sample: HGDP00021<br>Chromosome: 2<br>Position: 81166746<br>Prediction: Finnish_1<br>Population: Brahui",
          "Sample: HGDP00021<br>Chromosome: 2<br>Position: 83911316<br>Prediction: Finnish_1<br>Population: Brahui",
          "Sample: HGDP00021<br>Chromosome: 2<br>Position: 86655885<br>Prediction: Finnish_1<br>Population: Brahui",
          "Sample: HGDP00021<br>Chromosome: 2<br>Position: 89400454<br>Prediction: Finnish_1<br>Population: Brahui",
          "Sample: HGDP00021<br>Chromosome: 2<br>Position: 92145023<br>Prediction: Finnish_1<br>Population: Brahui",
          "Sample: HGDP00021<br>Chromosome: 2<br>Position: 94889593<br>Prediction: Finnish_1<br>Population: Brahui",
          "Sample: HGDP00021<br>Chromosome: 2<br>Position: 97634162<br>Prediction: Finnish_1<br>Population: Brahui",
          "Sample: HGDP00021<br>Chromosome: 2<br>Position: 100378731<br>Prediction: Finnish_1<br>Population: Brahui",
          "Sample: HGDP00021<br>Chromosome: 2<br>Position: 103123301<br>Prediction: Finnish_1<br>Population: Brahui"
         ],
         "type": "scatter",
         "x": [
          50976485,
          53721054.2631579,
          56465623.52631579,
          59210192.78947368,
          61954762.05263158,
          64699331.315789476,
          67443900.57894737,
          70188469.84210527,
          72933039.10526316,
          75677608.36842105,
          78422177.63157895,
          81166746.89473684,
          83911316.15789473,
          86655885.42105263,
          89400454.68421052,
          92145023.94736841,
          94889593.21052632,
          97634162.47368422,
          100378731.73684211,
          103123301
         ],
         "y": [
          "2",
          "2",
          "2",
          "2",
          "2",
          "2",
          "2",
          "2",
          "2",
          "2",
          "2",
          "2",
          "2",
          "2",
          "2",
          "2",
          "2",
          "2",
          "2",
          "2"
         ]
        },
        {
         "hoverinfo": "text",
         "hoveron": "points+fills",
         "line": {
          "color": "#636EFA",
          "width": 18
         },
         "marker": {
          "opacity": 0,
          "size": 3
         },
         "mode": "lines+markers",
         "showlegend": false,
         "text": [
          "Sample: HGDP00021<br>Chromosome: 2<br>Position: 103176411<br>Prediction: Tatars_2<br>Population: Brahui",
          "Sample: HGDP00021<br>Chromosome: 2<br>Position: 104623211<br>Prediction: Tatars_2<br>Population: Brahui",
          "Sample: HGDP00021<br>Chromosome: 2<br>Position: 106070012<br>Prediction: Tatars_2<br>Population: Brahui",
          "Sample: HGDP00021<br>Chromosome: 2<br>Position: 107516812<br>Prediction: Tatars_2<br>Population: Brahui",
          "Sample: HGDP00021<br>Chromosome: 2<br>Position: 108963613<br>Prediction: Tatars_2<br>Population: Brahui",
          "Sample: HGDP00021<br>Chromosome: 2<br>Position: 110410413<br>Prediction: Tatars_2<br>Population: Brahui",
          "Sample: HGDP00021<br>Chromosome: 2<br>Position: 111857214<br>Prediction: Tatars_2<br>Population: Brahui",
          "Sample: HGDP00021<br>Chromosome: 2<br>Position: 113304015<br>Prediction: Tatars_2<br>Population: Brahui",
          "Sample: HGDP00021<br>Chromosome: 2<br>Position: 114750815<br>Prediction: Tatars_2<br>Population: Brahui",
          "Sample: HGDP00021<br>Chromosome: 2<br>Position: 116197616<br>Prediction: Tatars_2<br>Population: Brahui",
          "Sample: HGDP00021<br>Chromosome: 2<br>Position: 117644416<br>Prediction: Tatars_2<br>Population: Brahui",
          "Sample: HGDP00021<br>Chromosome: 2<br>Position: 119091217<br>Prediction: Tatars_2<br>Population: Brahui",
          "Sample: HGDP00021<br>Chromosome: 2<br>Position: 120538017<br>Prediction: Tatars_2<br>Population: Brahui",
          "Sample: HGDP00021<br>Chromosome: 2<br>Position: 121984818<br>Prediction: Tatars_2<br>Population: Brahui",
          "Sample: HGDP00021<br>Chromosome: 2<br>Position: 123431619<br>Prediction: Tatars_2<br>Population: Brahui",
          "Sample: HGDP00021<br>Chromosome: 2<br>Position: 124878419<br>Prediction: Tatars_2<br>Population: Brahui",
          "Sample: HGDP00021<br>Chromosome: 2<br>Position: 126325220<br>Prediction: Tatars_2<br>Population: Brahui",
          "Sample: HGDP00021<br>Chromosome: 2<br>Position: 127772020<br>Prediction: Tatars_2<br>Population: Brahui",
          "Sample: HGDP00021<br>Chromosome: 2<br>Position: 129218821<br>Prediction: Tatars_2<br>Population: Brahui",
          "Sample: HGDP00021<br>Chromosome: 2<br>Position: 130665622<br>Prediction: Tatars_2<br>Population: Brahui"
         ],
         "type": "scatter",
         "x": [
          103176411,
          104623211.57894737,
          106070012.15789473,
          107516812.73684211,
          108963613.31578948,
          110410413.89473684,
          111857214.4736842,
          113304015.05263157,
          114750815.63157895,
          116197616.21052632,
          117644416.78947368,
          119091217.36842105,
          120538017.94736841,
          121984818.5263158,
          123431619.10526316,
          124878419.68421052,
          126325220.26315789,
          127772020.84210527,
          129218821.42105263,
          130665622
         ],
         "y": [
          "2",
          "2",
          "2",
          "2",
          "2",
          "2",
          "2",
          "2",
          "2",
          "2",
          "2",
          "2",
          "2",
          "2",
          "2",
          "2",
          "2",
          "2",
          "2",
          "2"
         ]
        },
        {
         "hoverinfo": "text",
         "hoveron": "points+fills",
         "line": {
          "color": "#FFA15A",
          "width": 18
         },
         "marker": {
          "opacity": 0,
          "size": 3
         },
         "mode": "lines+markers",
         "name": "Finnish_2",
         "showlegend": true,
         "text": [
          "Sample: HGDP00021<br>Chromosome: 2<br>Position: 131063169<br>Prediction: Finnish_2<br>Population: Brahui",
          "Sample: HGDP00021<br>Chromosome: 2<br>Position: 132263678<br>Prediction: Finnish_2<br>Population: Brahui",
          "Sample: HGDP00021<br>Chromosome: 2<br>Position: 133464187<br>Prediction: Finnish_2<br>Population: Brahui",
          "Sample: HGDP00021<br>Chromosome: 2<br>Position: 134664696<br>Prediction: Finnish_2<br>Population: Brahui",
          "Sample: HGDP00021<br>Chromosome: 2<br>Position: 135865206<br>Prediction: Finnish_2<br>Population: Brahui",
          "Sample: HGDP00021<br>Chromosome: 2<br>Position: 137065715<br>Prediction: Finnish_2<br>Population: Brahui",
          "Sample: HGDP00021<br>Chromosome: 2<br>Position: 138266224<br>Prediction: Finnish_2<br>Population: Brahui",
          "Sample: HGDP00021<br>Chromosome: 2<br>Position: 139466733<br>Prediction: Finnish_2<br>Population: Brahui",
          "Sample: HGDP00021<br>Chromosome: 2<br>Position: 140667243<br>Prediction: Finnish_2<br>Population: Brahui",
          "Sample: HGDP00021<br>Chromosome: 2<br>Position: 141867752<br>Prediction: Finnish_2<br>Population: Brahui",
          "Sample: HGDP00021<br>Chromosome: 2<br>Position: 143068261<br>Prediction: Finnish_2<br>Population: Brahui",
          "Sample: HGDP00021<br>Chromosome: 2<br>Position: 144268770<br>Prediction: Finnish_2<br>Population: Brahui",
          "Sample: HGDP00021<br>Chromosome: 2<br>Position: 145469280<br>Prediction: Finnish_2<br>Population: Brahui",
          "Sample: HGDP00021<br>Chromosome: 2<br>Position: 146669789<br>Prediction: Finnish_2<br>Population: Brahui",
          "Sample: HGDP00021<br>Chromosome: 2<br>Position: 147870298<br>Prediction: Finnish_2<br>Population: Brahui",
          "Sample: HGDP00021<br>Chromosome: 2<br>Position: 149070807<br>Prediction: Finnish_2<br>Population: Brahui",
          "Sample: HGDP00021<br>Chromosome: 2<br>Position: 150271317<br>Prediction: Finnish_2<br>Population: Brahui",
          "Sample: HGDP00021<br>Chromosome: 2<br>Position: 151471826<br>Prediction: Finnish_2<br>Population: Brahui",
          "Sample: HGDP00021<br>Chromosome: 2<br>Position: 152672335<br>Prediction: Finnish_2<br>Population: Brahui",
          "Sample: HGDP00021<br>Chromosome: 2<br>Position: 153872845<br>Prediction: Finnish_2<br>Population: Brahui"
         ],
         "type": "scatter",
         "x": [
          131063169,
          132263678.26315789,
          133464187.5263158,
          134664696.78947368,
          135865206.0526316,
          137065715.31578946,
          138266224.57894737,
          139466733.84210527,
          140667243.10526317,
          141867752.36842105,
          143068261.63157895,
          144268770.89473686,
          145469280.15789473,
          146669789.42105263,
          147870298.68421054,
          149070807.9473684,
          150271317.21052632,
          151471826.47368422,
          152672335.7368421,
          153872845
         ],
         "y": [
          "2",
          "2",
          "2",
          "2",
          "2",
          "2",
          "2",
          "2",
          "2",
          "2",
          "2",
          "2",
          "2",
          "2",
          "2",
          "2",
          "2",
          "2",
          "2",
          "2"
         ]
        },
        {
         "hoverinfo": "text",
         "hoveron": "points+fills",
         "line": {
          "color": "#636EFA",
          "width": 18
         },
         "marker": {
          "opacity": 0,
          "size": 3
         },
         "mode": "lines+markers",
         "showlegend": false,
         "text": [
          "Sample: HGDP00021<br>Chromosome: 2<br>Position: 153881453<br>Prediction: Tatars_2<br>Population: Brahui",
          "Sample: HGDP00021<br>Chromosome: 2<br>Position: 155094102<br>Prediction: Tatars_2<br>Population: Brahui",
          "Sample: HGDP00021<br>Chromosome: 2<br>Position: 156306751<br>Prediction: Tatars_2<br>Population: Brahui",
          "Sample: HGDP00021<br>Chromosome: 2<br>Position: 157519400<br>Prediction: Tatars_2<br>Population: Brahui",
          "Sample: HGDP00021<br>Chromosome: 2<br>Position: 158732049<br>Prediction: Tatars_2<br>Population: Brahui",
          "Sample: HGDP00021<br>Chromosome: 2<br>Position: 159944698<br>Prediction: Tatars_2<br>Population: Brahui",
          "Sample: HGDP00021<br>Chromosome: 2<br>Position: 161157347<br>Prediction: Tatars_2<br>Population: Brahui",
          "Sample: HGDP00021<br>Chromosome: 2<br>Position: 162369996<br>Prediction: Tatars_2<br>Population: Brahui",
          "Sample: HGDP00021<br>Chromosome: 2<br>Position: 163582645<br>Prediction: Tatars_2<br>Population: Brahui",
          "Sample: HGDP00021<br>Chromosome: 2<br>Position: 164795294<br>Prediction: Tatars_2<br>Population: Brahui",
          "Sample: HGDP00021<br>Chromosome: 2<br>Position: 166007943<br>Prediction: Tatars_2<br>Population: Brahui",
          "Sample: HGDP00021<br>Chromosome: 2<br>Position: 167220592<br>Prediction: Tatars_2<br>Population: Brahui",
          "Sample: HGDP00021<br>Chromosome: 2<br>Position: 168433241<br>Prediction: Tatars_2<br>Population: Brahui",
          "Sample: HGDP00021<br>Chromosome: 2<br>Position: 169645890<br>Prediction: Tatars_2<br>Population: Brahui",
          "Sample: HGDP00021<br>Chromosome: 2<br>Position: 170858539<br>Prediction: Tatars_2<br>Population: Brahui",
          "Sample: HGDP00021<br>Chromosome: 2<br>Position: 172071188<br>Prediction: Tatars_2<br>Population: Brahui",
          "Sample: HGDP00021<br>Chromosome: 2<br>Position: 173283837<br>Prediction: Tatars_2<br>Population: Brahui",
          "Sample: HGDP00021<br>Chromosome: 2<br>Position: 174496486<br>Prediction: Tatars_2<br>Population: Brahui",
          "Sample: HGDP00021<br>Chromosome: 2<br>Position: 175709135<br>Prediction: Tatars_2<br>Population: Brahui",
          "Sample: HGDP00021<br>Chromosome: 2<br>Position: 176921784<br>Prediction: Tatars_2<br>Population: Brahui"
         ],
         "type": "scatter",
         "x": [
          153881453,
          155094102,
          156306751,
          157519400,
          158732049,
          159944698,
          161157347,
          162369996,
          163582645,
          164795294,
          166007943,
          167220592,
          168433241,
          169645890,
          170858539,
          172071188,
          173283837,
          174496486,
          175709135,
          176921784
         ],
         "y": [
          "2",
          "2",
          "2",
          "2",
          "2",
          "2",
          "2",
          "2",
          "2",
          "2",
          "2",
          "2",
          "2",
          "2",
          "2",
          "2",
          "2",
          "2",
          "2",
          "2"
         ]
        },
        {
         "hoverinfo": "text",
         "hoveron": "points+fills",
         "line": {
          "color": "#19D3F3",
          "width": 18
         },
         "marker": {
          "opacity": 0,
          "size": 3
         },
         "mode": "lines+markers",
         "name": "Altaians_3",
         "showlegend": true,
         "text": [
          "Sample: HGDP00021<br>Chromosome: 2<br>Position: 177008914<br>Prediction: Altaians_3<br>Population: Brahui",
          "Sample: HGDP00021<br>Chromosome: 2<br>Position: 178533398<br>Prediction: Altaians_3<br>Population: Brahui",
          "Sample: HGDP00021<br>Chromosome: 2<br>Position: 180057882<br>Prediction: Altaians_3<br>Population: Brahui",
          "Sample: HGDP00021<br>Chromosome: 2<br>Position: 181582366<br>Prediction: Altaians_3<br>Population: Brahui",
          "Sample: HGDP00021<br>Chromosome: 2<br>Position: 183106850<br>Prediction: Altaians_3<br>Population: Brahui",
          "Sample: HGDP00021<br>Chromosome: 2<br>Position: 184631334<br>Prediction: Altaians_3<br>Population: Brahui",
          "Sample: HGDP00021<br>Chromosome: 2<br>Position: 186155818<br>Prediction: Altaians_3<br>Population: Brahui",
          "Sample: HGDP00021<br>Chromosome: 2<br>Position: 187680302<br>Prediction: Altaians_3<br>Population: Brahui",
          "Sample: HGDP00021<br>Chromosome: 2<br>Position: 189204786<br>Prediction: Altaians_3<br>Population: Brahui",
          "Sample: HGDP00021<br>Chromosome: 2<br>Position: 190729270<br>Prediction: Altaians_3<br>Population: Brahui",
          "Sample: HGDP00021<br>Chromosome: 2<br>Position: 192253754<br>Prediction: Altaians_3<br>Population: Brahui",
          "Sample: HGDP00021<br>Chromosome: 2<br>Position: 193778238<br>Prediction: Altaians_3<br>Population: Brahui",
          "Sample: HGDP00021<br>Chromosome: 2<br>Position: 195302722<br>Prediction: Altaians_3<br>Population: Brahui",
          "Sample: HGDP00021<br>Chromosome: 2<br>Position: 196827206<br>Prediction: Altaians_3<br>Population: Brahui",
          "Sample: HGDP00021<br>Chromosome: 2<br>Position: 198351690<br>Prediction: Altaians_3<br>Population: Brahui",
          "Sample: HGDP00021<br>Chromosome: 2<br>Position: 199876174<br>Prediction: Altaians_3<br>Population: Brahui",
          "Sample: HGDP00021<br>Chromosome: 2<br>Position: 201400658<br>Prediction: Altaians_3<br>Population: Brahui",
          "Sample: HGDP00021<br>Chromosome: 2<br>Position: 202925142<br>Prediction: Altaians_3<br>Population: Brahui",
          "Sample: HGDP00021<br>Chromosome: 2<br>Position: 204449626<br>Prediction: Altaians_3<br>Population: Brahui",
          "Sample: HGDP00021<br>Chromosome: 2<br>Position: 205974111<br>Prediction: Altaians_3<br>Population: Brahui"
         ],
         "type": "scatter",
         "x": [
          177008914,
          178533398.0526316,
          180057882.10526314,
          181582366.15789473,
          183106850.21052632,
          184631334.2631579,
          186155818.31578946,
          187680302.36842105,
          189204786.42105263,
          190729270.47368422,
          192253754.52631578,
          193778238.57894737,
          195302722.63157895,
          196827206.68421054,
          198351690.7368421,
          199876174.78947368,
          201400658.84210527,
          202925142.89473683,
          204449626.9473684,
          205974111
         ],
         "y": [
          "2",
          "2",
          "2",
          "2",
          "2",
          "2",
          "2",
          "2",
          "2",
          "2",
          "2",
          "2",
          "2",
          "2",
          "2",
          "2",
          "2",
          "2",
          "2",
          "2"
         ]
        },
        {
         "hoverinfo": "text",
         "hoveron": "points+fills",
         "line": {
          "color": "#00CC96",
          "width": 18
         },
         "marker": {
          "opacity": 0,
          "size": 3
         },
         "mode": "lines+markers",
         "showlegend": false,
         "text": [
          "Sample: HGDP00021<br>Chromosome: 2<br>Position: 206023947<br>Prediction: Finnish_1<br>Population: Brahui",
          "Sample: HGDP00021<br>Chromosome: 2<br>Position: 207254590<br>Prediction: Finnish_1<br>Population: Brahui",
          "Sample: HGDP00021<br>Chromosome: 2<br>Position: 208485233<br>Prediction: Finnish_1<br>Population: Brahui",
          "Sample: HGDP00021<br>Chromosome: 2<br>Position: 209715876<br>Prediction: Finnish_1<br>Population: Brahui",
          "Sample: HGDP00021<br>Chromosome: 2<br>Position: 210946519<br>Prediction: Finnish_1<br>Population: Brahui",
          "Sample: HGDP00021<br>Chromosome: 2<br>Position: 212177162<br>Prediction: Finnish_1<br>Population: Brahui",
          "Sample: HGDP00021<br>Chromosome: 2<br>Position: 213407805<br>Prediction: Finnish_1<br>Population: Brahui",
          "Sample: HGDP00021<br>Chromosome: 2<br>Position: 214638449<br>Prediction: Finnish_1<br>Population: Brahui",
          "Sample: HGDP00021<br>Chromosome: 2<br>Position: 215869092<br>Prediction: Finnish_1<br>Population: Brahui",
          "Sample: HGDP00021<br>Chromosome: 2<br>Position: 217099735<br>Prediction: Finnish_1<br>Population: Brahui",
          "Sample: HGDP00021<br>Chromosome: 2<br>Position: 218330378<br>Prediction: Finnish_1<br>Population: Brahui",
          "Sample: HGDP00021<br>Chromosome: 2<br>Position: 219561021<br>Prediction: Finnish_1<br>Population: Brahui",
          "Sample: HGDP00021<br>Chromosome: 2<br>Position: 220791664<br>Prediction: Finnish_1<br>Population: Brahui",
          "Sample: HGDP00021<br>Chromosome: 2<br>Position: 222022308<br>Prediction: Finnish_1<br>Population: Brahui",
          "Sample: HGDP00021<br>Chromosome: 2<br>Position: 223252951<br>Prediction: Finnish_1<br>Population: Brahui",
          "Sample: HGDP00021<br>Chromosome: 2<br>Position: 224483594<br>Prediction: Finnish_1<br>Population: Brahui",
          "Sample: HGDP00021<br>Chromosome: 2<br>Position: 225714237<br>Prediction: Finnish_1<br>Population: Brahui",
          "Sample: HGDP00021<br>Chromosome: 2<br>Position: 226944880<br>Prediction: Finnish_1<br>Population: Brahui",
          "Sample: HGDP00021<br>Chromosome: 2<br>Position: 228175523<br>Prediction: Finnish_1<br>Population: Brahui",
          "Sample: HGDP00021<br>Chromosome: 2<br>Position: 229406167<br>Prediction: Finnish_1<br>Population: Brahui"
         ],
         "type": "scatter",
         "x": [
          206023947,
          207254590.15789473,
          208485233.31578946,
          209715876.47368422,
          210946519.63157895,
          212177162.78947368,
          213407805.9473684,
          214638449.10526317,
          215869092.2631579,
          217099735.42105263,
          218330378.57894737,
          219561021.7368421,
          220791664.89473683,
          222022308.0526316,
          223252951.21052632,
          224483594.36842105,
          225714237.52631578,
          226944880.68421054,
          228175523.84210527,
          229406167
         ],
         "y": [
          "2",
          "2",
          "2",
          "2",
          "2",
          "2",
          "2",
          "2",
          "2",
          "2",
          "2",
          "2",
          "2",
          "2",
          "2",
          "2",
          "2",
          "2",
          "2",
          "2"
         ]
        },
        {
         "hoverinfo": "text",
         "hoveron": "points+fills",
         "line": {
          "color": "#636EFA",
          "width": 18
         },
         "marker": {
          "opacity": 0,
          "size": 3
         },
         "mode": "lines+markers",
         "showlegend": false,
         "text": [
          "Sample: HGDP00021<br>Chromosome: 3<br>Position: 3846526<br>Prediction: Tatars_2<br>Population: Brahui",
          "Sample: HGDP00021<br>Chromosome: 3<br>Position: 4801792<br>Prediction: Tatars_2<br>Population: Brahui",
          "Sample: HGDP00021<br>Chromosome: 3<br>Position: 5757058<br>Prediction: Tatars_2<br>Population: Brahui",
          "Sample: HGDP00021<br>Chromosome: 3<br>Position: 6712324<br>Prediction: Tatars_2<br>Population: Brahui",
          "Sample: HGDP00021<br>Chromosome: 3<br>Position: 7667591<br>Prediction: Tatars_2<br>Population: Brahui",
          "Sample: HGDP00021<br>Chromosome: 3<br>Position: 8622857<br>Prediction: Tatars_2<br>Population: Brahui",
          "Sample: HGDP00021<br>Chromosome: 3<br>Position: 9578123<br>Prediction: Tatars_2<br>Population: Brahui",
          "Sample: HGDP00021<br>Chromosome: 3<br>Position: 10533390<br>Prediction: Tatars_2<br>Population: Brahui",
          "Sample: HGDP00021<br>Chromosome: 3<br>Position: 11488656<br>Prediction: Tatars_2<br>Population: Brahui",
          "Sample: HGDP00021<br>Chromosome: 3<br>Position: 12443922<br>Prediction: Tatars_2<br>Population: Brahui",
          "Sample: HGDP00021<br>Chromosome: 3<br>Position: 13399189<br>Prediction: Tatars_2<br>Population: Brahui",
          "Sample: HGDP00021<br>Chromosome: 3<br>Position: 14354455<br>Prediction: Tatars_2<br>Population: Brahui",
          "Sample: HGDP00021<br>Chromosome: 3<br>Position: 15309721<br>Prediction: Tatars_2<br>Population: Brahui",
          "Sample: HGDP00021<br>Chromosome: 3<br>Position: 16264988<br>Prediction: Tatars_2<br>Population: Brahui",
          "Sample: HGDP00021<br>Chromosome: 3<br>Position: 17220254<br>Prediction: Tatars_2<br>Population: Brahui",
          "Sample: HGDP00021<br>Chromosome: 3<br>Position: 18175520<br>Prediction: Tatars_2<br>Population: Brahui",
          "Sample: HGDP00021<br>Chromosome: 3<br>Position: 19130787<br>Prediction: Tatars_2<br>Population: Brahui",
          "Sample: HGDP00021<br>Chromosome: 3<br>Position: 20086053<br>Prediction: Tatars_2<br>Population: Brahui",
          "Sample: HGDP00021<br>Chromosome: 3<br>Position: 21041319<br>Prediction: Tatars_2<br>Population: Brahui",
          "Sample: HGDP00021<br>Chromosome: 3<br>Position: 21996586<br>Prediction: Tatars_2<br>Population: Brahui"
         ],
         "type": "scatter",
         "x": [
          3846526,
          4801792.315789474,
          5757058.631578947,
          6712324.947368421,
          7667591.263157895,
          8622857.578947369,
          9578123.894736841,
          10533390.210526315,
          11488656.52631579,
          12443922.842105264,
          13399189.157894738,
          14354455.47368421,
          15309721.789473685,
          16264988.105263159,
          17220254.42105263,
          18175520.736842103,
          19130787.05263158,
          20086053.368421055,
          21041319.684210528,
          21996586
         ],
         "y": [
          "3",
          "3",
          "3",
          "3",
          "3",
          "3",
          "3",
          "3",
          "3",
          "3",
          "3",
          "3",
          "3",
          "3",
          "3",
          "3",
          "3",
          "3",
          "3",
          "3"
         ]
        },
        {
         "hoverinfo": "text",
         "hoveron": "points+fills",
         "line": {
          "color": "#EF553B",
          "width": 18
         },
         "marker": {
          "opacity": 0,
          "size": 3
         },
         "mode": "lines+markers",
         "showlegend": false,
         "text": [
          "Sample: HGDP00021<br>Chromosome: 3<br>Position: 22007867<br>Prediction: Altaians_4<br>Population: Brahui",
          "Sample: HGDP00021<br>Chromosome: 3<br>Position: 23278526<br>Prediction: Altaians_4<br>Population: Brahui",
          "Sample: HGDP00021<br>Chromosome: 3<br>Position: 24549186<br>Prediction: Altaians_4<br>Population: Brahui",
          "Sample: HGDP00021<br>Chromosome: 3<br>Position: 25819845<br>Prediction: Altaians_4<br>Population: Brahui",
          "Sample: HGDP00021<br>Chromosome: 3<br>Position: 27090505<br>Prediction: Altaians_4<br>Population: Brahui",
          "Sample: HGDP00021<br>Chromosome: 3<br>Position: 28361165<br>Prediction: Altaians_4<br>Population: Brahui",
          "Sample: HGDP00021<br>Chromosome: 3<br>Position: 29631824<br>Prediction: Altaians_4<br>Population: Brahui",
          "Sample: HGDP00021<br>Chromosome: 3<br>Position: 30902484<br>Prediction: Altaians_4<br>Population: Brahui",
          "Sample: HGDP00021<br>Chromosome: 3<br>Position: 32173144<br>Prediction: Altaians_4<br>Population: Brahui",
          "Sample: HGDP00021<br>Chromosome: 3<br>Position: 33443803<br>Prediction: Altaians_4<br>Population: Brahui",
          "Sample: HGDP00021<br>Chromosome: 3<br>Position: 34714463<br>Prediction: Altaians_4<br>Population: Brahui",
          "Sample: HGDP00021<br>Chromosome: 3<br>Position: 35985122<br>Prediction: Altaians_4<br>Population: Brahui",
          "Sample: HGDP00021<br>Chromosome: 3<br>Position: 37255782<br>Prediction: Altaians_4<br>Population: Brahui",
          "Sample: HGDP00021<br>Chromosome: 3<br>Position: 38526442<br>Prediction: Altaians_4<br>Population: Brahui",
          "Sample: HGDP00021<br>Chromosome: 3<br>Position: 39797101<br>Prediction: Altaians_4<br>Population: Brahui",
          "Sample: HGDP00021<br>Chromosome: 3<br>Position: 41067761<br>Prediction: Altaians_4<br>Population: Brahui",
          "Sample: HGDP00021<br>Chromosome: 3<br>Position: 42338421<br>Prediction: Altaians_4<br>Population: Brahui",
          "Sample: HGDP00021<br>Chromosome: 3<br>Position: 43609080<br>Prediction: Altaians_4<br>Population: Brahui",
          "Sample: HGDP00021<br>Chromosome: 3<br>Position: 44879740<br>Prediction: Altaians_4<br>Population: Brahui",
          "Sample: HGDP00021<br>Chromosome: 3<br>Position: 46150400<br>Prediction: Altaians_4<br>Population: Brahui"
         ],
         "type": "scatter",
         "x": [
          22007867,
          23278526.63157895,
          24549186.263157897,
          25819845.89473684,
          27090505.52631579,
          28361165.157894738,
          29631824.789473683,
          30902484.42105263,
          32173144.05263158,
          33443803.684210528,
          34714463.315789476,
          35985122.94736842,
          37255782.578947365,
          38526442.21052632,
          39797101.84210526,
          41067761.47368421,
          42338421.10526316,
          43609080.73684211,
          44879740.368421055,
          46150400
         ],
         "y": [
          "3",
          "3",
          "3",
          "3",
          "3",
          "3",
          "3",
          "3",
          "3",
          "3",
          "3",
          "3",
          "3",
          "3",
          "3",
          "3",
          "3",
          "3",
          "3",
          "3"
         ]
        },
        {
         "hoverinfo": "text",
         "hoveron": "points+fills",
         "line": {
          "color": "#FF6692",
          "width": 18
         },
         "marker": {
          "opacity": 0,
          "size": 3
         },
         "mode": "lines+markers",
         "name": "Meitei_0",
         "showlegend": true,
         "text": [
          "Sample: HGDP00021<br>Chromosome: 3<br>Position: 46310921<br>Prediction: Meitei_0<br>Population: Brahui",
          "Sample: HGDP00021<br>Chromosome: 3<br>Position: 47659342<br>Prediction: Meitei_0<br>Population: Brahui",
          "Sample: HGDP00021<br>Chromosome: 3<br>Position: 49007764<br>Prediction: Meitei_0<br>Population: Brahui",
          "Sample: HGDP00021<br>Chromosome: 3<br>Position: 50356186<br>Prediction: Meitei_0<br>Population: Brahui",
          "Sample: HGDP00021<br>Chromosome: 3<br>Position: 51704608<br>Prediction: Meitei_0<br>Population: Brahui",
          "Sample: HGDP00021<br>Chromosome: 3<br>Position: 53053030<br>Prediction: Meitei_0<br>Population: Brahui",
          "Sample: HGDP00021<br>Chromosome: 3<br>Position: 54401452<br>Prediction: Meitei_0<br>Population: Brahui",
          "Sample: HGDP00021<br>Chromosome: 3<br>Position: 55749873<br>Prediction: Meitei_0<br>Population: Brahui",
          "Sample: HGDP00021<br>Chromosome: 3<br>Position: 57098295<br>Prediction: Meitei_0<br>Population: Brahui",
          "Sample: HGDP00021<br>Chromosome: 3<br>Position: 58446717<br>Prediction: Meitei_0<br>Population: Brahui",
          "Sample: HGDP00021<br>Chromosome: 3<br>Position: 59795139<br>Prediction: Meitei_0<br>Population: Brahui",
          "Sample: HGDP00021<br>Chromosome: 3<br>Position: 61143561<br>Prediction: Meitei_0<br>Population: Brahui",
          "Sample: HGDP00021<br>Chromosome: 3<br>Position: 62491983<br>Prediction: Meitei_0<br>Population: Brahui",
          "Sample: HGDP00021<br>Chromosome: 3<br>Position: 63840404<br>Prediction: Meitei_0<br>Population: Brahui",
          "Sample: HGDP00021<br>Chromosome: 3<br>Position: 65188826<br>Prediction: Meitei_0<br>Population: Brahui",
          "Sample: HGDP00021<br>Chromosome: 3<br>Position: 66537248<br>Prediction: Meitei_0<br>Population: Brahui",
          "Sample: HGDP00021<br>Chromosome: 3<br>Position: 67885670<br>Prediction: Meitei_0<br>Population: Brahui",
          "Sample: HGDP00021<br>Chromosome: 3<br>Position: 69234092<br>Prediction: Meitei_0<br>Population: Brahui",
          "Sample: HGDP00021<br>Chromosome: 3<br>Position: 70582514<br>Prediction: Meitei_0<br>Population: Brahui",
          "Sample: HGDP00021<br>Chromosome: 3<br>Position: 71930936<br>Prediction: Meitei_0<br>Population: Brahui"
         ],
         "type": "scatter",
         "x": [
          46310921,
          47659342.84210526,
          49007764.684210524,
          50356186.52631579,
          51704608.368421055,
          53053030.21052632,
          54401452.05263158,
          55749873.89473684,
          57098295.7368421,
          58446717.578947365,
          59795139.421052635,
          61143561.2631579,
          62491983.10526316,
          63840404.94736842,
          65188826.78947368,
          66537248.63157895,
          67885670.4736842,
          69234092.31578948,
          70582514.15789473,
          71930936
         ],
         "y": [
          "3",
          "3",
          "3",
          "3",
          "3",
          "3",
          "3",
          "3",
          "3",
          "3",
          "3",
          "3",
          "3",
          "3",
          "3",
          "3",
          "3",
          "3",
          "3",
          "3"
         ]
        },
        {
         "hoverinfo": "text",
         "hoveron": "points+fills",
         "line": {
          "color": "#636EFA",
          "width": 18
         },
         "marker": {
          "opacity": 0,
          "size": 3
         },
         "mode": "lines+markers",
         "showlegend": false,
         "text": [
          "Sample: HGDP00021<br>Chromosome: 3<br>Position: 71941154<br>Prediction: Tatars_2<br>Population: Brahui",
          "Sample: HGDP00021<br>Chromosome: 3<br>Position: 74052995<br>Prediction: Tatars_2<br>Population: Brahui",
          "Sample: HGDP00021<br>Chromosome: 3<br>Position: 76164836<br>Prediction: Tatars_2<br>Population: Brahui",
          "Sample: HGDP00021<br>Chromosome: 3<br>Position: 78276678<br>Prediction: Tatars_2<br>Population: Brahui",
          "Sample: HGDP00021<br>Chromosome: 3<br>Position: 80388519<br>Prediction: Tatars_2<br>Population: Brahui",
          "Sample: HGDP00021<br>Chromosome: 3<br>Position: 82500361<br>Prediction: Tatars_2<br>Population: Brahui",
          "Sample: HGDP00021<br>Chromosome: 3<br>Position: 84612202<br>Prediction: Tatars_2<br>Population: Brahui",
          "Sample: HGDP00021<br>Chromosome: 3<br>Position: 86724043<br>Prediction: Tatars_2<br>Population: Brahui",
          "Sample: HGDP00021<br>Chromosome: 3<br>Position: 88835885<br>Prediction: Tatars_2<br>Population: Brahui",
          "Sample: HGDP00021<br>Chromosome: 3<br>Position: 90947726<br>Prediction: Tatars_2<br>Population: Brahui",
          "Sample: HGDP00021<br>Chromosome: 3<br>Position: 93059568<br>Prediction: Tatars_2<br>Population: Brahui",
          "Sample: HGDP00021<br>Chromosome: 3<br>Position: 95171409<br>Prediction: Tatars_2<br>Population: Brahui",
          "Sample: HGDP00021<br>Chromosome: 3<br>Position: 97283251<br>Prediction: Tatars_2<br>Population: Brahui",
          "Sample: HGDP00021<br>Chromosome: 3<br>Position: 99395092<br>Prediction: Tatars_2<br>Population: Brahui",
          "Sample: HGDP00021<br>Chromosome: 3<br>Position: 101506933<br>Prediction: Tatars_2<br>Population: Brahui",
          "Sample: HGDP00021<br>Chromosome: 3<br>Position: 103618775<br>Prediction: Tatars_2<br>Population: Brahui",
          "Sample: HGDP00021<br>Chromosome: 3<br>Position: 105730616<br>Prediction: Tatars_2<br>Population: Brahui",
          "Sample: HGDP00021<br>Chromosome: 3<br>Position: 107842458<br>Prediction: Tatars_2<br>Population: Brahui",
          "Sample: HGDP00021<br>Chromosome: 3<br>Position: 109954299<br>Prediction: Tatars_2<br>Population: Brahui",
          "Sample: HGDP00021<br>Chromosome: 3<br>Position: 112066141<br>Prediction: Tatars_2<br>Population: Brahui"
         ],
         "type": "scatter",
         "x": [
          71941154,
          74052995.42105263,
          76164836.84210527,
          78276678.26315789,
          80388519.68421052,
          82500361.10526316,
          84612202.5263158,
          86724043.94736841,
          88835885.36842105,
          90947726.78947368,
          93059568.21052632,
          95171409.63157895,
          97283251.05263159,
          99395092.4736842,
          101506933.89473684,
          103618775.31578948,
          105730616.7368421,
          107842458.15789473,
          109954299.57894737,
          112066141
         ],
         "y": [
          "3",
          "3",
          "3",
          "3",
          "3",
          "3",
          "3",
          "3",
          "3",
          "3",
          "3",
          "3",
          "3",
          "3",
          "3",
          "3",
          "3",
          "3",
          "3",
          "3"
         ]
        },
        {
         "hoverinfo": "text",
         "hoveron": "points+fills",
         "line": {
          "color": "#00CC96",
          "width": 18
         },
         "marker": {
          "opacity": 0,
          "size": 3
         },
         "mode": "lines+markers",
         "showlegend": false,
         "text": [
          "Sample: HGDP00021<br>Chromosome: 3<br>Position: 112072833<br>Prediction: Finnish_1<br>Population: Brahui",
          "Sample: HGDP00021<br>Chromosome: 3<br>Position: 113379176<br>Prediction: Finnish_1<br>Population: Brahui",
          "Sample: HGDP00021<br>Chromosome: 3<br>Position: 114685519<br>Prediction: Finnish_1<br>Population: Brahui",
          "Sample: HGDP00021<br>Chromosome: 3<br>Position: 115991862<br>Prediction: Finnish_1<br>Population: Brahui",
          "Sample: HGDP00021<br>Chromosome: 3<br>Position: 117298206<br>Prediction: Finnish_1<br>Population: Brahui",
          "Sample: HGDP00021<br>Chromosome: 3<br>Position: 118604549<br>Prediction: Finnish_1<br>Population: Brahui",
          "Sample: HGDP00021<br>Chromosome: 3<br>Position: 119910892<br>Prediction: Finnish_1<br>Population: Brahui",
          "Sample: HGDP00021<br>Chromosome: 3<br>Position: 121217236<br>Prediction: Finnish_1<br>Population: Brahui",
          "Sample: HGDP00021<br>Chromosome: 3<br>Position: 122523579<br>Prediction: Finnish_1<br>Population: Brahui",
          "Sample: HGDP00021<br>Chromosome: 3<br>Position: 123829922<br>Prediction: Finnish_1<br>Population: Brahui",
          "Sample: HGDP00021<br>Chromosome: 3<br>Position: 125136266<br>Prediction: Finnish_1<br>Population: Brahui",
          "Sample: HGDP00021<br>Chromosome: 3<br>Position: 126442609<br>Prediction: Finnish_1<br>Population: Brahui",
          "Sample: HGDP00021<br>Chromosome: 3<br>Position: 127748952<br>Prediction: Finnish_1<br>Population: Brahui",
          "Sample: HGDP00021<br>Chromosome: 3<br>Position: 129055296<br>Prediction: Finnish_1<br>Population: Brahui",
          "Sample: HGDP00021<br>Chromosome: 3<br>Position: 130361639<br>Prediction: Finnish_1<br>Population: Brahui",
          "Sample: HGDP00021<br>Chromosome: 3<br>Position: 131667982<br>Prediction: Finnish_1<br>Population: Brahui",
          "Sample: HGDP00021<br>Chromosome: 3<br>Position: 132974326<br>Prediction: Finnish_1<br>Population: Brahui",
          "Sample: HGDP00021<br>Chromosome: 3<br>Position: 134280669<br>Prediction: Finnish_1<br>Population: Brahui",
          "Sample: HGDP00021<br>Chromosome: 3<br>Position: 135587012<br>Prediction: Finnish_1<br>Population: Brahui",
          "Sample: HGDP00021<br>Chromosome: 3<br>Position: 136893356<br>Prediction: Finnish_1<br>Population: Brahui"
         ],
         "type": "scatter",
         "x": [
          112072833,
          113379176.31578948,
          114685519.63157895,
          115991862.94736843,
          117298206.26315789,
          118604549.57894737,
          119910892.89473684,
          121217236.21052632,
          122523579.5263158,
          123829922.84210527,
          125136266.15789473,
          126442609.4736842,
          127748952.78947368,
          129055296.10526316,
          130361639.42105263,
          131667982.73684211,
          132974326.05263159,
          134280669.36842105,
          135587012.68421054,
          136893356
         ],
         "y": [
          "3",
          "3",
          "3",
          "3",
          "3",
          "3",
          "3",
          "3",
          "3",
          "3",
          "3",
          "3",
          "3",
          "3",
          "3",
          "3",
          "3",
          "3",
          "3",
          "3"
         ]
        },
        {
         "hoverinfo": "text",
         "hoveron": "points+fills",
         "line": {
          "color": "#636EFA",
          "width": 18
         },
         "marker": {
          "opacity": 0,
          "size": 3
         },
         "mode": "lines+markers",
         "showlegend": false,
         "text": [
          "Sample: HGDP00021<br>Chromosome: 3<br>Position: 136907111<br>Prediction: Tatars_2<br>Population: Brahui",
          "Sample: HGDP00021<br>Chromosome: 3<br>Position: 139897385<br>Prediction: Tatars_2<br>Population: Brahui",
          "Sample: HGDP00021<br>Chromosome: 3<br>Position: 142887660<br>Prediction: Tatars_2<br>Population: Brahui",
          "Sample: HGDP00021<br>Chromosome: 3<br>Position: 145877935<br>Prediction: Tatars_2<br>Population: Brahui",
          "Sample: HGDP00021<br>Chromosome: 3<br>Position: 148868209<br>Prediction: Tatars_2<br>Population: Brahui",
          "Sample: HGDP00021<br>Chromosome: 3<br>Position: 151858484<br>Prediction: Tatars_2<br>Population: Brahui",
          "Sample: HGDP00021<br>Chromosome: 3<br>Position: 154848759<br>Prediction: Tatars_2<br>Population: Brahui",
          "Sample: HGDP00021<br>Chromosome: 3<br>Position: 157839033<br>Prediction: Tatars_2<br>Population: Brahui",
          "Sample: HGDP00021<br>Chromosome: 3<br>Position: 160829308<br>Prediction: Tatars_2<br>Population: Brahui",
          "Sample: HGDP00021<br>Chromosome: 3<br>Position: 163819583<br>Prediction: Tatars_2<br>Population: Brahui",
          "Sample: HGDP00021<br>Chromosome: 3<br>Position: 166809857<br>Prediction: Tatars_2<br>Population: Brahui",
          "Sample: HGDP00021<br>Chromosome: 3<br>Position: 169800132<br>Prediction: Tatars_2<br>Population: Brahui",
          "Sample: HGDP00021<br>Chromosome: 3<br>Position: 172790407<br>Prediction: Tatars_2<br>Population: Brahui",
          "Sample: HGDP00021<br>Chromosome: 3<br>Position: 175780681<br>Prediction: Tatars_2<br>Population: Brahui",
          "Sample: HGDP00021<br>Chromosome: 3<br>Position: 178770956<br>Prediction: Tatars_2<br>Population: Brahui",
          "Sample: HGDP00021<br>Chromosome: 3<br>Position: 181761231<br>Prediction: Tatars_2<br>Population: Brahui",
          "Sample: HGDP00021<br>Chromosome: 3<br>Position: 184751505<br>Prediction: Tatars_2<br>Population: Brahui",
          "Sample: HGDP00021<br>Chromosome: 3<br>Position: 187741780<br>Prediction: Tatars_2<br>Population: Brahui",
          "Sample: HGDP00021<br>Chromosome: 3<br>Position: 190732055<br>Prediction: Tatars_2<br>Population: Brahui",
          "Sample: HGDP00021<br>Chromosome: 3<br>Position: 193722330<br>Prediction: Tatars_2<br>Population: Brahui"
         ],
         "type": "scatter",
         "x": [
          136907111,
          139897385.68421054,
          142887660.36842105,
          145877935.0526316,
          148868209.7368421,
          151858484.42105263,
          154848759.10526317,
          157839033.78947368,
          160829308.47368422,
          163819583.15789473,
          166809857.84210527,
          169800132.52631578,
          172790407.21052632,
          175780681.89473683,
          178770956.57894737,
          181761231.2631579,
          184751505.9473684,
          187741780.63157895,
          190732055.31578946,
          193722330
         ],
         "y": [
          "3",
          "3",
          "3",
          "3",
          "3",
          "3",
          "3",
          "3",
          "3",
          "3",
          "3",
          "3",
          "3",
          "3",
          "3",
          "3",
          "3",
          "3",
          "3",
          "3"
         ]
        },
        {
         "hoverinfo": "text",
         "hoveron": "points+fills",
         "line": {
          "color": "#636EFA",
          "width": 18
         },
         "marker": {
          "opacity": 0,
          "size": 3
         },
         "mode": "lines+markers",
         "showlegend": false,
         "text": [
          "Sample: HGDP00021<br>Chromosome: 4<br>Position: 18473310<br>Prediction: Tatars_2<br>Population: Brahui",
          "Sample: HGDP00021<br>Chromosome: 4<br>Position: 19844802<br>Prediction: Tatars_2<br>Population: Brahui",
          "Sample: HGDP00021<br>Chromosome: 4<br>Position: 21216294<br>Prediction: Tatars_2<br>Population: Brahui",
          "Sample: HGDP00021<br>Chromosome: 4<br>Position: 22587787<br>Prediction: Tatars_2<br>Population: Brahui",
          "Sample: HGDP00021<br>Chromosome: 4<br>Position: 23959279<br>Prediction: Tatars_2<br>Population: Brahui",
          "Sample: HGDP00021<br>Chromosome: 4<br>Position: 25330771<br>Prediction: Tatars_2<br>Population: Brahui",
          "Sample: HGDP00021<br>Chromosome: 4<br>Position: 26702264<br>Prediction: Tatars_2<br>Population: Brahui",
          "Sample: HGDP00021<br>Chromosome: 4<br>Position: 28073756<br>Prediction: Tatars_2<br>Population: Brahui",
          "Sample: HGDP00021<br>Chromosome: 4<br>Position: 29445248<br>Prediction: Tatars_2<br>Population: Brahui",
          "Sample: HGDP00021<br>Chromosome: 4<br>Position: 30816741<br>Prediction: Tatars_2<br>Population: Brahui",
          "Sample: HGDP00021<br>Chromosome: 4<br>Position: 32188233<br>Prediction: Tatars_2<br>Population: Brahui",
          "Sample: HGDP00021<br>Chromosome: 4<br>Position: 33559726<br>Prediction: Tatars_2<br>Population: Brahui",
          "Sample: HGDP00021<br>Chromosome: 4<br>Position: 34931218<br>Prediction: Tatars_2<br>Population: Brahui",
          "Sample: HGDP00021<br>Chromosome: 4<br>Position: 36302710<br>Prediction: Tatars_2<br>Population: Brahui",
          "Sample: HGDP00021<br>Chromosome: 4<br>Position: 37674203<br>Prediction: Tatars_2<br>Population: Brahui",
          "Sample: HGDP00021<br>Chromosome: 4<br>Position: 39045695<br>Prediction: Tatars_2<br>Population: Brahui",
          "Sample: HGDP00021<br>Chromosome: 4<br>Position: 40417187<br>Prediction: Tatars_2<br>Population: Brahui",
          "Sample: HGDP00021<br>Chromosome: 4<br>Position: 41788680<br>Prediction: Tatars_2<br>Population: Brahui",
          "Sample: HGDP00021<br>Chromosome: 4<br>Position: 43160172<br>Prediction: Tatars_2<br>Population: Brahui",
          "Sample: HGDP00021<br>Chromosome: 4<br>Position: 44531665<br>Prediction: Tatars_2<br>Population: Brahui"
         ],
         "type": "scatter",
         "x": [
          18473310,
          19844802.36842105,
          21216294.736842103,
          22587787.10526316,
          23959279.47368421,
          25330771.842105262,
          26702264.210526317,
          28073756.57894737,
          29445248.94736842,
          30816741.315789472,
          32188233.684210524,
          33559726.05263158,
          34931218.421052635,
          36302710.78947368,
          37674203.15789474,
          39045695.52631579,
          40417187.89473684,
          41788680.26315789,
          43160172.631578945,
          44531665
         ],
         "y": [
          "4",
          "4",
          "4",
          "4",
          "4",
          "4",
          "4",
          "4",
          "4",
          "4",
          "4",
          "4",
          "4",
          "4",
          "4",
          "4",
          "4",
          "4",
          "4",
          "4"
         ]
        },
        {
         "hoverinfo": "text",
         "hoveron": "points+fills",
         "line": {
          "color": "#EF553B",
          "width": 18
         },
         "marker": {
          "opacity": 0,
          "size": 3
         },
         "mode": "lines+markers",
         "showlegend": false,
         "text": [
          "Sample: HGDP00021<br>Chromosome: 4<br>Position: 44633416<br>Prediction: Altaians_4<br>Population: Brahui",
          "Sample: HGDP00021<br>Chromosome: 4<br>Position: 50499653<br>Prediction: Altaians_4<br>Population: Brahui",
          "Sample: HGDP00021<br>Chromosome: 4<br>Position: 56365891<br>Prediction: Altaians_4<br>Population: Brahui",
          "Sample: HGDP00021<br>Chromosome: 4<br>Position: 62232129<br>Prediction: Altaians_4<br>Population: Brahui",
          "Sample: HGDP00021<br>Chromosome: 4<br>Position: 68098367<br>Prediction: Altaians_4<br>Population: Brahui",
          "Sample: HGDP00021<br>Chromosome: 4<br>Position: 73964605<br>Prediction: Altaians_4<br>Population: Brahui",
          "Sample: HGDP00021<br>Chromosome: 4<br>Position: 79830843<br>Prediction: Altaians_4<br>Population: Brahui",
          "Sample: HGDP00021<br>Chromosome: 4<br>Position: 85697080<br>Prediction: Altaians_4<br>Population: Brahui",
          "Sample: HGDP00021<br>Chromosome: 4<br>Position: 91563318<br>Prediction: Altaians_4<br>Population: Brahui",
          "Sample: HGDP00021<br>Chromosome: 4<br>Position: 97429556<br>Prediction: Altaians_4<br>Population: Brahui",
          "Sample: HGDP00021<br>Chromosome: 4<br>Position: 103295794<br>Prediction: Altaians_4<br>Population: Brahui",
          "Sample: HGDP00021<br>Chromosome: 4<br>Position: 109162032<br>Prediction: Altaians_4<br>Population: Brahui",
          "Sample: HGDP00021<br>Chromosome: 4<br>Position: 115028270<br>Prediction: Altaians_4<br>Population: Brahui",
          "Sample: HGDP00021<br>Chromosome: 4<br>Position: 120894507<br>Prediction: Altaians_4<br>Population: Brahui",
          "Sample: HGDP00021<br>Chromosome: 4<br>Position: 126760745<br>Prediction: Altaians_4<br>Population: Brahui",
          "Sample: HGDP00021<br>Chromosome: 4<br>Position: 132626983<br>Prediction: Altaians_4<br>Population: Brahui",
          "Sample: HGDP00021<br>Chromosome: 4<br>Position: 138493221<br>Prediction: Altaians_4<br>Population: Brahui",
          "Sample: HGDP00021<br>Chromosome: 4<br>Position: 144359459<br>Prediction: Altaians_4<br>Population: Brahui",
          "Sample: HGDP00021<br>Chromosome: 4<br>Position: 150225697<br>Prediction: Altaians_4<br>Population: Brahui",
          "Sample: HGDP00021<br>Chromosome: 4<br>Position: 156091935<br>Prediction: Altaians_4<br>Population: Brahui"
         ],
         "type": "scatter",
         "x": [
          44633416,
          50499653.84210526,
          56365891.684210524,
          62232129.52631579,
          68098367.36842105,
          73964605.21052632,
          79830843.05263159,
          85697080.89473684,
          91563318.7368421,
          97429556.57894737,
          103295794.42105263,
          109162032.26315789,
          115028270.10526316,
          120894507.94736841,
          126760745.78947368,
          132626983.63157894,
          138493221.4736842,
          144359459.31578946,
          150225697.15789473,
          156091935
         ],
         "y": [
          "4",
          "4",
          "4",
          "4",
          "4",
          "4",
          "4",
          "4",
          "4",
          "4",
          "4",
          "4",
          "4",
          "4",
          "4",
          "4",
          "4",
          "4",
          "4",
          "4"
         ]
        },
        {
         "hoverinfo": "text",
         "hoveron": "points+fills",
         "line": {
          "color": "#636EFA",
          "width": 18
         },
         "marker": {
          "opacity": 0,
          "size": 3
         },
         "mode": "lines+markers",
         "showlegend": false,
         "text": [
          "Sample: HGDP00021<br>Chromosome: 4<br>Position: 156173215<br>Prediction: Tatars_2<br>Population: Brahui",
          "Sample: HGDP00021<br>Chromosome: 4<br>Position: 157731928<br>Prediction: Tatars_2<br>Population: Brahui",
          "Sample: HGDP00021<br>Chromosome: 4<br>Position: 159290641<br>Prediction: Tatars_2<br>Population: Brahui",
          "Sample: HGDP00021<br>Chromosome: 4<br>Position: 160849354<br>Prediction: Tatars_2<br>Population: Brahui",
          "Sample: HGDP00021<br>Chromosome: 4<br>Position: 162408067<br>Prediction: Tatars_2<br>Population: Brahui",
          "Sample: HGDP00021<br>Chromosome: 4<br>Position: 163966780<br>Prediction: Tatars_2<br>Population: Brahui",
          "Sample: HGDP00021<br>Chromosome: 4<br>Position: 165525493<br>Prediction: Tatars_2<br>Population: Brahui",
          "Sample: HGDP00021<br>Chromosome: 4<br>Position: 167084206<br>Prediction: Tatars_2<br>Population: Brahui",
          "Sample: HGDP00021<br>Chromosome: 4<br>Position: 168642919<br>Prediction: Tatars_2<br>Population: Brahui",
          "Sample: HGDP00021<br>Chromosome: 4<br>Position: 170201632<br>Prediction: Tatars_2<br>Population: Brahui",
          "Sample: HGDP00021<br>Chromosome: 4<br>Position: 171760345<br>Prediction: Tatars_2<br>Population: Brahui",
          "Sample: HGDP00021<br>Chromosome: 4<br>Position: 173319058<br>Prediction: Tatars_2<br>Population: Brahui",
          "Sample: HGDP00021<br>Chromosome: 4<br>Position: 174877771<br>Prediction: Tatars_2<br>Population: Brahui",
          "Sample: HGDP00021<br>Chromosome: 4<br>Position: 176436484<br>Prediction: Tatars_2<br>Population: Brahui",
          "Sample: HGDP00021<br>Chromosome: 4<br>Position: 177995197<br>Prediction: Tatars_2<br>Population: Brahui",
          "Sample: HGDP00021<br>Chromosome: 4<br>Position: 179553910<br>Prediction: Tatars_2<br>Population: Brahui",
          "Sample: HGDP00021<br>Chromosome: 4<br>Position: 181112623<br>Prediction: Tatars_2<br>Population: Brahui",
          "Sample: HGDP00021<br>Chromosome: 4<br>Position: 182671336<br>Prediction: Tatars_2<br>Population: Brahui",
          "Sample: HGDP00021<br>Chromosome: 4<br>Position: 184230049<br>Prediction: Tatars_2<br>Population: Brahui",
          "Sample: HGDP00021<br>Chromosome: 4<br>Position: 185788762<br>Prediction: Tatars_2<br>Population: Brahui"
         ],
         "type": "scatter",
         "x": [
          156173215,
          157731928,
          159290641,
          160849354,
          162408067,
          163966780,
          165525493,
          167084206,
          168642919,
          170201632,
          171760345,
          173319058,
          174877771,
          176436484,
          177995197,
          179553910,
          181112623,
          182671336,
          184230049,
          185788762
         ],
         "y": [
          "4",
          "4",
          "4",
          "4",
          "4",
          "4",
          "4",
          "4",
          "4",
          "4",
          "4",
          "4",
          "4",
          "4",
          "4",
          "4",
          "4",
          "4",
          "4",
          "4"
         ]
        },
        {
         "hoverinfo": "text",
         "hoveron": "points+fills",
         "line": {
          "color": "#636EFA",
          "width": 18
         },
         "marker": {
          "opacity": 0,
          "size": 3
         },
         "mode": "lines+markers",
         "showlegend": false,
         "text": [
          "Sample: HGDP00021<br>Chromosome: 5<br>Position: 15571736<br>Prediction: Tatars_2<br>Population: Brahui",
          "Sample: HGDP00021<br>Chromosome: 5<br>Position: 22801682<br>Prediction: Tatars_2<br>Population: Brahui",
          "Sample: HGDP00021<br>Chromosome: 5<br>Position: 30031629<br>Prediction: Tatars_2<br>Population: Brahui",
          "Sample: HGDP00021<br>Chromosome: 5<br>Position: 37261576<br>Prediction: Tatars_2<br>Population: Brahui",
          "Sample: HGDP00021<br>Chromosome: 5<br>Position: 44491523<br>Prediction: Tatars_2<br>Population: Brahui",
          "Sample: HGDP00021<br>Chromosome: 5<br>Position: 51721470<br>Prediction: Tatars_2<br>Population: Brahui",
          "Sample: HGDP00021<br>Chromosome: 5<br>Position: 58951417<br>Prediction: Tatars_2<br>Population: Brahui",
          "Sample: HGDP00021<br>Chromosome: 5<br>Position: 66181364<br>Prediction: Tatars_2<br>Population: Brahui",
          "Sample: HGDP00021<br>Chromosome: 5<br>Position: 73411311<br>Prediction: Tatars_2<br>Population: Brahui",
          "Sample: HGDP00021<br>Chromosome: 5<br>Position: 80641258<br>Prediction: Tatars_2<br>Population: Brahui",
          "Sample: HGDP00021<br>Chromosome: 5<br>Position: 87871205<br>Prediction: Tatars_2<br>Population: Brahui",
          "Sample: HGDP00021<br>Chromosome: 5<br>Position: 95101152<br>Prediction: Tatars_2<br>Population: Brahui",
          "Sample: HGDP00021<br>Chromosome: 5<br>Position: 102331099<br>Prediction: Tatars_2<br>Population: Brahui",
          "Sample: HGDP00021<br>Chromosome: 5<br>Position: 109561046<br>Prediction: Tatars_2<br>Population: Brahui",
          "Sample: HGDP00021<br>Chromosome: 5<br>Position: 116790993<br>Prediction: Tatars_2<br>Population: Brahui",
          "Sample: HGDP00021<br>Chromosome: 5<br>Position: 124020940<br>Prediction: Tatars_2<br>Population: Brahui",
          "Sample: HGDP00021<br>Chromosome: 5<br>Position: 131250887<br>Prediction: Tatars_2<br>Population: Brahui",
          "Sample: HGDP00021<br>Chromosome: 5<br>Position: 138480834<br>Prediction: Tatars_2<br>Population: Brahui",
          "Sample: HGDP00021<br>Chromosome: 5<br>Position: 145710781<br>Prediction: Tatars_2<br>Population: Brahui",
          "Sample: HGDP00021<br>Chromosome: 5<br>Position: 152940728<br>Prediction: Tatars_2<br>Population: Brahui"
         ],
         "type": "scatter",
         "x": [
          15571736,
          22801682.94736842,
          30031629.89473684,
          37261576.84210526,
          44491523.78947368,
          51721470.7368421,
          58951417.684210524,
          66181364.631578945,
          73411311.57894737,
          80641258.52631578,
          87871205.4736842,
          95101152.42105263,
          102331099.36842105,
          109561046.31578946,
          116790993.26315789,
          124020940.21052632,
          131250887.15789473,
          138480834.10526314,
          145710781.05263156,
          152940728
         ],
         "y": [
          "5",
          "5",
          "5",
          "5",
          "5",
          "5",
          "5",
          "5",
          "5",
          "5",
          "5",
          "5",
          "5",
          "5",
          "5",
          "5",
          "5",
          "5",
          "5",
          "5"
         ]
        },
        {
         "hoverinfo": "text",
         "hoveron": "points+fills",
         "line": {
          "color": "#EF553B",
          "width": 18
         },
         "marker": {
          "opacity": 0,
          "size": 3
         },
         "mode": "lines+markers",
         "showlegend": false,
         "text": [
          "Sample: HGDP00021<br>Chromosome: 5<br>Position: 152960378<br>Prediction: Altaians_4<br>Population: Brahui",
          "Sample: HGDP00021<br>Chromosome: 5<br>Position: 154123500<br>Prediction: Altaians_4<br>Population: Brahui",
          "Sample: HGDP00021<br>Chromosome: 5<br>Position: 155286623<br>Prediction: Altaians_4<br>Population: Brahui",
          "Sample: HGDP00021<br>Chromosome: 5<br>Position: 156449746<br>Prediction: Altaians_4<br>Population: Brahui",
          "Sample: HGDP00021<br>Chromosome: 5<br>Position: 157612869<br>Prediction: Altaians_4<br>Population: Brahui",
          "Sample: HGDP00021<br>Chromosome: 5<br>Position: 158775992<br>Prediction: Altaians_4<br>Population: Brahui",
          "Sample: HGDP00021<br>Chromosome: 5<br>Position: 159939115<br>Prediction: Altaians_4<br>Population: Brahui",
          "Sample: HGDP00021<br>Chromosome: 5<br>Position: 161102238<br>Prediction: Altaians_4<br>Population: Brahui",
          "Sample: HGDP00021<br>Chromosome: 5<br>Position: 162265361<br>Prediction: Altaians_4<br>Population: Brahui",
          "Sample: HGDP00021<br>Chromosome: 5<br>Position: 163428484<br>Prediction: Altaians_4<br>Population: Brahui",
          "Sample: HGDP00021<br>Chromosome: 5<br>Position: 164591606<br>Prediction: Altaians_4<br>Population: Brahui",
          "Sample: HGDP00021<br>Chromosome: 5<br>Position: 165754729<br>Prediction: Altaians_4<br>Population: Brahui",
          "Sample: HGDP00021<br>Chromosome: 5<br>Position: 166917852<br>Prediction: Altaians_4<br>Population: Brahui",
          "Sample: HGDP00021<br>Chromosome: 5<br>Position: 168080975<br>Prediction: Altaians_4<br>Population: Brahui",
          "Sample: HGDP00021<br>Chromosome: 5<br>Position: 169244098<br>Prediction: Altaians_4<br>Population: Brahui",
          "Sample: HGDP00021<br>Chromosome: 5<br>Position: 170407221<br>Prediction: Altaians_4<br>Population: Brahui",
          "Sample: HGDP00021<br>Chromosome: 5<br>Position: 171570344<br>Prediction: Altaians_4<br>Population: Brahui",
          "Sample: HGDP00021<br>Chromosome: 5<br>Position: 172733467<br>Prediction: Altaians_4<br>Population: Brahui",
          "Sample: HGDP00021<br>Chromosome: 5<br>Position: 173896590<br>Prediction: Altaians_4<br>Population: Brahui",
          "Sample: HGDP00021<br>Chromosome: 5<br>Position: 175059713<br>Prediction: Altaians_4<br>Population: Brahui"
         ],
         "type": "scatter",
         "x": [
          152960378,
          154123500.89473686,
          155286623.78947368,
          156449746.68421054,
          157612869.57894737,
          158775992.47368422,
          159939115.36842105,
          161102238.2631579,
          162265361.15789473,
          163428484.0526316,
          164591606.9473684,
          165754729.84210527,
          166917852.7368421,
          168080975.63157895,
          169244098.52631578,
          170407221.42105263,
          171570344.31578946,
          172733467.21052632,
          173896590.10526314,
          175059713
         ],
         "y": [
          "5",
          "5",
          "5",
          "5",
          "5",
          "5",
          "5",
          "5",
          "5",
          "5",
          "5",
          "5",
          "5",
          "5",
          "5",
          "5",
          "5",
          "5",
          "5",
          "5"
         ]
        },
        {
         "hoverinfo": "text",
         "hoveron": "points+fills",
         "line": {
          "color": "#636EFA",
          "width": 18
         },
         "marker": {
          "opacity": 0,
          "size": 3
         },
         "mode": "lines+markers",
         "showlegend": false,
         "text": [
          "Sample: HGDP00021<br>Chromosome: 6<br>Position: 14329647<br>Prediction: Tatars_2<br>Population: Brahui",
          "Sample: HGDP00021<br>Chromosome: 6<br>Position: 15811798<br>Prediction: Tatars_2<br>Population: Brahui",
          "Sample: HGDP00021<br>Chromosome: 6<br>Position: 17293949<br>Prediction: Tatars_2<br>Population: Brahui",
          "Sample: HGDP00021<br>Chromosome: 6<br>Position: 18776100<br>Prediction: Tatars_2<br>Population: Brahui",
          "Sample: HGDP00021<br>Chromosome: 6<br>Position: 20258252<br>Prediction: Tatars_2<br>Population: Brahui",
          "Sample: HGDP00021<br>Chromosome: 6<br>Position: 21740403<br>Prediction: Tatars_2<br>Population: Brahui",
          "Sample: HGDP00021<br>Chromosome: 6<br>Position: 23222554<br>Prediction: Tatars_2<br>Population: Brahui",
          "Sample: HGDP00021<br>Chromosome: 6<br>Position: 24704706<br>Prediction: Tatars_2<br>Population: Brahui",
          "Sample: HGDP00021<br>Chromosome: 6<br>Position: 26186857<br>Prediction: Tatars_2<br>Population: Brahui",
          "Sample: HGDP00021<br>Chromosome: 6<br>Position: 27669008<br>Prediction: Tatars_2<br>Population: Brahui",
          "Sample: HGDP00021<br>Chromosome: 6<br>Position: 29151160<br>Prediction: Tatars_2<br>Population: Brahui",
          "Sample: HGDP00021<br>Chromosome: 6<br>Position: 30633311<br>Prediction: Tatars_2<br>Population: Brahui",
          "Sample: HGDP00021<br>Chromosome: 6<br>Position: 32115462<br>Prediction: Tatars_2<br>Population: Brahui",
          "Sample: HGDP00021<br>Chromosome: 6<br>Position: 33597614<br>Prediction: Tatars_2<br>Population: Brahui",
          "Sample: HGDP00021<br>Chromosome: 6<br>Position: 35079765<br>Prediction: Tatars_2<br>Population: Brahui",
          "Sample: HGDP00021<br>Chromosome: 6<br>Position: 36561916<br>Prediction: Tatars_2<br>Population: Brahui",
          "Sample: HGDP00021<br>Chromosome: 6<br>Position: 38044068<br>Prediction: Tatars_2<br>Population: Brahui",
          "Sample: HGDP00021<br>Chromosome: 6<br>Position: 39526219<br>Prediction: Tatars_2<br>Population: Brahui",
          "Sample: HGDP00021<br>Chromosome: 6<br>Position: 41008370<br>Prediction: Tatars_2<br>Population: Brahui",
          "Sample: HGDP00021<br>Chromosome: 6<br>Position: 42490522<br>Prediction: Tatars_2<br>Population: Brahui"
         ],
         "type": "scatter",
         "x": [
          14329647,
          15811798.315789474,
          17293949.63157895,
          18776100.94736842,
          20258252.263157897,
          21740403.57894737,
          23222554.89473684,
          24704706.210526317,
          26186857.52631579,
          27669008.842105262,
          29151160.157894738,
          30633311.47368421,
          32115462.789473683,
          33597614.10526316,
          35079765.421052635,
          36561916.73684211,
          38044068.05263158,
          39526219.36842105,
          41008370.684210524,
          42490522
         ],
         "y": [
          "6",
          "6",
          "6",
          "6",
          "6",
          "6",
          "6",
          "6",
          "6",
          "6",
          "6",
          "6",
          "6",
          "6",
          "6",
          "6",
          "6",
          "6",
          "6",
          "6"
         ]
        },
        {
         "hoverinfo": "text",
         "hoveron": "points+fills",
         "line": {
          "color": "#EF553B",
          "width": 18
         },
         "marker": {
          "opacity": 0,
          "size": 3
         },
         "mode": "lines+markers",
         "showlegend": false,
         "text": [
          "Sample: HGDP00021<br>Chromosome: 6<br>Position: 42659979<br>Prediction: Altaians_4<br>Population: Brahui",
          "Sample: HGDP00021<br>Chromosome: 6<br>Position: 44847389<br>Prediction: Altaians_4<br>Population: Brahui",
          "Sample: HGDP00021<br>Chromosome: 6<br>Position: 47034799<br>Prediction: Altaians_4<br>Population: Brahui",
          "Sample: HGDP00021<br>Chromosome: 6<br>Position: 49222209<br>Prediction: Altaians_4<br>Population: Brahui",
          "Sample: HGDP00021<br>Chromosome: 6<br>Position: 51409619<br>Prediction: Altaians_4<br>Population: Brahui",
          "Sample: HGDP00021<br>Chromosome: 6<br>Position: 53597029<br>Prediction: Altaians_4<br>Population: Brahui",
          "Sample: HGDP00021<br>Chromosome: 6<br>Position: 55784439<br>Prediction: Altaians_4<br>Population: Brahui",
          "Sample: HGDP00021<br>Chromosome: 6<br>Position: 57971849<br>Prediction: Altaians_4<br>Population: Brahui",
          "Sample: HGDP00021<br>Chromosome: 6<br>Position: 60159259<br>Prediction: Altaians_4<br>Population: Brahui",
          "Sample: HGDP00021<br>Chromosome: 6<br>Position: 62346669<br>Prediction: Altaians_4<br>Population: Brahui",
          "Sample: HGDP00021<br>Chromosome: 6<br>Position: 64534079<br>Prediction: Altaians_4<br>Population: Brahui",
          "Sample: HGDP00021<br>Chromosome: 6<br>Position: 66721489<br>Prediction: Altaians_4<br>Population: Brahui",
          "Sample: HGDP00021<br>Chromosome: 6<br>Position: 68908899<br>Prediction: Altaians_4<br>Population: Brahui",
          "Sample: HGDP00021<br>Chromosome: 6<br>Position: 71096309<br>Prediction: Altaians_4<br>Population: Brahui",
          "Sample: HGDP00021<br>Chromosome: 6<br>Position: 73283719<br>Prediction: Altaians_4<br>Population: Brahui",
          "Sample: HGDP00021<br>Chromosome: 6<br>Position: 75471129<br>Prediction: Altaians_4<br>Population: Brahui",
          "Sample: HGDP00021<br>Chromosome: 6<br>Position: 77658539<br>Prediction: Altaians_4<br>Population: Brahui",
          "Sample: HGDP00021<br>Chromosome: 6<br>Position: 79845949<br>Prediction: Altaians_4<br>Population: Brahui",
          "Sample: HGDP00021<br>Chromosome: 6<br>Position: 82033359<br>Prediction: Altaians_4<br>Population: Brahui",
          "Sample: HGDP00021<br>Chromosome: 6<br>Position: 84220770<br>Prediction: Altaians_4<br>Population: Brahui"
         ],
         "type": "scatter",
         "x": [
          42659979,
          44847389.05263158,
          47034799.10526316,
          49222209.15789474,
          51409619.21052632,
          53597029.2631579,
          55784439.315789476,
          57971849.36842105,
          60159259.421052635,
          62346669.47368421,
          64534079.52631579,
          66721489.578947365,
          68908899.63157895,
          71096309.68421052,
          73283719.7368421,
          75471129.78947368,
          77658539.84210527,
          79845949.89473684,
          82033359.94736841,
          84220770
         ],
         "y": [
          "6",
          "6",
          "6",
          "6",
          "6",
          "6",
          "6",
          "6",
          "6",
          "6",
          "6",
          "6",
          "6",
          "6",
          "6",
          "6",
          "6",
          "6",
          "6",
          "6"
         ]
        },
        {
         "hoverinfo": "text",
         "hoveron": "points+fills",
         "line": {
          "color": "#636EFA",
          "width": 18
         },
         "marker": {
          "opacity": 0,
          "size": 3
         },
         "mode": "lines+markers",
         "showlegend": false,
         "text": [
          "Sample: HGDP00021<br>Chromosome: 6<br>Position: 84277037<br>Prediction: Tatars_2<br>Population: Brahui",
          "Sample: HGDP00021<br>Chromosome: 6<br>Position: 85943093<br>Prediction: Tatars_2<br>Population: Brahui",
          "Sample: HGDP00021<br>Chromosome: 6<br>Position: 87609149<br>Prediction: Tatars_2<br>Population: Brahui",
          "Sample: HGDP00021<br>Chromosome: 6<br>Position: 89275205<br>Prediction: Tatars_2<br>Population: Brahui",
          "Sample: HGDP00021<br>Chromosome: 6<br>Position: 90941261<br>Prediction: Tatars_2<br>Population: Brahui",
          "Sample: HGDP00021<br>Chromosome: 6<br>Position: 92607317<br>Prediction: Tatars_2<br>Population: Brahui",
          "Sample: HGDP00021<br>Chromosome: 6<br>Position: 94273373<br>Prediction: Tatars_2<br>Population: Brahui",
          "Sample: HGDP00021<br>Chromosome: 6<br>Position: 95939429<br>Prediction: Tatars_2<br>Population: Brahui",
          "Sample: HGDP00021<br>Chromosome: 6<br>Position: 97605485<br>Prediction: Tatars_2<br>Population: Brahui",
          "Sample: HGDP00021<br>Chromosome: 6<br>Position: 99271541<br>Prediction: Tatars_2<br>Population: Brahui",
          "Sample: HGDP00021<br>Chromosome: 6<br>Position: 100937598<br>Prediction: Tatars_2<br>Population: Brahui",
          "Sample: HGDP00021<br>Chromosome: 6<br>Position: 102603654<br>Prediction: Tatars_2<br>Population: Brahui",
          "Sample: HGDP00021<br>Chromosome: 6<br>Position: 104269710<br>Prediction: Tatars_2<br>Population: Brahui",
          "Sample: HGDP00021<br>Chromosome: 6<br>Position: 105935766<br>Prediction: Tatars_2<br>Population: Brahui",
          "Sample: HGDP00021<br>Chromosome: 6<br>Position: 107601822<br>Prediction: Tatars_2<br>Population: Brahui",
          "Sample: HGDP00021<br>Chromosome: 6<br>Position: 109267878<br>Prediction: Tatars_2<br>Population: Brahui",
          "Sample: HGDP00021<br>Chromosome: 6<br>Position: 110933934<br>Prediction: Tatars_2<br>Population: Brahui",
          "Sample: HGDP00021<br>Chromosome: 6<br>Position: 112599990<br>Prediction: Tatars_2<br>Population: Brahui",
          "Sample: HGDP00021<br>Chromosome: 6<br>Position: 114266046<br>Prediction: Tatars_2<br>Population: Brahui",
          "Sample: HGDP00021<br>Chromosome: 6<br>Position: 115932103<br>Prediction: Tatars_2<br>Population: Brahui"
         ],
         "type": "scatter",
         "x": [
          84277037,
          85943093.10526316,
          87609149.21052632,
          89275205.31578948,
          90941261.42105263,
          92607317.5263158,
          94273373.63157895,
          95939429.73684211,
          97605485.84210527,
          99271541.94736843,
          100937598.05263159,
          102603654.15789473,
          104269710.2631579,
          105935766.36842105,
          107601822.4736842,
          109267878.57894737,
          110933934.68421052,
          112599990.78947368,
          114266046.89473684,
          115932103
         ],
         "y": [
          "6",
          "6",
          "6",
          "6",
          "6",
          "6",
          "6",
          "6",
          "6",
          "6",
          "6",
          "6",
          "6",
          "6",
          "6",
          "6",
          "6",
          "6",
          "6",
          "6"
         ]
        },
        {
         "hoverinfo": "text",
         "hoveron": "points+fills",
         "line": {
          "color": "#EF553B",
          "width": 18
         },
         "marker": {
          "opacity": 0,
          "size": 3
         },
         "mode": "lines+markers",
         "showlegend": false,
         "text": [
          "Sample: HGDP00021<br>Chromosome: 6<br>Position: 116005535<br>Prediction: Altaians_4<br>Population: Brahui",
          "Sample: HGDP00021<br>Chromosome: 6<br>Position: 117634735<br>Prediction: Altaians_4<br>Population: Brahui",
          "Sample: HGDP00021<br>Chromosome: 6<br>Position: 119263936<br>Prediction: Altaians_4<br>Population: Brahui",
          "Sample: HGDP00021<br>Chromosome: 6<br>Position: 120893137<br>Prediction: Altaians_4<br>Population: Brahui",
          "Sample: HGDP00021<br>Chromosome: 6<br>Position: 122522338<br>Prediction: Altaians_4<br>Population: Brahui",
          "Sample: HGDP00021<br>Chromosome: 6<br>Position: 124151539<br>Prediction: Altaians_4<br>Population: Brahui",
          "Sample: HGDP00021<br>Chromosome: 6<br>Position: 125780740<br>Prediction: Altaians_4<br>Population: Brahui",
          "Sample: HGDP00021<br>Chromosome: 6<br>Position: 127409941<br>Prediction: Altaians_4<br>Population: Brahui",
          "Sample: HGDP00021<br>Chromosome: 6<br>Position: 129039142<br>Prediction: Altaians_4<br>Population: Brahui",
          "Sample: HGDP00021<br>Chromosome: 6<br>Position: 130668343<br>Prediction: Altaians_4<br>Population: Brahui",
          "Sample: HGDP00021<br>Chromosome: 6<br>Position: 132297544<br>Prediction: Altaians_4<br>Population: Brahui",
          "Sample: HGDP00021<br>Chromosome: 6<br>Position: 133926745<br>Prediction: Altaians_4<br>Population: Brahui",
          "Sample: HGDP00021<br>Chromosome: 6<br>Position: 135555946<br>Prediction: Altaians_4<br>Population: Brahui",
          "Sample: HGDP00021<br>Chromosome: 6<br>Position: 137185147<br>Prediction: Altaians_4<br>Population: Brahui",
          "Sample: HGDP00021<br>Chromosome: 6<br>Position: 138814348<br>Prediction: Altaians_4<br>Population: Brahui",
          "Sample: HGDP00021<br>Chromosome: 6<br>Position: 140443549<br>Prediction: Altaians_4<br>Population: Brahui",
          "Sample: HGDP00021<br>Chromosome: 6<br>Position: 142072750<br>Prediction: Altaians_4<br>Population: Brahui",
          "Sample: HGDP00021<br>Chromosome: 6<br>Position: 143701951<br>Prediction: Altaians_4<br>Population: Brahui",
          "Sample: HGDP00021<br>Chromosome: 6<br>Position: 145331152<br>Prediction: Altaians_4<br>Population: Brahui",
          "Sample: HGDP00021<br>Chromosome: 6<br>Position: 146960353<br>Prediction: Altaians_4<br>Population: Brahui"
         ],
         "type": "scatter",
         "x": [
          116005535,
          117634735.94736843,
          119263936.89473684,
          120893137.84210527,
          122522338.78947368,
          124151539.73684211,
          125780740.68421052,
          127409941.63157895,
          129039142.57894737,
          130668343.5263158,
          132297544.4736842,
          133926745.42105263,
          135555946.36842105,
          137185147.31578946,
          138814348.2631579,
          140443549.21052632,
          142072750.15789473,
          143701951.10526317,
          145331152.0526316,
          146960353
         ],
         "y": [
          "6",
          "6",
          "6",
          "6",
          "6",
          "6",
          "6",
          "6",
          "6",
          "6",
          "6",
          "6",
          "6",
          "6",
          "6",
          "6",
          "6",
          "6",
          "6",
          "6"
         ]
        },
        {
         "hoverinfo": "text",
         "hoveron": "points+fills",
         "line": {
          "color": "#00CC96",
          "width": 18
         },
         "marker": {
          "opacity": 0,
          "size": 3
         },
         "mode": "lines+markers",
         "showlegend": false,
         "text": [
          "Sample: HGDP00021<br>Chromosome: 7<br>Position: 3609712<br>Prediction: Finnish_1<br>Population: Brahui",
          "Sample: HGDP00021<br>Chromosome: 7<br>Position: 4892905<br>Prediction: Finnish_1<br>Population: Brahui",
          "Sample: HGDP00021<br>Chromosome: 7<br>Position: 6176099<br>Prediction: Finnish_1<br>Population: Brahui",
          "Sample: HGDP00021<br>Chromosome: 7<br>Position: 7459292<br>Prediction: Finnish_1<br>Population: Brahui",
          "Sample: HGDP00021<br>Chromosome: 7<br>Position: 8742486<br>Prediction: Finnish_1<br>Population: Brahui",
          "Sample: HGDP00021<br>Chromosome: 7<br>Position: 10025680<br>Prediction: Finnish_1<br>Population: Brahui",
          "Sample: HGDP00021<br>Chromosome: 7<br>Position: 11308873<br>Prediction: Finnish_1<br>Population: Brahui",
          "Sample: HGDP00021<br>Chromosome: 7<br>Position: 12592067<br>Prediction: Finnish_1<br>Population: Brahui",
          "Sample: HGDP00021<br>Chromosome: 7<br>Position: 13875261<br>Prediction: Finnish_1<br>Population: Brahui",
          "Sample: HGDP00021<br>Chromosome: 7<br>Position: 15158454<br>Prediction: Finnish_1<br>Population: Brahui",
          "Sample: HGDP00021<br>Chromosome: 7<br>Position: 16441648<br>Prediction: Finnish_1<br>Population: Brahui",
          "Sample: HGDP00021<br>Chromosome: 7<br>Position: 17724841<br>Prediction: Finnish_1<br>Population: Brahui",
          "Sample: HGDP00021<br>Chromosome: 7<br>Position: 19008035<br>Prediction: Finnish_1<br>Population: Brahui",
          "Sample: HGDP00021<br>Chromosome: 7<br>Position: 20291229<br>Prediction: Finnish_1<br>Population: Brahui",
          "Sample: HGDP00021<br>Chromosome: 7<br>Position: 21574422<br>Prediction: Finnish_1<br>Population: Brahui",
          "Sample: HGDP00021<br>Chromosome: 7<br>Position: 22857616<br>Prediction: Finnish_1<br>Population: Brahui",
          "Sample: HGDP00021<br>Chromosome: 7<br>Position: 24140810<br>Prediction: Finnish_1<br>Population: Brahui",
          "Sample: HGDP00021<br>Chromosome: 7<br>Position: 25424003<br>Prediction: Finnish_1<br>Population: Brahui",
          "Sample: HGDP00021<br>Chromosome: 7<br>Position: 26707197<br>Prediction: Finnish_1<br>Population: Brahui",
          "Sample: HGDP00021<br>Chromosome: 7<br>Position: 27990391<br>Prediction: Finnish_1<br>Population: Brahui"
         ],
         "type": "scatter",
         "x": [
          3609712,
          4892905.631578947,
          6176099.263157895,
          7459292.894736842,
          8742486.52631579,
          10025680.157894738,
          11308873.789473685,
          12592067.421052631,
          13875261.05263158,
          15158454.684210528,
          16441648.315789474,
          17724841.94736842,
          19008035.57894737,
          20291229.210526317,
          21574422.842105262,
          22857616.47368421,
          24140810.10526316,
          25424003.736842107,
          26707197.368421055,
          27990391
         ],
         "y": [
          "7",
          "7",
          "7",
          "7",
          "7",
          "7",
          "7",
          "7",
          "7",
          "7",
          "7",
          "7",
          "7",
          "7",
          "7",
          "7",
          "7",
          "7",
          "7",
          "7"
         ]
        },
        {
         "hoverinfo": "text",
         "hoveron": "points+fills",
         "line": {
          "color": "#636EFA",
          "width": 18
         },
         "marker": {
          "opacity": 0,
          "size": 3
         },
         "mode": "lines+markers",
         "showlegend": false,
         "text": [
          "Sample: HGDP00021<br>Chromosome: 7<br>Position: 28039797<br>Prediction: Tatars_2<br>Population: Brahui",
          "Sample: HGDP00021<br>Chromosome: 7<br>Position: 30120198<br>Prediction: Tatars_2<br>Population: Brahui",
          "Sample: HGDP00021<br>Chromosome: 7<br>Position: 32200600<br>Prediction: Tatars_2<br>Population: Brahui",
          "Sample: HGDP00021<br>Chromosome: 7<br>Position: 34281002<br>Prediction: Tatars_2<br>Population: Brahui",
          "Sample: HGDP00021<br>Chromosome: 7<br>Position: 36361403<br>Prediction: Tatars_2<br>Population: Brahui",
          "Sample: HGDP00021<br>Chromosome: 7<br>Position: 38441805<br>Prediction: Tatars_2<br>Population: Brahui",
          "Sample: HGDP00021<br>Chromosome: 7<br>Position: 40522207<br>Prediction: Tatars_2<br>Population: Brahui",
          "Sample: HGDP00021<br>Chromosome: 7<br>Position: 42602608<br>Prediction: Tatars_2<br>Population: Brahui",
          "Sample: HGDP00021<br>Chromosome: 7<br>Position: 44683010<br>Prediction: Tatars_2<br>Population: Brahui",
          "Sample: HGDP00021<br>Chromosome: 7<br>Position: 46763412<br>Prediction: Tatars_2<br>Population: Brahui",
          "Sample: HGDP00021<br>Chromosome: 7<br>Position: 48843813<br>Prediction: Tatars_2<br>Population: Brahui",
          "Sample: HGDP00021<br>Chromosome: 7<br>Position: 50924215<br>Prediction: Tatars_2<br>Population: Brahui",
          "Sample: HGDP00021<br>Chromosome: 7<br>Position: 53004617<br>Prediction: Tatars_2<br>Population: Brahui",
          "Sample: HGDP00021<br>Chromosome: 7<br>Position: 55085018<br>Prediction: Tatars_2<br>Population: Brahui",
          "Sample: HGDP00021<br>Chromosome: 7<br>Position: 57165420<br>Prediction: Tatars_2<br>Population: Brahui",
          "Sample: HGDP00021<br>Chromosome: 7<br>Position: 59245822<br>Prediction: Tatars_2<br>Population: Brahui",
          "Sample: HGDP00021<br>Chromosome: 7<br>Position: 61326223<br>Prediction: Tatars_2<br>Population: Brahui",
          "Sample: HGDP00021<br>Chromosome: 7<br>Position: 63406625<br>Prediction: Tatars_2<br>Population: Brahui",
          "Sample: HGDP00021<br>Chromosome: 7<br>Position: 65487027<br>Prediction: Tatars_2<br>Population: Brahui",
          "Sample: HGDP00021<br>Chromosome: 7<br>Position: 67567429<br>Prediction: Tatars_2<br>Population: Brahui"
         ],
         "type": "scatter",
         "x": [
          28039797,
          30120198.684210528,
          32200600.36842105,
          34281002.05263158,
          36361403.7368421,
          38441805.421052635,
          40522207.10526316,
          42602608.78947368,
          44683010.47368421,
          46763412.15789474,
          48843813.84210526,
          50924215.52631579,
          53004617.21052632,
          55085018.89473684,
          57165420.578947365,
          59245822.26315789,
          61326223.94736842,
          63406625.631578945,
          65487027.315789476,
          67567429
         ],
         "y": [
          "7",
          "7",
          "7",
          "7",
          "7",
          "7",
          "7",
          "7",
          "7",
          "7",
          "7",
          "7",
          "7",
          "7",
          "7",
          "7",
          "7",
          "7",
          "7",
          "7"
         ]
        },
        {
         "hoverinfo": "text",
         "hoveron": "points+fills",
         "line": {
          "color": "#00CC96",
          "width": 18
         },
         "marker": {
          "opacity": 0,
          "size": 3
         },
         "mode": "lines+markers",
         "showlegend": false,
         "text": [
          "Sample: HGDP00021<br>Chromosome: 7<br>Position: 67590850<br>Prediction: Finnish_1<br>Population: Brahui",
          "Sample: HGDP00021<br>Chromosome: 7<br>Position: 71769478<br>Prediction: Finnish_1<br>Population: Brahui",
          "Sample: HGDP00021<br>Chromosome: 7<br>Position: 75948106<br>Prediction: Finnish_1<br>Population: Brahui",
          "Sample: HGDP00021<br>Chromosome: 7<br>Position: 80126734<br>Prediction: Finnish_1<br>Population: Brahui",
          "Sample: HGDP00021<br>Chromosome: 7<br>Position: 84305362<br>Prediction: Finnish_1<br>Population: Brahui",
          "Sample: HGDP00021<br>Chromosome: 7<br>Position: 88483990<br>Prediction: Finnish_1<br>Population: Brahui",
          "Sample: HGDP00021<br>Chromosome: 7<br>Position: 92662618<br>Prediction: Finnish_1<br>Population: Brahui",
          "Sample: HGDP00021<br>Chromosome: 7<br>Position: 96841246<br>Prediction: Finnish_1<br>Population: Brahui",
          "Sample: HGDP00021<br>Chromosome: 7<br>Position: 101019874<br>Prediction: Finnish_1<br>Population: Brahui",
          "Sample: HGDP00021<br>Chromosome: 7<br>Position: 105198502<br>Prediction: Finnish_1<br>Population: Brahui",
          "Sample: HGDP00021<br>Chromosome: 7<br>Position: 109377130<br>Prediction: Finnish_1<br>Population: Brahui",
          "Sample: HGDP00021<br>Chromosome: 7<br>Position: 113555758<br>Prediction: Finnish_1<br>Population: Brahui",
          "Sample: HGDP00021<br>Chromosome: 7<br>Position: 117734386<br>Prediction: Finnish_1<br>Population: Brahui",
          "Sample: HGDP00021<br>Chromosome: 7<br>Position: 121913014<br>Prediction: Finnish_1<br>Population: Brahui",
          "Sample: HGDP00021<br>Chromosome: 7<br>Position: 126091642<br>Prediction: Finnish_1<br>Population: Brahui",
          "Sample: HGDP00021<br>Chromosome: 7<br>Position: 130270270<br>Prediction: Finnish_1<br>Population: Brahui",
          "Sample: HGDP00021<br>Chromosome: 7<br>Position: 134448898<br>Prediction: Finnish_1<br>Population: Brahui",
          "Sample: HGDP00021<br>Chromosome: 7<br>Position: 138627526<br>Prediction: Finnish_1<br>Population: Brahui",
          "Sample: HGDP00021<br>Chromosome: 7<br>Position: 142806154<br>Prediction: Finnish_1<br>Population: Brahui",
          "Sample: HGDP00021<br>Chromosome: 7<br>Position: 146984783<br>Prediction: Finnish_1<br>Population: Brahui"
         ],
         "type": "scatter",
         "x": [
          67590850,
          71769478.05263157,
          75948106.10526316,
          80126734.15789473,
          84305362.21052632,
          88483990.26315789,
          92662618.31578948,
          96841246.36842105,
          101019874.42105263,
          105198502.4736842,
          109377130.52631578,
          113555758.57894737,
          117734386.63157895,
          121913014.68421052,
          126091642.7368421,
          130270270.78947368,
          134448898.84210527,
          138627526.89473683,
          142806154.9473684,
          146984783
         ],
         "y": [
          "7",
          "7",
          "7",
          "7",
          "7",
          "7",
          "7",
          "7",
          "7",
          "7",
          "7",
          "7",
          "7",
          "7",
          "7",
          "7",
          "7",
          "7",
          "7",
          "7"
         ]
        },
        {
         "hoverinfo": "text",
         "hoveron": "points+fills",
         "line": {
          "color": "#636EFA",
          "width": 18
         },
         "marker": {
          "opacity": 0,
          "size": 3
         },
         "mode": "lines+markers",
         "showlegend": false,
         "text": [
          "Sample: HGDP00021<br>Chromosome: 8<br>Position: 9375944<br>Prediction: Tatars_2<br>Population: Brahui",
          "Sample: HGDP00021<br>Chromosome: 8<br>Position: 10449766<br>Prediction: Tatars_2<br>Population: Brahui",
          "Sample: HGDP00021<br>Chromosome: 8<br>Position: 11523589<br>Prediction: Tatars_2<br>Population: Brahui",
          "Sample: HGDP00021<br>Chromosome: 8<br>Position: 12597412<br>Prediction: Tatars_2<br>Population: Brahui",
          "Sample: HGDP00021<br>Chromosome: 8<br>Position: 13671234<br>Prediction: Tatars_2<br>Population: Brahui",
          "Sample: HGDP00021<br>Chromosome: 8<br>Position: 14745057<br>Prediction: Tatars_2<br>Population: Brahui",
          "Sample: HGDP00021<br>Chromosome: 8<br>Position: 15818880<br>Prediction: Tatars_2<br>Population: Brahui",
          "Sample: HGDP00021<br>Chromosome: 8<br>Position: 16892702<br>Prediction: Tatars_2<br>Population: Brahui",
          "Sample: HGDP00021<br>Chromosome: 8<br>Position: 17966525<br>Prediction: Tatars_2<br>Population: Brahui",
          "Sample: HGDP00021<br>Chromosome: 8<br>Position: 19040348<br>Prediction: Tatars_2<br>Population: Brahui",
          "Sample: HGDP00021<br>Chromosome: 8<br>Position: 20114170<br>Prediction: Tatars_2<br>Population: Brahui",
          "Sample: HGDP00021<br>Chromosome: 8<br>Position: 21187993<br>Prediction: Tatars_2<br>Population: Brahui",
          "Sample: HGDP00021<br>Chromosome: 8<br>Position: 22261816<br>Prediction: Tatars_2<br>Population: Brahui",
          "Sample: HGDP00021<br>Chromosome: 8<br>Position: 23335638<br>Prediction: Tatars_2<br>Population: Brahui",
          "Sample: HGDP00021<br>Chromosome: 8<br>Position: 24409461<br>Prediction: Tatars_2<br>Population: Brahui",
          "Sample: HGDP00021<br>Chromosome: 8<br>Position: 25483284<br>Prediction: Tatars_2<br>Population: Brahui",
          "Sample: HGDP00021<br>Chromosome: 8<br>Position: 26557106<br>Prediction: Tatars_2<br>Population: Brahui",
          "Sample: HGDP00021<br>Chromosome: 8<br>Position: 27630929<br>Prediction: Tatars_2<br>Population: Brahui",
          "Sample: HGDP00021<br>Chromosome: 8<br>Position: 28704752<br>Prediction: Tatars_2<br>Population: Brahui",
          "Sample: HGDP00021<br>Chromosome: 8<br>Position: 29778575<br>Prediction: Tatars_2<br>Population: Brahui"
         ],
         "type": "scatter",
         "x": [
          9375944,
          10449766.684210526,
          11523589.368421052,
          12597412.05263158,
          13671234.736842105,
          14745057.421052631,
          15818880.105263159,
          16892702.789473683,
          17966525.47368421,
          19040348.157894738,
          20114170.842105262,
          21187993.52631579,
          22261816.210526317,
          23335638.89473684,
          24409461.57894737,
          25483284.263157897,
          26557106.94736842,
          27630929.63157895,
          28704752.315789472,
          29778575
         ],
         "y": [
          "8",
          "8",
          "8",
          "8",
          "8",
          "8",
          "8",
          "8",
          "8",
          "8",
          "8",
          "8",
          "8",
          "8",
          "8",
          "8",
          "8",
          "8",
          "8",
          "8"
         ]
        },
        {
         "hoverinfo": "text",
         "hoveron": "points+fills",
         "line": {
          "color": "#EF553B",
          "width": 18
         },
         "marker": {
          "opacity": 0,
          "size": 3
         },
         "mode": "lines+markers",
         "showlegend": false,
         "text": [
          "Sample: HGDP00021<br>Chromosome: 8<br>Position: 29802727<br>Prediction: Altaians_4<br>Population: Brahui",
          "Sample: HGDP00021<br>Chromosome: 8<br>Position: 31895714<br>Prediction: Altaians_4<br>Population: Brahui",
          "Sample: HGDP00021<br>Chromosome: 8<br>Position: 33988701<br>Prediction: Altaians_4<br>Population: Brahui",
          "Sample: HGDP00021<br>Chromosome: 8<br>Position: 36081688<br>Prediction: Altaians_4<br>Population: Brahui",
          "Sample: HGDP00021<br>Chromosome: 8<br>Position: 38174675<br>Prediction: Altaians_4<br>Population: Brahui",
          "Sample: HGDP00021<br>Chromosome: 8<br>Position: 40267662<br>Prediction: Altaians_4<br>Population: Brahui",
          "Sample: HGDP00021<br>Chromosome: 8<br>Position: 42360649<br>Prediction: Altaians_4<br>Population: Brahui",
          "Sample: HGDP00021<br>Chromosome: 8<br>Position: 44453637<br>Prediction: Altaians_4<br>Population: Brahui",
          "Sample: HGDP00021<br>Chromosome: 8<br>Position: 46546624<br>Prediction: Altaians_4<br>Population: Brahui",
          "Sample: HGDP00021<br>Chromosome: 8<br>Position: 48639611<br>Prediction: Altaians_4<br>Population: Brahui",
          "Sample: HGDP00021<br>Chromosome: 8<br>Position: 50732598<br>Prediction: Altaians_4<br>Population: Brahui",
          "Sample: HGDP00021<br>Chromosome: 8<br>Position: 52825585<br>Prediction: Altaians_4<br>Population: Brahui",
          "Sample: HGDP00021<br>Chromosome: 8<br>Position: 54918572<br>Prediction: Altaians_4<br>Population: Brahui",
          "Sample: HGDP00021<br>Chromosome: 8<br>Position: 57011560<br>Prediction: Altaians_4<br>Population: Brahui",
          "Sample: HGDP00021<br>Chromosome: 8<br>Position: 59104547<br>Prediction: Altaians_4<br>Population: Brahui",
          "Sample: HGDP00021<br>Chromosome: 8<br>Position: 61197534<br>Prediction: Altaians_4<br>Population: Brahui",
          "Sample: HGDP00021<br>Chromosome: 8<br>Position: 63290521<br>Prediction: Altaians_4<br>Population: Brahui",
          "Sample: HGDP00021<br>Chromosome: 8<br>Position: 65383508<br>Prediction: Altaians_4<br>Population: Brahui",
          "Sample: HGDP00021<br>Chromosome: 8<br>Position: 67476495<br>Prediction: Altaians_4<br>Population: Brahui",
          "Sample: HGDP00021<br>Chromosome: 8<br>Position: 69569483<br>Prediction: Altaians_4<br>Population: Brahui"
         ],
         "type": "scatter",
         "x": [
          29802727,
          31895714.157894738,
          33988701.315789476,
          36081688.47368421,
          38174675.631578945,
          40267662.78947368,
          42360649.94736842,
          44453637.10526316,
          46546624.2631579,
          48639611.421052635,
          50732598.578947365,
          52825585.73684211,
          54918572.89473684,
          57011560.05263158,
          59104547.21052632,
          61197534.36842105,
          63290521.52631579,
          65383508.684210524,
          67476495.84210527,
          69569483
         ],
         "y": [
          "8",
          "8",
          "8",
          "8",
          "8",
          "8",
          "8",
          "8",
          "8",
          "8",
          "8",
          "8",
          "8",
          "8",
          "8",
          "8",
          "8",
          "8",
          "8",
          "8"
         ]
        },
        {
         "hoverinfo": "text",
         "hoveron": "points+fills",
         "line": {
          "color": "#B6E880",
          "width": 18
         },
         "marker": {
          "opacity": 0,
          "size": 3
         },
         "mode": "lines+markers",
         "name": "Mongols_4",
         "showlegend": true,
         "text": [
          "Sample: HGDP00021<br>Chromosome: 8<br>Position: 69613880<br>Prediction: Mongols_4<br>Population: Brahui",
          "Sample: HGDP00021<br>Chromosome: 8<br>Position: 71157667<br>Prediction: Mongols_4<br>Population: Brahui",
          "Sample: HGDP00021<br>Chromosome: 8<br>Position: 72701454<br>Prediction: Mongols_4<br>Population: Brahui",
          "Sample: HGDP00021<br>Chromosome: 8<br>Position: 74245241<br>Prediction: Mongols_4<br>Population: Brahui",
          "Sample: HGDP00021<br>Chromosome: 8<br>Position: 75789028<br>Prediction: Mongols_4<br>Population: Brahui",
          "Sample: HGDP00021<br>Chromosome: 8<br>Position: 77332815<br>Prediction: Mongols_4<br>Population: Brahui",
          "Sample: HGDP00021<br>Chromosome: 8<br>Position: 78876602<br>Prediction: Mongols_4<br>Population: Brahui",
          "Sample: HGDP00021<br>Chromosome: 8<br>Position: 80420389<br>Prediction: Mongols_4<br>Population: Brahui",
          "Sample: HGDP00021<br>Chromosome: 8<br>Position: 81964176<br>Prediction: Mongols_4<br>Population: Brahui",
          "Sample: HGDP00021<br>Chromosome: 8<br>Position: 83507963<br>Prediction: Mongols_4<br>Population: Brahui",
          "Sample: HGDP00021<br>Chromosome: 8<br>Position: 85051750<br>Prediction: Mongols_4<br>Population: Brahui",
          "Sample: HGDP00021<br>Chromosome: 8<br>Position: 86595537<br>Prediction: Mongols_4<br>Population: Brahui",
          "Sample: HGDP00021<br>Chromosome: 8<br>Position: 88139324<br>Prediction: Mongols_4<br>Population: Brahui",
          "Sample: HGDP00021<br>Chromosome: 8<br>Position: 89683111<br>Prediction: Mongols_4<br>Population: Brahui",
          "Sample: HGDP00021<br>Chromosome: 8<br>Position: 91226898<br>Prediction: Mongols_4<br>Population: Brahui",
          "Sample: HGDP00021<br>Chromosome: 8<br>Position: 92770685<br>Prediction: Mongols_4<br>Population: Brahui",
          "Sample: HGDP00021<br>Chromosome: 8<br>Position: 94314472<br>Prediction: Mongols_4<br>Population: Brahui",
          "Sample: HGDP00021<br>Chromosome: 8<br>Position: 95858259<br>Prediction: Mongols_4<br>Population: Brahui",
          "Sample: HGDP00021<br>Chromosome: 8<br>Position: 97402046<br>Prediction: Mongols_4<br>Population: Brahui",
          "Sample: HGDP00021<br>Chromosome: 8<br>Position: 98945834<br>Prediction: Mongols_4<br>Population: Brahui"
         ],
         "type": "scatter",
         "x": [
          69613880,
          71157667.05263157,
          72701454.10526316,
          74245241.15789473,
          75789028.21052632,
          77332815.26315789,
          78876602.31578948,
          80420389.36842105,
          81964176.42105263,
          83507963.4736842,
          85051750.5263158,
          86595537.57894737,
          88139324.63157895,
          89683111.68421052,
          91226898.7368421,
          92770685.78947368,
          94314472.84210527,
          95858259.89473684,
          97402046.94736841,
          98945834
         ],
         "y": [
          "8",
          "8",
          "8",
          "8",
          "8",
          "8",
          "8",
          "8",
          "8",
          "8",
          "8",
          "8",
          "8",
          "8",
          "8",
          "8",
          "8",
          "8",
          "8",
          "8"
         ]
        },
        {
         "hoverinfo": "text",
         "hoveron": "points+fills",
         "line": {
          "color": "#00CC96",
          "width": 18
         },
         "marker": {
          "opacity": 0,
          "size": 3
         },
         "mode": "lines+markers",
         "showlegend": false,
         "text": [
          "Sample: HGDP00021<br>Chromosome: 8<br>Position: 99020949<br>Prediction: Finnish_1<br>Population: Brahui",
          "Sample: HGDP00021<br>Chromosome: 8<br>Position: 100470059<br>Prediction: Finnish_1<br>Population: Brahui",
          "Sample: HGDP00021<br>Chromosome: 8<br>Position: 101919169<br>Prediction: Finnish_1<br>Population: Brahui",
          "Sample: HGDP00021<br>Chromosome: 8<br>Position: 103368279<br>Prediction: Finnish_1<br>Population: Brahui",
          "Sample: HGDP00021<br>Chromosome: 8<br>Position: 104817389<br>Prediction: Finnish_1<br>Population: Brahui",
          "Sample: HGDP00021<br>Chromosome: 8<br>Position: 106266499<br>Prediction: Finnish_1<br>Population: Brahui",
          "Sample: HGDP00021<br>Chromosome: 8<br>Position: 107715609<br>Prediction: Finnish_1<br>Population: Brahui",
          "Sample: HGDP00021<br>Chromosome: 8<br>Position: 109164719<br>Prediction: Finnish_1<br>Population: Brahui",
          "Sample: HGDP00021<br>Chromosome: 8<br>Position: 110613829<br>Prediction: Finnish_1<br>Population: Brahui",
          "Sample: HGDP00021<br>Chromosome: 8<br>Position: 112062939<br>Prediction: Finnish_1<br>Population: Brahui",
          "Sample: HGDP00021<br>Chromosome: 8<br>Position: 113512049<br>Prediction: Finnish_1<br>Population: Brahui",
          "Sample: HGDP00021<br>Chromosome: 8<br>Position: 114961159<br>Prediction: Finnish_1<br>Population: Brahui",
          "Sample: HGDP00021<br>Chromosome: 8<br>Position: 116410269<br>Prediction: Finnish_1<br>Population: Brahui",
          "Sample: HGDP00021<br>Chromosome: 8<br>Position: 117859379<br>Prediction: Finnish_1<br>Population: Brahui",
          "Sample: HGDP00021<br>Chromosome: 8<br>Position: 119308489<br>Prediction: Finnish_1<br>Population: Brahui",
          "Sample: HGDP00021<br>Chromosome: 8<br>Position: 120757599<br>Prediction: Finnish_1<br>Population: Brahui",
          "Sample: HGDP00021<br>Chromosome: 8<br>Position: 122206709<br>Prediction: Finnish_1<br>Population: Brahui",
          "Sample: HGDP00021<br>Chromosome: 8<br>Position: 123655819<br>Prediction: Finnish_1<br>Population: Brahui",
          "Sample: HGDP00021<br>Chromosome: 8<br>Position: 125104929<br>Prediction: Finnish_1<br>Population: Brahui",
          "Sample: HGDP00021<br>Chromosome: 8<br>Position: 126554039<br>Prediction: Finnish_1<br>Population: Brahui"
         ],
         "type": "scatter",
         "x": [
          99020949,
          100470059,
          101919169,
          103368279,
          104817389,
          106266499,
          107715609,
          109164719,
          110613829,
          112062939,
          113512049,
          114961159,
          116410269,
          117859379,
          119308489,
          120757599,
          122206709,
          123655819,
          125104929,
          126554039
         ],
         "y": [
          "8",
          "8",
          "8",
          "8",
          "8",
          "8",
          "8",
          "8",
          "8",
          "8",
          "8",
          "8",
          "8",
          "8",
          "8",
          "8",
          "8",
          "8",
          "8",
          "8"
         ]
        },
        {
         "hoverinfo": "text",
         "hoveron": "points+fills",
         "line": {
          "color": "#636EFA",
          "width": 18
         },
         "marker": {
          "opacity": 0,
          "size": 3
         },
         "mode": "lines+markers",
         "showlegend": false,
         "text": [
          "Sample: HGDP00021<br>Chromosome: 9<br>Position: 1355061<br>Prediction: Tatars_2<br>Population: Brahui",
          "Sample: HGDP00021<br>Chromosome: 9<br>Position: 5241708<br>Prediction: Tatars_2<br>Population: Brahui",
          "Sample: HGDP00021<br>Chromosome: 9<br>Position: 9128355<br>Prediction: Tatars_2<br>Population: Brahui",
          "Sample: HGDP00021<br>Chromosome: 9<br>Position: 13015002<br>Prediction: Tatars_2<br>Population: Brahui",
          "Sample: HGDP00021<br>Chromosome: 9<br>Position: 16901649<br>Prediction: Tatars_2<br>Population: Brahui",
          "Sample: HGDP00021<br>Chromosome: 9<br>Position: 20788296<br>Prediction: Tatars_2<br>Population: Brahui",
          "Sample: HGDP00021<br>Chromosome: 9<br>Position: 24674943<br>Prediction: Tatars_2<br>Population: Brahui",
          "Sample: HGDP00021<br>Chromosome: 9<br>Position: 28561590<br>Prediction: Tatars_2<br>Population: Brahui",
          "Sample: HGDP00021<br>Chromosome: 9<br>Position: 32448237<br>Prediction: Tatars_2<br>Population: Brahui",
          "Sample: HGDP00021<br>Chromosome: 9<br>Position: 36334884<br>Prediction: Tatars_2<br>Population: Brahui",
          "Sample: HGDP00021<br>Chromosome: 9<br>Position: 40221531<br>Prediction: Tatars_2<br>Population: Brahui",
          "Sample: HGDP00021<br>Chromosome: 9<br>Position: 44108178<br>Prediction: Tatars_2<br>Population: Brahui",
          "Sample: HGDP00021<br>Chromosome: 9<br>Position: 47994825<br>Prediction: Tatars_2<br>Population: Brahui",
          "Sample: HGDP00021<br>Chromosome: 9<br>Position: 51881472<br>Prediction: Tatars_2<br>Population: Brahui",
          "Sample: HGDP00021<br>Chromosome: 9<br>Position: 55768119<br>Prediction: Tatars_2<br>Population: Brahui",
          "Sample: HGDP00021<br>Chromosome: 9<br>Position: 59654766<br>Prediction: Tatars_2<br>Population: Brahui",
          "Sample: HGDP00021<br>Chromosome: 9<br>Position: 63541413<br>Prediction: Tatars_2<br>Population: Brahui",
          "Sample: HGDP00021<br>Chromosome: 9<br>Position: 67428060<br>Prediction: Tatars_2<br>Population: Brahui",
          "Sample: HGDP00021<br>Chromosome: 9<br>Position: 71314707<br>Prediction: Tatars_2<br>Population: Brahui",
          "Sample: HGDP00021<br>Chromosome: 9<br>Position: 75201354<br>Prediction: Tatars_2<br>Population: Brahui"
         ],
         "type": "scatter",
         "x": [
          1355061,
          5241708,
          9128355,
          13015002,
          16901649,
          20788296,
          24674943,
          28561590,
          32448237,
          36334884,
          40221531,
          44108178,
          47994825,
          51881472,
          55768119,
          59654766,
          63541413,
          67428060,
          71314707,
          75201354
         ],
         "y": [
          "9",
          "9",
          "9",
          "9",
          "9",
          "9",
          "9",
          "9",
          "9",
          "9",
          "9",
          "9",
          "9",
          "9",
          "9",
          "9",
          "9",
          "9",
          "9",
          "9"
         ]
        },
        {
         "hoverinfo": "text",
         "hoveron": "points+fills",
         "line": {
          "color": "#00CC96",
          "width": 18
         },
         "marker": {
          "opacity": 0,
          "size": 3
         },
         "mode": "lines+markers",
         "showlegend": false,
         "text": [
          "Sample: HGDP00021<br>Chromosome: 9<br>Position: 75206337<br>Prediction: Finnish_1<br>Population: Brahui",
          "Sample: HGDP00021<br>Chromosome: 9<br>Position: 76538178<br>Prediction: Finnish_1<br>Population: Brahui",
          "Sample: HGDP00021<br>Chromosome: 9<br>Position: 77870020<br>Prediction: Finnish_1<br>Population: Brahui",
          "Sample: HGDP00021<br>Chromosome: 9<br>Position: 79201862<br>Prediction: Finnish_1<br>Population: Brahui",
          "Sample: HGDP00021<br>Chromosome: 9<br>Position: 80533704<br>Prediction: Finnish_1<br>Population: Brahui",
          "Sample: HGDP00021<br>Chromosome: 9<br>Position: 81865545<br>Prediction: Finnish_1<br>Population: Brahui",
          "Sample: HGDP00021<br>Chromosome: 9<br>Position: 83197387<br>Prediction: Finnish_1<br>Population: Brahui",
          "Sample: HGDP00021<br>Chromosome: 9<br>Position: 84529229<br>Prediction: Finnish_1<br>Population: Brahui",
          "Sample: HGDP00021<br>Chromosome: 9<br>Position: 85861071<br>Prediction: Finnish_1<br>Population: Brahui",
          "Sample: HGDP00021<br>Chromosome: 9<br>Position: 87192913<br>Prediction: Finnish_1<br>Population: Brahui",
          "Sample: HGDP00021<br>Chromosome: 9<br>Position: 88524754<br>Prediction: Finnish_1<br>Population: Brahui",
          "Sample: HGDP00021<br>Chromosome: 9<br>Position: 89856596<br>Prediction: Finnish_1<br>Population: Brahui",
          "Sample: HGDP00021<br>Chromosome: 9<br>Position: 91188438<br>Prediction: Finnish_1<br>Population: Brahui",
          "Sample: HGDP00021<br>Chromosome: 9<br>Position: 92520280<br>Prediction: Finnish_1<br>Population: Brahui",
          "Sample: HGDP00021<br>Chromosome: 9<br>Position: 93852122<br>Prediction: Finnish_1<br>Population: Brahui",
          "Sample: HGDP00021<br>Chromosome: 9<br>Position: 95183963<br>Prediction: Finnish_1<br>Population: Brahui",
          "Sample: HGDP00021<br>Chromosome: 9<br>Position: 96515805<br>Prediction: Finnish_1<br>Population: Brahui",
          "Sample: HGDP00021<br>Chromosome: 9<br>Position: 97847647<br>Prediction: Finnish_1<br>Population: Brahui",
          "Sample: HGDP00021<br>Chromosome: 9<br>Position: 99179489<br>Prediction: Finnish_1<br>Population: Brahui",
          "Sample: HGDP00021<br>Chromosome: 9<br>Position: 100511331<br>Prediction: Finnish_1<br>Population: Brahui"
         ],
         "type": "scatter",
         "x": [
          75206337,
          76538178.78947368,
          77870020.57894737,
          79201862.36842105,
          80533704.15789473,
          81865545.94736843,
          83197387.73684211,
          84529229.5263158,
          85861071.31578948,
          87192913.10526316,
          88524754.89473684,
          89856596.68421052,
          91188438.4736842,
          92520280.2631579,
          93852122.05263159,
          95183963.84210527,
          96515805.63157895,
          97847647.42105263,
          99179489.21052632,
          100511331
         ],
         "y": [
          "9",
          "9",
          "9",
          "9",
          "9",
          "9",
          "9",
          "9",
          "9",
          "9",
          "9",
          "9",
          "9",
          "9",
          "9",
          "9",
          "9",
          "9",
          "9",
          "9"
         ]
        },
        {
         "hoverinfo": "text",
         "hoveron": "points+fills",
         "line": {
          "color": "#636EFA",
          "width": 18
         },
         "marker": {
          "opacity": 0,
          "size": 3
         },
         "mode": "lines+markers",
         "showlegend": false,
         "text": [
          "Sample: HGDP00021<br>Chromosome: 9<br>Position: 100674565<br>Prediction: Tatars_2<br>Population: Brahui",
          "Sample: HGDP00021<br>Chromosome: 9<br>Position: 101696373<br>Prediction: Tatars_2<br>Population: Brahui",
          "Sample: HGDP00021<br>Chromosome: 9<br>Position: 102718182<br>Prediction: Tatars_2<br>Population: Brahui",
          "Sample: HGDP00021<br>Chromosome: 9<br>Position: 103739991<br>Prediction: Tatars_2<br>Population: Brahui",
          "Sample: HGDP00021<br>Chromosome: 9<br>Position: 104761800<br>Prediction: Tatars_2<br>Population: Brahui",
          "Sample: HGDP00021<br>Chromosome: 9<br>Position: 105783609<br>Prediction: Tatars_2<br>Population: Brahui",
          "Sample: HGDP00021<br>Chromosome: 9<br>Position: 106805418<br>Prediction: Tatars_2<br>Population: Brahui",
          "Sample: HGDP00021<br>Chromosome: 9<br>Position: 107827226<br>Prediction: Tatars_2<br>Population: Brahui",
          "Sample: HGDP00021<br>Chromosome: 9<br>Position: 108849035<br>Prediction: Tatars_2<br>Population: Brahui",
          "Sample: HGDP00021<br>Chromosome: 9<br>Position: 109870844<br>Prediction: Tatars_2<br>Population: Brahui",
          "Sample: HGDP00021<br>Chromosome: 9<br>Position: 110892653<br>Prediction: Tatars_2<br>Population: Brahui",
          "Sample: HGDP00021<br>Chromosome: 9<br>Position: 111914462<br>Prediction: Tatars_2<br>Population: Brahui",
          "Sample: HGDP00021<br>Chromosome: 9<br>Position: 112936271<br>Prediction: Tatars_2<br>Population: Brahui",
          "Sample: HGDP00021<br>Chromosome: 9<br>Position: 113958079<br>Prediction: Tatars_2<br>Population: Brahui",
          "Sample: HGDP00021<br>Chromosome: 9<br>Position: 114979888<br>Prediction: Tatars_2<br>Population: Brahui",
          "Sample: HGDP00021<br>Chromosome: 9<br>Position: 116001697<br>Prediction: Tatars_2<br>Population: Brahui",
          "Sample: HGDP00021<br>Chromosome: 9<br>Position: 117023506<br>Prediction: Tatars_2<br>Population: Brahui",
          "Sample: HGDP00021<br>Chromosome: 9<br>Position: 118045315<br>Prediction: Tatars_2<br>Population: Brahui",
          "Sample: HGDP00021<br>Chromosome: 9<br>Position: 119067124<br>Prediction: Tatars_2<br>Population: Brahui",
          "Sample: HGDP00021<br>Chromosome: 9<br>Position: 120088933<br>Prediction: Tatars_2<br>Population: Brahui"
         ],
         "type": "scatter",
         "x": [
          100674565,
          101696373.84210527,
          102718182.68421052,
          103739991.5263158,
          104761800.36842105,
          105783609.21052632,
          106805418.05263159,
          107827226.89473684,
          108849035.73684211,
          109870844.57894737,
          110892653.42105263,
          111914462.26315789,
          112936271.10526316,
          113958079.94736841,
          114979888.78947368,
          116001697.63157895,
          117023506.4736842,
          118045315.31578948,
          119067124.15789473,
          120088933
         ],
         "y": [
          "9",
          "9",
          "9",
          "9",
          "9",
          "9",
          "9",
          "9",
          "9",
          "9",
          "9",
          "9",
          "9",
          "9",
          "9",
          "9",
          "9",
          "9",
          "9",
          "9"
         ]
        }
       ],
       "layout": {
        "dragmode": "zoom",
        "height": 800,
        "hoverlabel": {
         "font": {
          "size": 16
         }
        },
        "hovermode": "closest",
        "legend": {
         "font": {
          "size": 20
         },
         "orientation": "v",
         "title": {
          "font": {
           "size": 24
          },
          "text": "Samples and Predictions"
         }
        },
        "template": {
         "data": {
          "bar": [
           {
            "error_x": {
             "color": "#2a3f5f"
            },
            "error_y": {
             "color": "#2a3f5f"
            },
            "marker": {
             "line": {
              "color": "#E5ECF6",
              "width": 0.5
             },
             "pattern": {
              "fillmode": "overlay",
              "size": 10,
              "solidity": 0.2
             }
            },
            "type": "bar"
           }
          ],
          "barpolar": [
           {
            "marker": {
             "line": {
              "color": "#E5ECF6",
              "width": 0.5
             },
             "pattern": {
              "fillmode": "overlay",
              "size": 10,
              "solidity": 0.2
             }
            },
            "type": "barpolar"
           }
          ],
          "carpet": [
           {
            "aaxis": {
             "endlinecolor": "#2a3f5f",
             "gridcolor": "white",
             "linecolor": "white",
             "minorgridcolor": "white",
             "startlinecolor": "#2a3f5f"
            },
            "baxis": {
             "endlinecolor": "#2a3f5f",
             "gridcolor": "white",
             "linecolor": "white",
             "minorgridcolor": "white",
             "startlinecolor": "#2a3f5f"
            },
            "type": "carpet"
           }
          ],
          "choropleth": [
           {
            "colorbar": {
             "outlinewidth": 0,
             "ticks": ""
            },
            "type": "choropleth"
           }
          ],
          "contour": [
           {
            "colorbar": {
             "outlinewidth": 0,
             "ticks": ""
            },
            "colorscale": [
             [
              0,
              "#0d0887"
             ],
             [
              0.1111111111111111,
              "#46039f"
             ],
             [
              0.2222222222222222,
              "#7201a8"
             ],
             [
              0.3333333333333333,
              "#9c179e"
             ],
             [
              0.4444444444444444,
              "#bd3786"
             ],
             [
              0.5555555555555556,
              "#d8576b"
             ],
             [
              0.6666666666666666,
              "#ed7953"
             ],
             [
              0.7777777777777778,
              "#fb9f3a"
             ],
             [
              0.8888888888888888,
              "#fdca26"
             ],
             [
              1,
              "#f0f921"
             ]
            ],
            "type": "contour"
           }
          ],
          "contourcarpet": [
           {
            "colorbar": {
             "outlinewidth": 0,
             "ticks": ""
            },
            "type": "contourcarpet"
           }
          ],
          "heatmap": [
           {
            "colorbar": {
             "outlinewidth": 0,
             "ticks": ""
            },
            "colorscale": [
             [
              0,
              "#0d0887"
             ],
             [
              0.1111111111111111,
              "#46039f"
             ],
             [
              0.2222222222222222,
              "#7201a8"
             ],
             [
              0.3333333333333333,
              "#9c179e"
             ],
             [
              0.4444444444444444,
              "#bd3786"
             ],
             [
              0.5555555555555556,
              "#d8576b"
             ],
             [
              0.6666666666666666,
              "#ed7953"
             ],
             [
              0.7777777777777778,
              "#fb9f3a"
             ],
             [
              0.8888888888888888,
              "#fdca26"
             ],
             [
              1,
              "#f0f921"
             ]
            ],
            "type": "heatmap"
           }
          ],
          "heatmapgl": [
           {
            "colorbar": {
             "outlinewidth": 0,
             "ticks": ""
            },
            "colorscale": [
             [
              0,
              "#0d0887"
             ],
             [
              0.1111111111111111,
              "#46039f"
             ],
             [
              0.2222222222222222,
              "#7201a8"
             ],
             [
              0.3333333333333333,
              "#9c179e"
             ],
             [
              0.4444444444444444,
              "#bd3786"
             ],
             [
              0.5555555555555556,
              "#d8576b"
             ],
             [
              0.6666666666666666,
              "#ed7953"
             ],
             [
              0.7777777777777778,
              "#fb9f3a"
             ],
             [
              0.8888888888888888,
              "#fdca26"
             ],
             [
              1,
              "#f0f921"
             ]
            ],
            "type": "heatmapgl"
           }
          ],
          "histogram": [
           {
            "marker": {
             "pattern": {
              "fillmode": "overlay",
              "size": 10,
              "solidity": 0.2
             }
            },
            "type": "histogram"
           }
          ],
          "histogram2d": [
           {
            "colorbar": {
             "outlinewidth": 0,
             "ticks": ""
            },
            "colorscale": [
             [
              0,
              "#0d0887"
             ],
             [
              0.1111111111111111,
              "#46039f"
             ],
             [
              0.2222222222222222,
              "#7201a8"
             ],
             [
              0.3333333333333333,
              "#9c179e"
             ],
             [
              0.4444444444444444,
              "#bd3786"
             ],
             [
              0.5555555555555556,
              "#d8576b"
             ],
             [
              0.6666666666666666,
              "#ed7953"
             ],
             [
              0.7777777777777778,
              "#fb9f3a"
             ],
             [
              0.8888888888888888,
              "#fdca26"
             ],
             [
              1,
              "#f0f921"
             ]
            ],
            "type": "histogram2d"
           }
          ],
          "histogram2dcontour": [
           {
            "colorbar": {
             "outlinewidth": 0,
             "ticks": ""
            },
            "colorscale": [
             [
              0,
              "#0d0887"
             ],
             [
              0.1111111111111111,
              "#46039f"
             ],
             [
              0.2222222222222222,
              "#7201a8"
             ],
             [
              0.3333333333333333,
              "#9c179e"
             ],
             [
              0.4444444444444444,
              "#bd3786"
             ],
             [
              0.5555555555555556,
              "#d8576b"
             ],
             [
              0.6666666666666666,
              "#ed7953"
             ],
             [
              0.7777777777777778,
              "#fb9f3a"
             ],
             [
              0.8888888888888888,
              "#fdca26"
             ],
             [
              1,
              "#f0f921"
             ]
            ],
            "type": "histogram2dcontour"
           }
          ],
          "mesh3d": [
           {
            "colorbar": {
             "outlinewidth": 0,
             "ticks": ""
            },
            "type": "mesh3d"
           }
          ],
          "parcoords": [
           {
            "line": {
             "colorbar": {
              "outlinewidth": 0,
              "ticks": ""
             }
            },
            "type": "parcoords"
           }
          ],
          "pie": [
           {
            "automargin": true,
            "type": "pie"
           }
          ],
          "scatter": [
           {
            "fillpattern": {
             "fillmode": "overlay",
             "size": 10,
             "solidity": 0.2
            },
            "type": "scatter"
           }
          ],
          "scatter3d": [
           {
            "line": {
             "colorbar": {
              "outlinewidth": 0,
              "ticks": ""
             }
            },
            "marker": {
             "colorbar": {
              "outlinewidth": 0,
              "ticks": ""
             }
            },
            "type": "scatter3d"
           }
          ],
          "scattercarpet": [
           {
            "marker": {
             "colorbar": {
              "outlinewidth": 0,
              "ticks": ""
             }
            },
            "type": "scattercarpet"
           }
          ],
          "scattergeo": [
           {
            "marker": {
             "colorbar": {
              "outlinewidth": 0,
              "ticks": ""
             }
            },
            "type": "scattergeo"
           }
          ],
          "scattergl": [
           {
            "marker": {
             "colorbar": {
              "outlinewidth": 0,
              "ticks": ""
             }
            },
            "type": "scattergl"
           }
          ],
          "scattermapbox": [
           {
            "marker": {
             "colorbar": {
              "outlinewidth": 0,
              "ticks": ""
             }
            },
            "type": "scattermapbox"
           }
          ],
          "scatterpolar": [
           {
            "marker": {
             "colorbar": {
              "outlinewidth": 0,
              "ticks": ""
             }
            },
            "type": "scatterpolar"
           }
          ],
          "scatterpolargl": [
           {
            "marker": {
             "colorbar": {
              "outlinewidth": 0,
              "ticks": ""
             }
            },
            "type": "scatterpolargl"
           }
          ],
          "scatterternary": [
           {
            "marker": {
             "colorbar": {
              "outlinewidth": 0,
              "ticks": ""
             }
            },
            "type": "scatterternary"
           }
          ],
          "surface": [
           {
            "colorbar": {
             "outlinewidth": 0,
             "ticks": ""
            },
            "colorscale": [
             [
              0,
              "#0d0887"
             ],
             [
              0.1111111111111111,
              "#46039f"
             ],
             [
              0.2222222222222222,
              "#7201a8"
             ],
             [
              0.3333333333333333,
              "#9c179e"
             ],
             [
              0.4444444444444444,
              "#bd3786"
             ],
             [
              0.5555555555555556,
              "#d8576b"
             ],
             [
              0.6666666666666666,
              "#ed7953"
             ],
             [
              0.7777777777777778,
              "#fb9f3a"
             ],
             [
              0.8888888888888888,
              "#fdca26"
             ],
             [
              1,
              "#f0f921"
             ]
            ],
            "type": "surface"
           }
          ],
          "table": [
           {
            "cells": {
             "fill": {
              "color": "#EBF0F8"
             },
             "line": {
              "color": "white"
             }
            },
            "header": {
             "fill": {
              "color": "#C8D4E3"
             },
             "line": {
              "color": "white"
             }
            },
            "type": "table"
           }
          ]
         },
         "layout": {
          "annotationdefaults": {
           "arrowcolor": "#2a3f5f",
           "arrowhead": 0,
           "arrowwidth": 1
          },
          "autotypenumbers": "strict",
          "coloraxis": {
           "colorbar": {
            "outlinewidth": 0,
            "ticks": ""
           }
          },
          "colorscale": {
           "diverging": [
            [
             0,
             "#8e0152"
            ],
            [
             0.1,
             "#c51b7d"
            ],
            [
             0.2,
             "#de77ae"
            ],
            [
             0.3,
             "#f1b6da"
            ],
            [
             0.4,
             "#fde0ef"
            ],
            [
             0.5,
             "#f7f7f7"
            ],
            [
             0.6,
             "#e6f5d0"
            ],
            [
             0.7,
             "#b8e186"
            ],
            [
             0.8,
             "#7fbc41"
            ],
            [
             0.9,
             "#4d9221"
            ],
            [
             1,
             "#276419"
            ]
           ],
           "sequential": [
            [
             0,
             "#0d0887"
            ],
            [
             0.1111111111111111,
             "#46039f"
            ],
            [
             0.2222222222222222,
             "#7201a8"
            ],
            [
             0.3333333333333333,
             "#9c179e"
            ],
            [
             0.4444444444444444,
             "#bd3786"
            ],
            [
             0.5555555555555556,
             "#d8576b"
            ],
            [
             0.6666666666666666,
             "#ed7953"
            ],
            [
             0.7777777777777778,
             "#fb9f3a"
            ],
            [
             0.8888888888888888,
             "#fdca26"
            ],
            [
             1,
             "#f0f921"
            ]
           ],
           "sequentialminus": [
            [
             0,
             "#0d0887"
            ],
            [
             0.1111111111111111,
             "#46039f"
            ],
            [
             0.2222222222222222,
             "#7201a8"
            ],
            [
             0.3333333333333333,
             "#9c179e"
            ],
            [
             0.4444444444444444,
             "#bd3786"
            ],
            [
             0.5555555555555556,
             "#d8576b"
            ],
            [
             0.6666666666666666,
             "#ed7953"
            ],
            [
             0.7777777777777778,
             "#fb9f3a"
            ],
            [
             0.8888888888888888,
             "#fdca26"
            ],
            [
             1,
             "#f0f921"
            ]
           ]
          },
          "colorway": [
           "#636efa",
           "#EF553B",
           "#00cc96",
           "#ab63fa",
           "#FFA15A",
           "#19d3f3",
           "#FF6692",
           "#B6E880",
           "#FF97FF",
           "#FECB52"
          ],
          "font": {
           "color": "#2a3f5f"
          },
          "geo": {
           "bgcolor": "white",
           "lakecolor": "white",
           "landcolor": "#E5ECF6",
           "showlakes": true,
           "showland": true,
           "subunitcolor": "white"
          },
          "hoverlabel": {
           "align": "left"
          },
          "hovermode": "closest",
          "mapbox": {
           "style": "light"
          },
          "paper_bgcolor": "white",
          "plot_bgcolor": "#E5ECF6",
          "polar": {
           "angularaxis": {
            "gridcolor": "white",
            "linecolor": "white",
            "ticks": ""
           },
           "bgcolor": "#E5ECF6",
           "radialaxis": {
            "gridcolor": "white",
            "linecolor": "white",
            "ticks": ""
           }
          },
          "scene": {
           "xaxis": {
            "backgroundcolor": "#E5ECF6",
            "gridcolor": "white",
            "gridwidth": 2,
            "linecolor": "white",
            "showbackground": true,
            "ticks": "",
            "zerolinecolor": "white"
           },
           "yaxis": {
            "backgroundcolor": "#E5ECF6",
            "gridcolor": "white",
            "gridwidth": 2,
            "linecolor": "white",
            "showbackground": true,
            "ticks": "",
            "zerolinecolor": "white"
           },
           "zaxis": {
            "backgroundcolor": "#E5ECF6",
            "gridcolor": "white",
            "gridwidth": 2,
            "linecolor": "white",
            "showbackground": true,
            "ticks": "",
            "zerolinecolor": "white"
           }
          },
          "shapedefaults": {
           "line": {
            "color": "#2a3f5f"
           }
          },
          "ternary": {
           "aaxis": {
            "gridcolor": "white",
            "linecolor": "white",
            "ticks": ""
           },
           "baxis": {
            "gridcolor": "white",
            "linecolor": "white",
            "ticks": ""
           },
           "bgcolor": "#E5ECF6",
           "caxis": {
            "gridcolor": "white",
            "linecolor": "white",
            "ticks": ""
           }
          },
          "title": {
           "x": 0.05
          },
          "xaxis": {
           "automargin": true,
           "gridcolor": "white",
           "linecolor": "white",
           "ticks": "",
           "title": {
            "standoff": 15
           },
           "zerolinecolor": "white",
           "zerolinewidth": 2
          },
          "yaxis": {
           "automargin": true,
           "gridcolor": "white",
           "linecolor": "white",
           "ticks": "",
           "title": {
            "standoff": 15
           },
           "zerolinecolor": "white",
           "zerolinewidth": 2
          }
         }
        },
        "title": {
         "font": {
          "size": 30
         },
         "text": "Chromosome Segments of HGDP00021",
         "x": 0.5
        },
        "xaxis": {
         "range": [
          0,
          null
         ],
         "rangeslider": {
          "borderwidth": 1,
          "thickness": 0.3,
          "visible": true
         },
         "showgrid": true,
         "showline": true,
         "tickfont": {
          "size": 16
         },
         "title": {
          "font": {
           "size": 22
          },
          "text": "Genomic Position"
         },
         "type": "linear",
         "zeroline": false
        },
        "yaxis": {
         "categoryorder": "category ascending",
         "fixedrange": false,
         "showgrid": true,
         "showline": true,
         "tickfont": {
          "size": 16
         },
         "title": {
          "font": {
           "size": 22
          },
          "text": "Chromosome"
         },
         "zeroline": false
        }
       }
      },
      "text/html": [
       "<div>                            <div id=\"cb898ee2-e7d2-49c0-bf02-54880bef680c\" class=\"plotly-graph-div\" style=\"height:800px; width:100%;\"></div>            <script type=\"text/javascript\">                require([\"plotly\"], function(Plotly) {                    window.PLOTLYENV=window.PLOTLYENV || {};                                    if (document.getElementById(\"cb898ee2-e7d2-49c0-bf02-54880bef680c\")) {                    Plotly.newPlot(                        \"cb898ee2-e7d2-49c0-bf02-54880bef680c\",                        [{\"hoverinfo\":\"text\",\"hoveron\":\"points+fills\",\"line\":{\"color\":\"#636EFA\",\"width\":18},\"marker\":{\"opacity\":0,\"size\":3},\"mode\":\"lines+markers\",\"name\":\"Tatars_2\",\"showlegend\":true,\"text\":[\"Sample: HGDP00021\\u003cbr\\u003eChromosome: 1\\u003cbr\\u003ePosition: 1061166\\u003cbr\\u003ePrediction: Tatars_2\\u003cbr\\u003ePopulation: Brahui\",\"Sample: HGDP00021\\u003cbr\\u003eChromosome: 1\\u003cbr\\u003ePosition: 4771464\\u003cbr\\u003ePrediction: Tatars_2\\u003cbr\\u003ePopulation: Brahui\",\"Sample: HGDP00021\\u003cbr\\u003eChromosome: 1\\u003cbr\\u003ePosition: 8481763\\u003cbr\\u003ePrediction: Tatars_2\\u003cbr\\u003ePopulation: Brahui\",\"Sample: HGDP00021\\u003cbr\\u003eChromosome: 1\\u003cbr\\u003ePosition: 12192062\\u003cbr\\u003ePrediction: Tatars_2\\u003cbr\\u003ePopulation: Brahui\",\"Sample: HGDP00021\\u003cbr\\u003eChromosome: 1\\u003cbr\\u003ePosition: 15902360\\u003cbr\\u003ePrediction: Tatars_2\\u003cbr\\u003ePopulation: Brahui\",\"Sample: HGDP00021\\u003cbr\\u003eChromosome: 1\\u003cbr\\u003ePosition: 19612659\\u003cbr\\u003ePrediction: Tatars_2\\u003cbr\\u003ePopulation: Brahui\",\"Sample: HGDP00021\\u003cbr\\u003eChromosome: 1\\u003cbr\\u003ePosition: 23322958\\u003cbr\\u003ePrediction: Tatars_2\\u003cbr\\u003ePopulation: Brahui\",\"Sample: HGDP00021\\u003cbr\\u003eChromosome: 1\\u003cbr\\u003ePosition: 27033257\\u003cbr\\u003ePrediction: Tatars_2\\u003cbr\\u003ePopulation: Brahui\",\"Sample: HGDP00021\\u003cbr\\u003eChromosome: 1\\u003cbr\\u003ePosition: 30743555\\u003cbr\\u003ePrediction: Tatars_2\\u003cbr\\u003ePopulation: Brahui\",\"Sample: HGDP00021\\u003cbr\\u003eChromosome: 1\\u003cbr\\u003ePosition: 34453854\\u003cbr\\u003ePrediction: Tatars_2\\u003cbr\\u003ePopulation: Brahui\",\"Sample: HGDP00021\\u003cbr\\u003eChromosome: 1\\u003cbr\\u003ePosition: 38164153\\u003cbr\\u003ePrediction: Tatars_2\\u003cbr\\u003ePopulation: Brahui\",\"Sample: HGDP00021\\u003cbr\\u003eChromosome: 1\\u003cbr\\u003ePosition: 41874452\\u003cbr\\u003ePrediction: Tatars_2\\u003cbr\\u003ePopulation: Brahui\",\"Sample: HGDP00021\\u003cbr\\u003eChromosome: 1\\u003cbr\\u003ePosition: 45584750\\u003cbr\\u003ePrediction: Tatars_2\\u003cbr\\u003ePopulation: Brahui\",\"Sample: HGDP00021\\u003cbr\\u003eChromosome: 1\\u003cbr\\u003ePosition: 49295049\\u003cbr\\u003ePrediction: Tatars_2\\u003cbr\\u003ePopulation: Brahui\",\"Sample: HGDP00021\\u003cbr\\u003eChromosome: 1\\u003cbr\\u003ePosition: 53005348\\u003cbr\\u003ePrediction: Tatars_2\\u003cbr\\u003ePopulation: Brahui\",\"Sample: HGDP00021\\u003cbr\\u003eChromosome: 1\\u003cbr\\u003ePosition: 56715647\\u003cbr\\u003ePrediction: Tatars_2\\u003cbr\\u003ePopulation: Brahui\",\"Sample: HGDP00021\\u003cbr\\u003eChromosome: 1\\u003cbr\\u003ePosition: 60425945\\u003cbr\\u003ePrediction: Tatars_2\\u003cbr\\u003ePopulation: Brahui\",\"Sample: HGDP00021\\u003cbr\\u003eChromosome: 1\\u003cbr\\u003ePosition: 64136244\\u003cbr\\u003ePrediction: Tatars_2\\u003cbr\\u003ePopulation: Brahui\",\"Sample: HGDP00021\\u003cbr\\u003eChromosome: 1\\u003cbr\\u003ePosition: 67846543\\u003cbr\\u003ePrediction: Tatars_2\\u003cbr\\u003ePopulation: Brahui\",\"Sample: HGDP00021\\u003cbr\\u003eChromosome: 1\\u003cbr\\u003ePosition: 71556842\\u003cbr\\u003ePrediction: Tatars_2\\u003cbr\\u003ePopulation: Brahui\"],\"x\":[1061166.0,4771464.736842105,8481763.47368421,12192062.210526315,15902360.94736842,19612659.684210524,23322958.42105263,27033257.157894738,30743555.89473684,34453854.631578945,38164153.36842105,41874452.10526316,45584750.84210526,49295049.578947365,53005348.315789476,56715647.05263158,60425945.78947368,64136244.526315786,67846543.26315789,71556842.0],\"y\":[\"1\",\"1\",\"1\",\"1\",\"1\",\"1\",\"1\",\"1\",\"1\",\"1\",\"1\",\"1\",\"1\",\"1\",\"1\",\"1\",\"1\",\"1\",\"1\",\"1\"],\"type\":\"scatter\"},{\"hoverinfo\":\"text\",\"hoveron\":\"points+fills\",\"line\":{\"color\":\"#EF553B\",\"width\":18},\"marker\":{\"opacity\":0,\"size\":3},\"mode\":\"lines+markers\",\"name\":\"Altaians_4\",\"showlegend\":true,\"text\":[\"Sample: HGDP00021\\u003cbr\\u003eChromosome: 1\\u003cbr\\u003ePosition: 71590877\\u003cbr\\u003ePrediction: Altaians_4\\u003cbr\\u003ePopulation: Brahui\",\"Sample: HGDP00021\\u003cbr\\u003eChromosome: 1\\u003cbr\\u003ePosition: 73088767\\u003cbr\\u003ePrediction: Altaians_4\\u003cbr\\u003ePopulation: Brahui\",\"Sample: HGDP00021\\u003cbr\\u003eChromosome: 1\\u003cbr\\u003ePosition: 74586657\\u003cbr\\u003ePrediction: Altaians_4\\u003cbr\\u003ePopulation: Brahui\",\"Sample: HGDP00021\\u003cbr\\u003eChromosome: 1\\u003cbr\\u003ePosition: 76084547\\u003cbr\\u003ePrediction: Altaians_4\\u003cbr\\u003ePopulation: Brahui\",\"Sample: HGDP00021\\u003cbr\\u003eChromosome: 1\\u003cbr\\u003ePosition: 77582437\\u003cbr\\u003ePrediction: Altaians_4\\u003cbr\\u003ePopulation: Brahui\",\"Sample: HGDP00021\\u003cbr\\u003eChromosome: 1\\u003cbr\\u003ePosition: 79080327\\u003cbr\\u003ePrediction: Altaians_4\\u003cbr\\u003ePopulation: Brahui\",\"Sample: HGDP00021\\u003cbr\\u003eChromosome: 1\\u003cbr\\u003ePosition: 80578217\\u003cbr\\u003ePrediction: Altaians_4\\u003cbr\\u003ePopulation: Brahui\",\"Sample: HGDP00021\\u003cbr\\u003eChromosome: 1\\u003cbr\\u003ePosition: 82076107\\u003cbr\\u003ePrediction: Altaians_4\\u003cbr\\u003ePopulation: Brahui\",\"Sample: HGDP00021\\u003cbr\\u003eChromosome: 1\\u003cbr\\u003ePosition: 83573997\\u003cbr\\u003ePrediction: Altaians_4\\u003cbr\\u003ePopulation: Brahui\",\"Sample: HGDP00021\\u003cbr\\u003eChromosome: 1\\u003cbr\\u003ePosition: 85071887\\u003cbr\\u003ePrediction: Altaians_4\\u003cbr\\u003ePopulation: Brahui\",\"Sample: HGDP00021\\u003cbr\\u003eChromosome: 1\\u003cbr\\u003ePosition: 86569778\\u003cbr\\u003ePrediction: Altaians_4\\u003cbr\\u003ePopulation: Brahui\",\"Sample: HGDP00021\\u003cbr\\u003eChromosome: 1\\u003cbr\\u003ePosition: 88067668\\u003cbr\\u003ePrediction: Altaians_4\\u003cbr\\u003ePopulation: Brahui\",\"Sample: HGDP00021\\u003cbr\\u003eChromosome: 1\\u003cbr\\u003ePosition: 89565558\\u003cbr\\u003ePrediction: Altaians_4\\u003cbr\\u003ePopulation: Brahui\",\"Sample: HGDP00021\\u003cbr\\u003eChromosome: 1\\u003cbr\\u003ePosition: 91063448\\u003cbr\\u003ePrediction: Altaians_4\\u003cbr\\u003ePopulation: Brahui\",\"Sample: HGDP00021\\u003cbr\\u003eChromosome: 1\\u003cbr\\u003ePosition: 92561338\\u003cbr\\u003ePrediction: Altaians_4\\u003cbr\\u003ePopulation: Brahui\",\"Sample: HGDP00021\\u003cbr\\u003eChromosome: 1\\u003cbr\\u003ePosition: 94059228\\u003cbr\\u003ePrediction: Altaians_4\\u003cbr\\u003ePopulation: Brahui\",\"Sample: HGDP00021\\u003cbr\\u003eChromosome: 1\\u003cbr\\u003ePosition: 95557118\\u003cbr\\u003ePrediction: Altaians_4\\u003cbr\\u003ePopulation: Brahui\",\"Sample: HGDP00021\\u003cbr\\u003eChromosome: 1\\u003cbr\\u003ePosition: 97055008\\u003cbr\\u003ePrediction: Altaians_4\\u003cbr\\u003ePopulation: Brahui\",\"Sample: HGDP00021\\u003cbr\\u003eChromosome: 1\\u003cbr\\u003ePosition: 98552898\\u003cbr\\u003ePrediction: Altaians_4\\u003cbr\\u003ePopulation: Brahui\",\"Sample: HGDP00021\\u003cbr\\u003eChromosome: 1\\u003cbr\\u003ePosition: 100050789\\u003cbr\\u003ePrediction: Altaians_4\\u003cbr\\u003ePopulation: Brahui\"],\"x\":[71590877.0,73088767.10526316,74586657.21052632,76084547.31578948,77582437.42105263,79080327.5263158,80578217.63157895,82076107.73684211,83573997.84210527,85071887.94736843,86569778.05263159,88067668.15789473,89565558.2631579,91063448.36842105,92561338.4736842,94059228.57894737,95557118.68421052,97055008.78947368,98552898.89473684,100050789.0],\"y\":[\"1\",\"1\",\"1\",\"1\",\"1\",\"1\",\"1\",\"1\",\"1\",\"1\",\"1\",\"1\",\"1\",\"1\",\"1\",\"1\",\"1\",\"1\",\"1\",\"1\"],\"type\":\"scatter\"},{\"hoverinfo\":\"text\",\"hoveron\":\"points+fills\",\"line\":{\"color\":\"#636EFA\",\"width\":18},\"marker\":{\"opacity\":0,\"size\":3},\"mode\":\"lines+markers\",\"showlegend\":false,\"text\":[\"Sample: HGDP00021\\u003cbr\\u003eChromosome: 1\\u003cbr\\u003ePosition: 100051668\\u003cbr\\u003ePrediction: Tatars_2\\u003cbr\\u003ePopulation: Brahui\",\"Sample: HGDP00021\\u003cbr\\u003eChromosome: 1\\u003cbr\\u003ePosition: 104540778\\u003cbr\\u003ePrediction: Tatars_2\\u003cbr\\u003ePopulation: Brahui\",\"Sample: HGDP00021\\u003cbr\\u003eChromosome: 1\\u003cbr\\u003ePosition: 109029888\\u003cbr\\u003ePrediction: Tatars_2\\u003cbr\\u003ePopulation: Brahui\",\"Sample: HGDP00021\\u003cbr\\u003eChromosome: 1\\u003cbr\\u003ePosition: 113518998\\u003cbr\\u003ePrediction: Tatars_2\\u003cbr\\u003ePopulation: Brahui\",\"Sample: HGDP00021\\u003cbr\\u003eChromosome: 1\\u003cbr\\u003ePosition: 118008109\\u003cbr\\u003ePrediction: Tatars_2\\u003cbr\\u003ePopulation: Brahui\",\"Sample: HGDP00021\\u003cbr\\u003eChromosome: 1\\u003cbr\\u003ePosition: 122497219\\u003cbr\\u003ePrediction: Tatars_2\\u003cbr\\u003ePopulation: Brahui\",\"Sample: HGDP00021\\u003cbr\\u003eChromosome: 1\\u003cbr\\u003ePosition: 126986329\\u003cbr\\u003ePrediction: Tatars_2\\u003cbr\\u003ePopulation: Brahui\",\"Sample: HGDP00021\\u003cbr\\u003eChromosome: 1\\u003cbr\\u003ePosition: 131475440\\u003cbr\\u003ePrediction: Tatars_2\\u003cbr\\u003ePopulation: Brahui\",\"Sample: HGDP00021\\u003cbr\\u003eChromosome: 1\\u003cbr\\u003ePosition: 135964550\\u003cbr\\u003ePrediction: Tatars_2\\u003cbr\\u003ePopulation: Brahui\",\"Sample: HGDP00021\\u003cbr\\u003eChromosome: 1\\u003cbr\\u003ePosition: 140453660\\u003cbr\\u003ePrediction: Tatars_2\\u003cbr\\u003ePopulation: Brahui\",\"Sample: HGDP00021\\u003cbr\\u003eChromosome: 1\\u003cbr\\u003ePosition: 144942771\\u003cbr\\u003ePrediction: Tatars_2\\u003cbr\\u003ePopulation: Brahui\",\"Sample: HGDP00021\\u003cbr\\u003eChromosome: 1\\u003cbr\\u003ePosition: 149431881\\u003cbr\\u003ePrediction: Tatars_2\\u003cbr\\u003ePopulation: Brahui\",\"Sample: HGDP00021\\u003cbr\\u003eChromosome: 1\\u003cbr\\u003ePosition: 153920991\\u003cbr\\u003ePrediction: Tatars_2\\u003cbr\\u003ePopulation: Brahui\",\"Sample: HGDP00021\\u003cbr\\u003eChromosome: 1\\u003cbr\\u003ePosition: 158410102\\u003cbr\\u003ePrediction: Tatars_2\\u003cbr\\u003ePopulation: Brahui\",\"Sample: HGDP00021\\u003cbr\\u003eChromosome: 1\\u003cbr\\u003ePosition: 162899212\\u003cbr\\u003ePrediction: Tatars_2\\u003cbr\\u003ePopulation: Brahui\",\"Sample: HGDP00021\\u003cbr\\u003eChromosome: 1\\u003cbr\\u003ePosition: 167388322\\u003cbr\\u003ePrediction: Tatars_2\\u003cbr\\u003ePopulation: Brahui\",\"Sample: HGDP00021\\u003cbr\\u003eChromosome: 1\\u003cbr\\u003ePosition: 171877433\\u003cbr\\u003ePrediction: Tatars_2\\u003cbr\\u003ePopulation: Brahui\",\"Sample: HGDP00021\\u003cbr\\u003eChromosome: 1\\u003cbr\\u003ePosition: 176366543\\u003cbr\\u003ePrediction: Tatars_2\\u003cbr\\u003ePopulation: Brahui\",\"Sample: HGDP00021\\u003cbr\\u003eChromosome: 1\\u003cbr\\u003ePosition: 180855653\\u003cbr\\u003ePrediction: Tatars_2\\u003cbr\\u003ePopulation: Brahui\",\"Sample: HGDP00021\\u003cbr\\u003eChromosome: 1\\u003cbr\\u003ePosition: 185344764\\u003cbr\\u003ePrediction: Tatars_2\\u003cbr\\u003ePopulation: Brahui\"],\"x\":[100051668.0,104540778.31578948,109029888.63157895,113518998.94736841,118008109.26315789,122497219.57894737,126986329.89473684,131475440.21052632,135964550.52631578,140453660.84210527,144942771.15789473,149431881.4736842,153920991.78947368,158410102.10526314,162899212.42105263,167388322.7368421,171877433.05263156,176366543.36842105,180855653.68421054,185344764.0],\"y\":[\"1\",\"1\",\"1\",\"1\",\"1\",\"1\",\"1\",\"1\",\"1\",\"1\",\"1\",\"1\",\"1\",\"1\",\"1\",\"1\",\"1\",\"1\",\"1\",\"1\"],\"type\":\"scatter\"},{\"hoverinfo\":\"text\",\"hoveron\":\"points+fills\",\"line\":{\"color\":\"#00CC96\",\"width\":18},\"marker\":{\"opacity\":0,\"size\":3},\"mode\":\"lines+markers\",\"name\":\"Finnish_1\",\"showlegend\":true,\"text\":[\"Sample: HGDP00021\\u003cbr\\u003eChromosome: 1\\u003cbr\\u003ePosition: 185410975\\u003cbr\\u003ePrediction: Finnish_1\\u003cbr\\u003ePopulation: Brahui\",\"Sample: HGDP00021\\u003cbr\\u003eChromosome: 1\\u003cbr\\u003ePosition: 186798631\\u003cbr\\u003ePrediction: Finnish_1\\u003cbr\\u003ePopulation: Brahui\",\"Sample: HGDP00021\\u003cbr\\u003eChromosome: 1\\u003cbr\\u003ePosition: 188186287\\u003cbr\\u003ePrediction: Finnish_1\\u003cbr\\u003ePopulation: Brahui\",\"Sample: HGDP00021\\u003cbr\\u003eChromosome: 1\\u003cbr\\u003ePosition: 189573943\\u003cbr\\u003ePrediction: Finnish_1\\u003cbr\\u003ePopulation: Brahui\",\"Sample: HGDP00021\\u003cbr\\u003eChromosome: 1\\u003cbr\\u003ePosition: 190961599\\u003cbr\\u003ePrediction: Finnish_1\\u003cbr\\u003ePopulation: Brahui\",\"Sample: HGDP00021\\u003cbr\\u003eChromosome: 1\\u003cbr\\u003ePosition: 192349255\\u003cbr\\u003ePrediction: Finnish_1\\u003cbr\\u003ePopulation: Brahui\",\"Sample: HGDP00021\\u003cbr\\u003eChromosome: 1\\u003cbr\\u003ePosition: 193736911\\u003cbr\\u003ePrediction: Finnish_1\\u003cbr\\u003ePopulation: Brahui\",\"Sample: HGDP00021\\u003cbr\\u003eChromosome: 1\\u003cbr\\u003ePosition: 195124567\\u003cbr\\u003ePrediction: Finnish_1\\u003cbr\\u003ePopulation: Brahui\",\"Sample: HGDP00021\\u003cbr\\u003eChromosome: 1\\u003cbr\\u003ePosition: 196512223\\u003cbr\\u003ePrediction: Finnish_1\\u003cbr\\u003ePopulation: Brahui\",\"Sample: HGDP00021\\u003cbr\\u003eChromosome: 1\\u003cbr\\u003ePosition: 197899879\\u003cbr\\u003ePrediction: Finnish_1\\u003cbr\\u003ePopulation: Brahui\",\"Sample: HGDP00021\\u003cbr\\u003eChromosome: 1\\u003cbr\\u003ePosition: 199287535\\u003cbr\\u003ePrediction: Finnish_1\\u003cbr\\u003ePopulation: Brahui\",\"Sample: HGDP00021\\u003cbr\\u003eChromosome: 1\\u003cbr\\u003ePosition: 200675191\\u003cbr\\u003ePrediction: Finnish_1\\u003cbr\\u003ePopulation: Brahui\",\"Sample: HGDP00021\\u003cbr\\u003eChromosome: 1\\u003cbr\\u003ePosition: 202062847\\u003cbr\\u003ePrediction: Finnish_1\\u003cbr\\u003ePopulation: Brahui\",\"Sample: HGDP00021\\u003cbr\\u003eChromosome: 1\\u003cbr\\u003ePosition: 203450503\\u003cbr\\u003ePrediction: Finnish_1\\u003cbr\\u003ePopulation: Brahui\",\"Sample: HGDP00021\\u003cbr\\u003eChromosome: 1\\u003cbr\\u003ePosition: 204838159\\u003cbr\\u003ePrediction: Finnish_1\\u003cbr\\u003ePopulation: Brahui\",\"Sample: HGDP00021\\u003cbr\\u003eChromosome: 1\\u003cbr\\u003ePosition: 206225815\\u003cbr\\u003ePrediction: Finnish_1\\u003cbr\\u003ePopulation: Brahui\",\"Sample: HGDP00021\\u003cbr\\u003eChromosome: 1\\u003cbr\\u003ePosition: 207613471\\u003cbr\\u003ePrediction: Finnish_1\\u003cbr\\u003ePopulation: Brahui\",\"Sample: HGDP00021\\u003cbr\\u003eChromosome: 1\\u003cbr\\u003ePosition: 209001127\\u003cbr\\u003ePrediction: Finnish_1\\u003cbr\\u003ePopulation: Brahui\",\"Sample: HGDP00021\\u003cbr\\u003eChromosome: 1\\u003cbr\\u003ePosition: 210388783\\u003cbr\\u003ePrediction: Finnish_1\\u003cbr\\u003ePopulation: Brahui\",\"Sample: HGDP00021\\u003cbr\\u003eChromosome: 1\\u003cbr\\u003ePosition: 211776439\\u003cbr\\u003ePrediction: Finnish_1\\u003cbr\\u003ePopulation: Brahui\"],\"x\":[185410975.0,186798631.0,188186287.0,189573943.0,190961599.0,192349255.0,193736911.0,195124567.0,196512223.0,197899879.0,199287535.0,200675191.0,202062847.0,203450503.0,204838159.0,206225815.0,207613471.0,209001127.0,210388783.0,211776439.0],\"y\":[\"1\",\"1\",\"1\",\"1\",\"1\",\"1\",\"1\",\"1\",\"1\",\"1\",\"1\",\"1\",\"1\",\"1\",\"1\",\"1\",\"1\",\"1\",\"1\",\"1\"],\"type\":\"scatter\"},{\"hoverinfo\":\"text\",\"hoveron\":\"points+fills\",\"line\":{\"color\":\"#AB63FA\",\"width\":18},\"marker\":{\"opacity\":0,\"size\":3},\"mode\":\"lines+markers\",\"name\":\"Tatars_4\",\"showlegend\":true,\"text\":[\"Sample: HGDP00021\\u003cbr\\u003eChromosome: 1\\u003cbr\\u003ePosition: 211785065\\u003cbr\\u003ePrediction: Tatars_4\\u003cbr\\u003ePopulation: Brahui\",\"Sample: HGDP00021\\u003cbr\\u003eChromosome: 1\\u003cbr\\u003ePosition: 212790817\\u003cbr\\u003ePrediction: Tatars_4\\u003cbr\\u003ePopulation: Brahui\",\"Sample: HGDP00021\\u003cbr\\u003eChromosome: 1\\u003cbr\\u003ePosition: 213796570\\u003cbr\\u003ePrediction: Tatars_4\\u003cbr\\u003ePopulation: Brahui\",\"Sample: HGDP00021\\u003cbr\\u003eChromosome: 1\\u003cbr\\u003ePosition: 214802322\\u003cbr\\u003ePrediction: Tatars_4\\u003cbr\\u003ePopulation: Brahui\",\"Sample: HGDP00021\\u003cbr\\u003eChromosome: 1\\u003cbr\\u003ePosition: 215808075\\u003cbr\\u003ePrediction: Tatars_4\\u003cbr\\u003ePopulation: Brahui\",\"Sample: HGDP00021\\u003cbr\\u003eChromosome: 1\\u003cbr\\u003ePosition: 216813828\\u003cbr\\u003ePrediction: Tatars_4\\u003cbr\\u003ePopulation: Brahui\",\"Sample: HGDP00021\\u003cbr\\u003eChromosome: 1\\u003cbr\\u003ePosition: 217819580\\u003cbr\\u003ePrediction: Tatars_4\\u003cbr\\u003ePopulation: Brahui\",\"Sample: HGDP00021\\u003cbr\\u003eChromosome: 1\\u003cbr\\u003ePosition: 218825333\\u003cbr\\u003ePrediction: Tatars_4\\u003cbr\\u003ePopulation: Brahui\",\"Sample: HGDP00021\\u003cbr\\u003eChromosome: 1\\u003cbr\\u003ePosition: 219831086\\u003cbr\\u003ePrediction: Tatars_4\\u003cbr\\u003ePopulation: Brahui\",\"Sample: HGDP00021\\u003cbr\\u003eChromosome: 1\\u003cbr\\u003ePosition: 220836838\\u003cbr\\u003ePrediction: Tatars_4\\u003cbr\\u003ePopulation: Brahui\",\"Sample: HGDP00021\\u003cbr\\u003eChromosome: 1\\u003cbr\\u003ePosition: 221842591\\u003cbr\\u003ePrediction: Tatars_4\\u003cbr\\u003ePopulation: Brahui\",\"Sample: HGDP00021\\u003cbr\\u003eChromosome: 1\\u003cbr\\u003ePosition: 222848343\\u003cbr\\u003ePrediction: Tatars_4\\u003cbr\\u003ePopulation: Brahui\",\"Sample: HGDP00021\\u003cbr\\u003eChromosome: 1\\u003cbr\\u003ePosition: 223854096\\u003cbr\\u003ePrediction: Tatars_4\\u003cbr\\u003ePopulation: Brahui\",\"Sample: HGDP00021\\u003cbr\\u003eChromosome: 1\\u003cbr\\u003ePosition: 224859849\\u003cbr\\u003ePrediction: Tatars_4\\u003cbr\\u003ePopulation: Brahui\",\"Sample: HGDP00021\\u003cbr\\u003eChromosome: 1\\u003cbr\\u003ePosition: 225865601\\u003cbr\\u003ePrediction: Tatars_4\\u003cbr\\u003ePopulation: Brahui\",\"Sample: HGDP00021\\u003cbr\\u003eChromosome: 1\\u003cbr\\u003ePosition: 226871354\\u003cbr\\u003ePrediction: Tatars_4\\u003cbr\\u003ePopulation: Brahui\",\"Sample: HGDP00021\\u003cbr\\u003eChromosome: 1\\u003cbr\\u003ePosition: 227877107\\u003cbr\\u003ePrediction: Tatars_4\\u003cbr\\u003ePopulation: Brahui\",\"Sample: HGDP00021\\u003cbr\\u003eChromosome: 1\\u003cbr\\u003ePosition: 228882859\\u003cbr\\u003ePrediction: Tatars_4\\u003cbr\\u003ePopulation: Brahui\",\"Sample: HGDP00021\\u003cbr\\u003eChromosome: 1\\u003cbr\\u003ePosition: 229888612\\u003cbr\\u003ePrediction: Tatars_4\\u003cbr\\u003ePopulation: Brahui\",\"Sample: HGDP00021\\u003cbr\\u003eChromosome: 1\\u003cbr\\u003ePosition: 230894365\\u003cbr\\u003ePrediction: Tatars_4\\u003cbr\\u003ePopulation: Brahui\"],\"x\":[211785065.0,212790817.63157895,213796570.2631579,214802322.89473686,215808075.52631578,216813828.15789473,217819580.78947368,218825333.42105263,219831086.0526316,220836838.68421054,221842591.31578946,222848343.9473684,223854096.57894737,224859849.21052632,225865601.84210527,226871354.47368422,227877107.10526317,228882859.7368421,229888612.36842105,230894365.0],\"y\":[\"1\",\"1\",\"1\",\"1\",\"1\",\"1\",\"1\",\"1\",\"1\",\"1\",\"1\",\"1\",\"1\",\"1\",\"1\",\"1\",\"1\",\"1\",\"1\",\"1\"],\"type\":\"scatter\"},{\"hoverinfo\":\"text\",\"hoveron\":\"points+fills\",\"line\":{\"color\":\"#636EFA\",\"width\":18},\"marker\":{\"opacity\":0,\"size\":3},\"mode\":\"lines+markers\",\"showlegend\":false,\"text\":[\"Sample: HGDP00021\\u003cbr\\u003eChromosome: 1\\u003cbr\\u003ePosition: 230906954\\u003cbr\\u003ePrediction: Tatars_2\\u003cbr\\u003ePopulation: Brahui\",\"Sample: HGDP00021\\u003cbr\\u003eChromosome: 1\\u003cbr\\u003ePosition: 231689253\\u003cbr\\u003ePrediction: Tatars_2\\u003cbr\\u003ePopulation: Brahui\",\"Sample: HGDP00021\\u003cbr\\u003eChromosome: 1\\u003cbr\\u003ePosition: 232471552\\u003cbr\\u003ePrediction: Tatars_2\\u003cbr\\u003ePopulation: Brahui\",\"Sample: HGDP00021\\u003cbr\\u003eChromosome: 1\\u003cbr\\u003ePosition: 233253852\\u003cbr\\u003ePrediction: Tatars_2\\u003cbr\\u003ePopulation: Brahui\",\"Sample: HGDP00021\\u003cbr\\u003eChromosome: 1\\u003cbr\\u003ePosition: 234036151\\u003cbr\\u003ePrediction: Tatars_2\\u003cbr\\u003ePopulation: Brahui\",\"Sample: HGDP00021\\u003cbr\\u003eChromosome: 1\\u003cbr\\u003ePosition: 234818450\\u003cbr\\u003ePrediction: Tatars_2\\u003cbr\\u003ePopulation: Brahui\",\"Sample: HGDP00021\\u003cbr\\u003eChromosome: 1\\u003cbr\\u003ePosition: 235600750\\u003cbr\\u003ePrediction: Tatars_2\\u003cbr\\u003ePopulation: Brahui\",\"Sample: HGDP00021\\u003cbr\\u003eChromosome: 1\\u003cbr\\u003ePosition: 236383049\\u003cbr\\u003ePrediction: Tatars_2\\u003cbr\\u003ePopulation: Brahui\",\"Sample: HGDP00021\\u003cbr\\u003eChromosome: 1\\u003cbr\\u003ePosition: 237165348\\u003cbr\\u003ePrediction: Tatars_2\\u003cbr\\u003ePopulation: Brahui\",\"Sample: HGDP00021\\u003cbr\\u003eChromosome: 1\\u003cbr\\u003ePosition: 237947648\\u003cbr\\u003ePrediction: Tatars_2\\u003cbr\\u003ePopulation: Brahui\",\"Sample: HGDP00021\\u003cbr\\u003eChromosome: 1\\u003cbr\\u003ePosition: 238729947\\u003cbr\\u003ePrediction: Tatars_2\\u003cbr\\u003ePopulation: Brahui\",\"Sample: HGDP00021\\u003cbr\\u003eChromosome: 1\\u003cbr\\u003ePosition: 239512247\\u003cbr\\u003ePrediction: Tatars_2\\u003cbr\\u003ePopulation: Brahui\",\"Sample: HGDP00021\\u003cbr\\u003eChromosome: 1\\u003cbr\\u003ePosition: 240294546\\u003cbr\\u003ePrediction: Tatars_2\\u003cbr\\u003ePopulation: Brahui\",\"Sample: HGDP00021\\u003cbr\\u003eChromosome: 1\\u003cbr\\u003ePosition: 241076845\\u003cbr\\u003ePrediction: Tatars_2\\u003cbr\\u003ePopulation: Brahui\",\"Sample: HGDP00021\\u003cbr\\u003eChromosome: 1\\u003cbr\\u003ePosition: 241859145\\u003cbr\\u003ePrediction: Tatars_2\\u003cbr\\u003ePopulation: Brahui\",\"Sample: HGDP00021\\u003cbr\\u003eChromosome: 1\\u003cbr\\u003ePosition: 242641444\\u003cbr\\u003ePrediction: Tatars_2\\u003cbr\\u003ePopulation: Brahui\",\"Sample: HGDP00021\\u003cbr\\u003eChromosome: 1\\u003cbr\\u003ePosition: 243423743\\u003cbr\\u003ePrediction: Tatars_2\\u003cbr\\u003ePopulation: Brahui\",\"Sample: HGDP00021\\u003cbr\\u003eChromosome: 1\\u003cbr\\u003ePosition: 244206043\\u003cbr\\u003ePrediction: Tatars_2\\u003cbr\\u003ePopulation: Brahui\",\"Sample: HGDP00021\\u003cbr\\u003eChromosome: 1\\u003cbr\\u003ePosition: 244988342\\u003cbr\\u003ePrediction: Tatars_2\\u003cbr\\u003ePopulation: Brahui\",\"Sample: HGDP00021\\u003cbr\\u003eChromosome: 1\\u003cbr\\u003ePosition: 245770642\\u003cbr\\u003ePrediction: Tatars_2\\u003cbr\\u003ePopulation: Brahui\"],\"x\":[230906954.0,231689253.36842105,232471552.7368421,233253852.10526314,234036151.47368422,234818450.84210527,235600750.21052632,236383049.57894737,237165348.9473684,237947648.31578946,238729947.68421054,239512247.0526316,240294546.42105263,241076845.78947368,241859145.15789473,242641444.52631578,243423743.89473683,244206043.2631579,244988342.63157895,245770642.0],\"y\":[\"1\",\"1\",\"1\",\"1\",\"1\",\"1\",\"1\",\"1\",\"1\",\"1\",\"1\",\"1\",\"1\",\"1\",\"1\",\"1\",\"1\",\"1\",\"1\",\"1\"],\"type\":\"scatter\"},{\"hoverinfo\":\"text\",\"hoveron\":\"points+fills\",\"line\":{\"color\":\"#636EFA\",\"width\":18},\"marker\":{\"opacity\":0,\"size\":3},\"mode\":\"lines+markers\",\"showlegend\":false,\"text\":[\"Sample: HGDP00021\\u003cbr\\u003eChromosome: 2\\u003cbr\\u003ePosition: 12589208\\u003cbr\\u003ePrediction: Tatars_2\\u003cbr\\u003ePopulation: Brahui\",\"Sample: HGDP00021\\u003cbr\\u003eChromosome: 2\\u003cbr\\u003ePosition: 14609522\\u003cbr\\u003ePrediction: Tatars_2\\u003cbr\\u003ePopulation: Brahui\",\"Sample: HGDP00021\\u003cbr\\u003eChromosome: 2\\u003cbr\\u003ePosition: 16629837\\u003cbr\\u003ePrediction: Tatars_2\\u003cbr\\u003ePopulation: Brahui\",\"Sample: HGDP00021\\u003cbr\\u003eChromosome: 2\\u003cbr\\u003ePosition: 18650151\\u003cbr\\u003ePrediction: Tatars_2\\u003cbr\\u003ePopulation: Brahui\",\"Sample: HGDP00021\\u003cbr\\u003eChromosome: 2\\u003cbr\\u003ePosition: 20670466\\u003cbr\\u003ePrediction: Tatars_2\\u003cbr\\u003ePopulation: Brahui\",\"Sample: HGDP00021\\u003cbr\\u003eChromosome: 2\\u003cbr\\u003ePosition: 22690780\\u003cbr\\u003ePrediction: Tatars_2\\u003cbr\\u003ePopulation: Brahui\",\"Sample: HGDP00021\\u003cbr\\u003eChromosome: 2\\u003cbr\\u003ePosition: 24711095\\u003cbr\\u003ePrediction: Tatars_2\\u003cbr\\u003ePopulation: Brahui\",\"Sample: HGDP00021\\u003cbr\\u003eChromosome: 2\\u003cbr\\u003ePosition: 26731410\\u003cbr\\u003ePrediction: Tatars_2\\u003cbr\\u003ePopulation: Brahui\",\"Sample: HGDP00021\\u003cbr\\u003eChromosome: 2\\u003cbr\\u003ePosition: 28751724\\u003cbr\\u003ePrediction: Tatars_2\\u003cbr\\u003ePopulation: Brahui\",\"Sample: HGDP00021\\u003cbr\\u003eChromosome: 2\\u003cbr\\u003ePosition: 30772039\\u003cbr\\u003ePrediction: Tatars_2\\u003cbr\\u003ePopulation: Brahui\",\"Sample: HGDP00021\\u003cbr\\u003eChromosome: 2\\u003cbr\\u003ePosition: 32792353\\u003cbr\\u003ePrediction: Tatars_2\\u003cbr\\u003ePopulation: Brahui\",\"Sample: HGDP00021\\u003cbr\\u003eChromosome: 2\\u003cbr\\u003ePosition: 34812668\\u003cbr\\u003ePrediction: Tatars_2\\u003cbr\\u003ePopulation: Brahui\",\"Sample: HGDP00021\\u003cbr\\u003eChromosome: 2\\u003cbr\\u003ePosition: 36832982\\u003cbr\\u003ePrediction: Tatars_2\\u003cbr\\u003ePopulation: Brahui\",\"Sample: HGDP00021\\u003cbr\\u003eChromosome: 2\\u003cbr\\u003ePosition: 38853297\\u003cbr\\u003ePrediction: Tatars_2\\u003cbr\\u003ePopulation: Brahui\",\"Sample: HGDP00021\\u003cbr\\u003eChromosome: 2\\u003cbr\\u003ePosition: 40873612\\u003cbr\\u003ePrediction: Tatars_2\\u003cbr\\u003ePopulation: Brahui\",\"Sample: HGDP00021\\u003cbr\\u003eChromosome: 2\\u003cbr\\u003ePosition: 42893926\\u003cbr\\u003ePrediction: Tatars_2\\u003cbr\\u003ePopulation: Brahui\",\"Sample: HGDP00021\\u003cbr\\u003eChromosome: 2\\u003cbr\\u003ePosition: 44914241\\u003cbr\\u003ePrediction: Tatars_2\\u003cbr\\u003ePopulation: Brahui\",\"Sample: HGDP00021\\u003cbr\\u003eChromosome: 2\\u003cbr\\u003ePosition: 46934555\\u003cbr\\u003ePrediction: Tatars_2\\u003cbr\\u003ePopulation: Brahui\",\"Sample: HGDP00021\\u003cbr\\u003eChromosome: 2\\u003cbr\\u003ePosition: 48954870\\u003cbr\\u003ePrediction: Tatars_2\\u003cbr\\u003ePopulation: Brahui\",\"Sample: HGDP00021\\u003cbr\\u003eChromosome: 2\\u003cbr\\u003ePosition: 50975185\\u003cbr\\u003ePrediction: Tatars_2\\u003cbr\\u003ePopulation: Brahui\"],\"x\":[12589208.0,14609522.578947369,16629837.157894736,18650151.736842103,20670466.315789472,22690780.89473684,24711095.47368421,26731410.05263158,28751724.631578945,30772039.210526314,32792353.789473683,34812668.36842105,36832982.94736842,38853297.52631579,40873612.10526316,42893926.684210524,44914241.26315789,46934555.84210526,48954870.42105263,50975185.0],\"y\":[\"2\",\"2\",\"2\",\"2\",\"2\",\"2\",\"2\",\"2\",\"2\",\"2\",\"2\",\"2\",\"2\",\"2\",\"2\",\"2\",\"2\",\"2\",\"2\",\"2\"],\"type\":\"scatter\"},{\"hoverinfo\":\"text\",\"hoveron\":\"points+fills\",\"line\":{\"color\":\"#00CC96\",\"width\":18},\"marker\":{\"opacity\":0,\"size\":3},\"mode\":\"lines+markers\",\"showlegend\":false,\"text\":[\"Sample: HGDP00021\\u003cbr\\u003eChromosome: 2\\u003cbr\\u003ePosition: 50976485\\u003cbr\\u003ePrediction: Finnish_1\\u003cbr\\u003ePopulation: Brahui\",\"Sample: HGDP00021\\u003cbr\\u003eChromosome: 2\\u003cbr\\u003ePosition: 53721054\\u003cbr\\u003ePrediction: Finnish_1\\u003cbr\\u003ePopulation: Brahui\",\"Sample: HGDP00021\\u003cbr\\u003eChromosome: 2\\u003cbr\\u003ePosition: 56465623\\u003cbr\\u003ePrediction: Finnish_1\\u003cbr\\u003ePopulation: Brahui\",\"Sample: HGDP00021\\u003cbr\\u003eChromosome: 2\\u003cbr\\u003ePosition: 59210192\\u003cbr\\u003ePrediction: Finnish_1\\u003cbr\\u003ePopulation: Brahui\",\"Sample: HGDP00021\\u003cbr\\u003eChromosome: 2\\u003cbr\\u003ePosition: 61954762\\u003cbr\\u003ePrediction: Finnish_1\\u003cbr\\u003ePopulation: Brahui\",\"Sample: HGDP00021\\u003cbr\\u003eChromosome: 2\\u003cbr\\u003ePosition: 64699331\\u003cbr\\u003ePrediction: Finnish_1\\u003cbr\\u003ePopulation: Brahui\",\"Sample: HGDP00021\\u003cbr\\u003eChromosome: 2\\u003cbr\\u003ePosition: 67443900\\u003cbr\\u003ePrediction: Finnish_1\\u003cbr\\u003ePopulation: Brahui\",\"Sample: HGDP00021\\u003cbr\\u003eChromosome: 2\\u003cbr\\u003ePosition: 70188469\\u003cbr\\u003ePrediction: Finnish_1\\u003cbr\\u003ePopulation: Brahui\",\"Sample: HGDP00021\\u003cbr\\u003eChromosome: 2\\u003cbr\\u003ePosition: 72933039\\u003cbr\\u003ePrediction: Finnish_1\\u003cbr\\u003ePopulation: Brahui\",\"Sample: HGDP00021\\u003cbr\\u003eChromosome: 2\\u003cbr\\u003ePosition: 75677608\\u003cbr\\u003ePrediction: Finnish_1\\u003cbr\\u003ePopulation: Brahui\",\"Sample: HGDP00021\\u003cbr\\u003eChromosome: 2\\u003cbr\\u003ePosition: 78422177\\u003cbr\\u003ePrediction: Finnish_1\\u003cbr\\u003ePopulation: Brahui\",\"Sample: HGDP00021\\u003cbr\\u003eChromosome: 2\\u003cbr\\u003ePosition: 81166746\\u003cbr\\u003ePrediction: Finnish_1\\u003cbr\\u003ePopulation: Brahui\",\"Sample: HGDP00021\\u003cbr\\u003eChromosome: 2\\u003cbr\\u003ePosition: 83911316\\u003cbr\\u003ePrediction: Finnish_1\\u003cbr\\u003ePopulation: Brahui\",\"Sample: HGDP00021\\u003cbr\\u003eChromosome: 2\\u003cbr\\u003ePosition: 86655885\\u003cbr\\u003ePrediction: Finnish_1\\u003cbr\\u003ePopulation: Brahui\",\"Sample: HGDP00021\\u003cbr\\u003eChromosome: 2\\u003cbr\\u003ePosition: 89400454\\u003cbr\\u003ePrediction: Finnish_1\\u003cbr\\u003ePopulation: Brahui\",\"Sample: HGDP00021\\u003cbr\\u003eChromosome: 2\\u003cbr\\u003ePosition: 92145023\\u003cbr\\u003ePrediction: Finnish_1\\u003cbr\\u003ePopulation: Brahui\",\"Sample: HGDP00021\\u003cbr\\u003eChromosome: 2\\u003cbr\\u003ePosition: 94889593\\u003cbr\\u003ePrediction: Finnish_1\\u003cbr\\u003ePopulation: Brahui\",\"Sample: HGDP00021\\u003cbr\\u003eChromosome: 2\\u003cbr\\u003ePosition: 97634162\\u003cbr\\u003ePrediction: Finnish_1\\u003cbr\\u003ePopulation: Brahui\",\"Sample: HGDP00021\\u003cbr\\u003eChromosome: 2\\u003cbr\\u003ePosition: 100378731\\u003cbr\\u003ePrediction: Finnish_1\\u003cbr\\u003ePopulation: Brahui\",\"Sample: HGDP00021\\u003cbr\\u003eChromosome: 2\\u003cbr\\u003ePosition: 103123301\\u003cbr\\u003ePrediction: Finnish_1\\u003cbr\\u003ePopulation: Brahui\"],\"x\":[50976485.0,53721054.2631579,56465623.52631579,59210192.78947368,61954762.05263158,64699331.315789476,67443900.57894737,70188469.84210527,72933039.10526316,75677608.36842105,78422177.63157895,81166746.89473684,83911316.15789473,86655885.42105263,89400454.68421052,92145023.94736841,94889593.21052632,97634162.47368422,100378731.73684211,103123301.0],\"y\":[\"2\",\"2\",\"2\",\"2\",\"2\",\"2\",\"2\",\"2\",\"2\",\"2\",\"2\",\"2\",\"2\",\"2\",\"2\",\"2\",\"2\",\"2\",\"2\",\"2\"],\"type\":\"scatter\"},{\"hoverinfo\":\"text\",\"hoveron\":\"points+fills\",\"line\":{\"color\":\"#636EFA\",\"width\":18},\"marker\":{\"opacity\":0,\"size\":3},\"mode\":\"lines+markers\",\"showlegend\":false,\"text\":[\"Sample: HGDP00021\\u003cbr\\u003eChromosome: 2\\u003cbr\\u003ePosition: 103176411\\u003cbr\\u003ePrediction: Tatars_2\\u003cbr\\u003ePopulation: Brahui\",\"Sample: HGDP00021\\u003cbr\\u003eChromosome: 2\\u003cbr\\u003ePosition: 104623211\\u003cbr\\u003ePrediction: Tatars_2\\u003cbr\\u003ePopulation: Brahui\",\"Sample: HGDP00021\\u003cbr\\u003eChromosome: 2\\u003cbr\\u003ePosition: 106070012\\u003cbr\\u003ePrediction: Tatars_2\\u003cbr\\u003ePopulation: Brahui\",\"Sample: HGDP00021\\u003cbr\\u003eChromosome: 2\\u003cbr\\u003ePosition: 107516812\\u003cbr\\u003ePrediction: Tatars_2\\u003cbr\\u003ePopulation: Brahui\",\"Sample: HGDP00021\\u003cbr\\u003eChromosome: 2\\u003cbr\\u003ePosition: 108963613\\u003cbr\\u003ePrediction: Tatars_2\\u003cbr\\u003ePopulation: Brahui\",\"Sample: HGDP00021\\u003cbr\\u003eChromosome: 2\\u003cbr\\u003ePosition: 110410413\\u003cbr\\u003ePrediction: Tatars_2\\u003cbr\\u003ePopulation: Brahui\",\"Sample: HGDP00021\\u003cbr\\u003eChromosome: 2\\u003cbr\\u003ePosition: 111857214\\u003cbr\\u003ePrediction: Tatars_2\\u003cbr\\u003ePopulation: Brahui\",\"Sample: HGDP00021\\u003cbr\\u003eChromosome: 2\\u003cbr\\u003ePosition: 113304015\\u003cbr\\u003ePrediction: Tatars_2\\u003cbr\\u003ePopulation: Brahui\",\"Sample: HGDP00021\\u003cbr\\u003eChromosome: 2\\u003cbr\\u003ePosition: 114750815\\u003cbr\\u003ePrediction: Tatars_2\\u003cbr\\u003ePopulation: Brahui\",\"Sample: HGDP00021\\u003cbr\\u003eChromosome: 2\\u003cbr\\u003ePosition: 116197616\\u003cbr\\u003ePrediction: Tatars_2\\u003cbr\\u003ePopulation: Brahui\",\"Sample: HGDP00021\\u003cbr\\u003eChromosome: 2\\u003cbr\\u003ePosition: 117644416\\u003cbr\\u003ePrediction: Tatars_2\\u003cbr\\u003ePopulation: Brahui\",\"Sample: HGDP00021\\u003cbr\\u003eChromosome: 2\\u003cbr\\u003ePosition: 119091217\\u003cbr\\u003ePrediction: Tatars_2\\u003cbr\\u003ePopulation: Brahui\",\"Sample: HGDP00021\\u003cbr\\u003eChromosome: 2\\u003cbr\\u003ePosition: 120538017\\u003cbr\\u003ePrediction: Tatars_2\\u003cbr\\u003ePopulation: Brahui\",\"Sample: HGDP00021\\u003cbr\\u003eChromosome: 2\\u003cbr\\u003ePosition: 121984818\\u003cbr\\u003ePrediction: Tatars_2\\u003cbr\\u003ePopulation: Brahui\",\"Sample: HGDP00021\\u003cbr\\u003eChromosome: 2\\u003cbr\\u003ePosition: 123431619\\u003cbr\\u003ePrediction: Tatars_2\\u003cbr\\u003ePopulation: Brahui\",\"Sample: HGDP00021\\u003cbr\\u003eChromosome: 2\\u003cbr\\u003ePosition: 124878419\\u003cbr\\u003ePrediction: Tatars_2\\u003cbr\\u003ePopulation: Brahui\",\"Sample: HGDP00021\\u003cbr\\u003eChromosome: 2\\u003cbr\\u003ePosition: 126325220\\u003cbr\\u003ePrediction: Tatars_2\\u003cbr\\u003ePopulation: Brahui\",\"Sample: HGDP00021\\u003cbr\\u003eChromosome: 2\\u003cbr\\u003ePosition: 127772020\\u003cbr\\u003ePrediction: Tatars_2\\u003cbr\\u003ePopulation: Brahui\",\"Sample: HGDP00021\\u003cbr\\u003eChromosome: 2\\u003cbr\\u003ePosition: 129218821\\u003cbr\\u003ePrediction: Tatars_2\\u003cbr\\u003ePopulation: Brahui\",\"Sample: HGDP00021\\u003cbr\\u003eChromosome: 2\\u003cbr\\u003ePosition: 130665622\\u003cbr\\u003ePrediction: Tatars_2\\u003cbr\\u003ePopulation: Brahui\"],\"x\":[103176411.0,104623211.57894737,106070012.15789473,107516812.73684211,108963613.31578948,110410413.89473684,111857214.4736842,113304015.05263157,114750815.63157895,116197616.21052632,117644416.78947368,119091217.36842105,120538017.94736841,121984818.5263158,123431619.10526316,124878419.68421052,126325220.26315789,127772020.84210527,129218821.42105263,130665622.0],\"y\":[\"2\",\"2\",\"2\",\"2\",\"2\",\"2\",\"2\",\"2\",\"2\",\"2\",\"2\",\"2\",\"2\",\"2\",\"2\",\"2\",\"2\",\"2\",\"2\",\"2\"],\"type\":\"scatter\"},{\"hoverinfo\":\"text\",\"hoveron\":\"points+fills\",\"line\":{\"color\":\"#FFA15A\",\"width\":18},\"marker\":{\"opacity\":0,\"size\":3},\"mode\":\"lines+markers\",\"name\":\"Finnish_2\",\"showlegend\":true,\"text\":[\"Sample: HGDP00021\\u003cbr\\u003eChromosome: 2\\u003cbr\\u003ePosition: 131063169\\u003cbr\\u003ePrediction: Finnish_2\\u003cbr\\u003ePopulation: Brahui\",\"Sample: HGDP00021\\u003cbr\\u003eChromosome: 2\\u003cbr\\u003ePosition: 132263678\\u003cbr\\u003ePrediction: Finnish_2\\u003cbr\\u003ePopulation: Brahui\",\"Sample: HGDP00021\\u003cbr\\u003eChromosome: 2\\u003cbr\\u003ePosition: 133464187\\u003cbr\\u003ePrediction: Finnish_2\\u003cbr\\u003ePopulation: Brahui\",\"Sample: HGDP00021\\u003cbr\\u003eChromosome: 2\\u003cbr\\u003ePosition: 134664696\\u003cbr\\u003ePrediction: Finnish_2\\u003cbr\\u003ePopulation: Brahui\",\"Sample: HGDP00021\\u003cbr\\u003eChromosome: 2\\u003cbr\\u003ePosition: 135865206\\u003cbr\\u003ePrediction: Finnish_2\\u003cbr\\u003ePopulation: Brahui\",\"Sample: HGDP00021\\u003cbr\\u003eChromosome: 2\\u003cbr\\u003ePosition: 137065715\\u003cbr\\u003ePrediction: Finnish_2\\u003cbr\\u003ePopulation: Brahui\",\"Sample: HGDP00021\\u003cbr\\u003eChromosome: 2\\u003cbr\\u003ePosition: 138266224\\u003cbr\\u003ePrediction: Finnish_2\\u003cbr\\u003ePopulation: Brahui\",\"Sample: HGDP00021\\u003cbr\\u003eChromosome: 2\\u003cbr\\u003ePosition: 139466733\\u003cbr\\u003ePrediction: Finnish_2\\u003cbr\\u003ePopulation: Brahui\",\"Sample: HGDP00021\\u003cbr\\u003eChromosome: 2\\u003cbr\\u003ePosition: 140667243\\u003cbr\\u003ePrediction: Finnish_2\\u003cbr\\u003ePopulation: Brahui\",\"Sample: HGDP00021\\u003cbr\\u003eChromosome: 2\\u003cbr\\u003ePosition: 141867752\\u003cbr\\u003ePrediction: Finnish_2\\u003cbr\\u003ePopulation: Brahui\",\"Sample: HGDP00021\\u003cbr\\u003eChromosome: 2\\u003cbr\\u003ePosition: 143068261\\u003cbr\\u003ePrediction: Finnish_2\\u003cbr\\u003ePopulation: Brahui\",\"Sample: HGDP00021\\u003cbr\\u003eChromosome: 2\\u003cbr\\u003ePosition: 144268770\\u003cbr\\u003ePrediction: Finnish_2\\u003cbr\\u003ePopulation: Brahui\",\"Sample: HGDP00021\\u003cbr\\u003eChromosome: 2\\u003cbr\\u003ePosition: 145469280\\u003cbr\\u003ePrediction: Finnish_2\\u003cbr\\u003ePopulation: Brahui\",\"Sample: HGDP00021\\u003cbr\\u003eChromosome: 2\\u003cbr\\u003ePosition: 146669789\\u003cbr\\u003ePrediction: Finnish_2\\u003cbr\\u003ePopulation: Brahui\",\"Sample: HGDP00021\\u003cbr\\u003eChromosome: 2\\u003cbr\\u003ePosition: 147870298\\u003cbr\\u003ePrediction: Finnish_2\\u003cbr\\u003ePopulation: Brahui\",\"Sample: HGDP00021\\u003cbr\\u003eChromosome: 2\\u003cbr\\u003ePosition: 149070807\\u003cbr\\u003ePrediction: Finnish_2\\u003cbr\\u003ePopulation: Brahui\",\"Sample: HGDP00021\\u003cbr\\u003eChromosome: 2\\u003cbr\\u003ePosition: 150271317\\u003cbr\\u003ePrediction: Finnish_2\\u003cbr\\u003ePopulation: Brahui\",\"Sample: HGDP00021\\u003cbr\\u003eChromosome: 2\\u003cbr\\u003ePosition: 151471826\\u003cbr\\u003ePrediction: Finnish_2\\u003cbr\\u003ePopulation: Brahui\",\"Sample: HGDP00021\\u003cbr\\u003eChromosome: 2\\u003cbr\\u003ePosition: 152672335\\u003cbr\\u003ePrediction: Finnish_2\\u003cbr\\u003ePopulation: Brahui\",\"Sample: HGDP00021\\u003cbr\\u003eChromosome: 2\\u003cbr\\u003ePosition: 153872845\\u003cbr\\u003ePrediction: Finnish_2\\u003cbr\\u003ePopulation: Brahui\"],\"x\":[131063169.0,132263678.26315789,133464187.5263158,134664696.78947368,135865206.0526316,137065715.31578946,138266224.57894737,139466733.84210527,140667243.10526317,141867752.36842105,143068261.63157895,144268770.89473686,145469280.15789473,146669789.42105263,147870298.68421054,149070807.9473684,150271317.21052632,151471826.47368422,152672335.7368421,153872845.0],\"y\":[\"2\",\"2\",\"2\",\"2\",\"2\",\"2\",\"2\",\"2\",\"2\",\"2\",\"2\",\"2\",\"2\",\"2\",\"2\",\"2\",\"2\",\"2\",\"2\",\"2\"],\"type\":\"scatter\"},{\"hoverinfo\":\"text\",\"hoveron\":\"points+fills\",\"line\":{\"color\":\"#636EFA\",\"width\":18},\"marker\":{\"opacity\":0,\"size\":3},\"mode\":\"lines+markers\",\"showlegend\":false,\"text\":[\"Sample: HGDP00021\\u003cbr\\u003eChromosome: 2\\u003cbr\\u003ePosition: 153881453\\u003cbr\\u003ePrediction: Tatars_2\\u003cbr\\u003ePopulation: Brahui\",\"Sample: HGDP00021\\u003cbr\\u003eChromosome: 2\\u003cbr\\u003ePosition: 155094102\\u003cbr\\u003ePrediction: Tatars_2\\u003cbr\\u003ePopulation: Brahui\",\"Sample: HGDP00021\\u003cbr\\u003eChromosome: 2\\u003cbr\\u003ePosition: 156306751\\u003cbr\\u003ePrediction: Tatars_2\\u003cbr\\u003ePopulation: Brahui\",\"Sample: HGDP00021\\u003cbr\\u003eChromosome: 2\\u003cbr\\u003ePosition: 157519400\\u003cbr\\u003ePrediction: Tatars_2\\u003cbr\\u003ePopulation: Brahui\",\"Sample: HGDP00021\\u003cbr\\u003eChromosome: 2\\u003cbr\\u003ePosition: 158732049\\u003cbr\\u003ePrediction: Tatars_2\\u003cbr\\u003ePopulation: Brahui\",\"Sample: HGDP00021\\u003cbr\\u003eChromosome: 2\\u003cbr\\u003ePosition: 159944698\\u003cbr\\u003ePrediction: Tatars_2\\u003cbr\\u003ePopulation: Brahui\",\"Sample: HGDP00021\\u003cbr\\u003eChromosome: 2\\u003cbr\\u003ePosition: 161157347\\u003cbr\\u003ePrediction: Tatars_2\\u003cbr\\u003ePopulation: Brahui\",\"Sample: HGDP00021\\u003cbr\\u003eChromosome: 2\\u003cbr\\u003ePosition: 162369996\\u003cbr\\u003ePrediction: Tatars_2\\u003cbr\\u003ePopulation: Brahui\",\"Sample: HGDP00021\\u003cbr\\u003eChromosome: 2\\u003cbr\\u003ePosition: 163582645\\u003cbr\\u003ePrediction: Tatars_2\\u003cbr\\u003ePopulation: Brahui\",\"Sample: HGDP00021\\u003cbr\\u003eChromosome: 2\\u003cbr\\u003ePosition: 164795294\\u003cbr\\u003ePrediction: Tatars_2\\u003cbr\\u003ePopulation: Brahui\",\"Sample: HGDP00021\\u003cbr\\u003eChromosome: 2\\u003cbr\\u003ePosition: 166007943\\u003cbr\\u003ePrediction: Tatars_2\\u003cbr\\u003ePopulation: Brahui\",\"Sample: HGDP00021\\u003cbr\\u003eChromosome: 2\\u003cbr\\u003ePosition: 167220592\\u003cbr\\u003ePrediction: Tatars_2\\u003cbr\\u003ePopulation: Brahui\",\"Sample: HGDP00021\\u003cbr\\u003eChromosome: 2\\u003cbr\\u003ePosition: 168433241\\u003cbr\\u003ePrediction: Tatars_2\\u003cbr\\u003ePopulation: Brahui\",\"Sample: HGDP00021\\u003cbr\\u003eChromosome: 2\\u003cbr\\u003ePosition: 169645890\\u003cbr\\u003ePrediction: Tatars_2\\u003cbr\\u003ePopulation: Brahui\",\"Sample: HGDP00021\\u003cbr\\u003eChromosome: 2\\u003cbr\\u003ePosition: 170858539\\u003cbr\\u003ePrediction: Tatars_2\\u003cbr\\u003ePopulation: Brahui\",\"Sample: HGDP00021\\u003cbr\\u003eChromosome: 2\\u003cbr\\u003ePosition: 172071188\\u003cbr\\u003ePrediction: Tatars_2\\u003cbr\\u003ePopulation: Brahui\",\"Sample: HGDP00021\\u003cbr\\u003eChromosome: 2\\u003cbr\\u003ePosition: 173283837\\u003cbr\\u003ePrediction: Tatars_2\\u003cbr\\u003ePopulation: Brahui\",\"Sample: HGDP00021\\u003cbr\\u003eChromosome: 2\\u003cbr\\u003ePosition: 174496486\\u003cbr\\u003ePrediction: Tatars_2\\u003cbr\\u003ePopulation: Brahui\",\"Sample: HGDP00021\\u003cbr\\u003eChromosome: 2\\u003cbr\\u003ePosition: 175709135\\u003cbr\\u003ePrediction: Tatars_2\\u003cbr\\u003ePopulation: Brahui\",\"Sample: HGDP00021\\u003cbr\\u003eChromosome: 2\\u003cbr\\u003ePosition: 176921784\\u003cbr\\u003ePrediction: Tatars_2\\u003cbr\\u003ePopulation: Brahui\"],\"x\":[153881453.0,155094102.0,156306751.0,157519400.0,158732049.0,159944698.0,161157347.0,162369996.0,163582645.0,164795294.0,166007943.0,167220592.0,168433241.0,169645890.0,170858539.0,172071188.0,173283837.0,174496486.0,175709135.0,176921784.0],\"y\":[\"2\",\"2\",\"2\",\"2\",\"2\",\"2\",\"2\",\"2\",\"2\",\"2\",\"2\",\"2\",\"2\",\"2\",\"2\",\"2\",\"2\",\"2\",\"2\",\"2\"],\"type\":\"scatter\"},{\"hoverinfo\":\"text\",\"hoveron\":\"points+fills\",\"line\":{\"color\":\"#19D3F3\",\"width\":18},\"marker\":{\"opacity\":0,\"size\":3},\"mode\":\"lines+markers\",\"name\":\"Altaians_3\",\"showlegend\":true,\"text\":[\"Sample: HGDP00021\\u003cbr\\u003eChromosome: 2\\u003cbr\\u003ePosition: 177008914\\u003cbr\\u003ePrediction: Altaians_3\\u003cbr\\u003ePopulation: Brahui\",\"Sample: HGDP00021\\u003cbr\\u003eChromosome: 2\\u003cbr\\u003ePosition: 178533398\\u003cbr\\u003ePrediction: Altaians_3\\u003cbr\\u003ePopulation: Brahui\",\"Sample: HGDP00021\\u003cbr\\u003eChromosome: 2\\u003cbr\\u003ePosition: 180057882\\u003cbr\\u003ePrediction: Altaians_3\\u003cbr\\u003ePopulation: Brahui\",\"Sample: HGDP00021\\u003cbr\\u003eChromosome: 2\\u003cbr\\u003ePosition: 181582366\\u003cbr\\u003ePrediction: Altaians_3\\u003cbr\\u003ePopulation: Brahui\",\"Sample: HGDP00021\\u003cbr\\u003eChromosome: 2\\u003cbr\\u003ePosition: 183106850\\u003cbr\\u003ePrediction: Altaians_3\\u003cbr\\u003ePopulation: Brahui\",\"Sample: HGDP00021\\u003cbr\\u003eChromosome: 2\\u003cbr\\u003ePosition: 184631334\\u003cbr\\u003ePrediction: Altaians_3\\u003cbr\\u003ePopulation: Brahui\",\"Sample: HGDP00021\\u003cbr\\u003eChromosome: 2\\u003cbr\\u003ePosition: 186155818\\u003cbr\\u003ePrediction: Altaians_3\\u003cbr\\u003ePopulation: Brahui\",\"Sample: HGDP00021\\u003cbr\\u003eChromosome: 2\\u003cbr\\u003ePosition: 187680302\\u003cbr\\u003ePrediction: Altaians_3\\u003cbr\\u003ePopulation: Brahui\",\"Sample: HGDP00021\\u003cbr\\u003eChromosome: 2\\u003cbr\\u003ePosition: 189204786\\u003cbr\\u003ePrediction: Altaians_3\\u003cbr\\u003ePopulation: Brahui\",\"Sample: HGDP00021\\u003cbr\\u003eChromosome: 2\\u003cbr\\u003ePosition: 190729270\\u003cbr\\u003ePrediction: Altaians_3\\u003cbr\\u003ePopulation: Brahui\",\"Sample: HGDP00021\\u003cbr\\u003eChromosome: 2\\u003cbr\\u003ePosition: 192253754\\u003cbr\\u003ePrediction: Altaians_3\\u003cbr\\u003ePopulation: Brahui\",\"Sample: HGDP00021\\u003cbr\\u003eChromosome: 2\\u003cbr\\u003ePosition: 193778238\\u003cbr\\u003ePrediction: Altaians_3\\u003cbr\\u003ePopulation: Brahui\",\"Sample: HGDP00021\\u003cbr\\u003eChromosome: 2\\u003cbr\\u003ePosition: 195302722\\u003cbr\\u003ePrediction: Altaians_3\\u003cbr\\u003ePopulation: Brahui\",\"Sample: HGDP00021\\u003cbr\\u003eChromosome: 2\\u003cbr\\u003ePosition: 196827206\\u003cbr\\u003ePrediction: Altaians_3\\u003cbr\\u003ePopulation: Brahui\",\"Sample: HGDP00021\\u003cbr\\u003eChromosome: 2\\u003cbr\\u003ePosition: 198351690\\u003cbr\\u003ePrediction: Altaians_3\\u003cbr\\u003ePopulation: Brahui\",\"Sample: HGDP00021\\u003cbr\\u003eChromosome: 2\\u003cbr\\u003ePosition: 199876174\\u003cbr\\u003ePrediction: Altaians_3\\u003cbr\\u003ePopulation: Brahui\",\"Sample: HGDP00021\\u003cbr\\u003eChromosome: 2\\u003cbr\\u003ePosition: 201400658\\u003cbr\\u003ePrediction: Altaians_3\\u003cbr\\u003ePopulation: Brahui\",\"Sample: HGDP00021\\u003cbr\\u003eChromosome: 2\\u003cbr\\u003ePosition: 202925142\\u003cbr\\u003ePrediction: Altaians_3\\u003cbr\\u003ePopulation: Brahui\",\"Sample: HGDP00021\\u003cbr\\u003eChromosome: 2\\u003cbr\\u003ePosition: 204449626\\u003cbr\\u003ePrediction: Altaians_3\\u003cbr\\u003ePopulation: Brahui\",\"Sample: HGDP00021\\u003cbr\\u003eChromosome: 2\\u003cbr\\u003ePosition: 205974111\\u003cbr\\u003ePrediction: Altaians_3\\u003cbr\\u003ePopulation: Brahui\"],\"x\":[177008914.0,178533398.0526316,180057882.10526314,181582366.15789473,183106850.21052632,184631334.2631579,186155818.31578946,187680302.36842105,189204786.42105263,190729270.47368422,192253754.52631578,193778238.57894737,195302722.63157895,196827206.68421054,198351690.7368421,199876174.78947368,201400658.84210527,202925142.89473683,204449626.9473684,205974111.0],\"y\":[\"2\",\"2\",\"2\",\"2\",\"2\",\"2\",\"2\",\"2\",\"2\",\"2\",\"2\",\"2\",\"2\",\"2\",\"2\",\"2\",\"2\",\"2\",\"2\",\"2\"],\"type\":\"scatter\"},{\"hoverinfo\":\"text\",\"hoveron\":\"points+fills\",\"line\":{\"color\":\"#00CC96\",\"width\":18},\"marker\":{\"opacity\":0,\"size\":3},\"mode\":\"lines+markers\",\"showlegend\":false,\"text\":[\"Sample: HGDP00021\\u003cbr\\u003eChromosome: 2\\u003cbr\\u003ePosition: 206023947\\u003cbr\\u003ePrediction: Finnish_1\\u003cbr\\u003ePopulation: Brahui\",\"Sample: HGDP00021\\u003cbr\\u003eChromosome: 2\\u003cbr\\u003ePosition: 207254590\\u003cbr\\u003ePrediction: Finnish_1\\u003cbr\\u003ePopulation: Brahui\",\"Sample: HGDP00021\\u003cbr\\u003eChromosome: 2\\u003cbr\\u003ePosition: 208485233\\u003cbr\\u003ePrediction: Finnish_1\\u003cbr\\u003ePopulation: Brahui\",\"Sample: HGDP00021\\u003cbr\\u003eChromosome: 2\\u003cbr\\u003ePosition: 209715876\\u003cbr\\u003ePrediction: Finnish_1\\u003cbr\\u003ePopulation: Brahui\",\"Sample: HGDP00021\\u003cbr\\u003eChromosome: 2\\u003cbr\\u003ePosition: 210946519\\u003cbr\\u003ePrediction: Finnish_1\\u003cbr\\u003ePopulation: Brahui\",\"Sample: HGDP00021\\u003cbr\\u003eChromosome: 2\\u003cbr\\u003ePosition: 212177162\\u003cbr\\u003ePrediction: Finnish_1\\u003cbr\\u003ePopulation: Brahui\",\"Sample: HGDP00021\\u003cbr\\u003eChromosome: 2\\u003cbr\\u003ePosition: 213407805\\u003cbr\\u003ePrediction: Finnish_1\\u003cbr\\u003ePopulation: Brahui\",\"Sample: HGDP00021\\u003cbr\\u003eChromosome: 2\\u003cbr\\u003ePosition: 214638449\\u003cbr\\u003ePrediction: Finnish_1\\u003cbr\\u003ePopulation: Brahui\",\"Sample: HGDP00021\\u003cbr\\u003eChromosome: 2\\u003cbr\\u003ePosition: 215869092\\u003cbr\\u003ePrediction: Finnish_1\\u003cbr\\u003ePopulation: Brahui\",\"Sample: HGDP00021\\u003cbr\\u003eChromosome: 2\\u003cbr\\u003ePosition: 217099735\\u003cbr\\u003ePrediction: Finnish_1\\u003cbr\\u003ePopulation: Brahui\",\"Sample: HGDP00021\\u003cbr\\u003eChromosome: 2\\u003cbr\\u003ePosition: 218330378\\u003cbr\\u003ePrediction: Finnish_1\\u003cbr\\u003ePopulation: Brahui\",\"Sample: HGDP00021\\u003cbr\\u003eChromosome: 2\\u003cbr\\u003ePosition: 219561021\\u003cbr\\u003ePrediction: Finnish_1\\u003cbr\\u003ePopulation: Brahui\",\"Sample: HGDP00021\\u003cbr\\u003eChromosome: 2\\u003cbr\\u003ePosition: 220791664\\u003cbr\\u003ePrediction: Finnish_1\\u003cbr\\u003ePopulation: Brahui\",\"Sample: HGDP00021\\u003cbr\\u003eChromosome: 2\\u003cbr\\u003ePosition: 222022308\\u003cbr\\u003ePrediction: Finnish_1\\u003cbr\\u003ePopulation: Brahui\",\"Sample: HGDP00021\\u003cbr\\u003eChromosome: 2\\u003cbr\\u003ePosition: 223252951\\u003cbr\\u003ePrediction: Finnish_1\\u003cbr\\u003ePopulation: Brahui\",\"Sample: HGDP00021\\u003cbr\\u003eChromosome: 2\\u003cbr\\u003ePosition: 224483594\\u003cbr\\u003ePrediction: Finnish_1\\u003cbr\\u003ePopulation: Brahui\",\"Sample: HGDP00021\\u003cbr\\u003eChromosome: 2\\u003cbr\\u003ePosition: 225714237\\u003cbr\\u003ePrediction: Finnish_1\\u003cbr\\u003ePopulation: Brahui\",\"Sample: HGDP00021\\u003cbr\\u003eChromosome: 2\\u003cbr\\u003ePosition: 226944880\\u003cbr\\u003ePrediction: Finnish_1\\u003cbr\\u003ePopulation: Brahui\",\"Sample: HGDP00021\\u003cbr\\u003eChromosome: 2\\u003cbr\\u003ePosition: 228175523\\u003cbr\\u003ePrediction: Finnish_1\\u003cbr\\u003ePopulation: Brahui\",\"Sample: HGDP00021\\u003cbr\\u003eChromosome: 2\\u003cbr\\u003ePosition: 229406167\\u003cbr\\u003ePrediction: Finnish_1\\u003cbr\\u003ePopulation: Brahui\"],\"x\":[206023947.0,207254590.15789473,208485233.31578946,209715876.47368422,210946519.63157895,212177162.78947368,213407805.9473684,214638449.10526317,215869092.2631579,217099735.42105263,218330378.57894737,219561021.7368421,220791664.89473683,222022308.0526316,223252951.21052632,224483594.36842105,225714237.52631578,226944880.68421054,228175523.84210527,229406167.0],\"y\":[\"2\",\"2\",\"2\",\"2\",\"2\",\"2\",\"2\",\"2\",\"2\",\"2\",\"2\",\"2\",\"2\",\"2\",\"2\",\"2\",\"2\",\"2\",\"2\",\"2\"],\"type\":\"scatter\"},{\"hoverinfo\":\"text\",\"hoveron\":\"points+fills\",\"line\":{\"color\":\"#636EFA\",\"width\":18},\"marker\":{\"opacity\":0,\"size\":3},\"mode\":\"lines+markers\",\"showlegend\":false,\"text\":[\"Sample: HGDP00021\\u003cbr\\u003eChromosome: 3\\u003cbr\\u003ePosition: 3846526\\u003cbr\\u003ePrediction: Tatars_2\\u003cbr\\u003ePopulation: Brahui\",\"Sample: HGDP00021\\u003cbr\\u003eChromosome: 3\\u003cbr\\u003ePosition: 4801792\\u003cbr\\u003ePrediction: Tatars_2\\u003cbr\\u003ePopulation: Brahui\",\"Sample: HGDP00021\\u003cbr\\u003eChromosome: 3\\u003cbr\\u003ePosition: 5757058\\u003cbr\\u003ePrediction: Tatars_2\\u003cbr\\u003ePopulation: Brahui\",\"Sample: HGDP00021\\u003cbr\\u003eChromosome: 3\\u003cbr\\u003ePosition: 6712324\\u003cbr\\u003ePrediction: Tatars_2\\u003cbr\\u003ePopulation: Brahui\",\"Sample: HGDP00021\\u003cbr\\u003eChromosome: 3\\u003cbr\\u003ePosition: 7667591\\u003cbr\\u003ePrediction: Tatars_2\\u003cbr\\u003ePopulation: Brahui\",\"Sample: HGDP00021\\u003cbr\\u003eChromosome: 3\\u003cbr\\u003ePosition: 8622857\\u003cbr\\u003ePrediction: Tatars_2\\u003cbr\\u003ePopulation: Brahui\",\"Sample: HGDP00021\\u003cbr\\u003eChromosome: 3\\u003cbr\\u003ePosition: 9578123\\u003cbr\\u003ePrediction: Tatars_2\\u003cbr\\u003ePopulation: Brahui\",\"Sample: HGDP00021\\u003cbr\\u003eChromosome: 3\\u003cbr\\u003ePosition: 10533390\\u003cbr\\u003ePrediction: Tatars_2\\u003cbr\\u003ePopulation: Brahui\",\"Sample: HGDP00021\\u003cbr\\u003eChromosome: 3\\u003cbr\\u003ePosition: 11488656\\u003cbr\\u003ePrediction: Tatars_2\\u003cbr\\u003ePopulation: Brahui\",\"Sample: HGDP00021\\u003cbr\\u003eChromosome: 3\\u003cbr\\u003ePosition: 12443922\\u003cbr\\u003ePrediction: Tatars_2\\u003cbr\\u003ePopulation: Brahui\",\"Sample: HGDP00021\\u003cbr\\u003eChromosome: 3\\u003cbr\\u003ePosition: 13399189\\u003cbr\\u003ePrediction: Tatars_2\\u003cbr\\u003ePopulation: Brahui\",\"Sample: HGDP00021\\u003cbr\\u003eChromosome: 3\\u003cbr\\u003ePosition: 14354455\\u003cbr\\u003ePrediction: Tatars_2\\u003cbr\\u003ePopulation: Brahui\",\"Sample: HGDP00021\\u003cbr\\u003eChromosome: 3\\u003cbr\\u003ePosition: 15309721\\u003cbr\\u003ePrediction: Tatars_2\\u003cbr\\u003ePopulation: Brahui\",\"Sample: HGDP00021\\u003cbr\\u003eChromosome: 3\\u003cbr\\u003ePosition: 16264988\\u003cbr\\u003ePrediction: Tatars_2\\u003cbr\\u003ePopulation: Brahui\",\"Sample: HGDP00021\\u003cbr\\u003eChromosome: 3\\u003cbr\\u003ePosition: 17220254\\u003cbr\\u003ePrediction: Tatars_2\\u003cbr\\u003ePopulation: Brahui\",\"Sample: HGDP00021\\u003cbr\\u003eChromosome: 3\\u003cbr\\u003ePosition: 18175520\\u003cbr\\u003ePrediction: Tatars_2\\u003cbr\\u003ePopulation: Brahui\",\"Sample: HGDP00021\\u003cbr\\u003eChromosome: 3\\u003cbr\\u003ePosition: 19130787\\u003cbr\\u003ePrediction: Tatars_2\\u003cbr\\u003ePopulation: Brahui\",\"Sample: HGDP00021\\u003cbr\\u003eChromosome: 3\\u003cbr\\u003ePosition: 20086053\\u003cbr\\u003ePrediction: Tatars_2\\u003cbr\\u003ePopulation: Brahui\",\"Sample: HGDP00021\\u003cbr\\u003eChromosome: 3\\u003cbr\\u003ePosition: 21041319\\u003cbr\\u003ePrediction: Tatars_2\\u003cbr\\u003ePopulation: Brahui\",\"Sample: HGDP00021\\u003cbr\\u003eChromosome: 3\\u003cbr\\u003ePosition: 21996586\\u003cbr\\u003ePrediction: Tatars_2\\u003cbr\\u003ePopulation: Brahui\"],\"x\":[3846526.0,4801792.315789474,5757058.631578947,6712324.947368421,7667591.263157895,8622857.578947369,9578123.894736841,10533390.210526315,11488656.52631579,12443922.842105264,13399189.157894738,14354455.47368421,15309721.789473685,16264988.105263159,17220254.42105263,18175520.736842103,19130787.05263158,20086053.368421055,21041319.684210528,21996586.0],\"y\":[\"3\",\"3\",\"3\",\"3\",\"3\",\"3\",\"3\",\"3\",\"3\",\"3\",\"3\",\"3\",\"3\",\"3\",\"3\",\"3\",\"3\",\"3\",\"3\",\"3\"],\"type\":\"scatter\"},{\"hoverinfo\":\"text\",\"hoveron\":\"points+fills\",\"line\":{\"color\":\"#EF553B\",\"width\":18},\"marker\":{\"opacity\":0,\"size\":3},\"mode\":\"lines+markers\",\"showlegend\":false,\"text\":[\"Sample: HGDP00021\\u003cbr\\u003eChromosome: 3\\u003cbr\\u003ePosition: 22007867\\u003cbr\\u003ePrediction: Altaians_4\\u003cbr\\u003ePopulation: Brahui\",\"Sample: HGDP00021\\u003cbr\\u003eChromosome: 3\\u003cbr\\u003ePosition: 23278526\\u003cbr\\u003ePrediction: Altaians_4\\u003cbr\\u003ePopulation: Brahui\",\"Sample: HGDP00021\\u003cbr\\u003eChromosome: 3\\u003cbr\\u003ePosition: 24549186\\u003cbr\\u003ePrediction: Altaians_4\\u003cbr\\u003ePopulation: Brahui\",\"Sample: HGDP00021\\u003cbr\\u003eChromosome: 3\\u003cbr\\u003ePosition: 25819845\\u003cbr\\u003ePrediction: Altaians_4\\u003cbr\\u003ePopulation: Brahui\",\"Sample: HGDP00021\\u003cbr\\u003eChromosome: 3\\u003cbr\\u003ePosition: 27090505\\u003cbr\\u003ePrediction: Altaians_4\\u003cbr\\u003ePopulation: Brahui\",\"Sample: HGDP00021\\u003cbr\\u003eChromosome: 3\\u003cbr\\u003ePosition: 28361165\\u003cbr\\u003ePrediction: Altaians_4\\u003cbr\\u003ePopulation: Brahui\",\"Sample: HGDP00021\\u003cbr\\u003eChromosome: 3\\u003cbr\\u003ePosition: 29631824\\u003cbr\\u003ePrediction: Altaians_4\\u003cbr\\u003ePopulation: Brahui\",\"Sample: HGDP00021\\u003cbr\\u003eChromosome: 3\\u003cbr\\u003ePosition: 30902484\\u003cbr\\u003ePrediction: Altaians_4\\u003cbr\\u003ePopulation: Brahui\",\"Sample: HGDP00021\\u003cbr\\u003eChromosome: 3\\u003cbr\\u003ePosition: 32173144\\u003cbr\\u003ePrediction: Altaians_4\\u003cbr\\u003ePopulation: Brahui\",\"Sample: HGDP00021\\u003cbr\\u003eChromosome: 3\\u003cbr\\u003ePosition: 33443803\\u003cbr\\u003ePrediction: Altaians_4\\u003cbr\\u003ePopulation: Brahui\",\"Sample: HGDP00021\\u003cbr\\u003eChromosome: 3\\u003cbr\\u003ePosition: 34714463\\u003cbr\\u003ePrediction: Altaians_4\\u003cbr\\u003ePopulation: Brahui\",\"Sample: HGDP00021\\u003cbr\\u003eChromosome: 3\\u003cbr\\u003ePosition: 35985122\\u003cbr\\u003ePrediction: Altaians_4\\u003cbr\\u003ePopulation: Brahui\",\"Sample: HGDP00021\\u003cbr\\u003eChromosome: 3\\u003cbr\\u003ePosition: 37255782\\u003cbr\\u003ePrediction: Altaians_4\\u003cbr\\u003ePopulation: Brahui\",\"Sample: HGDP00021\\u003cbr\\u003eChromosome: 3\\u003cbr\\u003ePosition: 38526442\\u003cbr\\u003ePrediction: Altaians_4\\u003cbr\\u003ePopulation: Brahui\",\"Sample: HGDP00021\\u003cbr\\u003eChromosome: 3\\u003cbr\\u003ePosition: 39797101\\u003cbr\\u003ePrediction: Altaians_4\\u003cbr\\u003ePopulation: Brahui\",\"Sample: HGDP00021\\u003cbr\\u003eChromosome: 3\\u003cbr\\u003ePosition: 41067761\\u003cbr\\u003ePrediction: Altaians_4\\u003cbr\\u003ePopulation: Brahui\",\"Sample: HGDP00021\\u003cbr\\u003eChromosome: 3\\u003cbr\\u003ePosition: 42338421\\u003cbr\\u003ePrediction: Altaians_4\\u003cbr\\u003ePopulation: Brahui\",\"Sample: HGDP00021\\u003cbr\\u003eChromosome: 3\\u003cbr\\u003ePosition: 43609080\\u003cbr\\u003ePrediction: Altaians_4\\u003cbr\\u003ePopulation: Brahui\",\"Sample: HGDP00021\\u003cbr\\u003eChromosome: 3\\u003cbr\\u003ePosition: 44879740\\u003cbr\\u003ePrediction: Altaians_4\\u003cbr\\u003ePopulation: Brahui\",\"Sample: HGDP00021\\u003cbr\\u003eChromosome: 3\\u003cbr\\u003ePosition: 46150400\\u003cbr\\u003ePrediction: Altaians_4\\u003cbr\\u003ePopulation: Brahui\"],\"x\":[22007867.0,23278526.63157895,24549186.263157897,25819845.89473684,27090505.52631579,28361165.157894738,29631824.789473683,30902484.42105263,32173144.05263158,33443803.684210528,34714463.315789476,35985122.94736842,37255782.578947365,38526442.21052632,39797101.84210526,41067761.47368421,42338421.10526316,43609080.73684211,44879740.368421055,46150400.0],\"y\":[\"3\",\"3\",\"3\",\"3\",\"3\",\"3\",\"3\",\"3\",\"3\",\"3\",\"3\",\"3\",\"3\",\"3\",\"3\",\"3\",\"3\",\"3\",\"3\",\"3\"],\"type\":\"scatter\"},{\"hoverinfo\":\"text\",\"hoveron\":\"points+fills\",\"line\":{\"color\":\"#FF6692\",\"width\":18},\"marker\":{\"opacity\":0,\"size\":3},\"mode\":\"lines+markers\",\"name\":\"Meitei_0\",\"showlegend\":true,\"text\":[\"Sample: HGDP00021\\u003cbr\\u003eChromosome: 3\\u003cbr\\u003ePosition: 46310921\\u003cbr\\u003ePrediction: Meitei_0\\u003cbr\\u003ePopulation: Brahui\",\"Sample: HGDP00021\\u003cbr\\u003eChromosome: 3\\u003cbr\\u003ePosition: 47659342\\u003cbr\\u003ePrediction: Meitei_0\\u003cbr\\u003ePopulation: Brahui\",\"Sample: HGDP00021\\u003cbr\\u003eChromosome: 3\\u003cbr\\u003ePosition: 49007764\\u003cbr\\u003ePrediction: Meitei_0\\u003cbr\\u003ePopulation: Brahui\",\"Sample: HGDP00021\\u003cbr\\u003eChromosome: 3\\u003cbr\\u003ePosition: 50356186\\u003cbr\\u003ePrediction: Meitei_0\\u003cbr\\u003ePopulation: Brahui\",\"Sample: HGDP00021\\u003cbr\\u003eChromosome: 3\\u003cbr\\u003ePosition: 51704608\\u003cbr\\u003ePrediction: Meitei_0\\u003cbr\\u003ePopulation: Brahui\",\"Sample: HGDP00021\\u003cbr\\u003eChromosome: 3\\u003cbr\\u003ePosition: 53053030\\u003cbr\\u003ePrediction: Meitei_0\\u003cbr\\u003ePopulation: Brahui\",\"Sample: HGDP00021\\u003cbr\\u003eChromosome: 3\\u003cbr\\u003ePosition: 54401452\\u003cbr\\u003ePrediction: Meitei_0\\u003cbr\\u003ePopulation: Brahui\",\"Sample: HGDP00021\\u003cbr\\u003eChromosome: 3\\u003cbr\\u003ePosition: 55749873\\u003cbr\\u003ePrediction: Meitei_0\\u003cbr\\u003ePopulation: Brahui\",\"Sample: HGDP00021\\u003cbr\\u003eChromosome: 3\\u003cbr\\u003ePosition: 57098295\\u003cbr\\u003ePrediction: Meitei_0\\u003cbr\\u003ePopulation: Brahui\",\"Sample: HGDP00021\\u003cbr\\u003eChromosome: 3\\u003cbr\\u003ePosition: 58446717\\u003cbr\\u003ePrediction: Meitei_0\\u003cbr\\u003ePopulation: Brahui\",\"Sample: HGDP00021\\u003cbr\\u003eChromosome: 3\\u003cbr\\u003ePosition: 59795139\\u003cbr\\u003ePrediction: Meitei_0\\u003cbr\\u003ePopulation: Brahui\",\"Sample: HGDP00021\\u003cbr\\u003eChromosome: 3\\u003cbr\\u003ePosition: 61143561\\u003cbr\\u003ePrediction: Meitei_0\\u003cbr\\u003ePopulation: Brahui\",\"Sample: HGDP00021\\u003cbr\\u003eChromosome: 3\\u003cbr\\u003ePosition: 62491983\\u003cbr\\u003ePrediction: Meitei_0\\u003cbr\\u003ePopulation: Brahui\",\"Sample: HGDP00021\\u003cbr\\u003eChromosome: 3\\u003cbr\\u003ePosition: 63840404\\u003cbr\\u003ePrediction: Meitei_0\\u003cbr\\u003ePopulation: Brahui\",\"Sample: HGDP00021\\u003cbr\\u003eChromosome: 3\\u003cbr\\u003ePosition: 65188826\\u003cbr\\u003ePrediction: Meitei_0\\u003cbr\\u003ePopulation: Brahui\",\"Sample: HGDP00021\\u003cbr\\u003eChromosome: 3\\u003cbr\\u003ePosition: 66537248\\u003cbr\\u003ePrediction: Meitei_0\\u003cbr\\u003ePopulation: Brahui\",\"Sample: HGDP00021\\u003cbr\\u003eChromosome: 3\\u003cbr\\u003ePosition: 67885670\\u003cbr\\u003ePrediction: Meitei_0\\u003cbr\\u003ePopulation: Brahui\",\"Sample: HGDP00021\\u003cbr\\u003eChromosome: 3\\u003cbr\\u003ePosition: 69234092\\u003cbr\\u003ePrediction: Meitei_0\\u003cbr\\u003ePopulation: Brahui\",\"Sample: HGDP00021\\u003cbr\\u003eChromosome: 3\\u003cbr\\u003ePosition: 70582514\\u003cbr\\u003ePrediction: Meitei_0\\u003cbr\\u003ePopulation: Brahui\",\"Sample: HGDP00021\\u003cbr\\u003eChromosome: 3\\u003cbr\\u003ePosition: 71930936\\u003cbr\\u003ePrediction: Meitei_0\\u003cbr\\u003ePopulation: Brahui\"],\"x\":[46310921.0,47659342.84210526,49007764.684210524,50356186.52631579,51704608.368421055,53053030.21052632,54401452.05263158,55749873.89473684,57098295.7368421,58446717.578947365,59795139.421052635,61143561.2631579,62491983.10526316,63840404.94736842,65188826.78947368,66537248.63157895,67885670.4736842,69234092.31578948,70582514.15789473,71930936.0],\"y\":[\"3\",\"3\",\"3\",\"3\",\"3\",\"3\",\"3\",\"3\",\"3\",\"3\",\"3\",\"3\",\"3\",\"3\",\"3\",\"3\",\"3\",\"3\",\"3\",\"3\"],\"type\":\"scatter\"},{\"hoverinfo\":\"text\",\"hoveron\":\"points+fills\",\"line\":{\"color\":\"#636EFA\",\"width\":18},\"marker\":{\"opacity\":0,\"size\":3},\"mode\":\"lines+markers\",\"showlegend\":false,\"text\":[\"Sample: HGDP00021\\u003cbr\\u003eChromosome: 3\\u003cbr\\u003ePosition: 71941154\\u003cbr\\u003ePrediction: Tatars_2\\u003cbr\\u003ePopulation: Brahui\",\"Sample: HGDP00021\\u003cbr\\u003eChromosome: 3\\u003cbr\\u003ePosition: 74052995\\u003cbr\\u003ePrediction: Tatars_2\\u003cbr\\u003ePopulation: Brahui\",\"Sample: HGDP00021\\u003cbr\\u003eChromosome: 3\\u003cbr\\u003ePosition: 76164836\\u003cbr\\u003ePrediction: Tatars_2\\u003cbr\\u003ePopulation: Brahui\",\"Sample: HGDP00021\\u003cbr\\u003eChromosome: 3\\u003cbr\\u003ePosition: 78276678\\u003cbr\\u003ePrediction: Tatars_2\\u003cbr\\u003ePopulation: Brahui\",\"Sample: HGDP00021\\u003cbr\\u003eChromosome: 3\\u003cbr\\u003ePosition: 80388519\\u003cbr\\u003ePrediction: Tatars_2\\u003cbr\\u003ePopulation: Brahui\",\"Sample: HGDP00021\\u003cbr\\u003eChromosome: 3\\u003cbr\\u003ePosition: 82500361\\u003cbr\\u003ePrediction: Tatars_2\\u003cbr\\u003ePopulation: Brahui\",\"Sample: HGDP00021\\u003cbr\\u003eChromosome: 3\\u003cbr\\u003ePosition: 84612202\\u003cbr\\u003ePrediction: Tatars_2\\u003cbr\\u003ePopulation: Brahui\",\"Sample: HGDP00021\\u003cbr\\u003eChromosome: 3\\u003cbr\\u003ePosition: 86724043\\u003cbr\\u003ePrediction: Tatars_2\\u003cbr\\u003ePopulation: Brahui\",\"Sample: HGDP00021\\u003cbr\\u003eChromosome: 3\\u003cbr\\u003ePosition: 88835885\\u003cbr\\u003ePrediction: Tatars_2\\u003cbr\\u003ePopulation: Brahui\",\"Sample: HGDP00021\\u003cbr\\u003eChromosome: 3\\u003cbr\\u003ePosition: 90947726\\u003cbr\\u003ePrediction: Tatars_2\\u003cbr\\u003ePopulation: Brahui\",\"Sample: HGDP00021\\u003cbr\\u003eChromosome: 3\\u003cbr\\u003ePosition: 93059568\\u003cbr\\u003ePrediction: Tatars_2\\u003cbr\\u003ePopulation: Brahui\",\"Sample: HGDP00021\\u003cbr\\u003eChromosome: 3\\u003cbr\\u003ePosition: 95171409\\u003cbr\\u003ePrediction: Tatars_2\\u003cbr\\u003ePopulation: Brahui\",\"Sample: HGDP00021\\u003cbr\\u003eChromosome: 3\\u003cbr\\u003ePosition: 97283251\\u003cbr\\u003ePrediction: Tatars_2\\u003cbr\\u003ePopulation: Brahui\",\"Sample: HGDP00021\\u003cbr\\u003eChromosome: 3\\u003cbr\\u003ePosition: 99395092\\u003cbr\\u003ePrediction: Tatars_2\\u003cbr\\u003ePopulation: Brahui\",\"Sample: HGDP00021\\u003cbr\\u003eChromosome: 3\\u003cbr\\u003ePosition: 101506933\\u003cbr\\u003ePrediction: Tatars_2\\u003cbr\\u003ePopulation: Brahui\",\"Sample: HGDP00021\\u003cbr\\u003eChromosome: 3\\u003cbr\\u003ePosition: 103618775\\u003cbr\\u003ePrediction: Tatars_2\\u003cbr\\u003ePopulation: Brahui\",\"Sample: HGDP00021\\u003cbr\\u003eChromosome: 3\\u003cbr\\u003ePosition: 105730616\\u003cbr\\u003ePrediction: Tatars_2\\u003cbr\\u003ePopulation: Brahui\",\"Sample: HGDP00021\\u003cbr\\u003eChromosome: 3\\u003cbr\\u003ePosition: 107842458\\u003cbr\\u003ePrediction: Tatars_2\\u003cbr\\u003ePopulation: Brahui\",\"Sample: HGDP00021\\u003cbr\\u003eChromosome: 3\\u003cbr\\u003ePosition: 109954299\\u003cbr\\u003ePrediction: Tatars_2\\u003cbr\\u003ePopulation: Brahui\",\"Sample: HGDP00021\\u003cbr\\u003eChromosome: 3\\u003cbr\\u003ePosition: 112066141\\u003cbr\\u003ePrediction: Tatars_2\\u003cbr\\u003ePopulation: Brahui\"],\"x\":[71941154.0,74052995.42105263,76164836.84210527,78276678.26315789,80388519.68421052,82500361.10526316,84612202.5263158,86724043.94736841,88835885.36842105,90947726.78947368,93059568.21052632,95171409.63157895,97283251.05263159,99395092.4736842,101506933.89473684,103618775.31578948,105730616.7368421,107842458.15789473,109954299.57894737,112066141.0],\"y\":[\"3\",\"3\",\"3\",\"3\",\"3\",\"3\",\"3\",\"3\",\"3\",\"3\",\"3\",\"3\",\"3\",\"3\",\"3\",\"3\",\"3\",\"3\",\"3\",\"3\"],\"type\":\"scatter\"},{\"hoverinfo\":\"text\",\"hoveron\":\"points+fills\",\"line\":{\"color\":\"#00CC96\",\"width\":18},\"marker\":{\"opacity\":0,\"size\":3},\"mode\":\"lines+markers\",\"showlegend\":false,\"text\":[\"Sample: HGDP00021\\u003cbr\\u003eChromosome: 3\\u003cbr\\u003ePosition: 112072833\\u003cbr\\u003ePrediction: Finnish_1\\u003cbr\\u003ePopulation: Brahui\",\"Sample: HGDP00021\\u003cbr\\u003eChromosome: 3\\u003cbr\\u003ePosition: 113379176\\u003cbr\\u003ePrediction: Finnish_1\\u003cbr\\u003ePopulation: Brahui\",\"Sample: HGDP00021\\u003cbr\\u003eChromosome: 3\\u003cbr\\u003ePosition: 114685519\\u003cbr\\u003ePrediction: Finnish_1\\u003cbr\\u003ePopulation: Brahui\",\"Sample: HGDP00021\\u003cbr\\u003eChromosome: 3\\u003cbr\\u003ePosition: 115991862\\u003cbr\\u003ePrediction: Finnish_1\\u003cbr\\u003ePopulation: Brahui\",\"Sample: HGDP00021\\u003cbr\\u003eChromosome: 3\\u003cbr\\u003ePosition: 117298206\\u003cbr\\u003ePrediction: Finnish_1\\u003cbr\\u003ePopulation: Brahui\",\"Sample: HGDP00021\\u003cbr\\u003eChromosome: 3\\u003cbr\\u003ePosition: 118604549\\u003cbr\\u003ePrediction: Finnish_1\\u003cbr\\u003ePopulation: Brahui\",\"Sample: HGDP00021\\u003cbr\\u003eChromosome: 3\\u003cbr\\u003ePosition: 119910892\\u003cbr\\u003ePrediction: Finnish_1\\u003cbr\\u003ePopulation: Brahui\",\"Sample: HGDP00021\\u003cbr\\u003eChromosome: 3\\u003cbr\\u003ePosition: 121217236\\u003cbr\\u003ePrediction: Finnish_1\\u003cbr\\u003ePopulation: Brahui\",\"Sample: HGDP00021\\u003cbr\\u003eChromosome: 3\\u003cbr\\u003ePosition: 122523579\\u003cbr\\u003ePrediction: Finnish_1\\u003cbr\\u003ePopulation: Brahui\",\"Sample: HGDP00021\\u003cbr\\u003eChromosome: 3\\u003cbr\\u003ePosition: 123829922\\u003cbr\\u003ePrediction: Finnish_1\\u003cbr\\u003ePopulation: Brahui\",\"Sample: HGDP00021\\u003cbr\\u003eChromosome: 3\\u003cbr\\u003ePosition: 125136266\\u003cbr\\u003ePrediction: Finnish_1\\u003cbr\\u003ePopulation: Brahui\",\"Sample: HGDP00021\\u003cbr\\u003eChromosome: 3\\u003cbr\\u003ePosition: 126442609\\u003cbr\\u003ePrediction: Finnish_1\\u003cbr\\u003ePopulation: Brahui\",\"Sample: HGDP00021\\u003cbr\\u003eChromosome: 3\\u003cbr\\u003ePosition: 127748952\\u003cbr\\u003ePrediction: Finnish_1\\u003cbr\\u003ePopulation: Brahui\",\"Sample: HGDP00021\\u003cbr\\u003eChromosome: 3\\u003cbr\\u003ePosition: 129055296\\u003cbr\\u003ePrediction: Finnish_1\\u003cbr\\u003ePopulation: Brahui\",\"Sample: HGDP00021\\u003cbr\\u003eChromosome: 3\\u003cbr\\u003ePosition: 130361639\\u003cbr\\u003ePrediction: Finnish_1\\u003cbr\\u003ePopulation: Brahui\",\"Sample: HGDP00021\\u003cbr\\u003eChromosome: 3\\u003cbr\\u003ePosition: 131667982\\u003cbr\\u003ePrediction: Finnish_1\\u003cbr\\u003ePopulation: Brahui\",\"Sample: HGDP00021\\u003cbr\\u003eChromosome: 3\\u003cbr\\u003ePosition: 132974326\\u003cbr\\u003ePrediction: Finnish_1\\u003cbr\\u003ePopulation: Brahui\",\"Sample: HGDP00021\\u003cbr\\u003eChromosome: 3\\u003cbr\\u003ePosition: 134280669\\u003cbr\\u003ePrediction: Finnish_1\\u003cbr\\u003ePopulation: Brahui\",\"Sample: HGDP00021\\u003cbr\\u003eChromosome: 3\\u003cbr\\u003ePosition: 135587012\\u003cbr\\u003ePrediction: Finnish_1\\u003cbr\\u003ePopulation: Brahui\",\"Sample: HGDP00021\\u003cbr\\u003eChromosome: 3\\u003cbr\\u003ePosition: 136893356\\u003cbr\\u003ePrediction: Finnish_1\\u003cbr\\u003ePopulation: Brahui\"],\"x\":[112072833.0,113379176.31578948,114685519.63157895,115991862.94736843,117298206.26315789,118604549.57894737,119910892.89473684,121217236.21052632,122523579.5263158,123829922.84210527,125136266.15789473,126442609.4736842,127748952.78947368,129055296.10526316,130361639.42105263,131667982.73684211,132974326.05263159,134280669.36842105,135587012.68421054,136893356.0],\"y\":[\"3\",\"3\",\"3\",\"3\",\"3\",\"3\",\"3\",\"3\",\"3\",\"3\",\"3\",\"3\",\"3\",\"3\",\"3\",\"3\",\"3\",\"3\",\"3\",\"3\"],\"type\":\"scatter\"},{\"hoverinfo\":\"text\",\"hoveron\":\"points+fills\",\"line\":{\"color\":\"#636EFA\",\"width\":18},\"marker\":{\"opacity\":0,\"size\":3},\"mode\":\"lines+markers\",\"showlegend\":false,\"text\":[\"Sample: HGDP00021\\u003cbr\\u003eChromosome: 3\\u003cbr\\u003ePosition: 136907111\\u003cbr\\u003ePrediction: Tatars_2\\u003cbr\\u003ePopulation: Brahui\",\"Sample: HGDP00021\\u003cbr\\u003eChromosome: 3\\u003cbr\\u003ePosition: 139897385\\u003cbr\\u003ePrediction: Tatars_2\\u003cbr\\u003ePopulation: Brahui\",\"Sample: HGDP00021\\u003cbr\\u003eChromosome: 3\\u003cbr\\u003ePosition: 142887660\\u003cbr\\u003ePrediction: Tatars_2\\u003cbr\\u003ePopulation: Brahui\",\"Sample: HGDP00021\\u003cbr\\u003eChromosome: 3\\u003cbr\\u003ePosition: 145877935\\u003cbr\\u003ePrediction: Tatars_2\\u003cbr\\u003ePopulation: Brahui\",\"Sample: HGDP00021\\u003cbr\\u003eChromosome: 3\\u003cbr\\u003ePosition: 148868209\\u003cbr\\u003ePrediction: Tatars_2\\u003cbr\\u003ePopulation: Brahui\",\"Sample: HGDP00021\\u003cbr\\u003eChromosome: 3\\u003cbr\\u003ePosition: 151858484\\u003cbr\\u003ePrediction: Tatars_2\\u003cbr\\u003ePopulation: Brahui\",\"Sample: HGDP00021\\u003cbr\\u003eChromosome: 3\\u003cbr\\u003ePosition: 154848759\\u003cbr\\u003ePrediction: Tatars_2\\u003cbr\\u003ePopulation: Brahui\",\"Sample: HGDP00021\\u003cbr\\u003eChromosome: 3\\u003cbr\\u003ePosition: 157839033\\u003cbr\\u003ePrediction: Tatars_2\\u003cbr\\u003ePopulation: Brahui\",\"Sample: HGDP00021\\u003cbr\\u003eChromosome: 3\\u003cbr\\u003ePosition: 160829308\\u003cbr\\u003ePrediction: Tatars_2\\u003cbr\\u003ePopulation: Brahui\",\"Sample: HGDP00021\\u003cbr\\u003eChromosome: 3\\u003cbr\\u003ePosition: 163819583\\u003cbr\\u003ePrediction: Tatars_2\\u003cbr\\u003ePopulation: Brahui\",\"Sample: HGDP00021\\u003cbr\\u003eChromosome: 3\\u003cbr\\u003ePosition: 166809857\\u003cbr\\u003ePrediction: Tatars_2\\u003cbr\\u003ePopulation: Brahui\",\"Sample: HGDP00021\\u003cbr\\u003eChromosome: 3\\u003cbr\\u003ePosition: 169800132\\u003cbr\\u003ePrediction: Tatars_2\\u003cbr\\u003ePopulation: Brahui\",\"Sample: HGDP00021\\u003cbr\\u003eChromosome: 3\\u003cbr\\u003ePosition: 172790407\\u003cbr\\u003ePrediction: Tatars_2\\u003cbr\\u003ePopulation: Brahui\",\"Sample: HGDP00021\\u003cbr\\u003eChromosome: 3\\u003cbr\\u003ePosition: 175780681\\u003cbr\\u003ePrediction: Tatars_2\\u003cbr\\u003ePopulation: Brahui\",\"Sample: HGDP00021\\u003cbr\\u003eChromosome: 3\\u003cbr\\u003ePosition: 178770956\\u003cbr\\u003ePrediction: Tatars_2\\u003cbr\\u003ePopulation: Brahui\",\"Sample: HGDP00021\\u003cbr\\u003eChromosome: 3\\u003cbr\\u003ePosition: 181761231\\u003cbr\\u003ePrediction: Tatars_2\\u003cbr\\u003ePopulation: Brahui\",\"Sample: HGDP00021\\u003cbr\\u003eChromosome: 3\\u003cbr\\u003ePosition: 184751505\\u003cbr\\u003ePrediction: Tatars_2\\u003cbr\\u003ePopulation: Brahui\",\"Sample: HGDP00021\\u003cbr\\u003eChromosome: 3\\u003cbr\\u003ePosition: 187741780\\u003cbr\\u003ePrediction: Tatars_2\\u003cbr\\u003ePopulation: Brahui\",\"Sample: HGDP00021\\u003cbr\\u003eChromosome: 3\\u003cbr\\u003ePosition: 190732055\\u003cbr\\u003ePrediction: Tatars_2\\u003cbr\\u003ePopulation: Brahui\",\"Sample: HGDP00021\\u003cbr\\u003eChromosome: 3\\u003cbr\\u003ePosition: 193722330\\u003cbr\\u003ePrediction: Tatars_2\\u003cbr\\u003ePopulation: Brahui\"],\"x\":[136907111.0,139897385.68421054,142887660.36842105,145877935.0526316,148868209.7368421,151858484.42105263,154848759.10526317,157839033.78947368,160829308.47368422,163819583.15789473,166809857.84210527,169800132.52631578,172790407.21052632,175780681.89473683,178770956.57894737,181761231.2631579,184751505.9473684,187741780.63157895,190732055.31578946,193722330.0],\"y\":[\"3\",\"3\",\"3\",\"3\",\"3\",\"3\",\"3\",\"3\",\"3\",\"3\",\"3\",\"3\",\"3\",\"3\",\"3\",\"3\",\"3\",\"3\",\"3\",\"3\"],\"type\":\"scatter\"},{\"hoverinfo\":\"text\",\"hoveron\":\"points+fills\",\"line\":{\"color\":\"#636EFA\",\"width\":18},\"marker\":{\"opacity\":0,\"size\":3},\"mode\":\"lines+markers\",\"showlegend\":false,\"text\":[\"Sample: HGDP00021\\u003cbr\\u003eChromosome: 4\\u003cbr\\u003ePosition: 18473310\\u003cbr\\u003ePrediction: Tatars_2\\u003cbr\\u003ePopulation: Brahui\",\"Sample: HGDP00021\\u003cbr\\u003eChromosome: 4\\u003cbr\\u003ePosition: 19844802\\u003cbr\\u003ePrediction: Tatars_2\\u003cbr\\u003ePopulation: Brahui\",\"Sample: HGDP00021\\u003cbr\\u003eChromosome: 4\\u003cbr\\u003ePosition: 21216294\\u003cbr\\u003ePrediction: Tatars_2\\u003cbr\\u003ePopulation: Brahui\",\"Sample: HGDP00021\\u003cbr\\u003eChromosome: 4\\u003cbr\\u003ePosition: 22587787\\u003cbr\\u003ePrediction: Tatars_2\\u003cbr\\u003ePopulation: Brahui\",\"Sample: HGDP00021\\u003cbr\\u003eChromosome: 4\\u003cbr\\u003ePosition: 23959279\\u003cbr\\u003ePrediction: Tatars_2\\u003cbr\\u003ePopulation: Brahui\",\"Sample: HGDP00021\\u003cbr\\u003eChromosome: 4\\u003cbr\\u003ePosition: 25330771\\u003cbr\\u003ePrediction: Tatars_2\\u003cbr\\u003ePopulation: Brahui\",\"Sample: HGDP00021\\u003cbr\\u003eChromosome: 4\\u003cbr\\u003ePosition: 26702264\\u003cbr\\u003ePrediction: Tatars_2\\u003cbr\\u003ePopulation: Brahui\",\"Sample: HGDP00021\\u003cbr\\u003eChromosome: 4\\u003cbr\\u003ePosition: 28073756\\u003cbr\\u003ePrediction: Tatars_2\\u003cbr\\u003ePopulation: Brahui\",\"Sample: HGDP00021\\u003cbr\\u003eChromosome: 4\\u003cbr\\u003ePosition: 29445248\\u003cbr\\u003ePrediction: Tatars_2\\u003cbr\\u003ePopulation: Brahui\",\"Sample: HGDP00021\\u003cbr\\u003eChromosome: 4\\u003cbr\\u003ePosition: 30816741\\u003cbr\\u003ePrediction: Tatars_2\\u003cbr\\u003ePopulation: Brahui\",\"Sample: HGDP00021\\u003cbr\\u003eChromosome: 4\\u003cbr\\u003ePosition: 32188233\\u003cbr\\u003ePrediction: Tatars_2\\u003cbr\\u003ePopulation: Brahui\",\"Sample: HGDP00021\\u003cbr\\u003eChromosome: 4\\u003cbr\\u003ePosition: 33559726\\u003cbr\\u003ePrediction: Tatars_2\\u003cbr\\u003ePopulation: Brahui\",\"Sample: HGDP00021\\u003cbr\\u003eChromosome: 4\\u003cbr\\u003ePosition: 34931218\\u003cbr\\u003ePrediction: Tatars_2\\u003cbr\\u003ePopulation: Brahui\",\"Sample: HGDP00021\\u003cbr\\u003eChromosome: 4\\u003cbr\\u003ePosition: 36302710\\u003cbr\\u003ePrediction: Tatars_2\\u003cbr\\u003ePopulation: Brahui\",\"Sample: HGDP00021\\u003cbr\\u003eChromosome: 4\\u003cbr\\u003ePosition: 37674203\\u003cbr\\u003ePrediction: Tatars_2\\u003cbr\\u003ePopulation: Brahui\",\"Sample: HGDP00021\\u003cbr\\u003eChromosome: 4\\u003cbr\\u003ePosition: 39045695\\u003cbr\\u003ePrediction: Tatars_2\\u003cbr\\u003ePopulation: Brahui\",\"Sample: HGDP00021\\u003cbr\\u003eChromosome: 4\\u003cbr\\u003ePosition: 40417187\\u003cbr\\u003ePrediction: Tatars_2\\u003cbr\\u003ePopulation: Brahui\",\"Sample: HGDP00021\\u003cbr\\u003eChromosome: 4\\u003cbr\\u003ePosition: 41788680\\u003cbr\\u003ePrediction: Tatars_2\\u003cbr\\u003ePopulation: Brahui\",\"Sample: HGDP00021\\u003cbr\\u003eChromosome: 4\\u003cbr\\u003ePosition: 43160172\\u003cbr\\u003ePrediction: Tatars_2\\u003cbr\\u003ePopulation: Brahui\",\"Sample: HGDP00021\\u003cbr\\u003eChromosome: 4\\u003cbr\\u003ePosition: 44531665\\u003cbr\\u003ePrediction: Tatars_2\\u003cbr\\u003ePopulation: Brahui\"],\"x\":[18473310.0,19844802.36842105,21216294.736842103,22587787.10526316,23959279.47368421,25330771.842105262,26702264.210526317,28073756.57894737,29445248.94736842,30816741.315789472,32188233.684210524,33559726.05263158,34931218.421052635,36302710.78947368,37674203.15789474,39045695.52631579,40417187.89473684,41788680.26315789,43160172.631578945,44531665.0],\"y\":[\"4\",\"4\",\"4\",\"4\",\"4\",\"4\",\"4\",\"4\",\"4\",\"4\",\"4\",\"4\",\"4\",\"4\",\"4\",\"4\",\"4\",\"4\",\"4\",\"4\"],\"type\":\"scatter\"},{\"hoverinfo\":\"text\",\"hoveron\":\"points+fills\",\"line\":{\"color\":\"#EF553B\",\"width\":18},\"marker\":{\"opacity\":0,\"size\":3},\"mode\":\"lines+markers\",\"showlegend\":false,\"text\":[\"Sample: HGDP00021\\u003cbr\\u003eChromosome: 4\\u003cbr\\u003ePosition: 44633416\\u003cbr\\u003ePrediction: Altaians_4\\u003cbr\\u003ePopulation: Brahui\",\"Sample: HGDP00021\\u003cbr\\u003eChromosome: 4\\u003cbr\\u003ePosition: 50499653\\u003cbr\\u003ePrediction: Altaians_4\\u003cbr\\u003ePopulation: Brahui\",\"Sample: HGDP00021\\u003cbr\\u003eChromosome: 4\\u003cbr\\u003ePosition: 56365891\\u003cbr\\u003ePrediction: Altaians_4\\u003cbr\\u003ePopulation: Brahui\",\"Sample: HGDP00021\\u003cbr\\u003eChromosome: 4\\u003cbr\\u003ePosition: 62232129\\u003cbr\\u003ePrediction: Altaians_4\\u003cbr\\u003ePopulation: Brahui\",\"Sample: HGDP00021\\u003cbr\\u003eChromosome: 4\\u003cbr\\u003ePosition: 68098367\\u003cbr\\u003ePrediction: Altaians_4\\u003cbr\\u003ePopulation: Brahui\",\"Sample: HGDP00021\\u003cbr\\u003eChromosome: 4\\u003cbr\\u003ePosition: 73964605\\u003cbr\\u003ePrediction: Altaians_4\\u003cbr\\u003ePopulation: Brahui\",\"Sample: HGDP00021\\u003cbr\\u003eChromosome: 4\\u003cbr\\u003ePosition: 79830843\\u003cbr\\u003ePrediction: Altaians_4\\u003cbr\\u003ePopulation: Brahui\",\"Sample: HGDP00021\\u003cbr\\u003eChromosome: 4\\u003cbr\\u003ePosition: 85697080\\u003cbr\\u003ePrediction: Altaians_4\\u003cbr\\u003ePopulation: Brahui\",\"Sample: HGDP00021\\u003cbr\\u003eChromosome: 4\\u003cbr\\u003ePosition: 91563318\\u003cbr\\u003ePrediction: Altaians_4\\u003cbr\\u003ePopulation: Brahui\",\"Sample: HGDP00021\\u003cbr\\u003eChromosome: 4\\u003cbr\\u003ePosition: 97429556\\u003cbr\\u003ePrediction: Altaians_4\\u003cbr\\u003ePopulation: Brahui\",\"Sample: HGDP00021\\u003cbr\\u003eChromosome: 4\\u003cbr\\u003ePosition: 103295794\\u003cbr\\u003ePrediction: Altaians_4\\u003cbr\\u003ePopulation: Brahui\",\"Sample: HGDP00021\\u003cbr\\u003eChromosome: 4\\u003cbr\\u003ePosition: 109162032\\u003cbr\\u003ePrediction: Altaians_4\\u003cbr\\u003ePopulation: Brahui\",\"Sample: HGDP00021\\u003cbr\\u003eChromosome: 4\\u003cbr\\u003ePosition: 115028270\\u003cbr\\u003ePrediction: Altaians_4\\u003cbr\\u003ePopulation: Brahui\",\"Sample: HGDP00021\\u003cbr\\u003eChromosome: 4\\u003cbr\\u003ePosition: 120894507\\u003cbr\\u003ePrediction: Altaians_4\\u003cbr\\u003ePopulation: Brahui\",\"Sample: HGDP00021\\u003cbr\\u003eChromosome: 4\\u003cbr\\u003ePosition: 126760745\\u003cbr\\u003ePrediction: Altaians_4\\u003cbr\\u003ePopulation: Brahui\",\"Sample: HGDP00021\\u003cbr\\u003eChromosome: 4\\u003cbr\\u003ePosition: 132626983\\u003cbr\\u003ePrediction: Altaians_4\\u003cbr\\u003ePopulation: Brahui\",\"Sample: HGDP00021\\u003cbr\\u003eChromosome: 4\\u003cbr\\u003ePosition: 138493221\\u003cbr\\u003ePrediction: Altaians_4\\u003cbr\\u003ePopulation: Brahui\",\"Sample: HGDP00021\\u003cbr\\u003eChromosome: 4\\u003cbr\\u003ePosition: 144359459\\u003cbr\\u003ePrediction: Altaians_4\\u003cbr\\u003ePopulation: Brahui\",\"Sample: HGDP00021\\u003cbr\\u003eChromosome: 4\\u003cbr\\u003ePosition: 150225697\\u003cbr\\u003ePrediction: Altaians_4\\u003cbr\\u003ePopulation: Brahui\",\"Sample: HGDP00021\\u003cbr\\u003eChromosome: 4\\u003cbr\\u003ePosition: 156091935\\u003cbr\\u003ePrediction: Altaians_4\\u003cbr\\u003ePopulation: Brahui\"],\"x\":[44633416.0,50499653.84210526,56365891.684210524,62232129.52631579,68098367.36842105,73964605.21052632,79830843.05263159,85697080.89473684,91563318.7368421,97429556.57894737,103295794.42105263,109162032.26315789,115028270.10526316,120894507.94736841,126760745.78947368,132626983.63157894,138493221.4736842,144359459.31578946,150225697.15789473,156091935.0],\"y\":[\"4\",\"4\",\"4\",\"4\",\"4\",\"4\",\"4\",\"4\",\"4\",\"4\",\"4\",\"4\",\"4\",\"4\",\"4\",\"4\",\"4\",\"4\",\"4\",\"4\"],\"type\":\"scatter\"},{\"hoverinfo\":\"text\",\"hoveron\":\"points+fills\",\"line\":{\"color\":\"#636EFA\",\"width\":18},\"marker\":{\"opacity\":0,\"size\":3},\"mode\":\"lines+markers\",\"showlegend\":false,\"text\":[\"Sample: HGDP00021\\u003cbr\\u003eChromosome: 4\\u003cbr\\u003ePosition: 156173215\\u003cbr\\u003ePrediction: Tatars_2\\u003cbr\\u003ePopulation: Brahui\",\"Sample: HGDP00021\\u003cbr\\u003eChromosome: 4\\u003cbr\\u003ePosition: 157731928\\u003cbr\\u003ePrediction: Tatars_2\\u003cbr\\u003ePopulation: Brahui\",\"Sample: HGDP00021\\u003cbr\\u003eChromosome: 4\\u003cbr\\u003ePosition: 159290641\\u003cbr\\u003ePrediction: Tatars_2\\u003cbr\\u003ePopulation: Brahui\",\"Sample: HGDP00021\\u003cbr\\u003eChromosome: 4\\u003cbr\\u003ePosition: 160849354\\u003cbr\\u003ePrediction: Tatars_2\\u003cbr\\u003ePopulation: Brahui\",\"Sample: HGDP00021\\u003cbr\\u003eChromosome: 4\\u003cbr\\u003ePosition: 162408067\\u003cbr\\u003ePrediction: Tatars_2\\u003cbr\\u003ePopulation: Brahui\",\"Sample: HGDP00021\\u003cbr\\u003eChromosome: 4\\u003cbr\\u003ePosition: 163966780\\u003cbr\\u003ePrediction: Tatars_2\\u003cbr\\u003ePopulation: Brahui\",\"Sample: HGDP00021\\u003cbr\\u003eChromosome: 4\\u003cbr\\u003ePosition: 165525493\\u003cbr\\u003ePrediction: Tatars_2\\u003cbr\\u003ePopulation: Brahui\",\"Sample: HGDP00021\\u003cbr\\u003eChromosome: 4\\u003cbr\\u003ePosition: 167084206\\u003cbr\\u003ePrediction: Tatars_2\\u003cbr\\u003ePopulation: Brahui\",\"Sample: HGDP00021\\u003cbr\\u003eChromosome: 4\\u003cbr\\u003ePosition: 168642919\\u003cbr\\u003ePrediction: Tatars_2\\u003cbr\\u003ePopulation: Brahui\",\"Sample: HGDP00021\\u003cbr\\u003eChromosome: 4\\u003cbr\\u003ePosition: 170201632\\u003cbr\\u003ePrediction: Tatars_2\\u003cbr\\u003ePopulation: Brahui\",\"Sample: HGDP00021\\u003cbr\\u003eChromosome: 4\\u003cbr\\u003ePosition: 171760345\\u003cbr\\u003ePrediction: Tatars_2\\u003cbr\\u003ePopulation: Brahui\",\"Sample: HGDP00021\\u003cbr\\u003eChromosome: 4\\u003cbr\\u003ePosition: 173319058\\u003cbr\\u003ePrediction: Tatars_2\\u003cbr\\u003ePopulation: Brahui\",\"Sample: HGDP00021\\u003cbr\\u003eChromosome: 4\\u003cbr\\u003ePosition: 174877771\\u003cbr\\u003ePrediction: Tatars_2\\u003cbr\\u003ePopulation: Brahui\",\"Sample: HGDP00021\\u003cbr\\u003eChromosome: 4\\u003cbr\\u003ePosition: 176436484\\u003cbr\\u003ePrediction: Tatars_2\\u003cbr\\u003ePopulation: Brahui\",\"Sample: HGDP00021\\u003cbr\\u003eChromosome: 4\\u003cbr\\u003ePosition: 177995197\\u003cbr\\u003ePrediction: Tatars_2\\u003cbr\\u003ePopulation: Brahui\",\"Sample: HGDP00021\\u003cbr\\u003eChromosome: 4\\u003cbr\\u003ePosition: 179553910\\u003cbr\\u003ePrediction: Tatars_2\\u003cbr\\u003ePopulation: Brahui\",\"Sample: HGDP00021\\u003cbr\\u003eChromosome: 4\\u003cbr\\u003ePosition: 181112623\\u003cbr\\u003ePrediction: Tatars_2\\u003cbr\\u003ePopulation: Brahui\",\"Sample: HGDP00021\\u003cbr\\u003eChromosome: 4\\u003cbr\\u003ePosition: 182671336\\u003cbr\\u003ePrediction: Tatars_2\\u003cbr\\u003ePopulation: Brahui\",\"Sample: HGDP00021\\u003cbr\\u003eChromosome: 4\\u003cbr\\u003ePosition: 184230049\\u003cbr\\u003ePrediction: Tatars_2\\u003cbr\\u003ePopulation: Brahui\",\"Sample: HGDP00021\\u003cbr\\u003eChromosome: 4\\u003cbr\\u003ePosition: 185788762\\u003cbr\\u003ePrediction: Tatars_2\\u003cbr\\u003ePopulation: Brahui\"],\"x\":[156173215.0,157731928.0,159290641.0,160849354.0,162408067.0,163966780.0,165525493.0,167084206.0,168642919.0,170201632.0,171760345.0,173319058.0,174877771.0,176436484.0,177995197.0,179553910.0,181112623.0,182671336.0,184230049.0,185788762.0],\"y\":[\"4\",\"4\",\"4\",\"4\",\"4\",\"4\",\"4\",\"4\",\"4\",\"4\",\"4\",\"4\",\"4\",\"4\",\"4\",\"4\",\"4\",\"4\",\"4\",\"4\"],\"type\":\"scatter\"},{\"hoverinfo\":\"text\",\"hoveron\":\"points+fills\",\"line\":{\"color\":\"#636EFA\",\"width\":18},\"marker\":{\"opacity\":0,\"size\":3},\"mode\":\"lines+markers\",\"showlegend\":false,\"text\":[\"Sample: HGDP00021\\u003cbr\\u003eChromosome: 5\\u003cbr\\u003ePosition: 15571736\\u003cbr\\u003ePrediction: Tatars_2\\u003cbr\\u003ePopulation: Brahui\",\"Sample: HGDP00021\\u003cbr\\u003eChromosome: 5\\u003cbr\\u003ePosition: 22801682\\u003cbr\\u003ePrediction: Tatars_2\\u003cbr\\u003ePopulation: Brahui\",\"Sample: HGDP00021\\u003cbr\\u003eChromosome: 5\\u003cbr\\u003ePosition: 30031629\\u003cbr\\u003ePrediction: Tatars_2\\u003cbr\\u003ePopulation: Brahui\",\"Sample: HGDP00021\\u003cbr\\u003eChromosome: 5\\u003cbr\\u003ePosition: 37261576\\u003cbr\\u003ePrediction: Tatars_2\\u003cbr\\u003ePopulation: Brahui\",\"Sample: HGDP00021\\u003cbr\\u003eChromosome: 5\\u003cbr\\u003ePosition: 44491523\\u003cbr\\u003ePrediction: Tatars_2\\u003cbr\\u003ePopulation: Brahui\",\"Sample: HGDP00021\\u003cbr\\u003eChromosome: 5\\u003cbr\\u003ePosition: 51721470\\u003cbr\\u003ePrediction: Tatars_2\\u003cbr\\u003ePopulation: Brahui\",\"Sample: HGDP00021\\u003cbr\\u003eChromosome: 5\\u003cbr\\u003ePosition: 58951417\\u003cbr\\u003ePrediction: Tatars_2\\u003cbr\\u003ePopulation: Brahui\",\"Sample: HGDP00021\\u003cbr\\u003eChromosome: 5\\u003cbr\\u003ePosition: 66181364\\u003cbr\\u003ePrediction: Tatars_2\\u003cbr\\u003ePopulation: Brahui\",\"Sample: HGDP00021\\u003cbr\\u003eChromosome: 5\\u003cbr\\u003ePosition: 73411311\\u003cbr\\u003ePrediction: Tatars_2\\u003cbr\\u003ePopulation: Brahui\",\"Sample: HGDP00021\\u003cbr\\u003eChromosome: 5\\u003cbr\\u003ePosition: 80641258\\u003cbr\\u003ePrediction: Tatars_2\\u003cbr\\u003ePopulation: Brahui\",\"Sample: HGDP00021\\u003cbr\\u003eChromosome: 5\\u003cbr\\u003ePosition: 87871205\\u003cbr\\u003ePrediction: Tatars_2\\u003cbr\\u003ePopulation: Brahui\",\"Sample: HGDP00021\\u003cbr\\u003eChromosome: 5\\u003cbr\\u003ePosition: 95101152\\u003cbr\\u003ePrediction: Tatars_2\\u003cbr\\u003ePopulation: Brahui\",\"Sample: HGDP00021\\u003cbr\\u003eChromosome: 5\\u003cbr\\u003ePosition: 102331099\\u003cbr\\u003ePrediction: Tatars_2\\u003cbr\\u003ePopulation: Brahui\",\"Sample: HGDP00021\\u003cbr\\u003eChromosome: 5\\u003cbr\\u003ePosition: 109561046\\u003cbr\\u003ePrediction: Tatars_2\\u003cbr\\u003ePopulation: Brahui\",\"Sample: HGDP00021\\u003cbr\\u003eChromosome: 5\\u003cbr\\u003ePosition: 116790993\\u003cbr\\u003ePrediction: Tatars_2\\u003cbr\\u003ePopulation: Brahui\",\"Sample: HGDP00021\\u003cbr\\u003eChromosome: 5\\u003cbr\\u003ePosition: 124020940\\u003cbr\\u003ePrediction: Tatars_2\\u003cbr\\u003ePopulation: Brahui\",\"Sample: HGDP00021\\u003cbr\\u003eChromosome: 5\\u003cbr\\u003ePosition: 131250887\\u003cbr\\u003ePrediction: Tatars_2\\u003cbr\\u003ePopulation: Brahui\",\"Sample: HGDP00021\\u003cbr\\u003eChromosome: 5\\u003cbr\\u003ePosition: 138480834\\u003cbr\\u003ePrediction: Tatars_2\\u003cbr\\u003ePopulation: Brahui\",\"Sample: HGDP00021\\u003cbr\\u003eChromosome: 5\\u003cbr\\u003ePosition: 145710781\\u003cbr\\u003ePrediction: Tatars_2\\u003cbr\\u003ePopulation: Brahui\",\"Sample: HGDP00021\\u003cbr\\u003eChromosome: 5\\u003cbr\\u003ePosition: 152940728\\u003cbr\\u003ePrediction: Tatars_2\\u003cbr\\u003ePopulation: Brahui\"],\"x\":[15571736.0,22801682.94736842,30031629.89473684,37261576.84210526,44491523.78947368,51721470.7368421,58951417.684210524,66181364.631578945,73411311.57894737,80641258.52631578,87871205.4736842,95101152.42105263,102331099.36842105,109561046.31578946,116790993.26315789,124020940.21052632,131250887.15789473,138480834.10526314,145710781.05263156,152940728.0],\"y\":[\"5\",\"5\",\"5\",\"5\",\"5\",\"5\",\"5\",\"5\",\"5\",\"5\",\"5\",\"5\",\"5\",\"5\",\"5\",\"5\",\"5\",\"5\",\"5\",\"5\"],\"type\":\"scatter\"},{\"hoverinfo\":\"text\",\"hoveron\":\"points+fills\",\"line\":{\"color\":\"#EF553B\",\"width\":18},\"marker\":{\"opacity\":0,\"size\":3},\"mode\":\"lines+markers\",\"showlegend\":false,\"text\":[\"Sample: HGDP00021\\u003cbr\\u003eChromosome: 5\\u003cbr\\u003ePosition: 152960378\\u003cbr\\u003ePrediction: Altaians_4\\u003cbr\\u003ePopulation: Brahui\",\"Sample: HGDP00021\\u003cbr\\u003eChromosome: 5\\u003cbr\\u003ePosition: 154123500\\u003cbr\\u003ePrediction: Altaians_4\\u003cbr\\u003ePopulation: Brahui\",\"Sample: HGDP00021\\u003cbr\\u003eChromosome: 5\\u003cbr\\u003ePosition: 155286623\\u003cbr\\u003ePrediction: Altaians_4\\u003cbr\\u003ePopulation: Brahui\",\"Sample: HGDP00021\\u003cbr\\u003eChromosome: 5\\u003cbr\\u003ePosition: 156449746\\u003cbr\\u003ePrediction: Altaians_4\\u003cbr\\u003ePopulation: Brahui\",\"Sample: HGDP00021\\u003cbr\\u003eChromosome: 5\\u003cbr\\u003ePosition: 157612869\\u003cbr\\u003ePrediction: Altaians_4\\u003cbr\\u003ePopulation: Brahui\",\"Sample: HGDP00021\\u003cbr\\u003eChromosome: 5\\u003cbr\\u003ePosition: 158775992\\u003cbr\\u003ePrediction: Altaians_4\\u003cbr\\u003ePopulation: Brahui\",\"Sample: HGDP00021\\u003cbr\\u003eChromosome: 5\\u003cbr\\u003ePosition: 159939115\\u003cbr\\u003ePrediction: Altaians_4\\u003cbr\\u003ePopulation: Brahui\",\"Sample: HGDP00021\\u003cbr\\u003eChromosome: 5\\u003cbr\\u003ePosition: 161102238\\u003cbr\\u003ePrediction: Altaians_4\\u003cbr\\u003ePopulation: Brahui\",\"Sample: HGDP00021\\u003cbr\\u003eChromosome: 5\\u003cbr\\u003ePosition: 162265361\\u003cbr\\u003ePrediction: Altaians_4\\u003cbr\\u003ePopulation: Brahui\",\"Sample: HGDP00021\\u003cbr\\u003eChromosome: 5\\u003cbr\\u003ePosition: 163428484\\u003cbr\\u003ePrediction: Altaians_4\\u003cbr\\u003ePopulation: Brahui\",\"Sample: HGDP00021\\u003cbr\\u003eChromosome: 5\\u003cbr\\u003ePosition: 164591606\\u003cbr\\u003ePrediction: Altaians_4\\u003cbr\\u003ePopulation: Brahui\",\"Sample: HGDP00021\\u003cbr\\u003eChromosome: 5\\u003cbr\\u003ePosition: 165754729\\u003cbr\\u003ePrediction: Altaians_4\\u003cbr\\u003ePopulation: Brahui\",\"Sample: HGDP00021\\u003cbr\\u003eChromosome: 5\\u003cbr\\u003ePosition: 166917852\\u003cbr\\u003ePrediction: Altaians_4\\u003cbr\\u003ePopulation: Brahui\",\"Sample: HGDP00021\\u003cbr\\u003eChromosome: 5\\u003cbr\\u003ePosition: 168080975\\u003cbr\\u003ePrediction: Altaians_4\\u003cbr\\u003ePopulation: Brahui\",\"Sample: HGDP00021\\u003cbr\\u003eChromosome: 5\\u003cbr\\u003ePosition: 169244098\\u003cbr\\u003ePrediction: Altaians_4\\u003cbr\\u003ePopulation: Brahui\",\"Sample: HGDP00021\\u003cbr\\u003eChromosome: 5\\u003cbr\\u003ePosition: 170407221\\u003cbr\\u003ePrediction: Altaians_4\\u003cbr\\u003ePopulation: Brahui\",\"Sample: HGDP00021\\u003cbr\\u003eChromosome: 5\\u003cbr\\u003ePosition: 171570344\\u003cbr\\u003ePrediction: Altaians_4\\u003cbr\\u003ePopulation: Brahui\",\"Sample: HGDP00021\\u003cbr\\u003eChromosome: 5\\u003cbr\\u003ePosition: 172733467\\u003cbr\\u003ePrediction: Altaians_4\\u003cbr\\u003ePopulation: Brahui\",\"Sample: HGDP00021\\u003cbr\\u003eChromosome: 5\\u003cbr\\u003ePosition: 173896590\\u003cbr\\u003ePrediction: Altaians_4\\u003cbr\\u003ePopulation: Brahui\",\"Sample: HGDP00021\\u003cbr\\u003eChromosome: 5\\u003cbr\\u003ePosition: 175059713\\u003cbr\\u003ePrediction: Altaians_4\\u003cbr\\u003ePopulation: Brahui\"],\"x\":[152960378.0,154123500.89473686,155286623.78947368,156449746.68421054,157612869.57894737,158775992.47368422,159939115.36842105,161102238.2631579,162265361.15789473,163428484.0526316,164591606.9473684,165754729.84210527,166917852.7368421,168080975.63157895,169244098.52631578,170407221.42105263,171570344.31578946,172733467.21052632,173896590.10526314,175059713.0],\"y\":[\"5\",\"5\",\"5\",\"5\",\"5\",\"5\",\"5\",\"5\",\"5\",\"5\",\"5\",\"5\",\"5\",\"5\",\"5\",\"5\",\"5\",\"5\",\"5\",\"5\"],\"type\":\"scatter\"},{\"hoverinfo\":\"text\",\"hoveron\":\"points+fills\",\"line\":{\"color\":\"#636EFA\",\"width\":18},\"marker\":{\"opacity\":0,\"size\":3},\"mode\":\"lines+markers\",\"showlegend\":false,\"text\":[\"Sample: HGDP00021\\u003cbr\\u003eChromosome: 6\\u003cbr\\u003ePosition: 14329647\\u003cbr\\u003ePrediction: Tatars_2\\u003cbr\\u003ePopulation: Brahui\",\"Sample: HGDP00021\\u003cbr\\u003eChromosome: 6\\u003cbr\\u003ePosition: 15811798\\u003cbr\\u003ePrediction: Tatars_2\\u003cbr\\u003ePopulation: Brahui\",\"Sample: HGDP00021\\u003cbr\\u003eChromosome: 6\\u003cbr\\u003ePosition: 17293949\\u003cbr\\u003ePrediction: Tatars_2\\u003cbr\\u003ePopulation: Brahui\",\"Sample: HGDP00021\\u003cbr\\u003eChromosome: 6\\u003cbr\\u003ePosition: 18776100\\u003cbr\\u003ePrediction: Tatars_2\\u003cbr\\u003ePopulation: Brahui\",\"Sample: HGDP00021\\u003cbr\\u003eChromosome: 6\\u003cbr\\u003ePosition: 20258252\\u003cbr\\u003ePrediction: Tatars_2\\u003cbr\\u003ePopulation: Brahui\",\"Sample: HGDP00021\\u003cbr\\u003eChromosome: 6\\u003cbr\\u003ePosition: 21740403\\u003cbr\\u003ePrediction: Tatars_2\\u003cbr\\u003ePopulation: Brahui\",\"Sample: HGDP00021\\u003cbr\\u003eChromosome: 6\\u003cbr\\u003ePosition: 23222554\\u003cbr\\u003ePrediction: Tatars_2\\u003cbr\\u003ePopulation: Brahui\",\"Sample: HGDP00021\\u003cbr\\u003eChromosome: 6\\u003cbr\\u003ePosition: 24704706\\u003cbr\\u003ePrediction: Tatars_2\\u003cbr\\u003ePopulation: Brahui\",\"Sample: HGDP00021\\u003cbr\\u003eChromosome: 6\\u003cbr\\u003ePosition: 26186857\\u003cbr\\u003ePrediction: Tatars_2\\u003cbr\\u003ePopulation: Brahui\",\"Sample: HGDP00021\\u003cbr\\u003eChromosome: 6\\u003cbr\\u003ePosition: 27669008\\u003cbr\\u003ePrediction: Tatars_2\\u003cbr\\u003ePopulation: Brahui\",\"Sample: HGDP00021\\u003cbr\\u003eChromosome: 6\\u003cbr\\u003ePosition: 29151160\\u003cbr\\u003ePrediction: Tatars_2\\u003cbr\\u003ePopulation: Brahui\",\"Sample: HGDP00021\\u003cbr\\u003eChromosome: 6\\u003cbr\\u003ePosition: 30633311\\u003cbr\\u003ePrediction: Tatars_2\\u003cbr\\u003ePopulation: Brahui\",\"Sample: HGDP00021\\u003cbr\\u003eChromosome: 6\\u003cbr\\u003ePosition: 32115462\\u003cbr\\u003ePrediction: Tatars_2\\u003cbr\\u003ePopulation: Brahui\",\"Sample: HGDP00021\\u003cbr\\u003eChromosome: 6\\u003cbr\\u003ePosition: 33597614\\u003cbr\\u003ePrediction: Tatars_2\\u003cbr\\u003ePopulation: Brahui\",\"Sample: HGDP00021\\u003cbr\\u003eChromosome: 6\\u003cbr\\u003ePosition: 35079765\\u003cbr\\u003ePrediction: Tatars_2\\u003cbr\\u003ePopulation: Brahui\",\"Sample: HGDP00021\\u003cbr\\u003eChromosome: 6\\u003cbr\\u003ePosition: 36561916\\u003cbr\\u003ePrediction: Tatars_2\\u003cbr\\u003ePopulation: Brahui\",\"Sample: HGDP00021\\u003cbr\\u003eChromosome: 6\\u003cbr\\u003ePosition: 38044068\\u003cbr\\u003ePrediction: Tatars_2\\u003cbr\\u003ePopulation: Brahui\",\"Sample: HGDP00021\\u003cbr\\u003eChromosome: 6\\u003cbr\\u003ePosition: 39526219\\u003cbr\\u003ePrediction: Tatars_2\\u003cbr\\u003ePopulation: Brahui\",\"Sample: HGDP00021\\u003cbr\\u003eChromosome: 6\\u003cbr\\u003ePosition: 41008370\\u003cbr\\u003ePrediction: Tatars_2\\u003cbr\\u003ePopulation: Brahui\",\"Sample: HGDP00021\\u003cbr\\u003eChromosome: 6\\u003cbr\\u003ePosition: 42490522\\u003cbr\\u003ePrediction: Tatars_2\\u003cbr\\u003ePopulation: Brahui\"],\"x\":[14329647.0,15811798.315789474,17293949.63157895,18776100.94736842,20258252.263157897,21740403.57894737,23222554.89473684,24704706.210526317,26186857.52631579,27669008.842105262,29151160.157894738,30633311.47368421,32115462.789473683,33597614.10526316,35079765.421052635,36561916.73684211,38044068.05263158,39526219.36842105,41008370.684210524,42490522.0],\"y\":[\"6\",\"6\",\"6\",\"6\",\"6\",\"6\",\"6\",\"6\",\"6\",\"6\",\"6\",\"6\",\"6\",\"6\",\"6\",\"6\",\"6\",\"6\",\"6\",\"6\"],\"type\":\"scatter\"},{\"hoverinfo\":\"text\",\"hoveron\":\"points+fills\",\"line\":{\"color\":\"#EF553B\",\"width\":18},\"marker\":{\"opacity\":0,\"size\":3},\"mode\":\"lines+markers\",\"showlegend\":false,\"text\":[\"Sample: HGDP00021\\u003cbr\\u003eChromosome: 6\\u003cbr\\u003ePosition: 42659979\\u003cbr\\u003ePrediction: Altaians_4\\u003cbr\\u003ePopulation: Brahui\",\"Sample: HGDP00021\\u003cbr\\u003eChromosome: 6\\u003cbr\\u003ePosition: 44847389\\u003cbr\\u003ePrediction: Altaians_4\\u003cbr\\u003ePopulation: Brahui\",\"Sample: HGDP00021\\u003cbr\\u003eChromosome: 6\\u003cbr\\u003ePosition: 47034799\\u003cbr\\u003ePrediction: Altaians_4\\u003cbr\\u003ePopulation: Brahui\",\"Sample: HGDP00021\\u003cbr\\u003eChromosome: 6\\u003cbr\\u003ePosition: 49222209\\u003cbr\\u003ePrediction: Altaians_4\\u003cbr\\u003ePopulation: Brahui\",\"Sample: HGDP00021\\u003cbr\\u003eChromosome: 6\\u003cbr\\u003ePosition: 51409619\\u003cbr\\u003ePrediction: Altaians_4\\u003cbr\\u003ePopulation: Brahui\",\"Sample: HGDP00021\\u003cbr\\u003eChromosome: 6\\u003cbr\\u003ePosition: 53597029\\u003cbr\\u003ePrediction: Altaians_4\\u003cbr\\u003ePopulation: Brahui\",\"Sample: HGDP00021\\u003cbr\\u003eChromosome: 6\\u003cbr\\u003ePosition: 55784439\\u003cbr\\u003ePrediction: Altaians_4\\u003cbr\\u003ePopulation: Brahui\",\"Sample: HGDP00021\\u003cbr\\u003eChromosome: 6\\u003cbr\\u003ePosition: 57971849\\u003cbr\\u003ePrediction: Altaians_4\\u003cbr\\u003ePopulation: Brahui\",\"Sample: HGDP00021\\u003cbr\\u003eChromosome: 6\\u003cbr\\u003ePosition: 60159259\\u003cbr\\u003ePrediction: Altaians_4\\u003cbr\\u003ePopulation: Brahui\",\"Sample: HGDP00021\\u003cbr\\u003eChromosome: 6\\u003cbr\\u003ePosition: 62346669\\u003cbr\\u003ePrediction: Altaians_4\\u003cbr\\u003ePopulation: Brahui\",\"Sample: HGDP00021\\u003cbr\\u003eChromosome: 6\\u003cbr\\u003ePosition: 64534079\\u003cbr\\u003ePrediction: Altaians_4\\u003cbr\\u003ePopulation: Brahui\",\"Sample: HGDP00021\\u003cbr\\u003eChromosome: 6\\u003cbr\\u003ePosition: 66721489\\u003cbr\\u003ePrediction: Altaians_4\\u003cbr\\u003ePopulation: Brahui\",\"Sample: HGDP00021\\u003cbr\\u003eChromosome: 6\\u003cbr\\u003ePosition: 68908899\\u003cbr\\u003ePrediction: Altaians_4\\u003cbr\\u003ePopulation: Brahui\",\"Sample: HGDP00021\\u003cbr\\u003eChromosome: 6\\u003cbr\\u003ePosition: 71096309\\u003cbr\\u003ePrediction: Altaians_4\\u003cbr\\u003ePopulation: Brahui\",\"Sample: HGDP00021\\u003cbr\\u003eChromosome: 6\\u003cbr\\u003ePosition: 73283719\\u003cbr\\u003ePrediction: Altaians_4\\u003cbr\\u003ePopulation: Brahui\",\"Sample: HGDP00021\\u003cbr\\u003eChromosome: 6\\u003cbr\\u003ePosition: 75471129\\u003cbr\\u003ePrediction: Altaians_4\\u003cbr\\u003ePopulation: Brahui\",\"Sample: HGDP00021\\u003cbr\\u003eChromosome: 6\\u003cbr\\u003ePosition: 77658539\\u003cbr\\u003ePrediction: Altaians_4\\u003cbr\\u003ePopulation: Brahui\",\"Sample: HGDP00021\\u003cbr\\u003eChromosome: 6\\u003cbr\\u003ePosition: 79845949\\u003cbr\\u003ePrediction: Altaians_4\\u003cbr\\u003ePopulation: Brahui\",\"Sample: HGDP00021\\u003cbr\\u003eChromosome: 6\\u003cbr\\u003ePosition: 82033359\\u003cbr\\u003ePrediction: Altaians_4\\u003cbr\\u003ePopulation: Brahui\",\"Sample: HGDP00021\\u003cbr\\u003eChromosome: 6\\u003cbr\\u003ePosition: 84220770\\u003cbr\\u003ePrediction: Altaians_4\\u003cbr\\u003ePopulation: Brahui\"],\"x\":[42659979.0,44847389.05263158,47034799.10526316,49222209.15789474,51409619.21052632,53597029.2631579,55784439.315789476,57971849.36842105,60159259.421052635,62346669.47368421,64534079.52631579,66721489.578947365,68908899.63157895,71096309.68421052,73283719.7368421,75471129.78947368,77658539.84210527,79845949.89473684,82033359.94736841,84220770.0],\"y\":[\"6\",\"6\",\"6\",\"6\",\"6\",\"6\",\"6\",\"6\",\"6\",\"6\",\"6\",\"6\",\"6\",\"6\",\"6\",\"6\",\"6\",\"6\",\"6\",\"6\"],\"type\":\"scatter\"},{\"hoverinfo\":\"text\",\"hoveron\":\"points+fills\",\"line\":{\"color\":\"#636EFA\",\"width\":18},\"marker\":{\"opacity\":0,\"size\":3},\"mode\":\"lines+markers\",\"showlegend\":false,\"text\":[\"Sample: HGDP00021\\u003cbr\\u003eChromosome: 6\\u003cbr\\u003ePosition: 84277037\\u003cbr\\u003ePrediction: Tatars_2\\u003cbr\\u003ePopulation: Brahui\",\"Sample: HGDP00021\\u003cbr\\u003eChromosome: 6\\u003cbr\\u003ePosition: 85943093\\u003cbr\\u003ePrediction: Tatars_2\\u003cbr\\u003ePopulation: Brahui\",\"Sample: HGDP00021\\u003cbr\\u003eChromosome: 6\\u003cbr\\u003ePosition: 87609149\\u003cbr\\u003ePrediction: Tatars_2\\u003cbr\\u003ePopulation: Brahui\",\"Sample: HGDP00021\\u003cbr\\u003eChromosome: 6\\u003cbr\\u003ePosition: 89275205\\u003cbr\\u003ePrediction: Tatars_2\\u003cbr\\u003ePopulation: Brahui\",\"Sample: HGDP00021\\u003cbr\\u003eChromosome: 6\\u003cbr\\u003ePosition: 90941261\\u003cbr\\u003ePrediction: Tatars_2\\u003cbr\\u003ePopulation: Brahui\",\"Sample: HGDP00021\\u003cbr\\u003eChromosome: 6\\u003cbr\\u003ePosition: 92607317\\u003cbr\\u003ePrediction: Tatars_2\\u003cbr\\u003ePopulation: Brahui\",\"Sample: HGDP00021\\u003cbr\\u003eChromosome: 6\\u003cbr\\u003ePosition: 94273373\\u003cbr\\u003ePrediction: Tatars_2\\u003cbr\\u003ePopulation: Brahui\",\"Sample: HGDP00021\\u003cbr\\u003eChromosome: 6\\u003cbr\\u003ePosition: 95939429\\u003cbr\\u003ePrediction: Tatars_2\\u003cbr\\u003ePopulation: Brahui\",\"Sample: HGDP00021\\u003cbr\\u003eChromosome: 6\\u003cbr\\u003ePosition: 97605485\\u003cbr\\u003ePrediction: Tatars_2\\u003cbr\\u003ePopulation: Brahui\",\"Sample: HGDP00021\\u003cbr\\u003eChromosome: 6\\u003cbr\\u003ePosition: 99271541\\u003cbr\\u003ePrediction: Tatars_2\\u003cbr\\u003ePopulation: Brahui\",\"Sample: HGDP00021\\u003cbr\\u003eChromosome: 6\\u003cbr\\u003ePosition: 100937598\\u003cbr\\u003ePrediction: Tatars_2\\u003cbr\\u003ePopulation: Brahui\",\"Sample: HGDP00021\\u003cbr\\u003eChromosome: 6\\u003cbr\\u003ePosition: 102603654\\u003cbr\\u003ePrediction: Tatars_2\\u003cbr\\u003ePopulation: Brahui\",\"Sample: HGDP00021\\u003cbr\\u003eChromosome: 6\\u003cbr\\u003ePosition: 104269710\\u003cbr\\u003ePrediction: Tatars_2\\u003cbr\\u003ePopulation: Brahui\",\"Sample: HGDP00021\\u003cbr\\u003eChromosome: 6\\u003cbr\\u003ePosition: 105935766\\u003cbr\\u003ePrediction: Tatars_2\\u003cbr\\u003ePopulation: Brahui\",\"Sample: HGDP00021\\u003cbr\\u003eChromosome: 6\\u003cbr\\u003ePosition: 107601822\\u003cbr\\u003ePrediction: Tatars_2\\u003cbr\\u003ePopulation: Brahui\",\"Sample: HGDP00021\\u003cbr\\u003eChromosome: 6\\u003cbr\\u003ePosition: 109267878\\u003cbr\\u003ePrediction: Tatars_2\\u003cbr\\u003ePopulation: Brahui\",\"Sample: HGDP00021\\u003cbr\\u003eChromosome: 6\\u003cbr\\u003ePosition: 110933934\\u003cbr\\u003ePrediction: Tatars_2\\u003cbr\\u003ePopulation: Brahui\",\"Sample: HGDP00021\\u003cbr\\u003eChromosome: 6\\u003cbr\\u003ePosition: 112599990\\u003cbr\\u003ePrediction: Tatars_2\\u003cbr\\u003ePopulation: Brahui\",\"Sample: HGDP00021\\u003cbr\\u003eChromosome: 6\\u003cbr\\u003ePosition: 114266046\\u003cbr\\u003ePrediction: Tatars_2\\u003cbr\\u003ePopulation: Brahui\",\"Sample: HGDP00021\\u003cbr\\u003eChromosome: 6\\u003cbr\\u003ePosition: 115932103\\u003cbr\\u003ePrediction: Tatars_2\\u003cbr\\u003ePopulation: Brahui\"],\"x\":[84277037.0,85943093.10526316,87609149.21052632,89275205.31578948,90941261.42105263,92607317.5263158,94273373.63157895,95939429.73684211,97605485.84210527,99271541.94736843,100937598.05263159,102603654.15789473,104269710.2631579,105935766.36842105,107601822.4736842,109267878.57894737,110933934.68421052,112599990.78947368,114266046.89473684,115932103.0],\"y\":[\"6\",\"6\",\"6\",\"6\",\"6\",\"6\",\"6\",\"6\",\"6\",\"6\",\"6\",\"6\",\"6\",\"6\",\"6\",\"6\",\"6\",\"6\",\"6\",\"6\"],\"type\":\"scatter\"},{\"hoverinfo\":\"text\",\"hoveron\":\"points+fills\",\"line\":{\"color\":\"#EF553B\",\"width\":18},\"marker\":{\"opacity\":0,\"size\":3},\"mode\":\"lines+markers\",\"showlegend\":false,\"text\":[\"Sample: HGDP00021\\u003cbr\\u003eChromosome: 6\\u003cbr\\u003ePosition: 116005535\\u003cbr\\u003ePrediction: Altaians_4\\u003cbr\\u003ePopulation: Brahui\",\"Sample: HGDP00021\\u003cbr\\u003eChromosome: 6\\u003cbr\\u003ePosition: 117634735\\u003cbr\\u003ePrediction: Altaians_4\\u003cbr\\u003ePopulation: Brahui\",\"Sample: HGDP00021\\u003cbr\\u003eChromosome: 6\\u003cbr\\u003ePosition: 119263936\\u003cbr\\u003ePrediction: Altaians_4\\u003cbr\\u003ePopulation: Brahui\",\"Sample: HGDP00021\\u003cbr\\u003eChromosome: 6\\u003cbr\\u003ePosition: 120893137\\u003cbr\\u003ePrediction: Altaians_4\\u003cbr\\u003ePopulation: Brahui\",\"Sample: HGDP00021\\u003cbr\\u003eChromosome: 6\\u003cbr\\u003ePosition: 122522338\\u003cbr\\u003ePrediction: Altaians_4\\u003cbr\\u003ePopulation: Brahui\",\"Sample: HGDP00021\\u003cbr\\u003eChromosome: 6\\u003cbr\\u003ePosition: 124151539\\u003cbr\\u003ePrediction: Altaians_4\\u003cbr\\u003ePopulation: Brahui\",\"Sample: HGDP00021\\u003cbr\\u003eChromosome: 6\\u003cbr\\u003ePosition: 125780740\\u003cbr\\u003ePrediction: Altaians_4\\u003cbr\\u003ePopulation: Brahui\",\"Sample: HGDP00021\\u003cbr\\u003eChromosome: 6\\u003cbr\\u003ePosition: 127409941\\u003cbr\\u003ePrediction: Altaians_4\\u003cbr\\u003ePopulation: Brahui\",\"Sample: HGDP00021\\u003cbr\\u003eChromosome: 6\\u003cbr\\u003ePosition: 129039142\\u003cbr\\u003ePrediction: Altaians_4\\u003cbr\\u003ePopulation: Brahui\",\"Sample: HGDP00021\\u003cbr\\u003eChromosome: 6\\u003cbr\\u003ePosition: 130668343\\u003cbr\\u003ePrediction: Altaians_4\\u003cbr\\u003ePopulation: Brahui\",\"Sample: HGDP00021\\u003cbr\\u003eChromosome: 6\\u003cbr\\u003ePosition: 132297544\\u003cbr\\u003ePrediction: Altaians_4\\u003cbr\\u003ePopulation: Brahui\",\"Sample: HGDP00021\\u003cbr\\u003eChromosome: 6\\u003cbr\\u003ePosition: 133926745\\u003cbr\\u003ePrediction: Altaians_4\\u003cbr\\u003ePopulation: Brahui\",\"Sample: HGDP00021\\u003cbr\\u003eChromosome: 6\\u003cbr\\u003ePosition: 135555946\\u003cbr\\u003ePrediction: Altaians_4\\u003cbr\\u003ePopulation: Brahui\",\"Sample: HGDP00021\\u003cbr\\u003eChromosome: 6\\u003cbr\\u003ePosition: 137185147\\u003cbr\\u003ePrediction: Altaians_4\\u003cbr\\u003ePopulation: Brahui\",\"Sample: HGDP00021\\u003cbr\\u003eChromosome: 6\\u003cbr\\u003ePosition: 138814348\\u003cbr\\u003ePrediction: Altaians_4\\u003cbr\\u003ePopulation: Brahui\",\"Sample: HGDP00021\\u003cbr\\u003eChromosome: 6\\u003cbr\\u003ePosition: 140443549\\u003cbr\\u003ePrediction: Altaians_4\\u003cbr\\u003ePopulation: Brahui\",\"Sample: HGDP00021\\u003cbr\\u003eChromosome: 6\\u003cbr\\u003ePosition: 142072750\\u003cbr\\u003ePrediction: Altaians_4\\u003cbr\\u003ePopulation: Brahui\",\"Sample: HGDP00021\\u003cbr\\u003eChromosome: 6\\u003cbr\\u003ePosition: 143701951\\u003cbr\\u003ePrediction: Altaians_4\\u003cbr\\u003ePopulation: Brahui\",\"Sample: HGDP00021\\u003cbr\\u003eChromosome: 6\\u003cbr\\u003ePosition: 145331152\\u003cbr\\u003ePrediction: Altaians_4\\u003cbr\\u003ePopulation: Brahui\",\"Sample: HGDP00021\\u003cbr\\u003eChromosome: 6\\u003cbr\\u003ePosition: 146960353\\u003cbr\\u003ePrediction: Altaians_4\\u003cbr\\u003ePopulation: Brahui\"],\"x\":[116005535.0,117634735.94736843,119263936.89473684,120893137.84210527,122522338.78947368,124151539.73684211,125780740.68421052,127409941.63157895,129039142.57894737,130668343.5263158,132297544.4736842,133926745.42105263,135555946.36842105,137185147.31578946,138814348.2631579,140443549.21052632,142072750.15789473,143701951.10526317,145331152.0526316,146960353.0],\"y\":[\"6\",\"6\",\"6\",\"6\",\"6\",\"6\",\"6\",\"6\",\"6\",\"6\",\"6\",\"6\",\"6\",\"6\",\"6\",\"6\",\"6\",\"6\",\"6\",\"6\"],\"type\":\"scatter\"},{\"hoverinfo\":\"text\",\"hoveron\":\"points+fills\",\"line\":{\"color\":\"#00CC96\",\"width\":18},\"marker\":{\"opacity\":0,\"size\":3},\"mode\":\"lines+markers\",\"showlegend\":false,\"text\":[\"Sample: HGDP00021\\u003cbr\\u003eChromosome: 7\\u003cbr\\u003ePosition: 3609712\\u003cbr\\u003ePrediction: Finnish_1\\u003cbr\\u003ePopulation: Brahui\",\"Sample: HGDP00021\\u003cbr\\u003eChromosome: 7\\u003cbr\\u003ePosition: 4892905\\u003cbr\\u003ePrediction: Finnish_1\\u003cbr\\u003ePopulation: Brahui\",\"Sample: HGDP00021\\u003cbr\\u003eChromosome: 7\\u003cbr\\u003ePosition: 6176099\\u003cbr\\u003ePrediction: Finnish_1\\u003cbr\\u003ePopulation: Brahui\",\"Sample: HGDP00021\\u003cbr\\u003eChromosome: 7\\u003cbr\\u003ePosition: 7459292\\u003cbr\\u003ePrediction: Finnish_1\\u003cbr\\u003ePopulation: Brahui\",\"Sample: HGDP00021\\u003cbr\\u003eChromosome: 7\\u003cbr\\u003ePosition: 8742486\\u003cbr\\u003ePrediction: Finnish_1\\u003cbr\\u003ePopulation: Brahui\",\"Sample: HGDP00021\\u003cbr\\u003eChromosome: 7\\u003cbr\\u003ePosition: 10025680\\u003cbr\\u003ePrediction: Finnish_1\\u003cbr\\u003ePopulation: Brahui\",\"Sample: HGDP00021\\u003cbr\\u003eChromosome: 7\\u003cbr\\u003ePosition: 11308873\\u003cbr\\u003ePrediction: Finnish_1\\u003cbr\\u003ePopulation: Brahui\",\"Sample: HGDP00021\\u003cbr\\u003eChromosome: 7\\u003cbr\\u003ePosition: 12592067\\u003cbr\\u003ePrediction: Finnish_1\\u003cbr\\u003ePopulation: Brahui\",\"Sample: HGDP00021\\u003cbr\\u003eChromosome: 7\\u003cbr\\u003ePosition: 13875261\\u003cbr\\u003ePrediction: Finnish_1\\u003cbr\\u003ePopulation: Brahui\",\"Sample: HGDP00021\\u003cbr\\u003eChromosome: 7\\u003cbr\\u003ePosition: 15158454\\u003cbr\\u003ePrediction: Finnish_1\\u003cbr\\u003ePopulation: Brahui\",\"Sample: HGDP00021\\u003cbr\\u003eChromosome: 7\\u003cbr\\u003ePosition: 16441648\\u003cbr\\u003ePrediction: Finnish_1\\u003cbr\\u003ePopulation: Brahui\",\"Sample: HGDP00021\\u003cbr\\u003eChromosome: 7\\u003cbr\\u003ePosition: 17724841\\u003cbr\\u003ePrediction: Finnish_1\\u003cbr\\u003ePopulation: Brahui\",\"Sample: HGDP00021\\u003cbr\\u003eChromosome: 7\\u003cbr\\u003ePosition: 19008035\\u003cbr\\u003ePrediction: Finnish_1\\u003cbr\\u003ePopulation: Brahui\",\"Sample: HGDP00021\\u003cbr\\u003eChromosome: 7\\u003cbr\\u003ePosition: 20291229\\u003cbr\\u003ePrediction: Finnish_1\\u003cbr\\u003ePopulation: Brahui\",\"Sample: HGDP00021\\u003cbr\\u003eChromosome: 7\\u003cbr\\u003ePosition: 21574422\\u003cbr\\u003ePrediction: Finnish_1\\u003cbr\\u003ePopulation: Brahui\",\"Sample: HGDP00021\\u003cbr\\u003eChromosome: 7\\u003cbr\\u003ePosition: 22857616\\u003cbr\\u003ePrediction: Finnish_1\\u003cbr\\u003ePopulation: Brahui\",\"Sample: HGDP00021\\u003cbr\\u003eChromosome: 7\\u003cbr\\u003ePosition: 24140810\\u003cbr\\u003ePrediction: Finnish_1\\u003cbr\\u003ePopulation: Brahui\",\"Sample: HGDP00021\\u003cbr\\u003eChromosome: 7\\u003cbr\\u003ePosition: 25424003\\u003cbr\\u003ePrediction: Finnish_1\\u003cbr\\u003ePopulation: Brahui\",\"Sample: HGDP00021\\u003cbr\\u003eChromosome: 7\\u003cbr\\u003ePosition: 26707197\\u003cbr\\u003ePrediction: Finnish_1\\u003cbr\\u003ePopulation: Brahui\",\"Sample: HGDP00021\\u003cbr\\u003eChromosome: 7\\u003cbr\\u003ePosition: 27990391\\u003cbr\\u003ePrediction: Finnish_1\\u003cbr\\u003ePopulation: Brahui\"],\"x\":[3609712.0,4892905.631578947,6176099.263157895,7459292.894736842,8742486.52631579,10025680.157894738,11308873.789473685,12592067.421052631,13875261.05263158,15158454.684210528,16441648.315789474,17724841.94736842,19008035.57894737,20291229.210526317,21574422.842105262,22857616.47368421,24140810.10526316,25424003.736842107,26707197.368421055,27990391.0],\"y\":[\"7\",\"7\",\"7\",\"7\",\"7\",\"7\",\"7\",\"7\",\"7\",\"7\",\"7\",\"7\",\"7\",\"7\",\"7\",\"7\",\"7\",\"7\",\"7\",\"7\"],\"type\":\"scatter\"},{\"hoverinfo\":\"text\",\"hoveron\":\"points+fills\",\"line\":{\"color\":\"#636EFA\",\"width\":18},\"marker\":{\"opacity\":0,\"size\":3},\"mode\":\"lines+markers\",\"showlegend\":false,\"text\":[\"Sample: HGDP00021\\u003cbr\\u003eChromosome: 7\\u003cbr\\u003ePosition: 28039797\\u003cbr\\u003ePrediction: Tatars_2\\u003cbr\\u003ePopulation: Brahui\",\"Sample: HGDP00021\\u003cbr\\u003eChromosome: 7\\u003cbr\\u003ePosition: 30120198\\u003cbr\\u003ePrediction: Tatars_2\\u003cbr\\u003ePopulation: Brahui\",\"Sample: HGDP00021\\u003cbr\\u003eChromosome: 7\\u003cbr\\u003ePosition: 32200600\\u003cbr\\u003ePrediction: Tatars_2\\u003cbr\\u003ePopulation: Brahui\",\"Sample: HGDP00021\\u003cbr\\u003eChromosome: 7\\u003cbr\\u003ePosition: 34281002\\u003cbr\\u003ePrediction: Tatars_2\\u003cbr\\u003ePopulation: Brahui\",\"Sample: HGDP00021\\u003cbr\\u003eChromosome: 7\\u003cbr\\u003ePosition: 36361403\\u003cbr\\u003ePrediction: Tatars_2\\u003cbr\\u003ePopulation: Brahui\",\"Sample: HGDP00021\\u003cbr\\u003eChromosome: 7\\u003cbr\\u003ePosition: 38441805\\u003cbr\\u003ePrediction: Tatars_2\\u003cbr\\u003ePopulation: Brahui\",\"Sample: HGDP00021\\u003cbr\\u003eChromosome: 7\\u003cbr\\u003ePosition: 40522207\\u003cbr\\u003ePrediction: Tatars_2\\u003cbr\\u003ePopulation: Brahui\",\"Sample: HGDP00021\\u003cbr\\u003eChromosome: 7\\u003cbr\\u003ePosition: 42602608\\u003cbr\\u003ePrediction: Tatars_2\\u003cbr\\u003ePopulation: Brahui\",\"Sample: HGDP00021\\u003cbr\\u003eChromosome: 7\\u003cbr\\u003ePosition: 44683010\\u003cbr\\u003ePrediction: Tatars_2\\u003cbr\\u003ePopulation: Brahui\",\"Sample: HGDP00021\\u003cbr\\u003eChromosome: 7\\u003cbr\\u003ePosition: 46763412\\u003cbr\\u003ePrediction: Tatars_2\\u003cbr\\u003ePopulation: Brahui\",\"Sample: HGDP00021\\u003cbr\\u003eChromosome: 7\\u003cbr\\u003ePosition: 48843813\\u003cbr\\u003ePrediction: Tatars_2\\u003cbr\\u003ePopulation: Brahui\",\"Sample: HGDP00021\\u003cbr\\u003eChromosome: 7\\u003cbr\\u003ePosition: 50924215\\u003cbr\\u003ePrediction: Tatars_2\\u003cbr\\u003ePopulation: Brahui\",\"Sample: HGDP00021\\u003cbr\\u003eChromosome: 7\\u003cbr\\u003ePosition: 53004617\\u003cbr\\u003ePrediction: Tatars_2\\u003cbr\\u003ePopulation: Brahui\",\"Sample: HGDP00021\\u003cbr\\u003eChromosome: 7\\u003cbr\\u003ePosition: 55085018\\u003cbr\\u003ePrediction: Tatars_2\\u003cbr\\u003ePopulation: Brahui\",\"Sample: HGDP00021\\u003cbr\\u003eChromosome: 7\\u003cbr\\u003ePosition: 57165420\\u003cbr\\u003ePrediction: Tatars_2\\u003cbr\\u003ePopulation: Brahui\",\"Sample: HGDP00021\\u003cbr\\u003eChromosome: 7\\u003cbr\\u003ePosition: 59245822\\u003cbr\\u003ePrediction: Tatars_2\\u003cbr\\u003ePopulation: Brahui\",\"Sample: HGDP00021\\u003cbr\\u003eChromosome: 7\\u003cbr\\u003ePosition: 61326223\\u003cbr\\u003ePrediction: Tatars_2\\u003cbr\\u003ePopulation: Brahui\",\"Sample: HGDP00021\\u003cbr\\u003eChromosome: 7\\u003cbr\\u003ePosition: 63406625\\u003cbr\\u003ePrediction: Tatars_2\\u003cbr\\u003ePopulation: Brahui\",\"Sample: HGDP00021\\u003cbr\\u003eChromosome: 7\\u003cbr\\u003ePosition: 65487027\\u003cbr\\u003ePrediction: Tatars_2\\u003cbr\\u003ePopulation: Brahui\",\"Sample: HGDP00021\\u003cbr\\u003eChromosome: 7\\u003cbr\\u003ePosition: 67567429\\u003cbr\\u003ePrediction: Tatars_2\\u003cbr\\u003ePopulation: Brahui\"],\"x\":[28039797.0,30120198.684210528,32200600.36842105,34281002.05263158,36361403.7368421,38441805.421052635,40522207.10526316,42602608.78947368,44683010.47368421,46763412.15789474,48843813.84210526,50924215.52631579,53004617.21052632,55085018.89473684,57165420.578947365,59245822.26315789,61326223.94736842,63406625.631578945,65487027.315789476,67567429.0],\"y\":[\"7\",\"7\",\"7\",\"7\",\"7\",\"7\",\"7\",\"7\",\"7\",\"7\",\"7\",\"7\",\"7\",\"7\",\"7\",\"7\",\"7\",\"7\",\"7\",\"7\"],\"type\":\"scatter\"},{\"hoverinfo\":\"text\",\"hoveron\":\"points+fills\",\"line\":{\"color\":\"#00CC96\",\"width\":18},\"marker\":{\"opacity\":0,\"size\":3},\"mode\":\"lines+markers\",\"showlegend\":false,\"text\":[\"Sample: HGDP00021\\u003cbr\\u003eChromosome: 7\\u003cbr\\u003ePosition: 67590850\\u003cbr\\u003ePrediction: Finnish_1\\u003cbr\\u003ePopulation: Brahui\",\"Sample: HGDP00021\\u003cbr\\u003eChromosome: 7\\u003cbr\\u003ePosition: 71769478\\u003cbr\\u003ePrediction: Finnish_1\\u003cbr\\u003ePopulation: Brahui\",\"Sample: HGDP00021\\u003cbr\\u003eChromosome: 7\\u003cbr\\u003ePosition: 75948106\\u003cbr\\u003ePrediction: Finnish_1\\u003cbr\\u003ePopulation: Brahui\",\"Sample: HGDP00021\\u003cbr\\u003eChromosome: 7\\u003cbr\\u003ePosition: 80126734\\u003cbr\\u003ePrediction: Finnish_1\\u003cbr\\u003ePopulation: Brahui\",\"Sample: HGDP00021\\u003cbr\\u003eChromosome: 7\\u003cbr\\u003ePosition: 84305362\\u003cbr\\u003ePrediction: Finnish_1\\u003cbr\\u003ePopulation: Brahui\",\"Sample: HGDP00021\\u003cbr\\u003eChromosome: 7\\u003cbr\\u003ePosition: 88483990\\u003cbr\\u003ePrediction: Finnish_1\\u003cbr\\u003ePopulation: Brahui\",\"Sample: HGDP00021\\u003cbr\\u003eChromosome: 7\\u003cbr\\u003ePosition: 92662618\\u003cbr\\u003ePrediction: Finnish_1\\u003cbr\\u003ePopulation: Brahui\",\"Sample: HGDP00021\\u003cbr\\u003eChromosome: 7\\u003cbr\\u003ePosition: 96841246\\u003cbr\\u003ePrediction: Finnish_1\\u003cbr\\u003ePopulation: Brahui\",\"Sample: HGDP00021\\u003cbr\\u003eChromosome: 7\\u003cbr\\u003ePosition: 101019874\\u003cbr\\u003ePrediction: Finnish_1\\u003cbr\\u003ePopulation: Brahui\",\"Sample: HGDP00021\\u003cbr\\u003eChromosome: 7\\u003cbr\\u003ePosition: 105198502\\u003cbr\\u003ePrediction: Finnish_1\\u003cbr\\u003ePopulation: Brahui\",\"Sample: HGDP00021\\u003cbr\\u003eChromosome: 7\\u003cbr\\u003ePosition: 109377130\\u003cbr\\u003ePrediction: Finnish_1\\u003cbr\\u003ePopulation: Brahui\",\"Sample: HGDP00021\\u003cbr\\u003eChromosome: 7\\u003cbr\\u003ePosition: 113555758\\u003cbr\\u003ePrediction: Finnish_1\\u003cbr\\u003ePopulation: Brahui\",\"Sample: HGDP00021\\u003cbr\\u003eChromosome: 7\\u003cbr\\u003ePosition: 117734386\\u003cbr\\u003ePrediction: Finnish_1\\u003cbr\\u003ePopulation: Brahui\",\"Sample: HGDP00021\\u003cbr\\u003eChromosome: 7\\u003cbr\\u003ePosition: 121913014\\u003cbr\\u003ePrediction: Finnish_1\\u003cbr\\u003ePopulation: Brahui\",\"Sample: HGDP00021\\u003cbr\\u003eChromosome: 7\\u003cbr\\u003ePosition: 126091642\\u003cbr\\u003ePrediction: Finnish_1\\u003cbr\\u003ePopulation: Brahui\",\"Sample: HGDP00021\\u003cbr\\u003eChromosome: 7\\u003cbr\\u003ePosition: 130270270\\u003cbr\\u003ePrediction: Finnish_1\\u003cbr\\u003ePopulation: Brahui\",\"Sample: HGDP00021\\u003cbr\\u003eChromosome: 7\\u003cbr\\u003ePosition: 134448898\\u003cbr\\u003ePrediction: Finnish_1\\u003cbr\\u003ePopulation: Brahui\",\"Sample: HGDP00021\\u003cbr\\u003eChromosome: 7\\u003cbr\\u003ePosition: 138627526\\u003cbr\\u003ePrediction: Finnish_1\\u003cbr\\u003ePopulation: Brahui\",\"Sample: HGDP00021\\u003cbr\\u003eChromosome: 7\\u003cbr\\u003ePosition: 142806154\\u003cbr\\u003ePrediction: Finnish_1\\u003cbr\\u003ePopulation: Brahui\",\"Sample: HGDP00021\\u003cbr\\u003eChromosome: 7\\u003cbr\\u003ePosition: 146984783\\u003cbr\\u003ePrediction: Finnish_1\\u003cbr\\u003ePopulation: Brahui\"],\"x\":[67590850.0,71769478.05263157,75948106.10526316,80126734.15789473,84305362.21052632,88483990.26315789,92662618.31578948,96841246.36842105,101019874.42105263,105198502.4736842,109377130.52631578,113555758.57894737,117734386.63157895,121913014.68421052,126091642.7368421,130270270.78947368,134448898.84210527,138627526.89473683,142806154.9473684,146984783.0],\"y\":[\"7\",\"7\",\"7\",\"7\",\"7\",\"7\",\"7\",\"7\",\"7\",\"7\",\"7\",\"7\",\"7\",\"7\",\"7\",\"7\",\"7\",\"7\",\"7\",\"7\"],\"type\":\"scatter\"},{\"hoverinfo\":\"text\",\"hoveron\":\"points+fills\",\"line\":{\"color\":\"#636EFA\",\"width\":18},\"marker\":{\"opacity\":0,\"size\":3},\"mode\":\"lines+markers\",\"showlegend\":false,\"text\":[\"Sample: HGDP00021\\u003cbr\\u003eChromosome: 8\\u003cbr\\u003ePosition: 9375944\\u003cbr\\u003ePrediction: Tatars_2\\u003cbr\\u003ePopulation: Brahui\",\"Sample: HGDP00021\\u003cbr\\u003eChromosome: 8\\u003cbr\\u003ePosition: 10449766\\u003cbr\\u003ePrediction: Tatars_2\\u003cbr\\u003ePopulation: Brahui\",\"Sample: HGDP00021\\u003cbr\\u003eChromosome: 8\\u003cbr\\u003ePosition: 11523589\\u003cbr\\u003ePrediction: Tatars_2\\u003cbr\\u003ePopulation: Brahui\",\"Sample: HGDP00021\\u003cbr\\u003eChromosome: 8\\u003cbr\\u003ePosition: 12597412\\u003cbr\\u003ePrediction: Tatars_2\\u003cbr\\u003ePopulation: Brahui\",\"Sample: HGDP00021\\u003cbr\\u003eChromosome: 8\\u003cbr\\u003ePosition: 13671234\\u003cbr\\u003ePrediction: Tatars_2\\u003cbr\\u003ePopulation: Brahui\",\"Sample: HGDP00021\\u003cbr\\u003eChromosome: 8\\u003cbr\\u003ePosition: 14745057\\u003cbr\\u003ePrediction: Tatars_2\\u003cbr\\u003ePopulation: Brahui\",\"Sample: HGDP00021\\u003cbr\\u003eChromosome: 8\\u003cbr\\u003ePosition: 15818880\\u003cbr\\u003ePrediction: Tatars_2\\u003cbr\\u003ePopulation: Brahui\",\"Sample: HGDP00021\\u003cbr\\u003eChromosome: 8\\u003cbr\\u003ePosition: 16892702\\u003cbr\\u003ePrediction: Tatars_2\\u003cbr\\u003ePopulation: Brahui\",\"Sample: HGDP00021\\u003cbr\\u003eChromosome: 8\\u003cbr\\u003ePosition: 17966525\\u003cbr\\u003ePrediction: Tatars_2\\u003cbr\\u003ePopulation: Brahui\",\"Sample: HGDP00021\\u003cbr\\u003eChromosome: 8\\u003cbr\\u003ePosition: 19040348\\u003cbr\\u003ePrediction: Tatars_2\\u003cbr\\u003ePopulation: Brahui\",\"Sample: HGDP00021\\u003cbr\\u003eChromosome: 8\\u003cbr\\u003ePosition: 20114170\\u003cbr\\u003ePrediction: Tatars_2\\u003cbr\\u003ePopulation: Brahui\",\"Sample: HGDP00021\\u003cbr\\u003eChromosome: 8\\u003cbr\\u003ePosition: 21187993\\u003cbr\\u003ePrediction: Tatars_2\\u003cbr\\u003ePopulation: Brahui\",\"Sample: HGDP00021\\u003cbr\\u003eChromosome: 8\\u003cbr\\u003ePosition: 22261816\\u003cbr\\u003ePrediction: Tatars_2\\u003cbr\\u003ePopulation: Brahui\",\"Sample: HGDP00021\\u003cbr\\u003eChromosome: 8\\u003cbr\\u003ePosition: 23335638\\u003cbr\\u003ePrediction: Tatars_2\\u003cbr\\u003ePopulation: Brahui\",\"Sample: HGDP00021\\u003cbr\\u003eChromosome: 8\\u003cbr\\u003ePosition: 24409461\\u003cbr\\u003ePrediction: Tatars_2\\u003cbr\\u003ePopulation: Brahui\",\"Sample: HGDP00021\\u003cbr\\u003eChromosome: 8\\u003cbr\\u003ePosition: 25483284\\u003cbr\\u003ePrediction: Tatars_2\\u003cbr\\u003ePopulation: Brahui\",\"Sample: HGDP00021\\u003cbr\\u003eChromosome: 8\\u003cbr\\u003ePosition: 26557106\\u003cbr\\u003ePrediction: Tatars_2\\u003cbr\\u003ePopulation: Brahui\",\"Sample: HGDP00021\\u003cbr\\u003eChromosome: 8\\u003cbr\\u003ePosition: 27630929\\u003cbr\\u003ePrediction: Tatars_2\\u003cbr\\u003ePopulation: Brahui\",\"Sample: HGDP00021\\u003cbr\\u003eChromosome: 8\\u003cbr\\u003ePosition: 28704752\\u003cbr\\u003ePrediction: Tatars_2\\u003cbr\\u003ePopulation: Brahui\",\"Sample: HGDP00021\\u003cbr\\u003eChromosome: 8\\u003cbr\\u003ePosition: 29778575\\u003cbr\\u003ePrediction: Tatars_2\\u003cbr\\u003ePopulation: Brahui\"],\"x\":[9375944.0,10449766.684210526,11523589.368421052,12597412.05263158,13671234.736842105,14745057.421052631,15818880.105263159,16892702.789473683,17966525.47368421,19040348.157894738,20114170.842105262,21187993.52631579,22261816.210526317,23335638.89473684,24409461.57894737,25483284.263157897,26557106.94736842,27630929.63157895,28704752.315789472,29778575.0],\"y\":[\"8\",\"8\",\"8\",\"8\",\"8\",\"8\",\"8\",\"8\",\"8\",\"8\",\"8\",\"8\",\"8\",\"8\",\"8\",\"8\",\"8\",\"8\",\"8\",\"8\"],\"type\":\"scatter\"},{\"hoverinfo\":\"text\",\"hoveron\":\"points+fills\",\"line\":{\"color\":\"#EF553B\",\"width\":18},\"marker\":{\"opacity\":0,\"size\":3},\"mode\":\"lines+markers\",\"showlegend\":false,\"text\":[\"Sample: HGDP00021\\u003cbr\\u003eChromosome: 8\\u003cbr\\u003ePosition: 29802727\\u003cbr\\u003ePrediction: Altaians_4\\u003cbr\\u003ePopulation: Brahui\",\"Sample: HGDP00021\\u003cbr\\u003eChromosome: 8\\u003cbr\\u003ePosition: 31895714\\u003cbr\\u003ePrediction: Altaians_4\\u003cbr\\u003ePopulation: Brahui\",\"Sample: HGDP00021\\u003cbr\\u003eChromosome: 8\\u003cbr\\u003ePosition: 33988701\\u003cbr\\u003ePrediction: Altaians_4\\u003cbr\\u003ePopulation: Brahui\",\"Sample: HGDP00021\\u003cbr\\u003eChromosome: 8\\u003cbr\\u003ePosition: 36081688\\u003cbr\\u003ePrediction: Altaians_4\\u003cbr\\u003ePopulation: Brahui\",\"Sample: HGDP00021\\u003cbr\\u003eChromosome: 8\\u003cbr\\u003ePosition: 38174675\\u003cbr\\u003ePrediction: Altaians_4\\u003cbr\\u003ePopulation: Brahui\",\"Sample: HGDP00021\\u003cbr\\u003eChromosome: 8\\u003cbr\\u003ePosition: 40267662\\u003cbr\\u003ePrediction: Altaians_4\\u003cbr\\u003ePopulation: Brahui\",\"Sample: HGDP00021\\u003cbr\\u003eChromosome: 8\\u003cbr\\u003ePosition: 42360649\\u003cbr\\u003ePrediction: Altaians_4\\u003cbr\\u003ePopulation: Brahui\",\"Sample: HGDP00021\\u003cbr\\u003eChromosome: 8\\u003cbr\\u003ePosition: 44453637\\u003cbr\\u003ePrediction: Altaians_4\\u003cbr\\u003ePopulation: Brahui\",\"Sample: HGDP00021\\u003cbr\\u003eChromosome: 8\\u003cbr\\u003ePosition: 46546624\\u003cbr\\u003ePrediction: Altaians_4\\u003cbr\\u003ePopulation: Brahui\",\"Sample: HGDP00021\\u003cbr\\u003eChromosome: 8\\u003cbr\\u003ePosition: 48639611\\u003cbr\\u003ePrediction: Altaians_4\\u003cbr\\u003ePopulation: Brahui\",\"Sample: HGDP00021\\u003cbr\\u003eChromosome: 8\\u003cbr\\u003ePosition: 50732598\\u003cbr\\u003ePrediction: Altaians_4\\u003cbr\\u003ePopulation: Brahui\",\"Sample: HGDP00021\\u003cbr\\u003eChromosome: 8\\u003cbr\\u003ePosition: 52825585\\u003cbr\\u003ePrediction: Altaians_4\\u003cbr\\u003ePopulation: Brahui\",\"Sample: HGDP00021\\u003cbr\\u003eChromosome: 8\\u003cbr\\u003ePosition: 54918572\\u003cbr\\u003ePrediction: Altaians_4\\u003cbr\\u003ePopulation: Brahui\",\"Sample: HGDP00021\\u003cbr\\u003eChromosome: 8\\u003cbr\\u003ePosition: 57011560\\u003cbr\\u003ePrediction: Altaians_4\\u003cbr\\u003ePopulation: Brahui\",\"Sample: HGDP00021\\u003cbr\\u003eChromosome: 8\\u003cbr\\u003ePosition: 59104547\\u003cbr\\u003ePrediction: Altaians_4\\u003cbr\\u003ePopulation: Brahui\",\"Sample: HGDP00021\\u003cbr\\u003eChromosome: 8\\u003cbr\\u003ePosition: 61197534\\u003cbr\\u003ePrediction: Altaians_4\\u003cbr\\u003ePopulation: Brahui\",\"Sample: HGDP00021\\u003cbr\\u003eChromosome: 8\\u003cbr\\u003ePosition: 63290521\\u003cbr\\u003ePrediction: Altaians_4\\u003cbr\\u003ePopulation: Brahui\",\"Sample: HGDP00021\\u003cbr\\u003eChromosome: 8\\u003cbr\\u003ePosition: 65383508\\u003cbr\\u003ePrediction: Altaians_4\\u003cbr\\u003ePopulation: Brahui\",\"Sample: HGDP00021\\u003cbr\\u003eChromosome: 8\\u003cbr\\u003ePosition: 67476495\\u003cbr\\u003ePrediction: Altaians_4\\u003cbr\\u003ePopulation: Brahui\",\"Sample: HGDP00021\\u003cbr\\u003eChromosome: 8\\u003cbr\\u003ePosition: 69569483\\u003cbr\\u003ePrediction: Altaians_4\\u003cbr\\u003ePopulation: Brahui\"],\"x\":[29802727.0,31895714.157894738,33988701.315789476,36081688.47368421,38174675.631578945,40267662.78947368,42360649.94736842,44453637.10526316,46546624.2631579,48639611.421052635,50732598.578947365,52825585.73684211,54918572.89473684,57011560.05263158,59104547.21052632,61197534.36842105,63290521.52631579,65383508.684210524,67476495.84210527,69569483.0],\"y\":[\"8\",\"8\",\"8\",\"8\",\"8\",\"8\",\"8\",\"8\",\"8\",\"8\",\"8\",\"8\",\"8\",\"8\",\"8\",\"8\",\"8\",\"8\",\"8\",\"8\"],\"type\":\"scatter\"},{\"hoverinfo\":\"text\",\"hoveron\":\"points+fills\",\"line\":{\"color\":\"#B6E880\",\"width\":18},\"marker\":{\"opacity\":0,\"size\":3},\"mode\":\"lines+markers\",\"name\":\"Mongols_4\",\"showlegend\":true,\"text\":[\"Sample: HGDP00021\\u003cbr\\u003eChromosome: 8\\u003cbr\\u003ePosition: 69613880\\u003cbr\\u003ePrediction: Mongols_4\\u003cbr\\u003ePopulation: Brahui\",\"Sample: HGDP00021\\u003cbr\\u003eChromosome: 8\\u003cbr\\u003ePosition: 71157667\\u003cbr\\u003ePrediction: Mongols_4\\u003cbr\\u003ePopulation: Brahui\",\"Sample: HGDP00021\\u003cbr\\u003eChromosome: 8\\u003cbr\\u003ePosition: 72701454\\u003cbr\\u003ePrediction: Mongols_4\\u003cbr\\u003ePopulation: Brahui\",\"Sample: HGDP00021\\u003cbr\\u003eChromosome: 8\\u003cbr\\u003ePosition: 74245241\\u003cbr\\u003ePrediction: Mongols_4\\u003cbr\\u003ePopulation: Brahui\",\"Sample: HGDP00021\\u003cbr\\u003eChromosome: 8\\u003cbr\\u003ePosition: 75789028\\u003cbr\\u003ePrediction: Mongols_4\\u003cbr\\u003ePopulation: Brahui\",\"Sample: HGDP00021\\u003cbr\\u003eChromosome: 8\\u003cbr\\u003ePosition: 77332815\\u003cbr\\u003ePrediction: Mongols_4\\u003cbr\\u003ePopulation: Brahui\",\"Sample: HGDP00021\\u003cbr\\u003eChromosome: 8\\u003cbr\\u003ePosition: 78876602\\u003cbr\\u003ePrediction: Mongols_4\\u003cbr\\u003ePopulation: Brahui\",\"Sample: HGDP00021\\u003cbr\\u003eChromosome: 8\\u003cbr\\u003ePosition: 80420389\\u003cbr\\u003ePrediction: Mongols_4\\u003cbr\\u003ePopulation: Brahui\",\"Sample: HGDP00021\\u003cbr\\u003eChromosome: 8\\u003cbr\\u003ePosition: 81964176\\u003cbr\\u003ePrediction: Mongols_4\\u003cbr\\u003ePopulation: Brahui\",\"Sample: HGDP00021\\u003cbr\\u003eChromosome: 8\\u003cbr\\u003ePosition: 83507963\\u003cbr\\u003ePrediction: Mongols_4\\u003cbr\\u003ePopulation: Brahui\",\"Sample: HGDP00021\\u003cbr\\u003eChromosome: 8\\u003cbr\\u003ePosition: 85051750\\u003cbr\\u003ePrediction: Mongols_4\\u003cbr\\u003ePopulation: Brahui\",\"Sample: HGDP00021\\u003cbr\\u003eChromosome: 8\\u003cbr\\u003ePosition: 86595537\\u003cbr\\u003ePrediction: Mongols_4\\u003cbr\\u003ePopulation: Brahui\",\"Sample: HGDP00021\\u003cbr\\u003eChromosome: 8\\u003cbr\\u003ePosition: 88139324\\u003cbr\\u003ePrediction: Mongols_4\\u003cbr\\u003ePopulation: Brahui\",\"Sample: HGDP00021\\u003cbr\\u003eChromosome: 8\\u003cbr\\u003ePosition: 89683111\\u003cbr\\u003ePrediction: Mongols_4\\u003cbr\\u003ePopulation: Brahui\",\"Sample: HGDP00021\\u003cbr\\u003eChromosome: 8\\u003cbr\\u003ePosition: 91226898\\u003cbr\\u003ePrediction: Mongols_4\\u003cbr\\u003ePopulation: Brahui\",\"Sample: HGDP00021\\u003cbr\\u003eChromosome: 8\\u003cbr\\u003ePosition: 92770685\\u003cbr\\u003ePrediction: Mongols_4\\u003cbr\\u003ePopulation: Brahui\",\"Sample: HGDP00021\\u003cbr\\u003eChromosome: 8\\u003cbr\\u003ePosition: 94314472\\u003cbr\\u003ePrediction: Mongols_4\\u003cbr\\u003ePopulation: Brahui\",\"Sample: HGDP00021\\u003cbr\\u003eChromosome: 8\\u003cbr\\u003ePosition: 95858259\\u003cbr\\u003ePrediction: Mongols_4\\u003cbr\\u003ePopulation: Brahui\",\"Sample: HGDP00021\\u003cbr\\u003eChromosome: 8\\u003cbr\\u003ePosition: 97402046\\u003cbr\\u003ePrediction: Mongols_4\\u003cbr\\u003ePopulation: Brahui\",\"Sample: HGDP00021\\u003cbr\\u003eChromosome: 8\\u003cbr\\u003ePosition: 98945834\\u003cbr\\u003ePrediction: Mongols_4\\u003cbr\\u003ePopulation: Brahui\"],\"x\":[69613880.0,71157667.05263157,72701454.10526316,74245241.15789473,75789028.21052632,77332815.26315789,78876602.31578948,80420389.36842105,81964176.42105263,83507963.4736842,85051750.5263158,86595537.57894737,88139324.63157895,89683111.68421052,91226898.7368421,92770685.78947368,94314472.84210527,95858259.89473684,97402046.94736841,98945834.0],\"y\":[\"8\",\"8\",\"8\",\"8\",\"8\",\"8\",\"8\",\"8\",\"8\",\"8\",\"8\",\"8\",\"8\",\"8\",\"8\",\"8\",\"8\",\"8\",\"8\",\"8\"],\"type\":\"scatter\"},{\"hoverinfo\":\"text\",\"hoveron\":\"points+fills\",\"line\":{\"color\":\"#00CC96\",\"width\":18},\"marker\":{\"opacity\":0,\"size\":3},\"mode\":\"lines+markers\",\"showlegend\":false,\"text\":[\"Sample: HGDP00021\\u003cbr\\u003eChromosome: 8\\u003cbr\\u003ePosition: 99020949\\u003cbr\\u003ePrediction: Finnish_1\\u003cbr\\u003ePopulation: Brahui\",\"Sample: HGDP00021\\u003cbr\\u003eChromosome: 8\\u003cbr\\u003ePosition: 100470059\\u003cbr\\u003ePrediction: Finnish_1\\u003cbr\\u003ePopulation: Brahui\",\"Sample: HGDP00021\\u003cbr\\u003eChromosome: 8\\u003cbr\\u003ePosition: 101919169\\u003cbr\\u003ePrediction: Finnish_1\\u003cbr\\u003ePopulation: Brahui\",\"Sample: HGDP00021\\u003cbr\\u003eChromosome: 8\\u003cbr\\u003ePosition: 103368279\\u003cbr\\u003ePrediction: Finnish_1\\u003cbr\\u003ePopulation: Brahui\",\"Sample: HGDP00021\\u003cbr\\u003eChromosome: 8\\u003cbr\\u003ePosition: 104817389\\u003cbr\\u003ePrediction: Finnish_1\\u003cbr\\u003ePopulation: Brahui\",\"Sample: HGDP00021\\u003cbr\\u003eChromosome: 8\\u003cbr\\u003ePosition: 106266499\\u003cbr\\u003ePrediction: Finnish_1\\u003cbr\\u003ePopulation: Brahui\",\"Sample: HGDP00021\\u003cbr\\u003eChromosome: 8\\u003cbr\\u003ePosition: 107715609\\u003cbr\\u003ePrediction: Finnish_1\\u003cbr\\u003ePopulation: Brahui\",\"Sample: HGDP00021\\u003cbr\\u003eChromosome: 8\\u003cbr\\u003ePosition: 109164719\\u003cbr\\u003ePrediction: Finnish_1\\u003cbr\\u003ePopulation: Brahui\",\"Sample: HGDP00021\\u003cbr\\u003eChromosome: 8\\u003cbr\\u003ePosition: 110613829\\u003cbr\\u003ePrediction: Finnish_1\\u003cbr\\u003ePopulation: Brahui\",\"Sample: HGDP00021\\u003cbr\\u003eChromosome: 8\\u003cbr\\u003ePosition: 112062939\\u003cbr\\u003ePrediction: Finnish_1\\u003cbr\\u003ePopulation: Brahui\",\"Sample: HGDP00021\\u003cbr\\u003eChromosome: 8\\u003cbr\\u003ePosition: 113512049\\u003cbr\\u003ePrediction: Finnish_1\\u003cbr\\u003ePopulation: Brahui\",\"Sample: HGDP00021\\u003cbr\\u003eChromosome: 8\\u003cbr\\u003ePosition: 114961159\\u003cbr\\u003ePrediction: Finnish_1\\u003cbr\\u003ePopulation: Brahui\",\"Sample: HGDP00021\\u003cbr\\u003eChromosome: 8\\u003cbr\\u003ePosition: 116410269\\u003cbr\\u003ePrediction: Finnish_1\\u003cbr\\u003ePopulation: Brahui\",\"Sample: HGDP00021\\u003cbr\\u003eChromosome: 8\\u003cbr\\u003ePosition: 117859379\\u003cbr\\u003ePrediction: Finnish_1\\u003cbr\\u003ePopulation: Brahui\",\"Sample: HGDP00021\\u003cbr\\u003eChromosome: 8\\u003cbr\\u003ePosition: 119308489\\u003cbr\\u003ePrediction: Finnish_1\\u003cbr\\u003ePopulation: Brahui\",\"Sample: HGDP00021\\u003cbr\\u003eChromosome: 8\\u003cbr\\u003ePosition: 120757599\\u003cbr\\u003ePrediction: Finnish_1\\u003cbr\\u003ePopulation: Brahui\",\"Sample: HGDP00021\\u003cbr\\u003eChromosome: 8\\u003cbr\\u003ePosition: 122206709\\u003cbr\\u003ePrediction: Finnish_1\\u003cbr\\u003ePopulation: Brahui\",\"Sample: HGDP00021\\u003cbr\\u003eChromosome: 8\\u003cbr\\u003ePosition: 123655819\\u003cbr\\u003ePrediction: Finnish_1\\u003cbr\\u003ePopulation: Brahui\",\"Sample: HGDP00021\\u003cbr\\u003eChromosome: 8\\u003cbr\\u003ePosition: 125104929\\u003cbr\\u003ePrediction: Finnish_1\\u003cbr\\u003ePopulation: Brahui\",\"Sample: HGDP00021\\u003cbr\\u003eChromosome: 8\\u003cbr\\u003ePosition: 126554039\\u003cbr\\u003ePrediction: Finnish_1\\u003cbr\\u003ePopulation: Brahui\"],\"x\":[99020949.0,100470059.0,101919169.0,103368279.0,104817389.0,106266499.0,107715609.0,109164719.0,110613829.0,112062939.0,113512049.0,114961159.0,116410269.0,117859379.0,119308489.0,120757599.0,122206709.0,123655819.0,125104929.0,126554039.0],\"y\":[\"8\",\"8\",\"8\",\"8\",\"8\",\"8\",\"8\",\"8\",\"8\",\"8\",\"8\",\"8\",\"8\",\"8\",\"8\",\"8\",\"8\",\"8\",\"8\",\"8\"],\"type\":\"scatter\"},{\"hoverinfo\":\"text\",\"hoveron\":\"points+fills\",\"line\":{\"color\":\"#636EFA\",\"width\":18},\"marker\":{\"opacity\":0,\"size\":3},\"mode\":\"lines+markers\",\"showlegend\":false,\"text\":[\"Sample: HGDP00021\\u003cbr\\u003eChromosome: 9\\u003cbr\\u003ePosition: 1355061\\u003cbr\\u003ePrediction: Tatars_2\\u003cbr\\u003ePopulation: Brahui\",\"Sample: HGDP00021\\u003cbr\\u003eChromosome: 9\\u003cbr\\u003ePosition: 5241708\\u003cbr\\u003ePrediction: Tatars_2\\u003cbr\\u003ePopulation: Brahui\",\"Sample: HGDP00021\\u003cbr\\u003eChromosome: 9\\u003cbr\\u003ePosition: 9128355\\u003cbr\\u003ePrediction: Tatars_2\\u003cbr\\u003ePopulation: Brahui\",\"Sample: HGDP00021\\u003cbr\\u003eChromosome: 9\\u003cbr\\u003ePosition: 13015002\\u003cbr\\u003ePrediction: Tatars_2\\u003cbr\\u003ePopulation: Brahui\",\"Sample: HGDP00021\\u003cbr\\u003eChromosome: 9\\u003cbr\\u003ePosition: 16901649\\u003cbr\\u003ePrediction: Tatars_2\\u003cbr\\u003ePopulation: Brahui\",\"Sample: HGDP00021\\u003cbr\\u003eChromosome: 9\\u003cbr\\u003ePosition: 20788296\\u003cbr\\u003ePrediction: Tatars_2\\u003cbr\\u003ePopulation: Brahui\",\"Sample: HGDP00021\\u003cbr\\u003eChromosome: 9\\u003cbr\\u003ePosition: 24674943\\u003cbr\\u003ePrediction: Tatars_2\\u003cbr\\u003ePopulation: Brahui\",\"Sample: HGDP00021\\u003cbr\\u003eChromosome: 9\\u003cbr\\u003ePosition: 28561590\\u003cbr\\u003ePrediction: Tatars_2\\u003cbr\\u003ePopulation: Brahui\",\"Sample: HGDP00021\\u003cbr\\u003eChromosome: 9\\u003cbr\\u003ePosition: 32448237\\u003cbr\\u003ePrediction: Tatars_2\\u003cbr\\u003ePopulation: Brahui\",\"Sample: HGDP00021\\u003cbr\\u003eChromosome: 9\\u003cbr\\u003ePosition: 36334884\\u003cbr\\u003ePrediction: Tatars_2\\u003cbr\\u003ePopulation: Brahui\",\"Sample: HGDP00021\\u003cbr\\u003eChromosome: 9\\u003cbr\\u003ePosition: 40221531\\u003cbr\\u003ePrediction: Tatars_2\\u003cbr\\u003ePopulation: Brahui\",\"Sample: HGDP00021\\u003cbr\\u003eChromosome: 9\\u003cbr\\u003ePosition: 44108178\\u003cbr\\u003ePrediction: Tatars_2\\u003cbr\\u003ePopulation: Brahui\",\"Sample: HGDP00021\\u003cbr\\u003eChromosome: 9\\u003cbr\\u003ePosition: 47994825\\u003cbr\\u003ePrediction: Tatars_2\\u003cbr\\u003ePopulation: Brahui\",\"Sample: HGDP00021\\u003cbr\\u003eChromosome: 9\\u003cbr\\u003ePosition: 51881472\\u003cbr\\u003ePrediction: Tatars_2\\u003cbr\\u003ePopulation: Brahui\",\"Sample: HGDP00021\\u003cbr\\u003eChromosome: 9\\u003cbr\\u003ePosition: 55768119\\u003cbr\\u003ePrediction: Tatars_2\\u003cbr\\u003ePopulation: Brahui\",\"Sample: HGDP00021\\u003cbr\\u003eChromosome: 9\\u003cbr\\u003ePosition: 59654766\\u003cbr\\u003ePrediction: Tatars_2\\u003cbr\\u003ePopulation: Brahui\",\"Sample: HGDP00021\\u003cbr\\u003eChromosome: 9\\u003cbr\\u003ePosition: 63541413\\u003cbr\\u003ePrediction: Tatars_2\\u003cbr\\u003ePopulation: Brahui\",\"Sample: HGDP00021\\u003cbr\\u003eChromosome: 9\\u003cbr\\u003ePosition: 67428060\\u003cbr\\u003ePrediction: Tatars_2\\u003cbr\\u003ePopulation: Brahui\",\"Sample: HGDP00021\\u003cbr\\u003eChromosome: 9\\u003cbr\\u003ePosition: 71314707\\u003cbr\\u003ePrediction: Tatars_2\\u003cbr\\u003ePopulation: Brahui\",\"Sample: HGDP00021\\u003cbr\\u003eChromosome: 9\\u003cbr\\u003ePosition: 75201354\\u003cbr\\u003ePrediction: Tatars_2\\u003cbr\\u003ePopulation: Brahui\"],\"x\":[1355061.0,5241708.0,9128355.0,13015002.0,16901649.0,20788296.0,24674943.0,28561590.0,32448237.0,36334884.0,40221531.0,44108178.0,47994825.0,51881472.0,55768119.0,59654766.0,63541413.0,67428060.0,71314707.0,75201354.0],\"y\":[\"9\",\"9\",\"9\",\"9\",\"9\",\"9\",\"9\",\"9\",\"9\",\"9\",\"9\",\"9\",\"9\",\"9\",\"9\",\"9\",\"9\",\"9\",\"9\",\"9\"],\"type\":\"scatter\"},{\"hoverinfo\":\"text\",\"hoveron\":\"points+fills\",\"line\":{\"color\":\"#00CC96\",\"width\":18},\"marker\":{\"opacity\":0,\"size\":3},\"mode\":\"lines+markers\",\"showlegend\":false,\"text\":[\"Sample: HGDP00021\\u003cbr\\u003eChromosome: 9\\u003cbr\\u003ePosition: 75206337\\u003cbr\\u003ePrediction: Finnish_1\\u003cbr\\u003ePopulation: Brahui\",\"Sample: HGDP00021\\u003cbr\\u003eChromosome: 9\\u003cbr\\u003ePosition: 76538178\\u003cbr\\u003ePrediction: Finnish_1\\u003cbr\\u003ePopulation: Brahui\",\"Sample: HGDP00021\\u003cbr\\u003eChromosome: 9\\u003cbr\\u003ePosition: 77870020\\u003cbr\\u003ePrediction: Finnish_1\\u003cbr\\u003ePopulation: Brahui\",\"Sample: HGDP00021\\u003cbr\\u003eChromosome: 9\\u003cbr\\u003ePosition: 79201862\\u003cbr\\u003ePrediction: Finnish_1\\u003cbr\\u003ePopulation: Brahui\",\"Sample: HGDP00021\\u003cbr\\u003eChromosome: 9\\u003cbr\\u003ePosition: 80533704\\u003cbr\\u003ePrediction: Finnish_1\\u003cbr\\u003ePopulation: Brahui\",\"Sample: HGDP00021\\u003cbr\\u003eChromosome: 9\\u003cbr\\u003ePosition: 81865545\\u003cbr\\u003ePrediction: Finnish_1\\u003cbr\\u003ePopulation: Brahui\",\"Sample: HGDP00021\\u003cbr\\u003eChromosome: 9\\u003cbr\\u003ePosition: 83197387\\u003cbr\\u003ePrediction: Finnish_1\\u003cbr\\u003ePopulation: Brahui\",\"Sample: HGDP00021\\u003cbr\\u003eChromosome: 9\\u003cbr\\u003ePosition: 84529229\\u003cbr\\u003ePrediction: Finnish_1\\u003cbr\\u003ePopulation: Brahui\",\"Sample: HGDP00021\\u003cbr\\u003eChromosome: 9\\u003cbr\\u003ePosition: 85861071\\u003cbr\\u003ePrediction: Finnish_1\\u003cbr\\u003ePopulation: Brahui\",\"Sample: HGDP00021\\u003cbr\\u003eChromosome: 9\\u003cbr\\u003ePosition: 87192913\\u003cbr\\u003ePrediction: Finnish_1\\u003cbr\\u003ePopulation: Brahui\",\"Sample: HGDP00021\\u003cbr\\u003eChromosome: 9\\u003cbr\\u003ePosition: 88524754\\u003cbr\\u003ePrediction: Finnish_1\\u003cbr\\u003ePopulation: Brahui\",\"Sample: HGDP00021\\u003cbr\\u003eChromosome: 9\\u003cbr\\u003ePosition: 89856596\\u003cbr\\u003ePrediction: Finnish_1\\u003cbr\\u003ePopulation: Brahui\",\"Sample: HGDP00021\\u003cbr\\u003eChromosome: 9\\u003cbr\\u003ePosition: 91188438\\u003cbr\\u003ePrediction: Finnish_1\\u003cbr\\u003ePopulation: Brahui\",\"Sample: HGDP00021\\u003cbr\\u003eChromosome: 9\\u003cbr\\u003ePosition: 92520280\\u003cbr\\u003ePrediction: Finnish_1\\u003cbr\\u003ePopulation: Brahui\",\"Sample: HGDP00021\\u003cbr\\u003eChromosome: 9\\u003cbr\\u003ePosition: 93852122\\u003cbr\\u003ePrediction: Finnish_1\\u003cbr\\u003ePopulation: Brahui\",\"Sample: HGDP00021\\u003cbr\\u003eChromosome: 9\\u003cbr\\u003ePosition: 95183963\\u003cbr\\u003ePrediction: Finnish_1\\u003cbr\\u003ePopulation: Brahui\",\"Sample: HGDP00021\\u003cbr\\u003eChromosome: 9\\u003cbr\\u003ePosition: 96515805\\u003cbr\\u003ePrediction: Finnish_1\\u003cbr\\u003ePopulation: Brahui\",\"Sample: HGDP00021\\u003cbr\\u003eChromosome: 9\\u003cbr\\u003ePosition: 97847647\\u003cbr\\u003ePrediction: Finnish_1\\u003cbr\\u003ePopulation: Brahui\",\"Sample: HGDP00021\\u003cbr\\u003eChromosome: 9\\u003cbr\\u003ePosition: 99179489\\u003cbr\\u003ePrediction: Finnish_1\\u003cbr\\u003ePopulation: Brahui\",\"Sample: HGDP00021\\u003cbr\\u003eChromosome: 9\\u003cbr\\u003ePosition: 100511331\\u003cbr\\u003ePrediction: Finnish_1\\u003cbr\\u003ePopulation: Brahui\"],\"x\":[75206337.0,76538178.78947368,77870020.57894737,79201862.36842105,80533704.15789473,81865545.94736843,83197387.73684211,84529229.5263158,85861071.31578948,87192913.10526316,88524754.89473684,89856596.68421052,91188438.4736842,92520280.2631579,93852122.05263159,95183963.84210527,96515805.63157895,97847647.42105263,99179489.21052632,100511331.0],\"y\":[\"9\",\"9\",\"9\",\"9\",\"9\",\"9\",\"9\",\"9\",\"9\",\"9\",\"9\",\"9\",\"9\",\"9\",\"9\",\"9\",\"9\",\"9\",\"9\",\"9\"],\"type\":\"scatter\"},{\"hoverinfo\":\"text\",\"hoveron\":\"points+fills\",\"line\":{\"color\":\"#636EFA\",\"width\":18},\"marker\":{\"opacity\":0,\"size\":3},\"mode\":\"lines+markers\",\"showlegend\":false,\"text\":[\"Sample: HGDP00021\\u003cbr\\u003eChromosome: 9\\u003cbr\\u003ePosition: 100674565\\u003cbr\\u003ePrediction: Tatars_2\\u003cbr\\u003ePopulation: Brahui\",\"Sample: HGDP00021\\u003cbr\\u003eChromosome: 9\\u003cbr\\u003ePosition: 101696373\\u003cbr\\u003ePrediction: Tatars_2\\u003cbr\\u003ePopulation: Brahui\",\"Sample: HGDP00021\\u003cbr\\u003eChromosome: 9\\u003cbr\\u003ePosition: 102718182\\u003cbr\\u003ePrediction: Tatars_2\\u003cbr\\u003ePopulation: Brahui\",\"Sample: HGDP00021\\u003cbr\\u003eChromosome: 9\\u003cbr\\u003ePosition: 103739991\\u003cbr\\u003ePrediction: Tatars_2\\u003cbr\\u003ePopulation: Brahui\",\"Sample: HGDP00021\\u003cbr\\u003eChromosome: 9\\u003cbr\\u003ePosition: 104761800\\u003cbr\\u003ePrediction: Tatars_2\\u003cbr\\u003ePopulation: Brahui\",\"Sample: HGDP00021\\u003cbr\\u003eChromosome: 9\\u003cbr\\u003ePosition: 105783609\\u003cbr\\u003ePrediction: Tatars_2\\u003cbr\\u003ePopulation: Brahui\",\"Sample: HGDP00021\\u003cbr\\u003eChromosome: 9\\u003cbr\\u003ePosition: 106805418\\u003cbr\\u003ePrediction: Tatars_2\\u003cbr\\u003ePopulation: Brahui\",\"Sample: HGDP00021\\u003cbr\\u003eChromosome: 9\\u003cbr\\u003ePosition: 107827226\\u003cbr\\u003ePrediction: Tatars_2\\u003cbr\\u003ePopulation: Brahui\",\"Sample: HGDP00021\\u003cbr\\u003eChromosome: 9\\u003cbr\\u003ePosition: 108849035\\u003cbr\\u003ePrediction: Tatars_2\\u003cbr\\u003ePopulation: Brahui\",\"Sample: HGDP00021\\u003cbr\\u003eChromosome: 9\\u003cbr\\u003ePosition: 109870844\\u003cbr\\u003ePrediction: Tatars_2\\u003cbr\\u003ePopulation: Brahui\",\"Sample: HGDP00021\\u003cbr\\u003eChromosome: 9\\u003cbr\\u003ePosition: 110892653\\u003cbr\\u003ePrediction: Tatars_2\\u003cbr\\u003ePopulation: Brahui\",\"Sample: HGDP00021\\u003cbr\\u003eChromosome: 9\\u003cbr\\u003ePosition: 111914462\\u003cbr\\u003ePrediction: Tatars_2\\u003cbr\\u003ePopulation: Brahui\",\"Sample: HGDP00021\\u003cbr\\u003eChromosome: 9\\u003cbr\\u003ePosition: 112936271\\u003cbr\\u003ePrediction: Tatars_2\\u003cbr\\u003ePopulation: Brahui\",\"Sample: HGDP00021\\u003cbr\\u003eChromosome: 9\\u003cbr\\u003ePosition: 113958079\\u003cbr\\u003ePrediction: Tatars_2\\u003cbr\\u003ePopulation: Brahui\",\"Sample: HGDP00021\\u003cbr\\u003eChromosome: 9\\u003cbr\\u003ePosition: 114979888\\u003cbr\\u003ePrediction: Tatars_2\\u003cbr\\u003ePopulation: Brahui\",\"Sample: HGDP00021\\u003cbr\\u003eChromosome: 9\\u003cbr\\u003ePosition: 116001697\\u003cbr\\u003ePrediction: Tatars_2\\u003cbr\\u003ePopulation: Brahui\",\"Sample: HGDP00021\\u003cbr\\u003eChromosome: 9\\u003cbr\\u003ePosition: 117023506\\u003cbr\\u003ePrediction: Tatars_2\\u003cbr\\u003ePopulation: Brahui\",\"Sample: HGDP00021\\u003cbr\\u003eChromosome: 9\\u003cbr\\u003ePosition: 118045315\\u003cbr\\u003ePrediction: Tatars_2\\u003cbr\\u003ePopulation: Brahui\",\"Sample: HGDP00021\\u003cbr\\u003eChromosome: 9\\u003cbr\\u003ePosition: 119067124\\u003cbr\\u003ePrediction: Tatars_2\\u003cbr\\u003ePopulation: Brahui\",\"Sample: HGDP00021\\u003cbr\\u003eChromosome: 9\\u003cbr\\u003ePosition: 120088933\\u003cbr\\u003ePrediction: Tatars_2\\u003cbr\\u003ePopulation: Brahui\"],\"x\":[100674565.0,101696373.84210527,102718182.68421052,103739991.5263158,104761800.36842105,105783609.21052632,106805418.05263159,107827226.89473684,108849035.73684211,109870844.57894737,110892653.42105263,111914462.26315789,112936271.10526316,113958079.94736841,114979888.78947368,116001697.63157895,117023506.4736842,118045315.31578948,119067124.15789473,120088933.0],\"y\":[\"9\",\"9\",\"9\",\"9\",\"9\",\"9\",\"9\",\"9\",\"9\",\"9\",\"9\",\"9\",\"9\",\"9\",\"9\",\"9\",\"9\",\"9\",\"9\",\"9\"],\"type\":\"scatter\"}],                        {\"template\":{\"data\":{\"histogram2dcontour\":[{\"type\":\"histogram2dcontour\",\"colorbar\":{\"outlinewidth\":0,\"ticks\":\"\"},\"colorscale\":[[0.0,\"#0d0887\"],[0.1111111111111111,\"#46039f\"],[0.2222222222222222,\"#7201a8\"],[0.3333333333333333,\"#9c179e\"],[0.4444444444444444,\"#bd3786\"],[0.5555555555555556,\"#d8576b\"],[0.6666666666666666,\"#ed7953\"],[0.7777777777777778,\"#fb9f3a\"],[0.8888888888888888,\"#fdca26\"],[1.0,\"#f0f921\"]]}],\"choropleth\":[{\"type\":\"choropleth\",\"colorbar\":{\"outlinewidth\":0,\"ticks\":\"\"}}],\"histogram2d\":[{\"type\":\"histogram2d\",\"colorbar\":{\"outlinewidth\":0,\"ticks\":\"\"},\"colorscale\":[[0.0,\"#0d0887\"],[0.1111111111111111,\"#46039f\"],[0.2222222222222222,\"#7201a8\"],[0.3333333333333333,\"#9c179e\"],[0.4444444444444444,\"#bd3786\"],[0.5555555555555556,\"#d8576b\"],[0.6666666666666666,\"#ed7953\"],[0.7777777777777778,\"#fb9f3a\"],[0.8888888888888888,\"#fdca26\"],[1.0,\"#f0f921\"]]}],\"heatmap\":[{\"type\":\"heatmap\",\"colorbar\":{\"outlinewidth\":0,\"ticks\":\"\"},\"colorscale\":[[0.0,\"#0d0887\"],[0.1111111111111111,\"#46039f\"],[0.2222222222222222,\"#7201a8\"],[0.3333333333333333,\"#9c179e\"],[0.4444444444444444,\"#bd3786\"],[0.5555555555555556,\"#d8576b\"],[0.6666666666666666,\"#ed7953\"],[0.7777777777777778,\"#fb9f3a\"],[0.8888888888888888,\"#fdca26\"],[1.0,\"#f0f921\"]]}],\"heatmapgl\":[{\"type\":\"heatmapgl\",\"colorbar\":{\"outlinewidth\":0,\"ticks\":\"\"},\"colorscale\":[[0.0,\"#0d0887\"],[0.1111111111111111,\"#46039f\"],[0.2222222222222222,\"#7201a8\"],[0.3333333333333333,\"#9c179e\"],[0.4444444444444444,\"#bd3786\"],[0.5555555555555556,\"#d8576b\"],[0.6666666666666666,\"#ed7953\"],[0.7777777777777778,\"#fb9f3a\"],[0.8888888888888888,\"#fdca26\"],[1.0,\"#f0f921\"]]}],\"contourcarpet\":[{\"type\":\"contourcarpet\",\"colorbar\":{\"outlinewidth\":0,\"ticks\":\"\"}}],\"contour\":[{\"type\":\"contour\",\"colorbar\":{\"outlinewidth\":0,\"ticks\":\"\"},\"colorscale\":[[0.0,\"#0d0887\"],[0.1111111111111111,\"#46039f\"],[0.2222222222222222,\"#7201a8\"],[0.3333333333333333,\"#9c179e\"],[0.4444444444444444,\"#bd3786\"],[0.5555555555555556,\"#d8576b\"],[0.6666666666666666,\"#ed7953\"],[0.7777777777777778,\"#fb9f3a\"],[0.8888888888888888,\"#fdca26\"],[1.0,\"#f0f921\"]]}],\"surface\":[{\"type\":\"surface\",\"colorbar\":{\"outlinewidth\":0,\"ticks\":\"\"},\"colorscale\":[[0.0,\"#0d0887\"],[0.1111111111111111,\"#46039f\"],[0.2222222222222222,\"#7201a8\"],[0.3333333333333333,\"#9c179e\"],[0.4444444444444444,\"#bd3786\"],[0.5555555555555556,\"#d8576b\"],[0.6666666666666666,\"#ed7953\"],[0.7777777777777778,\"#fb9f3a\"],[0.8888888888888888,\"#fdca26\"],[1.0,\"#f0f921\"]]}],\"mesh3d\":[{\"type\":\"mesh3d\",\"colorbar\":{\"outlinewidth\":0,\"ticks\":\"\"}}],\"scatter\":[{\"fillpattern\":{\"fillmode\":\"overlay\",\"size\":10,\"solidity\":0.2},\"type\":\"scatter\"}],\"parcoords\":[{\"type\":\"parcoords\",\"line\":{\"colorbar\":{\"outlinewidth\":0,\"ticks\":\"\"}}}],\"scatterpolargl\":[{\"type\":\"scatterpolargl\",\"marker\":{\"colorbar\":{\"outlinewidth\":0,\"ticks\":\"\"}}}],\"bar\":[{\"error_x\":{\"color\":\"#2a3f5f\"},\"error_y\":{\"color\":\"#2a3f5f\"},\"marker\":{\"line\":{\"color\":\"#E5ECF6\",\"width\":0.5},\"pattern\":{\"fillmode\":\"overlay\",\"size\":10,\"solidity\":0.2}},\"type\":\"bar\"}],\"scattergeo\":[{\"type\":\"scattergeo\",\"marker\":{\"colorbar\":{\"outlinewidth\":0,\"ticks\":\"\"}}}],\"scatterpolar\":[{\"type\":\"scatterpolar\",\"marker\":{\"colorbar\":{\"outlinewidth\":0,\"ticks\":\"\"}}}],\"histogram\":[{\"marker\":{\"pattern\":{\"fillmode\":\"overlay\",\"size\":10,\"solidity\":0.2}},\"type\":\"histogram\"}],\"scattergl\":[{\"type\":\"scattergl\",\"marker\":{\"colorbar\":{\"outlinewidth\":0,\"ticks\":\"\"}}}],\"scatter3d\":[{\"type\":\"scatter3d\",\"line\":{\"colorbar\":{\"outlinewidth\":0,\"ticks\":\"\"}},\"marker\":{\"colorbar\":{\"outlinewidth\":0,\"ticks\":\"\"}}}],\"scattermapbox\":[{\"type\":\"scattermapbox\",\"marker\":{\"colorbar\":{\"outlinewidth\":0,\"ticks\":\"\"}}}],\"scatterternary\":[{\"type\":\"scatterternary\",\"marker\":{\"colorbar\":{\"outlinewidth\":0,\"ticks\":\"\"}}}],\"scattercarpet\":[{\"type\":\"scattercarpet\",\"marker\":{\"colorbar\":{\"outlinewidth\":0,\"ticks\":\"\"}}}],\"carpet\":[{\"aaxis\":{\"endlinecolor\":\"#2a3f5f\",\"gridcolor\":\"white\",\"linecolor\":\"white\",\"minorgridcolor\":\"white\",\"startlinecolor\":\"#2a3f5f\"},\"baxis\":{\"endlinecolor\":\"#2a3f5f\",\"gridcolor\":\"white\",\"linecolor\":\"white\",\"minorgridcolor\":\"white\",\"startlinecolor\":\"#2a3f5f\"},\"type\":\"carpet\"}],\"table\":[{\"cells\":{\"fill\":{\"color\":\"#EBF0F8\"},\"line\":{\"color\":\"white\"}},\"header\":{\"fill\":{\"color\":\"#C8D4E3\"},\"line\":{\"color\":\"white\"}},\"type\":\"table\"}],\"barpolar\":[{\"marker\":{\"line\":{\"color\":\"#E5ECF6\",\"width\":0.5},\"pattern\":{\"fillmode\":\"overlay\",\"size\":10,\"solidity\":0.2}},\"type\":\"barpolar\"}],\"pie\":[{\"automargin\":true,\"type\":\"pie\"}]},\"layout\":{\"autotypenumbers\":\"strict\",\"colorway\":[\"#636efa\",\"#EF553B\",\"#00cc96\",\"#ab63fa\",\"#FFA15A\",\"#19d3f3\",\"#FF6692\",\"#B6E880\",\"#FF97FF\",\"#FECB52\"],\"font\":{\"color\":\"#2a3f5f\"},\"hovermode\":\"closest\",\"hoverlabel\":{\"align\":\"left\"},\"paper_bgcolor\":\"white\",\"plot_bgcolor\":\"#E5ECF6\",\"polar\":{\"bgcolor\":\"#E5ECF6\",\"angularaxis\":{\"gridcolor\":\"white\",\"linecolor\":\"white\",\"ticks\":\"\"},\"radialaxis\":{\"gridcolor\":\"white\",\"linecolor\":\"white\",\"ticks\":\"\"}},\"ternary\":{\"bgcolor\":\"#E5ECF6\",\"aaxis\":{\"gridcolor\":\"white\",\"linecolor\":\"white\",\"ticks\":\"\"},\"baxis\":{\"gridcolor\":\"white\",\"linecolor\":\"white\",\"ticks\":\"\"},\"caxis\":{\"gridcolor\":\"white\",\"linecolor\":\"white\",\"ticks\":\"\"}},\"coloraxis\":{\"colorbar\":{\"outlinewidth\":0,\"ticks\":\"\"}},\"colorscale\":{\"sequential\":[[0.0,\"#0d0887\"],[0.1111111111111111,\"#46039f\"],[0.2222222222222222,\"#7201a8\"],[0.3333333333333333,\"#9c179e\"],[0.4444444444444444,\"#bd3786\"],[0.5555555555555556,\"#d8576b\"],[0.6666666666666666,\"#ed7953\"],[0.7777777777777778,\"#fb9f3a\"],[0.8888888888888888,\"#fdca26\"],[1.0,\"#f0f921\"]],\"sequentialminus\":[[0.0,\"#0d0887\"],[0.1111111111111111,\"#46039f\"],[0.2222222222222222,\"#7201a8\"],[0.3333333333333333,\"#9c179e\"],[0.4444444444444444,\"#bd3786\"],[0.5555555555555556,\"#d8576b\"],[0.6666666666666666,\"#ed7953\"],[0.7777777777777778,\"#fb9f3a\"],[0.8888888888888888,\"#fdca26\"],[1.0,\"#f0f921\"]],\"diverging\":[[0,\"#8e0152\"],[0.1,\"#c51b7d\"],[0.2,\"#de77ae\"],[0.3,\"#f1b6da\"],[0.4,\"#fde0ef\"],[0.5,\"#f7f7f7\"],[0.6,\"#e6f5d0\"],[0.7,\"#b8e186\"],[0.8,\"#7fbc41\"],[0.9,\"#4d9221\"],[1,\"#276419\"]]},\"xaxis\":{\"gridcolor\":\"white\",\"linecolor\":\"white\",\"ticks\":\"\",\"title\":{\"standoff\":15},\"zerolinecolor\":\"white\",\"automargin\":true,\"zerolinewidth\":2},\"yaxis\":{\"gridcolor\":\"white\",\"linecolor\":\"white\",\"ticks\":\"\",\"title\":{\"standoff\":15},\"zerolinecolor\":\"white\",\"automargin\":true,\"zerolinewidth\":2},\"scene\":{\"xaxis\":{\"backgroundcolor\":\"#E5ECF6\",\"gridcolor\":\"white\",\"linecolor\":\"white\",\"showbackground\":true,\"ticks\":\"\",\"zerolinecolor\":\"white\",\"gridwidth\":2},\"yaxis\":{\"backgroundcolor\":\"#E5ECF6\",\"gridcolor\":\"white\",\"linecolor\":\"white\",\"showbackground\":true,\"ticks\":\"\",\"zerolinecolor\":\"white\",\"gridwidth\":2},\"zaxis\":{\"backgroundcolor\":\"#E5ECF6\",\"gridcolor\":\"white\",\"linecolor\":\"white\",\"showbackground\":true,\"ticks\":\"\",\"zerolinecolor\":\"white\",\"gridwidth\":2}},\"shapedefaults\":{\"line\":{\"color\":\"#2a3f5f\"}},\"annotationdefaults\":{\"arrowcolor\":\"#2a3f5f\",\"arrowhead\":0,\"arrowwidth\":1},\"geo\":{\"bgcolor\":\"white\",\"landcolor\":\"#E5ECF6\",\"subunitcolor\":\"white\",\"showland\":true,\"showlakes\":true,\"lakecolor\":\"white\"},\"title\":{\"x\":0.05},\"mapbox\":{\"style\":\"light\"}}},\"title\":{\"text\":\"Chromosome Segments of HGDP00021\",\"x\":0.5,\"font\":{\"size\":30}},\"xaxis\":{\"rangeslider\":{\"visible\":true,\"thickness\":0.3,\"borderwidth\":1},\"title\":{\"text\":\"Genomic Position\",\"font\":{\"size\":22}},\"tickfont\":{\"size\":16},\"showgrid\":true,\"zeroline\":false,\"showline\":true,\"type\":\"linear\",\"range\":[0,null]},\"yaxis\":{\"title\":{\"text\":\"Chromosome\",\"font\":{\"size\":22}},\"tickfont\":{\"size\":16},\"showgrid\":true,\"zeroline\":false,\"showline\":true,\"categoryorder\":\"category ascending\",\"fixedrange\":false},\"legend\":{\"title\":{\"text\":\"Samples and Predictions\",\"font\":{\"size\":24}},\"font\":{\"size\":20},\"orientation\":\"v\"},\"hoverlabel\":{\"font\":{\"size\":16}},\"hovermode\":\"closest\",\"height\":800,\"dragmode\":\"zoom\"},                        {\"responsive\": true}                    ).then(function(){\n",
       "                            \n",
       "var gd = document.getElementById('cb898ee2-e7d2-49c0-bf02-54880bef680c');\n",
       "var x = new MutationObserver(function (mutations, observer) {{\n",
       "        var display = window.getComputedStyle(gd).display;\n",
       "        if (!display || display === 'none') {{\n",
       "            console.log([gd, 'removed!']);\n",
       "            Plotly.purge(gd);\n",
       "            observer.disconnect();\n",
       "        }}\n",
       "}});\n",
       "\n",
       "// Listen for the removal of the full notebook cells\n",
       "var notebookContainer = gd.closest('#notebook-container');\n",
       "if (notebookContainer) {{\n",
       "    x.observe(notebookContainer, {childList: true});\n",
       "}}\n",
       "\n",
       "// Listen for the clearing of the current output cell\n",
       "var outputEl = gd.closest('.output');\n",
       "if (outputEl) {{\n",
       "    x.observe(outputEl, {childList: true});\n",
       "}}\n",
       "\n",
       "                        })                };                });            </script>        </div>"
      ]
     },
     "metadata": {},
     "output_type": "display_data"
    }
   ],
   "source": [
    "# Ensure chromosome is categorical\n",
    "test_df['chromosome'] = test_df['chromosome'].astype(str)\n",
    "\n",
    "# Assign unique colors for different predictions\n",
    "unique_predictions = test_df['Prediction'].unique()\n",
    "color_map = {pred: px.colors.qualitative.Plotly[i % len(px.colors.qualitative.Plotly)] for i, pred in enumerate(unique_predictions)}\n",
    "\n",
    "fig = go.Figure()\n",
    "first_occurrence = {}\n",
    "\n",
    "for _, row in test_df.iterrows():\n",
    "    prediction = row[\"Prediction\"]\n",
    "    sample_id = row['SAMPLE_ID']\n",
    "\n",
    "    # Show legend only for the first occurrence of each prediction type\n",
    "    show_legend = False if prediction in first_occurrence else True\n",
    "    first_occurrence[prediction] = True  \n",
    "\n",
    "    # Generate intermediate points for smoother hover\n",
    "    x_values = np.linspace(row[\"start_pos\"], row[\"end_pos\"], num=20)  # Fewer points in range slider\n",
    "    y_values = [row[\"chromosome\"]] * len(x_values)  # Keep Y fixed for chromosome\n",
    "\n",
    "    # Main chromosome segment (Main plot)\n",
    "    fig.add_trace(go.Scatter(\n",
    "        x=x_values,\n",
    "        y=y_values,\n",
    "        mode=\"lines+markers\",\n",
    "        marker=dict(size=3, opacity=0),  # Invisible markers for better hover effect\n",
    "        line=dict(color=color_map[prediction], width=18),  # Width for main plot\n",
    "        name=prediction if show_legend else None,\n",
    "        showlegend=show_legend,\n",
    "        hoveron=\"points+fills\",\n",
    "        hoverinfo=\"text\",\n",
    "        text=[f\"Sample: {row['SAMPLE_ID']}<br>\"\n",
    "              f\"Chromosome: {row['chromosome']}<br>\"\n",
    "              f\"Position: {int(x)}<br>\"\n",
    "              f\"Prediction: {row['Prediction']}<br>\"\n",
    "              f\"Population: {row['Population']}\"\n",
    "              for x in x_values]\n",
    "    ))\n",
    "\n",
    "\n",
    "fig.update_layout(\n",
    "    title=f\"Chromosome Segments of {sample_id}\",\n",
    "    title_x=0.5,  # Centers the title\n",
    "    title_font=dict(size=30),  # Increase title font size\n",
    "    xaxis_title=\"Genomic Position\",\n",
    "    yaxis_title=\"Chromosome\",\n",
    "    hovermode=\"closest\",\n",
    "    height=800,\n",
    "    dragmode=\"zoom\",\n",
    "    xaxis=dict(\n",
    "        showgrid=True,\n",
    "        zeroline=False,\n",
    "        showline=True,\n",
    "        rangeslider=dict(\n",
    "            visible=True,\n",
    "            thickness=0.30,\n",
    "            borderwidth=1,\n",
    "        ),\n",
    "        type=\"linear\",\n",
    "        range=[0, None],\n",
    "        title_font=dict(size=22),  # Increase x-axis title size\n",
    "        tickfont=dict(size=16),  # Increase x-axis tick label size\n",
    "    ),\n",
    "    yaxis=dict(\n",
    "        showgrid=True,\n",
    "        zeroline=False,\n",
    "        showline=True,\n",
    "        categoryorder=\"category ascending\",\n",
    "        fixedrange=False,\n",
    "        title_font=dict(size=22),  # Increase y-axis title size\n",
    "        tickfont=dict(size=16),  # Increase y-axis tick label size\n",
    "    ),\n",
    "    legend_title=\"Samples and Predictions\",\n",
    "    legend_title_font=dict(size=24),  # Increase legend title size\n",
    "    legend_font=dict(size=18),  # Increase legend label size\n",
    "    hoverlabel=dict(\n",
    "        font_size=16,  # Increase hover label font size\n",
    "    ),\n",
    "    legend=dict(\n",
    "        font=dict(size=20)  # Increase legend text size\n",
    "    ),\n",
    "    legend_orientation=\"v\",  # Vertical legend layout\n",
    ")\n",
    "\n",
    "fig.show()"
   ]
  },
  {
   "cell_type": "markdown",
   "metadata": {},
   "source": [
    "## Worldmap plots"
   ]
  },
  {
   "cell_type": "code",
   "execution_count": 38,
   "metadata": {},
   "outputs": [
    {
     "data": {
      "text/plain": [
       "Index(['SAMPLE_ID', 'individual', 'chromosome', 'start_pos', 'end_pos',\n",
       "       'Prediction', 'Population', 'Lat', 'Lon', 'Admixture1', 'Admixture2',\n",
       "       'Admixture3', 'Admixture4', 'Admixture5', 'Admixture6', 'Admixture7',\n",
       "       'Admixture8', 'Admixture9'],\n",
       "      dtype='object')"
      ]
     },
     "execution_count": 38,
     "metadata": {},
     "output_type": "execute_result"
    }
   ],
   "source": [
    "test_df.columns"
   ]
  },
  {
   "cell_type": "code",
   "execution_count": 40,
   "metadata": {},
   "outputs": [
    {
     "data": {
      "application/vnd.plotly.v1+json": {
       "config": {
        "plotlyServerURL": "https://plot.ly"
       },
       "data": [
        {
         "customdata": [
          [
           "Brahui",
           "Tatars_2",
           0.309244
          ],
          [
           "Brahui",
           "Altaians_4",
           0.474894
          ],
          [
           "Brahui",
           "Tatars_2",
           0.2854865
          ],
          [
           "Brahui",
           "Finnish_1",
           0.143214
          ],
          [
           "Brahui",
           "Tatars_4",
           0.175145
          ],
          [
           "Brahui",
           "Tatars_2",
           0.26967
          ],
          [
           "Brahui",
           "Tatars_2",
           0.1603435
          ],
          [
           "Brahui",
           "Finnish_1",
           0.26084050000000003
          ],
          [
           "Brahui",
           "Tatars_2",
           0.311196
          ],
          [
           "Brahui",
           "Finnish_2",
           0.10937
          ],
          [
           "Brahui",
           "Tatars_2",
           0.244007
          ],
          [
           "Brahui",
           "Altaians_3",
           0.58749
          ],
          [
           "Brahui",
           "Finnish_1",
           0.263615
          ],
          [
           "Brahui",
           "Tatars_2",
           0.292638
          ],
          [
           "Brahui",
           "Altaians_4",
           0.423167
          ],
          [
           "Brahui",
           "Meitei_0",
           0.368254
          ],
          [
           "Brahui",
           "Tatars_2",
           0.377565
          ],
          [
           "Brahui",
           "Finnish_1",
           0.08776
          ],
          [
           "Brahui",
           "Tatars_2",
           0.28995950000000004
          ],
          [
           "Brahui",
           "Tatars_2",
           0.323906
          ],
          [
           "Brahui",
           "Altaians_4",
           0.5102625
          ],
          [
           "Brahui",
           "Tatars_2",
           0.275519
          ],
          [
           "Brahui",
           "Tatars_2",
           0.202572
          ],
          [
           "Brahui",
           "Altaians_4",
           0.327171
          ],
          [
           "Brahui",
           "Tatars_2",
           0.277718
          ],
          [
           "Brahui",
           "Altaians_4",
           0.36164
          ],
          [
           "Brahui",
           "Tatars_2",
           0.366785
          ],
          [
           "Brahui",
           "Altaians_4",
           0.434846
          ],
          [
           "Brahui",
           "Finnish_1",
           0.363031
          ],
          [
           "Brahui",
           "Tatars_2",
           0.244914
          ],
          [
           "Brahui",
           "Finnish_1",
           0.1936945
          ],
          [
           "Brahui",
           "Tatars_2",
           0.296228
          ],
          [
           "Brahui",
           "Altaians_4",
           0.395923
          ],
          [
           "Brahui",
           "Mongols_4",
           0.447036
          ],
          [
           "Brahui",
           "Finnish_1",
           0.00001
          ],
          [
           "Brahui",
           "Tatars_2",
           0.17448200000000003
          ],
          [
           "Brahui",
           "Finnish_1",
           0.139962
          ],
          [
           "Brahui",
           "Tatars_2",
           0.181013
          ]
         ],
         "geo": "geo",
         "hovertemplate": "<b>%{hovertext}</b><br><br>Lat=%{lat}<br>Lon=%{lon}<br>Population=%{customdata[0]}<br>Prediction=%{customdata[1]}<br>Admixture1=%{marker.color}<extra></extra>",
         "hovertext": [
          "HGDP00021",
          "HGDP00021",
          "HGDP00021",
          "HGDP00021",
          "HGDP00021",
          "HGDP00021",
          "HGDP00021",
          "HGDP00021",
          "HGDP00021",
          "HGDP00021",
          "HGDP00021",
          "HGDP00021",
          "HGDP00021",
          "HGDP00021",
          "HGDP00021",
          "HGDP00021",
          "HGDP00021",
          "HGDP00021",
          "HGDP00021",
          "HGDP00021",
          "HGDP00021",
          "HGDP00021",
          "HGDP00021",
          "HGDP00021",
          "HGDP00021",
          "HGDP00021",
          "HGDP00021",
          "HGDP00021",
          "HGDP00021",
          "HGDP00021",
          "HGDP00021",
          "HGDP00021",
          "HGDP00021",
          "HGDP00021",
          "HGDP00021",
          "HGDP00021",
          "HGDP00021",
          "HGDP00021"
         ],
         "lat": [
          56.7637326100055,
          50.233120229827,
          58.16237447366595,
          61.3357694487753,
          54.9863743853612,
          56.9427009327355,
          57.64346692357635,
          60.50200047592425,
          58.0615893454331,
          60.2791640771206,
          51.717619532108,
          45.8297600693222,
          60.2536957579872,
          57.9697330833471,
          48.6437971661943,
          32.3538860641026,
          58.2233688750463,
          61.7372298807371,
          58.78005629145555,
          56.7072047953722,
          48.47406428497875,
          57.3101829685348,
          55.40401649824375,
          46.9260902722301,
          57.2131725624626,
          54.0935166467433,
          58.0701342732963,
          51.8680154564165,
          60.1190915844641,
          57.271380247735,
          61.1812785741196,
          57.4854245594273,
          46.5472352160744,
          35.3562148448636,
          60.2967414073516,
          59.048136945549956,
          61.5677568356102,
          57.7176065402431
         ],
         "legendgroup": "",
         "lon": [
          47.830287785870496,
          86.5882864912068,
          41.57055759711865,
          26.2666264792606,
          42.7450764940109,
          46.7797043150331,
          42.47947521274805,
          32.752626440254446,
          42.9568113887816,
          33.9313678383064,
          57.5747250715966,
          105.36625888896,
          34.0962573699552,
          41.3254810900528,
          86.9545733023557,
          99.8563643956107,
          43.134323913079,
          22.5521015754562,
          39.782236580427806,
          50.658214620804,
          90.4152464238097,
          44.8517198202151,
          48.497220006358546,
          76.58401816974,
          45.5321835994579,
          64.2551121894494,
          42.975794927992,
          75.8732972257315,
          34.4149037511391,
          44.974255898842,
          29.585023844157348,
          44.7808098073385,
          88.2550948506247,
          103.205824045147,
          26.488431419917,
          37.541321391066745,
          28.5408392934856,
          41.919340450698
         ],
         "marker": {
          "color": [
           0.309244,
           0.474894,
           0.2854865,
           0.143214,
           0.175145,
           0.26967,
           0.1603435,
           0.26084050000000003,
           0.311196,
           0.10937,
           0.244007,
           0.58749,
           0.263615,
           0.292638,
           0.423167,
           0.368254,
           0.377565,
           0.08776,
           0.28995950000000004,
           0.323906,
           0.5102625,
           0.275519,
           0.202572,
           0.327171,
           0.277718,
           0.36164,
           0.366785,
           0.434846,
           0.363031,
           0.244914,
           0.1936945,
           0.296228,
           0.395923,
           0.447036,
           0.00001,
           0.17448200000000003,
           0.139962,
           0.181013
          ],
          "coloraxis": "coloraxis",
          "symbol": "circle"
         },
         "mode": "markers",
         "name": "",
         "showlegend": false,
         "type": "scattergeo"
        }
       ],
       "layout": {
        "coloraxis": {
         "colorbar": {
          "title": {
           "text": "Admixture1"
          }
         },
         "colorscale": [
          [
           0,
           "#440154"
          ],
          [
           0.1111111111111111,
           "#482878"
          ],
          [
           0.2222222222222222,
           "#3e4989"
          ],
          [
           0.3333333333333333,
           "#31688e"
          ],
          [
           0.4444444444444444,
           "#26828e"
          ],
          [
           0.5555555555555556,
           "#1f9e89"
          ],
          [
           0.6666666666666666,
           "#35b779"
          ],
          [
           0.7777777777777778,
           "#6ece58"
          ],
          [
           0.8888888888888888,
           "#b5de2b"
          ],
          [
           1,
           "#fde725"
          ]
         ]
        },
        "geo": {
         "center": {
          "lat": 20,
          "lon": 0
         },
         "coastlinecolor": "Black",
         "domain": {
          "x": [
           0,
           1
          ],
          "y": [
           0,
           1
          ]
         },
         "lakecolor": "white",
         "landcolor": "lightgray",
         "projection": {
          "scale": 1.5,
          "type": "natural earth"
         },
         "showcoastlines": true,
         "showlakes": true,
         "showland": true
        },
        "legend": {
         "tracegroupgap": 0
        },
        "template": {
         "data": {
          "bar": [
           {
            "error_x": {
             "color": "#2a3f5f"
            },
            "error_y": {
             "color": "#2a3f5f"
            },
            "marker": {
             "line": {
              "color": "#E5ECF6",
              "width": 0.5
             },
             "pattern": {
              "fillmode": "overlay",
              "size": 10,
              "solidity": 0.2
             }
            },
            "type": "bar"
           }
          ],
          "barpolar": [
           {
            "marker": {
             "line": {
              "color": "#E5ECF6",
              "width": 0.5
             },
             "pattern": {
              "fillmode": "overlay",
              "size": 10,
              "solidity": 0.2
             }
            },
            "type": "barpolar"
           }
          ],
          "carpet": [
           {
            "aaxis": {
             "endlinecolor": "#2a3f5f",
             "gridcolor": "white",
             "linecolor": "white",
             "minorgridcolor": "white",
             "startlinecolor": "#2a3f5f"
            },
            "baxis": {
             "endlinecolor": "#2a3f5f",
             "gridcolor": "white",
             "linecolor": "white",
             "minorgridcolor": "white",
             "startlinecolor": "#2a3f5f"
            },
            "type": "carpet"
           }
          ],
          "choropleth": [
           {
            "colorbar": {
             "outlinewidth": 0,
             "ticks": ""
            },
            "type": "choropleth"
           }
          ],
          "contour": [
           {
            "colorbar": {
             "outlinewidth": 0,
             "ticks": ""
            },
            "colorscale": [
             [
              0,
              "#0d0887"
             ],
             [
              0.1111111111111111,
              "#46039f"
             ],
             [
              0.2222222222222222,
              "#7201a8"
             ],
             [
              0.3333333333333333,
              "#9c179e"
             ],
             [
              0.4444444444444444,
              "#bd3786"
             ],
             [
              0.5555555555555556,
              "#d8576b"
             ],
             [
              0.6666666666666666,
              "#ed7953"
             ],
             [
              0.7777777777777778,
              "#fb9f3a"
             ],
             [
              0.8888888888888888,
              "#fdca26"
             ],
             [
              1,
              "#f0f921"
             ]
            ],
            "type": "contour"
           }
          ],
          "contourcarpet": [
           {
            "colorbar": {
             "outlinewidth": 0,
             "ticks": ""
            },
            "type": "contourcarpet"
           }
          ],
          "heatmap": [
           {
            "colorbar": {
             "outlinewidth": 0,
             "ticks": ""
            },
            "colorscale": [
             [
              0,
              "#0d0887"
             ],
             [
              0.1111111111111111,
              "#46039f"
             ],
             [
              0.2222222222222222,
              "#7201a8"
             ],
             [
              0.3333333333333333,
              "#9c179e"
             ],
             [
              0.4444444444444444,
              "#bd3786"
             ],
             [
              0.5555555555555556,
              "#d8576b"
             ],
             [
              0.6666666666666666,
              "#ed7953"
             ],
             [
              0.7777777777777778,
              "#fb9f3a"
             ],
             [
              0.8888888888888888,
              "#fdca26"
             ],
             [
              1,
              "#f0f921"
             ]
            ],
            "type": "heatmap"
           }
          ],
          "heatmapgl": [
           {
            "colorbar": {
             "outlinewidth": 0,
             "ticks": ""
            },
            "colorscale": [
             [
              0,
              "#0d0887"
             ],
             [
              0.1111111111111111,
              "#46039f"
             ],
             [
              0.2222222222222222,
              "#7201a8"
             ],
             [
              0.3333333333333333,
              "#9c179e"
             ],
             [
              0.4444444444444444,
              "#bd3786"
             ],
             [
              0.5555555555555556,
              "#d8576b"
             ],
             [
              0.6666666666666666,
              "#ed7953"
             ],
             [
              0.7777777777777778,
              "#fb9f3a"
             ],
             [
              0.8888888888888888,
              "#fdca26"
             ],
             [
              1,
              "#f0f921"
             ]
            ],
            "type": "heatmapgl"
           }
          ],
          "histogram": [
           {
            "marker": {
             "pattern": {
              "fillmode": "overlay",
              "size": 10,
              "solidity": 0.2
             }
            },
            "type": "histogram"
           }
          ],
          "histogram2d": [
           {
            "colorbar": {
             "outlinewidth": 0,
             "ticks": ""
            },
            "colorscale": [
             [
              0,
              "#0d0887"
             ],
             [
              0.1111111111111111,
              "#46039f"
             ],
             [
              0.2222222222222222,
              "#7201a8"
             ],
             [
              0.3333333333333333,
              "#9c179e"
             ],
             [
              0.4444444444444444,
              "#bd3786"
             ],
             [
              0.5555555555555556,
              "#d8576b"
             ],
             [
              0.6666666666666666,
              "#ed7953"
             ],
             [
              0.7777777777777778,
              "#fb9f3a"
             ],
             [
              0.8888888888888888,
              "#fdca26"
             ],
             [
              1,
              "#f0f921"
             ]
            ],
            "type": "histogram2d"
           }
          ],
          "histogram2dcontour": [
           {
            "colorbar": {
             "outlinewidth": 0,
             "ticks": ""
            },
            "colorscale": [
             [
              0,
              "#0d0887"
             ],
             [
              0.1111111111111111,
              "#46039f"
             ],
             [
              0.2222222222222222,
              "#7201a8"
             ],
             [
              0.3333333333333333,
              "#9c179e"
             ],
             [
              0.4444444444444444,
              "#bd3786"
             ],
             [
              0.5555555555555556,
              "#d8576b"
             ],
             [
              0.6666666666666666,
              "#ed7953"
             ],
             [
              0.7777777777777778,
              "#fb9f3a"
             ],
             [
              0.8888888888888888,
              "#fdca26"
             ],
             [
              1,
              "#f0f921"
             ]
            ],
            "type": "histogram2dcontour"
           }
          ],
          "mesh3d": [
           {
            "colorbar": {
             "outlinewidth": 0,
             "ticks": ""
            },
            "type": "mesh3d"
           }
          ],
          "parcoords": [
           {
            "line": {
             "colorbar": {
              "outlinewidth": 0,
              "ticks": ""
             }
            },
            "type": "parcoords"
           }
          ],
          "pie": [
           {
            "automargin": true,
            "type": "pie"
           }
          ],
          "scatter": [
           {
            "fillpattern": {
             "fillmode": "overlay",
             "size": 10,
             "solidity": 0.2
            },
            "type": "scatter"
           }
          ],
          "scatter3d": [
           {
            "line": {
             "colorbar": {
              "outlinewidth": 0,
              "ticks": ""
             }
            },
            "marker": {
             "colorbar": {
              "outlinewidth": 0,
              "ticks": ""
             }
            },
            "type": "scatter3d"
           }
          ],
          "scattercarpet": [
           {
            "marker": {
             "colorbar": {
              "outlinewidth": 0,
              "ticks": ""
             }
            },
            "type": "scattercarpet"
           }
          ],
          "scattergeo": [
           {
            "marker": {
             "colorbar": {
              "outlinewidth": 0,
              "ticks": ""
             }
            },
            "type": "scattergeo"
           }
          ],
          "scattergl": [
           {
            "marker": {
             "colorbar": {
              "outlinewidth": 0,
              "ticks": ""
             }
            },
            "type": "scattergl"
           }
          ],
          "scattermapbox": [
           {
            "marker": {
             "colorbar": {
              "outlinewidth": 0,
              "ticks": ""
             }
            },
            "type": "scattermapbox"
           }
          ],
          "scatterpolar": [
           {
            "marker": {
             "colorbar": {
              "outlinewidth": 0,
              "ticks": ""
             }
            },
            "type": "scatterpolar"
           }
          ],
          "scatterpolargl": [
           {
            "marker": {
             "colorbar": {
              "outlinewidth": 0,
              "ticks": ""
             }
            },
            "type": "scatterpolargl"
           }
          ],
          "scatterternary": [
           {
            "marker": {
             "colorbar": {
              "outlinewidth": 0,
              "ticks": ""
             }
            },
            "type": "scatterternary"
           }
          ],
          "surface": [
           {
            "colorbar": {
             "outlinewidth": 0,
             "ticks": ""
            },
            "colorscale": [
             [
              0,
              "#0d0887"
             ],
             [
              0.1111111111111111,
              "#46039f"
             ],
             [
              0.2222222222222222,
              "#7201a8"
             ],
             [
              0.3333333333333333,
              "#9c179e"
             ],
             [
              0.4444444444444444,
              "#bd3786"
             ],
             [
              0.5555555555555556,
              "#d8576b"
             ],
             [
              0.6666666666666666,
              "#ed7953"
             ],
             [
              0.7777777777777778,
              "#fb9f3a"
             ],
             [
              0.8888888888888888,
              "#fdca26"
             ],
             [
              1,
              "#f0f921"
             ]
            ],
            "type": "surface"
           }
          ],
          "table": [
           {
            "cells": {
             "fill": {
              "color": "#EBF0F8"
             },
             "line": {
              "color": "white"
             }
            },
            "header": {
             "fill": {
              "color": "#C8D4E3"
             },
             "line": {
              "color": "white"
             }
            },
            "type": "table"
           }
          ]
         },
         "layout": {
          "annotationdefaults": {
           "arrowcolor": "#2a3f5f",
           "arrowhead": 0,
           "arrowwidth": 1
          },
          "autotypenumbers": "strict",
          "coloraxis": {
           "colorbar": {
            "outlinewidth": 0,
            "ticks": ""
           }
          },
          "colorscale": {
           "diverging": [
            [
             0,
             "#8e0152"
            ],
            [
             0.1,
             "#c51b7d"
            ],
            [
             0.2,
             "#de77ae"
            ],
            [
             0.3,
             "#f1b6da"
            ],
            [
             0.4,
             "#fde0ef"
            ],
            [
             0.5,
             "#f7f7f7"
            ],
            [
             0.6,
             "#e6f5d0"
            ],
            [
             0.7,
             "#b8e186"
            ],
            [
             0.8,
             "#7fbc41"
            ],
            [
             0.9,
             "#4d9221"
            ],
            [
             1,
             "#276419"
            ]
           ],
           "sequential": [
            [
             0,
             "#0d0887"
            ],
            [
             0.1111111111111111,
             "#46039f"
            ],
            [
             0.2222222222222222,
             "#7201a8"
            ],
            [
             0.3333333333333333,
             "#9c179e"
            ],
            [
             0.4444444444444444,
             "#bd3786"
            ],
            [
             0.5555555555555556,
             "#d8576b"
            ],
            [
             0.6666666666666666,
             "#ed7953"
            ],
            [
             0.7777777777777778,
             "#fb9f3a"
            ],
            [
             0.8888888888888888,
             "#fdca26"
            ],
            [
             1,
             "#f0f921"
            ]
           ],
           "sequentialminus": [
            [
             0,
             "#0d0887"
            ],
            [
             0.1111111111111111,
             "#46039f"
            ],
            [
             0.2222222222222222,
             "#7201a8"
            ],
            [
             0.3333333333333333,
             "#9c179e"
            ],
            [
             0.4444444444444444,
             "#bd3786"
            ],
            [
             0.5555555555555556,
             "#d8576b"
            ],
            [
             0.6666666666666666,
             "#ed7953"
            ],
            [
             0.7777777777777778,
             "#fb9f3a"
            ],
            [
             0.8888888888888888,
             "#fdca26"
            ],
            [
             1,
             "#f0f921"
            ]
           ]
          },
          "colorway": [
           "#636efa",
           "#EF553B",
           "#00cc96",
           "#ab63fa",
           "#FFA15A",
           "#19d3f3",
           "#FF6692",
           "#B6E880",
           "#FF97FF",
           "#FECB52"
          ],
          "font": {
           "color": "#2a3f5f"
          },
          "geo": {
           "bgcolor": "white",
           "lakecolor": "white",
           "landcolor": "#E5ECF6",
           "showlakes": true,
           "showland": true,
           "subunitcolor": "white"
          },
          "hoverlabel": {
           "align": "left"
          },
          "hovermode": "closest",
          "mapbox": {
           "style": "light"
          },
          "paper_bgcolor": "white",
          "plot_bgcolor": "#E5ECF6",
          "polar": {
           "angularaxis": {
            "gridcolor": "white",
            "linecolor": "white",
            "ticks": ""
           },
           "bgcolor": "#E5ECF6",
           "radialaxis": {
            "gridcolor": "white",
            "linecolor": "white",
            "ticks": ""
           }
          },
          "scene": {
           "xaxis": {
            "backgroundcolor": "#E5ECF6",
            "gridcolor": "white",
            "gridwidth": 2,
            "linecolor": "white",
            "showbackground": true,
            "ticks": "",
            "zerolinecolor": "white"
           },
           "yaxis": {
            "backgroundcolor": "#E5ECF6",
            "gridcolor": "white",
            "gridwidth": 2,
            "linecolor": "white",
            "showbackground": true,
            "ticks": "",
            "zerolinecolor": "white"
           },
           "zaxis": {
            "backgroundcolor": "#E5ECF6",
            "gridcolor": "white",
            "gridwidth": 2,
            "linecolor": "white",
            "showbackground": true,
            "ticks": "",
            "zerolinecolor": "white"
           }
          },
          "shapedefaults": {
           "line": {
            "color": "#2a3f5f"
           }
          },
          "ternary": {
           "aaxis": {
            "gridcolor": "white",
            "linecolor": "white",
            "ticks": ""
           },
           "baxis": {
            "gridcolor": "white",
            "linecolor": "white",
            "ticks": ""
           },
           "bgcolor": "#E5ECF6",
           "caxis": {
            "gridcolor": "white",
            "linecolor": "white",
            "ticks": ""
           }
          },
          "title": {
           "x": 0.05
          },
          "xaxis": {
           "automargin": true,
           "gridcolor": "white",
           "linecolor": "white",
           "ticks": "",
           "title": {
            "standoff": 15
           },
           "zerolinecolor": "white",
           "zerolinewidth": 2
          },
          "yaxis": {
           "automargin": true,
           "gridcolor": "white",
           "linecolor": "white",
           "ticks": "",
           "title": {
            "standoff": 15
           },
           "zerolinecolor": "white",
           "zerolinewidth": 2
          }
         }
        },
        "title": {
         "text": "Admixture Proportions and Geographical Distribution"
        }
       }
      },
      "text/html": [
       "<div>                            <div id=\"92ca6943-7cf5-425e-a270-2396aedf42a5\" class=\"plotly-graph-div\" style=\"height:525px; width:100%;\"></div>            <script type=\"text/javascript\">                require([\"plotly\"], function(Plotly) {                    window.PLOTLYENV=window.PLOTLYENV || {};                                    if (document.getElementById(\"92ca6943-7cf5-425e-a270-2396aedf42a5\")) {                    Plotly.newPlot(                        \"92ca6943-7cf5-425e-a270-2396aedf42a5\",                        [{\"customdata\":[[\"Brahui\",\"Tatars_2\",0.309244],[\"Brahui\",\"Altaians_4\",0.474894],[\"Brahui\",\"Tatars_2\",0.2854865],[\"Brahui\",\"Finnish_1\",0.143214],[\"Brahui\",\"Tatars_4\",0.175145],[\"Brahui\",\"Tatars_2\",0.26967],[\"Brahui\",\"Tatars_2\",0.1603435],[\"Brahui\",\"Finnish_1\",0.26084050000000003],[\"Brahui\",\"Tatars_2\",0.311196],[\"Brahui\",\"Finnish_2\",0.10937],[\"Brahui\",\"Tatars_2\",0.244007],[\"Brahui\",\"Altaians_3\",0.58749],[\"Brahui\",\"Finnish_1\",0.263615],[\"Brahui\",\"Tatars_2\",0.292638],[\"Brahui\",\"Altaians_4\",0.423167],[\"Brahui\",\"Meitei_0\",0.368254],[\"Brahui\",\"Tatars_2\",0.377565],[\"Brahui\",\"Finnish_1\",0.08776],[\"Brahui\",\"Tatars_2\",0.28995950000000004],[\"Brahui\",\"Tatars_2\",0.323906],[\"Brahui\",\"Altaians_4\",0.5102625],[\"Brahui\",\"Tatars_2\",0.275519],[\"Brahui\",\"Tatars_2\",0.202572],[\"Brahui\",\"Altaians_4\",0.327171],[\"Brahui\",\"Tatars_2\",0.277718],[\"Brahui\",\"Altaians_4\",0.36164],[\"Brahui\",\"Tatars_2\",0.366785],[\"Brahui\",\"Altaians_4\",0.434846],[\"Brahui\",\"Finnish_1\",0.363031],[\"Brahui\",\"Tatars_2\",0.244914],[\"Brahui\",\"Finnish_1\",0.1936945],[\"Brahui\",\"Tatars_2\",0.296228],[\"Brahui\",\"Altaians_4\",0.395923],[\"Brahui\",\"Mongols_4\",0.447036],[\"Brahui\",\"Finnish_1\",1e-05],[\"Brahui\",\"Tatars_2\",0.17448200000000003],[\"Brahui\",\"Finnish_1\",0.139962],[\"Brahui\",\"Tatars_2\",0.181013]],\"geo\":\"geo\",\"hovertemplate\":\"\\u003cb\\u003e%{hovertext}\\u003c\\u002fb\\u003e\\u003cbr\\u003e\\u003cbr\\u003eLat=%{lat}\\u003cbr\\u003eLon=%{lon}\\u003cbr\\u003ePopulation=%{customdata[0]}\\u003cbr\\u003ePrediction=%{customdata[1]}\\u003cbr\\u003eAdmixture1=%{marker.color}\\u003cextra\\u003e\\u003c\\u002fextra\\u003e\",\"hovertext\":[\"HGDP00021\",\"HGDP00021\",\"HGDP00021\",\"HGDP00021\",\"HGDP00021\",\"HGDP00021\",\"HGDP00021\",\"HGDP00021\",\"HGDP00021\",\"HGDP00021\",\"HGDP00021\",\"HGDP00021\",\"HGDP00021\",\"HGDP00021\",\"HGDP00021\",\"HGDP00021\",\"HGDP00021\",\"HGDP00021\",\"HGDP00021\",\"HGDP00021\",\"HGDP00021\",\"HGDP00021\",\"HGDP00021\",\"HGDP00021\",\"HGDP00021\",\"HGDP00021\",\"HGDP00021\",\"HGDP00021\",\"HGDP00021\",\"HGDP00021\",\"HGDP00021\",\"HGDP00021\",\"HGDP00021\",\"HGDP00021\",\"HGDP00021\",\"HGDP00021\",\"HGDP00021\",\"HGDP00021\"],\"lat\":[56.7637326100055,50.233120229827,58.16237447366595,61.3357694487753,54.9863743853612,56.9427009327355,57.64346692357635,60.50200047592425,58.0615893454331,60.2791640771206,51.717619532108,45.8297600693222,60.2536957579872,57.9697330833471,48.6437971661943,32.3538860641026,58.2233688750463,61.7372298807371,58.78005629145555,56.7072047953722,48.47406428497875,57.3101829685348,55.40401649824375,46.9260902722301,57.2131725624626,54.0935166467433,58.0701342732963,51.8680154564165,60.1190915844641,57.271380247735,61.1812785741196,57.4854245594273,46.5472352160744,35.3562148448636,60.2967414073516,59.048136945549956,61.5677568356102,57.7176065402431],\"legendgroup\":\"\",\"lon\":[47.830287785870496,86.5882864912068,41.57055759711865,26.2666264792606,42.7450764940109,46.7797043150331,42.47947521274805,32.752626440254446,42.9568113887816,33.9313678383064,57.5747250715966,105.36625888896,34.0962573699552,41.3254810900528,86.9545733023557,99.8563643956107,43.134323913079,22.5521015754562,39.782236580427806,50.658214620804,90.4152464238097,44.8517198202151,48.497220006358546,76.58401816974,45.5321835994579,64.2551121894494,42.975794927992,75.8732972257315,34.4149037511391,44.974255898842,29.585023844157348,44.7808098073385,88.2550948506247,103.205824045147,26.488431419917,37.541321391066745,28.5408392934856,41.919340450698],\"marker\":{\"color\":[0.309244,0.474894,0.2854865,0.143214,0.175145,0.26967,0.1603435,0.26084050000000003,0.311196,0.10937,0.244007,0.58749,0.263615,0.292638,0.423167,0.368254,0.377565,0.08776,0.28995950000000004,0.323906,0.5102625,0.275519,0.202572,0.327171,0.277718,0.36164,0.366785,0.434846,0.363031,0.244914,0.1936945,0.296228,0.395923,0.447036,1e-05,0.17448200000000003,0.139962,0.181013],\"coloraxis\":\"coloraxis\",\"symbol\":\"circle\"},\"mode\":\"markers\",\"name\":\"\",\"showlegend\":false,\"type\":\"scattergeo\"}],                        {\"template\":{\"data\":{\"histogram2dcontour\":[{\"type\":\"histogram2dcontour\",\"colorbar\":{\"outlinewidth\":0,\"ticks\":\"\"},\"colorscale\":[[0.0,\"#0d0887\"],[0.1111111111111111,\"#46039f\"],[0.2222222222222222,\"#7201a8\"],[0.3333333333333333,\"#9c179e\"],[0.4444444444444444,\"#bd3786\"],[0.5555555555555556,\"#d8576b\"],[0.6666666666666666,\"#ed7953\"],[0.7777777777777778,\"#fb9f3a\"],[0.8888888888888888,\"#fdca26\"],[1.0,\"#f0f921\"]]}],\"choropleth\":[{\"type\":\"choropleth\",\"colorbar\":{\"outlinewidth\":0,\"ticks\":\"\"}}],\"histogram2d\":[{\"type\":\"histogram2d\",\"colorbar\":{\"outlinewidth\":0,\"ticks\":\"\"},\"colorscale\":[[0.0,\"#0d0887\"],[0.1111111111111111,\"#46039f\"],[0.2222222222222222,\"#7201a8\"],[0.3333333333333333,\"#9c179e\"],[0.4444444444444444,\"#bd3786\"],[0.5555555555555556,\"#d8576b\"],[0.6666666666666666,\"#ed7953\"],[0.7777777777777778,\"#fb9f3a\"],[0.8888888888888888,\"#fdca26\"],[1.0,\"#f0f921\"]]}],\"heatmap\":[{\"type\":\"heatmap\",\"colorbar\":{\"outlinewidth\":0,\"ticks\":\"\"},\"colorscale\":[[0.0,\"#0d0887\"],[0.1111111111111111,\"#46039f\"],[0.2222222222222222,\"#7201a8\"],[0.3333333333333333,\"#9c179e\"],[0.4444444444444444,\"#bd3786\"],[0.5555555555555556,\"#d8576b\"],[0.6666666666666666,\"#ed7953\"],[0.7777777777777778,\"#fb9f3a\"],[0.8888888888888888,\"#fdca26\"],[1.0,\"#f0f921\"]]}],\"heatmapgl\":[{\"type\":\"heatmapgl\",\"colorbar\":{\"outlinewidth\":0,\"ticks\":\"\"},\"colorscale\":[[0.0,\"#0d0887\"],[0.1111111111111111,\"#46039f\"],[0.2222222222222222,\"#7201a8\"],[0.3333333333333333,\"#9c179e\"],[0.4444444444444444,\"#bd3786\"],[0.5555555555555556,\"#d8576b\"],[0.6666666666666666,\"#ed7953\"],[0.7777777777777778,\"#fb9f3a\"],[0.8888888888888888,\"#fdca26\"],[1.0,\"#f0f921\"]]}],\"contourcarpet\":[{\"type\":\"contourcarpet\",\"colorbar\":{\"outlinewidth\":0,\"ticks\":\"\"}}],\"contour\":[{\"type\":\"contour\",\"colorbar\":{\"outlinewidth\":0,\"ticks\":\"\"},\"colorscale\":[[0.0,\"#0d0887\"],[0.1111111111111111,\"#46039f\"],[0.2222222222222222,\"#7201a8\"],[0.3333333333333333,\"#9c179e\"],[0.4444444444444444,\"#bd3786\"],[0.5555555555555556,\"#d8576b\"],[0.6666666666666666,\"#ed7953\"],[0.7777777777777778,\"#fb9f3a\"],[0.8888888888888888,\"#fdca26\"],[1.0,\"#f0f921\"]]}],\"surface\":[{\"type\":\"surface\",\"colorbar\":{\"outlinewidth\":0,\"ticks\":\"\"},\"colorscale\":[[0.0,\"#0d0887\"],[0.1111111111111111,\"#46039f\"],[0.2222222222222222,\"#7201a8\"],[0.3333333333333333,\"#9c179e\"],[0.4444444444444444,\"#bd3786\"],[0.5555555555555556,\"#d8576b\"],[0.6666666666666666,\"#ed7953\"],[0.7777777777777778,\"#fb9f3a\"],[0.8888888888888888,\"#fdca26\"],[1.0,\"#f0f921\"]]}],\"mesh3d\":[{\"type\":\"mesh3d\",\"colorbar\":{\"outlinewidth\":0,\"ticks\":\"\"}}],\"scatter\":[{\"fillpattern\":{\"fillmode\":\"overlay\",\"size\":10,\"solidity\":0.2},\"type\":\"scatter\"}],\"parcoords\":[{\"type\":\"parcoords\",\"line\":{\"colorbar\":{\"outlinewidth\":0,\"ticks\":\"\"}}}],\"scatterpolargl\":[{\"type\":\"scatterpolargl\",\"marker\":{\"colorbar\":{\"outlinewidth\":0,\"ticks\":\"\"}}}],\"bar\":[{\"error_x\":{\"color\":\"#2a3f5f\"},\"error_y\":{\"color\":\"#2a3f5f\"},\"marker\":{\"line\":{\"color\":\"#E5ECF6\",\"width\":0.5},\"pattern\":{\"fillmode\":\"overlay\",\"size\":10,\"solidity\":0.2}},\"type\":\"bar\"}],\"scattergeo\":[{\"type\":\"scattergeo\",\"marker\":{\"colorbar\":{\"outlinewidth\":0,\"ticks\":\"\"}}}],\"scatterpolar\":[{\"type\":\"scatterpolar\",\"marker\":{\"colorbar\":{\"outlinewidth\":0,\"ticks\":\"\"}}}],\"histogram\":[{\"marker\":{\"pattern\":{\"fillmode\":\"overlay\",\"size\":10,\"solidity\":0.2}},\"type\":\"histogram\"}],\"scattergl\":[{\"type\":\"scattergl\",\"marker\":{\"colorbar\":{\"outlinewidth\":0,\"ticks\":\"\"}}}],\"scatter3d\":[{\"type\":\"scatter3d\",\"line\":{\"colorbar\":{\"outlinewidth\":0,\"ticks\":\"\"}},\"marker\":{\"colorbar\":{\"outlinewidth\":0,\"ticks\":\"\"}}}],\"scattermapbox\":[{\"type\":\"scattermapbox\",\"marker\":{\"colorbar\":{\"outlinewidth\":0,\"ticks\":\"\"}}}],\"scatterternary\":[{\"type\":\"scatterternary\",\"marker\":{\"colorbar\":{\"outlinewidth\":0,\"ticks\":\"\"}}}],\"scattercarpet\":[{\"type\":\"scattercarpet\",\"marker\":{\"colorbar\":{\"outlinewidth\":0,\"ticks\":\"\"}}}],\"carpet\":[{\"aaxis\":{\"endlinecolor\":\"#2a3f5f\",\"gridcolor\":\"white\",\"linecolor\":\"white\",\"minorgridcolor\":\"white\",\"startlinecolor\":\"#2a3f5f\"},\"baxis\":{\"endlinecolor\":\"#2a3f5f\",\"gridcolor\":\"white\",\"linecolor\":\"white\",\"minorgridcolor\":\"white\",\"startlinecolor\":\"#2a3f5f\"},\"type\":\"carpet\"}],\"table\":[{\"cells\":{\"fill\":{\"color\":\"#EBF0F8\"},\"line\":{\"color\":\"white\"}},\"header\":{\"fill\":{\"color\":\"#C8D4E3\"},\"line\":{\"color\":\"white\"}},\"type\":\"table\"}],\"barpolar\":[{\"marker\":{\"line\":{\"color\":\"#E5ECF6\",\"width\":0.5},\"pattern\":{\"fillmode\":\"overlay\",\"size\":10,\"solidity\":0.2}},\"type\":\"barpolar\"}],\"pie\":[{\"automargin\":true,\"type\":\"pie\"}]},\"layout\":{\"autotypenumbers\":\"strict\",\"colorway\":[\"#636efa\",\"#EF553B\",\"#00cc96\",\"#ab63fa\",\"#FFA15A\",\"#19d3f3\",\"#FF6692\",\"#B6E880\",\"#FF97FF\",\"#FECB52\"],\"font\":{\"color\":\"#2a3f5f\"},\"hovermode\":\"closest\",\"hoverlabel\":{\"align\":\"left\"},\"paper_bgcolor\":\"white\",\"plot_bgcolor\":\"#E5ECF6\",\"polar\":{\"bgcolor\":\"#E5ECF6\",\"angularaxis\":{\"gridcolor\":\"white\",\"linecolor\":\"white\",\"ticks\":\"\"},\"radialaxis\":{\"gridcolor\":\"white\",\"linecolor\":\"white\",\"ticks\":\"\"}},\"ternary\":{\"bgcolor\":\"#E5ECF6\",\"aaxis\":{\"gridcolor\":\"white\",\"linecolor\":\"white\",\"ticks\":\"\"},\"baxis\":{\"gridcolor\":\"white\",\"linecolor\":\"white\",\"ticks\":\"\"},\"caxis\":{\"gridcolor\":\"white\",\"linecolor\":\"white\",\"ticks\":\"\"}},\"coloraxis\":{\"colorbar\":{\"outlinewidth\":0,\"ticks\":\"\"}},\"colorscale\":{\"sequential\":[[0.0,\"#0d0887\"],[0.1111111111111111,\"#46039f\"],[0.2222222222222222,\"#7201a8\"],[0.3333333333333333,\"#9c179e\"],[0.4444444444444444,\"#bd3786\"],[0.5555555555555556,\"#d8576b\"],[0.6666666666666666,\"#ed7953\"],[0.7777777777777778,\"#fb9f3a\"],[0.8888888888888888,\"#fdca26\"],[1.0,\"#f0f921\"]],\"sequentialminus\":[[0.0,\"#0d0887\"],[0.1111111111111111,\"#46039f\"],[0.2222222222222222,\"#7201a8\"],[0.3333333333333333,\"#9c179e\"],[0.4444444444444444,\"#bd3786\"],[0.5555555555555556,\"#d8576b\"],[0.6666666666666666,\"#ed7953\"],[0.7777777777777778,\"#fb9f3a\"],[0.8888888888888888,\"#fdca26\"],[1.0,\"#f0f921\"]],\"diverging\":[[0,\"#8e0152\"],[0.1,\"#c51b7d\"],[0.2,\"#de77ae\"],[0.3,\"#f1b6da\"],[0.4,\"#fde0ef\"],[0.5,\"#f7f7f7\"],[0.6,\"#e6f5d0\"],[0.7,\"#b8e186\"],[0.8,\"#7fbc41\"],[0.9,\"#4d9221\"],[1,\"#276419\"]]},\"xaxis\":{\"gridcolor\":\"white\",\"linecolor\":\"white\",\"ticks\":\"\",\"title\":{\"standoff\":15},\"zerolinecolor\":\"white\",\"automargin\":true,\"zerolinewidth\":2},\"yaxis\":{\"gridcolor\":\"white\",\"linecolor\":\"white\",\"ticks\":\"\",\"title\":{\"standoff\":15},\"zerolinecolor\":\"white\",\"automargin\":true,\"zerolinewidth\":2},\"scene\":{\"xaxis\":{\"backgroundcolor\":\"#E5ECF6\",\"gridcolor\":\"white\",\"linecolor\":\"white\",\"showbackground\":true,\"ticks\":\"\",\"zerolinecolor\":\"white\",\"gridwidth\":2},\"yaxis\":{\"backgroundcolor\":\"#E5ECF6\",\"gridcolor\":\"white\",\"linecolor\":\"white\",\"showbackground\":true,\"ticks\":\"\",\"zerolinecolor\":\"white\",\"gridwidth\":2},\"zaxis\":{\"backgroundcolor\":\"#E5ECF6\",\"gridcolor\":\"white\",\"linecolor\":\"white\",\"showbackground\":true,\"ticks\":\"\",\"zerolinecolor\":\"white\",\"gridwidth\":2}},\"shapedefaults\":{\"line\":{\"color\":\"#2a3f5f\"}},\"annotationdefaults\":{\"arrowcolor\":\"#2a3f5f\",\"arrowhead\":0,\"arrowwidth\":1},\"geo\":{\"bgcolor\":\"white\",\"landcolor\":\"#E5ECF6\",\"subunitcolor\":\"white\",\"showland\":true,\"showlakes\":true,\"lakecolor\":\"white\"},\"title\":{\"x\":0.05},\"mapbox\":{\"style\":\"light\"}}},\"geo\":{\"domain\":{\"x\":[0.0,1.0],\"y\":[0.0,1.0]},\"projection\":{\"type\":\"natural earth\",\"scale\":1.5},\"center\":{\"lat\":20,\"lon\":0},\"showcoastlines\":true,\"coastlinecolor\":\"Black\",\"showland\":true,\"landcolor\":\"lightgray\",\"showlakes\":true,\"lakecolor\":\"white\"},\"coloraxis\":{\"colorbar\":{\"title\":{\"text\":\"Admixture1\"}},\"colorscale\":[[0.0,\"#440154\"],[0.1111111111111111,\"#482878\"],[0.2222222222222222,\"#3e4989\"],[0.3333333333333333,\"#31688e\"],[0.4444444444444444,\"#26828e\"],[0.5555555555555556,\"#1f9e89\"],[0.6666666666666666,\"#35b779\"],[0.7777777777777778,\"#6ece58\"],[0.8888888888888888,\"#b5de2b\"],[1.0,\"#fde725\"]]},\"legend\":{\"tracegroupgap\":0},\"title\":{\"text\":\"Admixture Proportions and Geographical Distribution\"}},                        {\"responsive\": true}                    ).then(function(){\n",
       "                            \n",
       "var gd = document.getElementById('92ca6943-7cf5-425e-a270-2396aedf42a5');\n",
       "var x = new MutationObserver(function (mutations, observer) {{\n",
       "        var display = window.getComputedStyle(gd).display;\n",
       "        if (!display || display === 'none') {{\n",
       "            console.log([gd, 'removed!']);\n",
       "            Plotly.purge(gd);\n",
       "            observer.disconnect();\n",
       "        }}\n",
       "}});\n",
       "\n",
       "// Listen for the removal of the full notebook cells\n",
       "var notebookContainer = gd.closest('#notebook-container');\n",
       "if (notebookContainer) {{\n",
       "    x.observe(notebookContainer, {childList: true});\n",
       "}}\n",
       "\n",
       "// Listen for the clearing of the current output cell\n",
       "var outputEl = gd.closest('.output');\n",
       "if (outputEl) {{\n",
       "    x.observe(outputEl, {childList: true});\n",
       "}}\n",
       "\n",
       "                        })                };                });            </script>        </div>"
      ]
     },
     "metadata": {},
     "output_type": "display_data"
    }
   ],
   "source": [
    "\n",
    "# Assuming the dataframe 'df' is already loaded with your data (replace with your actual DataFrame)\n",
    "\n",
    "# Create the plotly map with scatter_geo\n",
    "fig = px.scatter_geo(test_df,\n",
    "                     lat='Lat',  # Latitude\n",
    "                     lon='Lon',  # Longitude\n",
    "                     color='Admixture1',  # Color based on Admixture1 (change to any of the admixtures)\n",
    "                     hover_name='SAMPLE_ID',  # Display sample ID on hover\n",
    "                     hover_data=['Population', 'Prediction', 'Admixture1'],  # Display additional data on hover\n",
    "                     color_continuous_scale='Viridis',  # You can change the color scale\n",
    "                     size_max=15,  # Adjust the max marker size\n",
    "                     title=\"Admixture Proportions Across Samples\",\n",
    "                     projection=\"natural earth\"  # A natural earth map projection\n",
    "                    )\n",
    "\n",
    "# Add details like map title, map center, and zoom\n",
    "fig.update_geos(\n",
    "    showcoastlines=True,\n",
    "    coastlinecolor=\"Black\",\n",
    "    projection_type=\"natural earth\",\n",
    "    center={\"lat\": 20, \"lon\": 0},\n",
    "    projection_scale=1.5,\n",
    ")\n",
    "\n",
    "# Customize layout for better clarity\n",
    "fig.update_layout(\n",
    "    geo=dict(\n",
    "        showland=True,\n",
    "        landcolor=\"lightgray\",\n",
    "        showlakes=True,\n",
    "        lakecolor=\"white\",\n",
    "    ),\n",
    "    title=\"Admixture Proportions and Geographical Distribution\",\n",
    ")\n",
    "\n",
    "# Show the figure\n",
    "fig.show()\n"
   ]
  },
  {
   "cell_type": "code",
   "execution_count": null,
   "metadata": {},
   "outputs": [],
   "source": []
  }
 ],
 "metadata": {
  "kernelspec": {
   "display_name": "ai_env",
   "language": "python",
   "name": "python3"
  },
  "language_info": {
   "codemirror_mode": {
    "name": "ipython",
    "version": 3
   },
   "file_extension": ".py",
   "mimetype": "text/x-python",
   "name": "python",
   "nbconvert_exporter": "python",
   "pygments_lexer": "ipython3",
   "version": "3.12.2"
  }
 },
 "nbformat": 4,
 "nbformat_minor": 2
}
